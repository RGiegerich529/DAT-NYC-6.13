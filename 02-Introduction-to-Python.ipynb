{
 "cells": [
  {
   "cell_type": "markdown",
   "metadata": {},
   "source": [
    "# Introduction to Python\n",
    "\n",
    "**Objectives**:\n",
    "\n",
    "- Launch, Save, Reopen Jupyter notebook\n",
    "- Use Markdown Cells\n",
    "- Run Python Cells in Jupyter notebook\n",
    "- Explain different data types with Python\n",
    "- Convert between integers, floats, and strings\n",
    "- Use built-in Python Functions\n",
    "- Use help documentation for built-in functions\n",
    "- Write basic functions with Python\n",
    "- Use `if` statements in Python\n",
    "- Use a `for loop` in Python"
   ]
  },
  {
   "cell_type": "markdown",
   "metadata": {},
   "source": [
    "### Markdown Cells"
   ]
  },
  {
   "cell_type": "markdown",
   "metadata": {},
   "source": [
    "To change a cell to a markdown cell, you can type `cmd` + `m` + `m`.  Also, you can use the toolbar in the Jupyter notebook to manually change the cell type.  Markdown is designed to be a simple language for rendering text on the web.  We will continue to use markdown and you will develop your vocabulary as we move.  For now, here is a handy overview of the use of markdown by the creator: https://daringfireball.net/projects/markdown/syntax."
   ]
  },
  {
   "cell_type": "markdown",
   "metadata": {},
   "source": [
    "### Python Cells\n",
    "\n",
    "With code cells, we are able to write and execute Python code right out of the box.  Below, we introduce an example with basic arithmetic.  To execute the cell, we press `shift` + `enter`.  "
   ]
  },
  {
   "cell_type": "code",
<<<<<<< HEAD
   "execution_count": 14,
=======
   "execution_count": 1,
>>>>>>> upstream/master
   "metadata": {},
   "outputs": [
    {
     "data": {
      "text/plain": [
       "5"
      ]
     },
<<<<<<< HEAD
     "execution_count": 14,
=======
     "execution_count": 1,
>>>>>>> upstream/master
     "metadata": {},
     "output_type": "execute_result"
    }
   ],
   "source": [
    "3 + 5 * 7 / 4 ** 2"
   ]
  },
  {
   "cell_type": "markdown",
   "metadata": {},
   "source": [
    "If this were a value that we wanted to reuse, we can save it as a variable (`a` for example)."
   ]
  },
  {
   "cell_type": "code",
<<<<<<< HEAD
   "execution_count": 15,
   "metadata": {
    "collapsed": true
   },
=======
   "execution_count": 2,
   "metadata": {},
>>>>>>> upstream/master
   "outputs": [],
   "source": [
    "a = 3 + 5 * 7 / 4 ** 2"
   ]
  },
  {
   "cell_type": "code",
<<<<<<< HEAD
   "execution_count": 16,
=======
   "execution_count": 3,
>>>>>>> upstream/master
   "metadata": {},
   "outputs": [
    {
     "data": {
      "text/plain": [
       "5"
      ]
     },
<<<<<<< HEAD
     "execution_count": 16,
=======
     "execution_count": 3,
>>>>>>> upstream/master
     "metadata": {},
     "output_type": "execute_result"
    }
   ],
   "source": [
    "a"
   ]
  },
  {
   "cell_type": "markdown",
   "metadata": {},
   "source": [
    "There are different kinds of things that we are working with in Python.  Three important kinds or **types** are:\n",
    "\n",
    "- `int`: Integer numbers\n",
    "- `float`: Floating point decimal approximations\n",
    "- `str`: Strings of symbols and words\n",
    "\n",
    "Below I demonstrate each kind and verify this using the `type()` method.  This will be an important consideration throughout our work, as depending on the kind of thing we're working with we have different operations allowed.  For example, we can add numbers with other numbers but we cannot add strings with numbers.  We can however coerce certain types, for example if we wanted 3.14 to be considered as an integer we would write `int(b)`."
   ]
  },
  {
   "cell_type": "code",
<<<<<<< HEAD
   "execution_count": 17,
   "metadata": {
    "collapsed": true
   },
=======
   "execution_count": 4,
   "metadata": {},
>>>>>>> upstream/master
   "outputs": [],
   "source": [
    "a = 4\n",
    "b = 3.14\n",
    "c = 'gucci'\n",
    "d = int(b)"
   ]
  },
  {
   "cell_type": "code",
<<<<<<< HEAD
   "execution_count": 18,
=======
   "execution_count": 5,
>>>>>>> upstream/master
   "metadata": {},
   "outputs": [
    {
     "data": {
      "text/plain": [
       "int"
      ]
     },
<<<<<<< HEAD
     "execution_count": 18,
=======
     "execution_count": 5,
>>>>>>> upstream/master
     "metadata": {},
     "output_type": "execute_result"
    }
   ],
   "source": [
    "type(a)"
   ]
  },
  {
   "cell_type": "code",
<<<<<<< HEAD
   "execution_count": 19,
=======
   "execution_count": 6,
>>>>>>> upstream/master
   "metadata": {},
   "outputs": [
    {
     "data": {
      "text/plain": [
       "float"
      ]
     },
<<<<<<< HEAD
     "execution_count": 19,
=======
     "execution_count": 6,
>>>>>>> upstream/master
     "metadata": {},
     "output_type": "execute_result"
    }
   ],
   "source": [
    "type(b)"
   ]
  },
  {
   "cell_type": "code",
<<<<<<< HEAD
   "execution_count": 20,
=======
   "execution_count": 7,
>>>>>>> upstream/master
   "metadata": {},
   "outputs": [
    {
     "data": {
      "text/plain": [
       "str"
      ]
     },
<<<<<<< HEAD
     "execution_count": 20,
=======
     "execution_count": 7,
>>>>>>> upstream/master
     "metadata": {},
     "output_type": "execute_result"
    }
   ],
   "source": [
    "type(c)"
   ]
  },
  {
   "cell_type": "code",
<<<<<<< HEAD
   "execution_count": 21,
=======
   "execution_count": 8,
>>>>>>> upstream/master
   "metadata": {},
   "outputs": [
    {
     "data": {
      "text/plain": [
       "int"
      ]
     },
<<<<<<< HEAD
     "execution_count": 21,
=======
     "execution_count": 8,
>>>>>>> upstream/master
     "metadata": {},
     "output_type": "execute_result"
    }
   ],
   "source": [
    "type(d)"
   ]
  },
  {
   "cell_type": "code",
<<<<<<< HEAD
   "execution_count": 22,
=======
   "execution_count": 9,
>>>>>>> upstream/master
   "metadata": {},
   "outputs": [
    {
     "data": {
      "text/plain": [
       "3"
      ]
     },
<<<<<<< HEAD
     "execution_count": 22,
=======
     "execution_count": 9,
>>>>>>> upstream/master
     "metadata": {},
     "output_type": "execute_result"
    }
   ],
   "source": [
    "d"
   ]
  },
  {
   "cell_type": "code",
<<<<<<< HEAD
   "execution_count": 23,
=======
   "execution_count": 10,
>>>>>>> upstream/master
   "metadata": {},
   "outputs": [
    {
     "data": {
      "text/plain": [
       "float"
      ]
     },
<<<<<<< HEAD
     "execution_count": 23,
=======
     "execution_count": 10,
>>>>>>> upstream/master
     "metadata": {},
     "output_type": "execute_result"
    }
   ],
   "source": [
    "type(a + b)"
   ]
  },
  {
   "cell_type": "code",
<<<<<<< HEAD
   "execution_count": 24,
=======
   "execution_count": 11,
>>>>>>> upstream/master
   "metadata": {},
   "outputs": [
    {
     "data": {
      "text/plain": [
       "int"
      ]
     },
<<<<<<< HEAD
     "execution_count": 24,
=======
     "execution_count": 11,
>>>>>>> upstream/master
     "metadata": {},
     "output_type": "execute_result"
    }
   ],
   "source": [
    "type(a + a)"
   ]
  },
  {
   "cell_type": "code",
<<<<<<< HEAD
   "execution_count": 25,
=======
   "execution_count": 12,
>>>>>>> upstream/master
   "metadata": {},
   "outputs": [
    {
     "ename": "TypeError",
     "evalue": "unsupported operand type(s) for +: 'int' and 'str'",
     "output_type": "error",
     "traceback": [
<<<<<<< HEAD
      "\u001b[0;31m---------------------------------------------------------------------------\u001b[0m",
      "\u001b[0;31mTypeError\u001b[0m                                 Traceback (most recent call last)",
      "\u001b[0;32m<ipython-input-25-a0e313540e7c>\u001b[0m in \u001b[0;36m<module>\u001b[0;34m()\u001b[0m\n\u001b[0;32m----> 1\u001b[0;31m \u001b[0mtype\u001b[0m\u001b[0;34m(\u001b[0m\u001b[0ma\u001b[0m \u001b[0;34m+\u001b[0m \u001b[0mc\u001b[0m\u001b[0;34m)\u001b[0m\u001b[0;34m\u001b[0m\u001b[0m\n\u001b[0m",
=======
      "\u001b[0;31m-----------------------------------------------\u001b[0m",
      "\u001b[0;31mTypeError\u001b[0m     Traceback (most recent call last)",
      "\u001b[0;32m<ipython-input-12-89c59b309e9f>\u001b[0m in \u001b[0;36m<module>\u001b[0;34m()\u001b[0m\n\u001b[0;32m----> 1\u001b[0;31m \u001b[0mtype\u001b[0m\u001b[0;34m(\u001b[0m\u001b[0ma\u001b[0m \u001b[0;34m+\u001b[0m \u001b[0mc\u001b[0m\u001b[0;34m)\u001b[0m\u001b[0;34m\u001b[0m\u001b[0m\n\u001b[0m",
>>>>>>> upstream/master
      "\u001b[0;31mTypeError\u001b[0m: unsupported operand type(s) for +: 'int' and 'str'"
     ]
    }
   ],
   "source": [
    "type(a + c)"
   ]
  },
  {
   "cell_type": "markdown",
   "metadata": {},
   "source": [
    "### Lists\n",
    "\n",
    "Another important idea will be around collections of things.  The first way we will examine storing collections of things with Python is the `list` object.  We construct lists using the square brackets `[]` and seperate elements with a comma.  "
   ]
  },
  {
   "cell_type": "code",
<<<<<<< HEAD
   "execution_count": 26,
   "metadata": {
    "collapsed": true
   },
=======
   "execution_count": 13,
   "metadata": {},
>>>>>>> upstream/master
   "outputs": [],
   "source": [
    "a = [4, 5, 6, 7, 8]"
   ]
  },
  {
   "cell_type": "code",
<<<<<<< HEAD
   "execution_count": 27,
=======
   "execution_count": 14,
>>>>>>> upstream/master
   "metadata": {},
   "outputs": [
    {
     "data": {
      "text/plain": [
       "list"
      ]
     },
<<<<<<< HEAD
     "execution_count": 27,
=======
     "execution_count": 14,
>>>>>>> upstream/master
     "metadata": {},
     "output_type": "execute_result"
    }
   ],
   "source": [
    "type(a)"
   ]
  },
  {
   "cell_type": "markdown",
   "metadata": {},
   "source": [
    "We can get inside the list and select individual elements or collections of these elements.  To do so, we will use the index or position of the element.  It is important to note that Python begins indexing at 0, so the first element in the list corresponds with an index of 0.  "
   ]
  },
  {
   "cell_type": "code",
<<<<<<< HEAD
   "execution_count": 28,
=======
   "execution_count": 15,
>>>>>>> upstream/master
   "metadata": {},
   "outputs": [
    {
     "data": {
      "text/plain": [
       "4"
      ]
     },
<<<<<<< HEAD
     "execution_count": 28,
=======
     "execution_count": 15,
>>>>>>> upstream/master
     "metadata": {},
     "output_type": "execute_result"
    }
   ],
   "source": [
    "a[0]"
   ]
  },
  {
   "cell_type": "markdown",
   "metadata": {},
   "source": [
    "To select a slice of the list, we use the `[first_element_index: first_element_excluded_index]` syntax.  Again, note that the last index corresponds to the first element to *not* be included."
   ]
  },
  {
   "cell_type": "code",
<<<<<<< HEAD
   "execution_count": 29,
=======
   "execution_count": 16,
>>>>>>> upstream/master
   "metadata": {},
   "outputs": [
    {
     "data": {
      "text/plain": [
       "[4, 5, 6]"
      ]
     },
<<<<<<< HEAD
     "execution_count": 29,
=======
     "execution_count": 16,
>>>>>>> upstream/master
     "metadata": {},
     "output_type": "execute_result"
    }
   ],
   "source": [
    "a[0:3]"
   ]
  },
  {
   "cell_type": "markdown",
   "metadata": {},
   "source": [
    "We can skip count using two colons."
   ]
  },
  {
   "cell_type": "code",
<<<<<<< HEAD
   "execution_count": 30,
=======
   "execution_count": 17,
>>>>>>> upstream/master
   "metadata": {},
   "outputs": [
    {
     "data": {
      "text/plain": [
       "[4, 6, 8]"
      ]
     },
<<<<<<< HEAD
     "execution_count": 30,
=======
     "execution_count": 17,
>>>>>>> upstream/master
     "metadata": {},
     "output_type": "execute_result"
    }
   ],
   "source": [
    "a[::2]"
   ]
  },
  {
   "cell_type": "code",
<<<<<<< HEAD
   "execution_count": 31,
=======
   "execution_count": 18,
>>>>>>> upstream/master
   "metadata": {},
   "outputs": [
    {
     "data": {
      "text/plain": [
       "[6, 8]"
      ]
     },
<<<<<<< HEAD
     "execution_count": 31,
=======
     "execution_count": 18,
>>>>>>> upstream/master
     "metadata": {},
     "output_type": "execute_result"
    }
   ],
   "source": [
    "a[2::2]"
   ]
  },
  {
   "cell_type": "markdown",
   "metadata": {},
   "source": [
    "### Creating Lists and Loops\n",
    "\n",
    "We have other ways for creating lists that automate the process.  Rather than writing out each element, we can use a counter (the `range()` function) to step through indicies performing a specified operation each time through.  A simple way for building such a list would be to start with an empty list, and loop through a set amount of times adding an element to the list each time through.\n",
    "\n",
    "The example below first demonstrates the appending of an element to an empty list using the `.append()` method.  Next, we see a loop in action that prints out the value of the counter at each step.  Finally, we use this to build a list of even integers."
   ]
  },
  {
   "cell_type": "code",
<<<<<<< HEAD
   "execution_count": 32,
   "metadata": {
    "collapsed": true
   },
=======
   "execution_count": 19,
   "metadata": {},
>>>>>>> upstream/master
   "outputs": [],
   "source": [
    "#create a list with a loop\n",
    "#and the range() function\n",
    "\n",
    "#create empty list\n",
    "a = []"
   ]
  },
  {
   "cell_type": "code",
<<<<<<< HEAD
   "execution_count": 33,
=======
   "execution_count": 20,
>>>>>>> upstream/master
   "metadata": {},
   "outputs": [
    {
     "data": {
      "text/plain": [
       "[]"
      ]
     },
<<<<<<< HEAD
     "execution_count": 33,
=======
     "execution_count": 20,
>>>>>>> upstream/master
     "metadata": {},
     "output_type": "execute_result"
    }
   ],
   "source": [
    "a"
   ]
  },
  {
   "cell_type": "code",
<<<<<<< HEAD
   "execution_count": 34,
   "metadata": {
    "collapsed": true
   },
=======
   "execution_count": 21,
   "metadata": {},
>>>>>>> upstream/master
   "outputs": [],
   "source": [
    "#add to list with append\n",
    "a.append(0)"
   ]
  },
  {
   "cell_type": "code",
<<<<<<< HEAD
   "execution_count": 35,
=======
   "execution_count": 22,
>>>>>>> upstream/master
   "metadata": {},
   "outputs": [
    {
     "data": {
      "text/plain": [
       "[0]"
      ]
     },
<<<<<<< HEAD
     "execution_count": 35,
=======
     "execution_count": 22,
>>>>>>> upstream/master
     "metadata": {},
     "output_type": "execute_result"
    }
   ],
   "source": [
    "a"
   ]
  },
  {
   "cell_type": "code",
<<<<<<< HEAD
   "execution_count": 36,
=======
   "execution_count": 23,
>>>>>>> upstream/master
   "metadata": {},
   "outputs": [
    {
     "name": "stdout",
     "output_type": "stream",
     "text": [
      "0\n",
      "1\n",
      "2\n",
      "3\n",
      "4\n",
      "5\n",
      "6\n",
      "7\n",
      "8\n",
      "9\n"
     ]
    }
   ],
   "source": [
    "#print the counter\n",
    "for i in range(10):\n",
    "    print(i)"
   ]
  },
  {
   "cell_type": "code",
<<<<<<< HEAD
   "execution_count": 37,
=======
   "execution_count": 24,
>>>>>>> upstream/master
   "metadata": {},
   "outputs": [
    {
     "name": "stdout",
     "output_type": "stream",
     "text": [
      "1\n",
      "3\n",
      "5\n",
      "7\n",
      "9\n",
      "11\n",
      "13\n",
      "15\n",
      "17\n",
      "19\n"
     ]
    }
   ],
   "source": [
    "#adjusting how we use the range \n",
    "#function to start at 1 and count\n",
    "#by two\n",
    "for i in range(1, 20, 2):\n",
    "    print(i)"
   ]
  },
  {
   "cell_type": "code",
<<<<<<< HEAD
   "execution_count": 38,
   "metadata": {
    "collapsed": true
   },
=======
   "execution_count": 25,
   "metadata": {},
>>>>>>> upstream/master
   "outputs": [],
   "source": [
    "#use a loop to build list of even integers\n",
    "b = []\n",
    "for i in range(10):\n",
    "    b.append(2*i)"
   ]
  },
  {
   "cell_type": "code",
<<<<<<< HEAD
   "execution_count": 39,
=======
   "execution_count": 26,
>>>>>>> upstream/master
   "metadata": {},
   "outputs": [
    {
     "data": {
      "text/plain": [
       "[0, 2, 4, 6, 8, 10, 12, 14, 16, 18]"
      ]
     },
<<<<<<< HEAD
     "execution_count": 39,
=======
     "execution_count": 26,
>>>>>>> upstream/master
     "metadata": {},
     "output_type": "execute_result"
    }
   ],
   "source": [
    "b"
   ]
  },
  {
   "cell_type": "code",
<<<<<<< HEAD
   "execution_count": 40,
   "metadata": {
    "collapsed": true
   },
=======
   "execution_count": 27,
   "metadata": {},
>>>>>>> upstream/master
   "outputs": [],
   "source": [
    "#list comprehension\n",
    "b = [2*i for i in range(10)]"
   ]
  },
  {
   "cell_type": "code",
<<<<<<< HEAD
   "execution_count": 41,
=======
   "execution_count": 28,
>>>>>>> upstream/master
   "metadata": {},
   "outputs": [
    {
     "data": {
      "text/plain": [
       "[0, 2, 4, 6, 8, 10, 12, 14, 16, 18]"
      ]
     },
<<<<<<< HEAD
     "execution_count": 41,
=======
     "execution_count": 28,
>>>>>>> upstream/master
     "metadata": {},
     "output_type": "execute_result"
    }
   ],
   "source": [
    "b"
   ]
  },
  {
   "cell_type": "code",
<<<<<<< HEAD
   "execution_count": 44,
   "metadata": {
    "collapsed": true
   },
=======
   "execution_count": 29,
   "metadata": {},
>>>>>>> upstream/master
   "outputs": [],
   "source": [
    "#dynamic list that starts with 1\n",
    "#adds one to this to create the next element and continue\n",
    "#based on counter\n",
    "a = [1]\n",
    "for i in range(10):\n",
    "    next = a[i] + 1\n",
    "    a.append(next)"
   ]
  },
  {
   "cell_type": "code",
<<<<<<< HEAD
   "execution_count": 45,
=======
   "execution_count": 30,
>>>>>>> upstream/master
   "metadata": {},
   "outputs": [
    {
     "data": {
      "text/plain": [
       "[1, 2, 3, 4, 5, 6, 7, 8, 9, 10, 11]"
      ]
     },
<<<<<<< HEAD
     "execution_count": 45,
=======
     "execution_count": 30,
>>>>>>> upstream/master
     "metadata": {},
     "output_type": "execute_result"
    }
   ],
   "source": [
    "a"
   ]
  },
  {
   "cell_type": "markdown",
   "metadata": {},
   "source": [
    "### Libraries\n",
    "\n",
    "Most of the time rather than writing things in base Python, we will use existing libraries that contain functions specific to the libraries purpose.  Two important libraries for us will be **Pandas** and **Matplotlib**.  Pandas is a Python data structure library that works on arrays.  Matplotlib is a plotting library that we will use for generating plots.  \n",
    "\n",
    "To use the libraries, we need to import them.  We will also abbreviate their names to lessen the amount of writing we need to do.  The abbreviations are standard.  In addition to these libraries, we will tell the Jupyter notebook to make our plots in the notebook itself rather than in a separate window using the `%matplotlib inline` magic command.\n"
   ]
  },
  {
   "cell_type": "code",
<<<<<<< HEAD
   "execution_count": 46,
   "metadata": {
    "collapsed": true
   },
=======
   "execution_count": 31,
   "metadata": {},
>>>>>>> upstream/master
   "outputs": [],
   "source": [
    "%matplotlib inline\n",
    "import matplotlib.pyplot as plt\n",
    "import pandas as pd"
   ]
  },
  {
   "cell_type": "markdown",
   "metadata": {},
   "source": [
    "In the example below, we create two lists using list comprehensions, make a `DataFrame` out of this, investigate the `DataFrame`, and finally plot the data using `matplotlib`.  Note that when I want to do something using a pandas function, I preface it with `pd` and for `matplotlib` it's `plt`."
   ]
  },
  {
   "cell_type": "code",
<<<<<<< HEAD
   "execution_count": 47,
   "metadata": {
    "collapsed": true
   },
=======
   "execution_count": 32,
   "metadata": {},
>>>>>>> upstream/master
   "outputs": [],
   "source": [
    "l1 = [i for i in range(10)]\n",
    "l2 = [(i/2)**i for i in range(10)]"
   ]
  },
  {
   "cell_type": "code",
<<<<<<< HEAD
   "execution_count": 48,
   "metadata": {
    "collapsed": true
   },
=======
   "execution_count": 33,
   "metadata": {},
>>>>>>> upstream/master
   "outputs": [],
   "source": [
    "#create a DataFrame from my first list\n",
    "#provide my own name for the column\n",
    "df = pd.DataFrame(l1, columns=['Column_1'])"
   ]
  },
  {
   "cell_type": "code",
<<<<<<< HEAD
   "execution_count": 49,
=======
   "execution_count": 34,
>>>>>>> upstream/master
   "metadata": {},
   "outputs": [
    {
     "data": {
      "text/html": [
       "<div>\n",
       "<style>\n",
       "    .dataframe thead tr:only-child th {\n",
       "        text-align: right;\n",
       "    }\n",
       "\n",
       "    .dataframe thead th {\n",
       "        text-align: left;\n",
       "    }\n",
       "\n",
       "    .dataframe tbody tr th {\n",
       "        vertical-align: top;\n",
       "    }\n",
       "</style>\n",
       "<table border=\"1\" class=\"dataframe\">\n",
       "  <thead>\n",
       "    <tr style=\"text-align: right;\">\n",
       "      <th></th>\n",
       "      <th>Column_1</th>\n",
       "    </tr>\n",
       "  </thead>\n",
       "  <tbody>\n",
       "    <tr>\n",
       "      <th>0</th>\n",
       "      <td>0</td>\n",
       "    </tr>\n",
       "    <tr>\n",
       "      <th>1</th>\n",
       "      <td>1</td>\n",
       "    </tr>\n",
       "    <tr>\n",
       "      <th>2</th>\n",
       "      <td>2</td>\n",
       "    </tr>\n",
       "    <tr>\n",
       "      <th>3</th>\n",
       "      <td>3</td>\n",
       "    </tr>\n",
       "    <tr>\n",
       "      <th>4</th>\n",
       "      <td>4</td>\n",
       "    </tr>\n",
       "    <tr>\n",
       "      <th>5</th>\n",
       "      <td>5</td>\n",
       "    </tr>\n",
       "    <tr>\n",
       "      <th>6</th>\n",
       "      <td>6</td>\n",
       "    </tr>\n",
       "    <tr>\n",
       "      <th>7</th>\n",
       "      <td>7</td>\n",
       "    </tr>\n",
       "    <tr>\n",
       "      <th>8</th>\n",
       "      <td>8</td>\n",
       "    </tr>\n",
       "    <tr>\n",
       "      <th>9</th>\n",
       "      <td>9</td>\n",
       "    </tr>\n",
       "  </tbody>\n",
       "</table>\n",
       "</div>"
      ],
      "text/plain": [
       "   Column_1\n",
       "0         0\n",
       "1         1\n",
       "2         2\n",
       "3         3\n",
       "4         4\n",
       "5         5\n",
       "6         6\n",
       "7         7\n",
       "8         8\n",
       "9         9"
      ]
     },
<<<<<<< HEAD
     "execution_count": 49,
=======
     "execution_count": 34,
>>>>>>> upstream/master
     "metadata": {},
     "output_type": "execute_result"
    }
   ],
   "source": [
    "df"
   ]
  },
  {
   "cell_type": "code",
<<<<<<< HEAD
   "execution_count": 50,
   "metadata": {
    "collapsed": true
   },
=======
   "execution_count": 35,
   "metadata": {},
>>>>>>> upstream/master
   "outputs": [],
   "source": [
    "#add a second column to my DataFrame\n",
    "#with the second list\n",
    "df['Column_2'] = l2"
   ]
  },
  {
   "cell_type": "code",
<<<<<<< HEAD
   "execution_count": 52,
=======
   "execution_count": 36,
>>>>>>> upstream/master
   "metadata": {},
   "outputs": [
    {
     "data": {
      "text/html": [
       "<div>\n",
       "<style>\n",
       "    .dataframe thead tr:only-child th {\n",
       "        text-align: right;\n",
       "    }\n",
       "\n",
       "    .dataframe thead th {\n",
       "        text-align: left;\n",
       "    }\n",
       "\n",
       "    .dataframe tbody tr th {\n",
       "        vertical-align: top;\n",
       "    }\n",
       "</style>\n",
       "<table border=\"1\" class=\"dataframe\">\n",
       "  <thead>\n",
       "    <tr style=\"text-align: right;\">\n",
       "      <th></th>\n",
       "      <th>Column_1</th>\n",
       "      <th>Column_2</th>\n",
       "    </tr>\n",
       "  </thead>\n",
       "  <tbody>\n",
       "    <tr>\n",
       "      <th>0</th>\n",
       "      <td>0</td>\n",
       "      <td>1</td>\n",
       "    </tr>\n",
       "    <tr>\n",
       "      <th>1</th>\n",
       "      <td>1</td>\n",
       "      <td>0</td>\n",
       "    </tr>\n",
       "    <tr>\n",
       "      <th>2</th>\n",
       "      <td>2</td>\n",
       "      <td>1</td>\n",
       "    </tr>\n",
       "    <tr>\n",
       "      <th>3</th>\n",
       "      <td>3</td>\n",
       "      <td>1</td>\n",
       "    </tr>\n",
       "    <tr>\n",
       "      <th>4</th>\n",
       "      <td>4</td>\n",
       "      <td>16</td>\n",
       "    </tr>\n",
       "  </tbody>\n",
       "</table>\n",
       "</div>"
      ],
      "text/plain": [
       "   Column_1  Column_2\n",
       "0         0         1\n",
       "1         1         0\n",
       "2         2         1\n",
       "3         3         1\n",
       "4         4        16"
      ]
     },
<<<<<<< HEAD
     "execution_count": 52,
=======
     "execution_count": 36,
>>>>>>> upstream/master
     "metadata": {},
     "output_type": "execute_result"
    }
   ],
   "source": [
    "#the head function shows us the \n",
    "#top 5 rows of the dataframe\n",
    "df.head()"
   ]
  },
  {
   "cell_type": "markdown",
   "metadata": {},
   "source": [
    "Now, if I want to plot this information I can use the `plt.plot()` method.  Here, I will provide the names of the columns in my DataFrame as the $x$ and $y$ variables."
   ]
  },
  {
   "cell_type": "code",
   "execution_count": 37,
   "metadata": {},
   "outputs": [
    {
     "data": {
      "text/plain": [
       "[<matplotlib.lines.Line2D at 0x107432e80>]"
      ]
     },
     "execution_count": 37,
     "metadata": {},
     "output_type": "execute_result"
    },
    {
     "data": {
      "image/png": "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\n",
      "text/plain": [
       "<matplotlib.figure.Figure at 0x1073bfb38>"
      ]
     },
     "metadata": {},
     "output_type": "display_data"
    }
   ],
   "source": [
    "plt.plot(df['Column_1'], df['Column_2'])"
   ]
  },
  {
   "cell_type": "code",
<<<<<<< HEAD
   "execution_count": 54,
=======
   "execution_count": 38,
>>>>>>> upstream/master
   "metadata": {},
   "outputs": [
    {
     "data": {
      "text/plain": [
<<<<<<< HEAD
       "<matplotlib.axes._subplots.AxesSubplot at 0x1072760d0>"
      ]
     },
     "execution_count": 54,
=======
       "<matplotlib.axes._subplots.AxesSubplot at 0x107412828>"
      ]
     },
     "execution_count": 38,
>>>>>>> upstream/master
     "metadata": {},
     "output_type": "execute_result"
    },
    {
     "data": {
      "image/png": "iVBORw0KGgoAAAANSUhEUgAAAY0AAAD8CAYAAACLrvgBAAAABHNCSVQICAgIfAhkiAAAAAlwSFlz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\nrkJggg==\n",
      "text/plain": [
<<<<<<< HEAD
       "<matplotlib.figure.Figure at 0x105a03610>"
=======
       "<matplotlib.figure.Figure at 0x1074097b8>"
>>>>>>> upstream/master
      ]
     },
     "metadata": {},
     "output_type": "display_data"
    }
   ],
   "source": [
    "#pandas also allows plotting directly from\n",
    "#the dataframe\n",
    "df.plot()"
   ]
  },
  {
   "cell_type": "markdown",
   "metadata": {},
   "source": [
    "There are many different styles of plots available, here are just a few."
   ]
  },
  {
   "cell_type": "code",
<<<<<<< HEAD
   "execution_count": 55,
=======
   "execution_count": 39,
>>>>>>> upstream/master
   "metadata": {},
   "outputs": [
    {
     "data": {
      "text/plain": [
<<<<<<< HEAD
       "<matplotlib.collections.PathCollection at 0x10c5caf90>"
      ]
     },
     "execution_count": 55,
=======
       "<matplotlib.collections.PathCollection at 0x1075e72b0>"
      ]
     },
     "execution_count": 39,
>>>>>>> upstream/master
     "metadata": {},
     "output_type": "execute_result"
    },
    {
     "data": {
      "image/png": "iVBORw0KGgoAAAANSUhEUgAAAY0AAAD8CAYAAACLrvgBAAAABHNCSVQICAgIfAhkiAAAAAlwSFlz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\nUjdDQ5LU7f8DAH+1fR1Q/b0AAAAASUVORK5CYII=\n",
      "text/plain": [
<<<<<<< HEAD
       "<matplotlib.figure.Figure at 0x1072dfb10>"
=======
       "<matplotlib.figure.Figure at 0x10752c5f8>"
>>>>>>> upstream/master
      ]
     },
     "metadata": {},
     "output_type": "display_data"
    }
   ],
   "source": [
    "plt.scatter(df['Column_1'], df['Column_2'])"
   ]
  },
  {
   "cell_type": "code",
<<<<<<< HEAD
   "execution_count": 56,
=======
   "execution_count": 40,
>>>>>>> upstream/master
   "metadata": {},
   "outputs": [
    {
     "data": {
      "text/plain": [
       "<Container object of 10 artists>"
      ]
     },
<<<<<<< HEAD
     "execution_count": 56,
=======
     "execution_count": 40,
>>>>>>> upstream/master
     "metadata": {},
     "output_type": "execute_result"
    },
    {
     "data": {
      "image/png": "iVBORw0KGgoAAAANSUhEUgAAAY0AAAD8CAYAAACLrvgBAAAABHNCSVQICAgIfAhkiAAAAAlwSFlz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\nDUlSN0NDktTN0JAkdfs/B3z6UGQ3ufgAAAAASUVORK5CYII=\n",
      "text/plain": [
<<<<<<< HEAD
       "<matplotlib.figure.Figure at 0x10c65c290>"
=======
       "<matplotlib.figure.Figure at 0x1075cb780>"
>>>>>>> upstream/master
      ]
     },
     "metadata": {},
     "output_type": "display_data"
    }
   ],
   "source": [
    "plt.bar(df['Column_1'], df['Column_2'])"
   ]
  },
  {
   "cell_type": "code",
<<<<<<< HEAD
   "execution_count": 57,
=======
   "execution_count": 41,
>>>>>>> upstream/master
   "metadata": {},
   "outputs": [
    {
     "data": {
      "image/png": "iVBORw0KGgoAAAANSUhEUgAAAY0AAAD8CAYAAACLrvgBAAAABHNCSVQICAgIfAhkiAAAAAlwSFlz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\n3QwNSVI3Q0OS1M3QkCR1MzQkSd3+H87XxWaNlK3KAAAAAElFTkSuQmCC\n",
      "text/plain": [
<<<<<<< HEAD
       "<matplotlib.figure.Figure at 0x10c681850>"
=======
       "<matplotlib.figure.Figure at 0x10773d6a0>"
>>>>>>> upstream/master
      ]
     },
     "metadata": {},
     "output_type": "display_data"
    }
   ],
   "source": [
    "plt.boxplot(df['Column_2']);"
   ]
  },
  {
   "cell_type": "code",
<<<<<<< HEAD
   "execution_count": null,
   "metadata": {
    "collapsed": true
   },
=======
   "execution_count": 42,
   "metadata": {},
   "outputs": [
    {
     "data": {
      "text/plain": [
       "<matplotlib.axes._subplots.AxesSubplot at 0x10747fa90>"
      ]
     },
     "execution_count": 42,
     "metadata": {},
     "output_type": "execute_result"
    },
    {
     "data": {
      "image/png": "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\n",
      "text/plain": [
       "<matplotlib.figure.Figure at 0x1078011d0>"
      ]
     },
     "metadata": {},
     "output_type": "display_data"
    }
   ],
   "source": [
    "df.plot()"
   ]
  },
  {
   "cell_type": "code",
   "execution_count": 44,
   "metadata": {},
   "outputs": [
    {
     "data": {
      "text/plain": [
       "<matplotlib.axes._subplots.AxesSubplot at 0x1078cc7f0>"
      ]
     },
     "execution_count": 44,
     "metadata": {},
     "output_type": "execute_result"
    },
    {
     "data": {
      "image/png": "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\n",
      "text/plain": [
       "<matplotlib.figure.Figure at 0x1078d5b38>"
      ]
     },
     "metadata": {},
     "output_type": "display_data"
    }
   ],
   "source": [
    "df.plot(kind = 'density')"
   ]
  },
  {
   "cell_type": "code",
   "execution_count": null,
   "metadata": {},
   "outputs": [],
   "source": []
  },
  {
   "cell_type": "code",
   "execution_count": null,
   "metadata": {},
   "outputs": [],
   "source": []
  },
  {
   "cell_type": "code",
   "execution_count": null,
   "metadata": {},
>>>>>>> upstream/master
   "outputs": [],
   "source": []
  }
 ],
 "metadata": {
  "kernelspec": {
   "display_name": "Python 2",
   "language": "python",
   "name": "python2"
  },
  "language_info": {
   "codemirror_mode": {
    "name": "ipython",
    "version": 2
   },
   "file_extension": ".py",
   "mimetype": "text/x-python",
   "name": "python",
   "nbconvert_exporter": "python",
   "pygments_lexer": "ipython2",
   "version": "2.7.15"
  }
 },
 "nbformat": 4,
 "nbformat_minor": 2
}
