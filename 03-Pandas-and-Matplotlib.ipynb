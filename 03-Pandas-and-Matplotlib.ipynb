{
 "cells": [
  {
   "cell_type": "markdown",
   "metadata": {},
   "source": [
    "# Important Libraries\n",
    "\n",
    "**Objectives**:\n",
    "\n",
    "- Use `pandas` to load and explore data\n",
    "- Use `matplotlib` to plot data\n",
    "- Use help functions and documentation to better understand libraries functions"
   ]
  },
  {
   "cell_type": "markdown",
   "metadata": {},
   "source": [
    "### Pandas\n",
    "\n",
    "![](images/pandas_logo.png)\n",
    "\n",
    "Our main use of Pandas is for its data structure -- the DataFrame.  You can think of the DataFrame as similar to a spreadsheet program where there are rows and columns of information.  Here, we will create and examine the DataFrame in a few ways."
   ]
  },
  {
   "cell_type": "code",
   "execution_count": 1,
<<<<<<< HEAD
   "metadata": {
    "collapsed": true
   },
=======
   "metadata": {},
>>>>>>> upstream/master
   "outputs": [],
   "source": [
    "%matplotlib inline\n",
    "import matplotlib.pyplot as plt\n",
    "import pandas as pd"
   ]
  },
  {
   "cell_type": "code",
   "execution_count": 2,
<<<<<<< HEAD
   "metadata": {
    "collapsed": true
   },
=======
   "metadata": {},
>>>>>>> upstream/master
   "outputs": [],
   "source": [
    "#create DataFrame from list\n",
    "a = [1, 2, 3, 4]"
   ]
  },
  {
   "cell_type": "code",
   "execution_count": 3,
<<<<<<< HEAD
   "metadata": {
    "collapsed": true
   },
=======
   "metadata": {},
>>>>>>> upstream/master
   "outputs": [],
   "source": [
    "df = pd.DataFrame(a)"
   ]
  },
  {
   "cell_type": "code",
<<<<<<< HEAD
   "execution_count": 4,
=======
   "execution_count": 5,
>>>>>>> upstream/master
   "metadata": {},
   "outputs": [
    {
     "data": {
      "text/html": [
       "<div>\n",
       "<style>\n",
       "    .dataframe thead tr:only-child th {\n",
       "        text-align: right;\n",
       "    }\n",
       "\n",
       "    .dataframe thead th {\n",
       "        text-align: left;\n",
       "    }\n",
       "\n",
       "    .dataframe tbody tr th {\n",
       "        vertical-align: top;\n",
       "    }\n",
       "</style>\n",
       "<table border=\"1\" class=\"dataframe\">\n",
       "  <thead>\n",
       "    <tr style=\"text-align: right;\">\n",
       "      <th></th>\n",
       "      <th>0</th>\n",
       "    </tr>\n",
       "  </thead>\n",
       "  <tbody>\n",
       "    <tr>\n",
       "      <th>0</th>\n",
       "      <td>1</td>\n",
       "    </tr>\n",
       "    <tr>\n",
       "      <th>1</th>\n",
       "      <td>2</td>\n",
       "    </tr>\n",
       "  </tbody>\n",
       "</table>\n",
       "</div>"
      ],
      "text/plain": [
       "   0\n",
       "0  1\n",
       "1  2"
      ]
     },
<<<<<<< HEAD
     "execution_count": 4,
=======
     "execution_count": 5,
>>>>>>> upstream/master
     "metadata": {},
     "output_type": "execute_result"
    }
   ],
   "source": [
    "df.head(2)"
   ]
  },
  {
   "cell_type": "code",
<<<<<<< HEAD
   "execution_count": 5,
   "metadata": {
    "collapsed": true
   },
=======
   "execution_count": 6,
   "metadata": {},
>>>>>>> upstream/master
   "outputs": [],
   "source": [
    "#create from dictionary\n",
    "a = {'data': [1, 2, 3, 4]}"
   ]
  },
  {
   "cell_type": "code",
<<<<<<< HEAD
   "execution_count": 6,
=======
   "execution_count": 7,
>>>>>>> upstream/master
   "metadata": {},
   "outputs": [
    {
     "data": {
      "text/plain": [
       "{'data': [1, 2, 3, 4]}"
      ]
     },
<<<<<<< HEAD
     "execution_count": 6,
=======
     "execution_count": 7,
>>>>>>> upstream/master
     "metadata": {},
     "output_type": "execute_result"
    }
   ],
   "source": [
    "a"
   ]
  },
  {
   "cell_type": "code",
<<<<<<< HEAD
   "execution_count": 7,
=======
   "execution_count": 8,
>>>>>>> upstream/master
   "metadata": {},
   "outputs": [
    {
     "data": {
      "text/plain": [
       "[1, 2, 3, 4]"
      ]
     },
<<<<<<< HEAD
     "execution_count": 7,
=======
     "execution_count": 8,
>>>>>>> upstream/master
     "metadata": {},
     "output_type": "execute_result"
    }
   ],
   "source": [
    "a['data']"
   ]
  },
  {
   "cell_type": "code",
<<<<<<< HEAD
   "execution_count": 8,
=======
   "execution_count": 9,
>>>>>>> upstream/master
   "metadata": {},
   "outputs": [
    {
     "data": {
      "text/plain": [
       "1"
      ]
     },
<<<<<<< HEAD
     "execution_count": 8,
=======
     "execution_count": 9,
>>>>>>> upstream/master
     "metadata": {},
     "output_type": "execute_result"
    }
   ],
   "source": [
    "a['data'][0]"
   ]
  },
  {
   "cell_type": "code",
<<<<<<< HEAD
   "execution_count": 9,
   "metadata": {
    "collapsed": true
   },
=======
   "execution_count": 10,
   "metadata": {},
>>>>>>> upstream/master
   "outputs": [],
   "source": [
    "df = pd.DataFrame(a)"
   ]
  },
  {
   "cell_type": "code",
<<<<<<< HEAD
   "execution_count": 10,
=======
   "execution_count": 11,
>>>>>>> upstream/master
   "metadata": {},
   "outputs": [
    {
     "data": {
      "text/html": [
       "<div>\n",
       "<style>\n",
       "    .dataframe thead tr:only-child th {\n",
       "        text-align: right;\n",
       "    }\n",
       "\n",
       "    .dataframe thead th {\n",
       "        text-align: left;\n",
       "    }\n",
       "\n",
       "    .dataframe tbody tr th {\n",
       "        vertical-align: top;\n",
       "    }\n",
       "</style>\n",
       "<table border=\"1\" class=\"dataframe\">\n",
       "  <thead>\n",
       "    <tr style=\"text-align: right;\">\n",
       "      <th></th>\n",
       "      <th>data</th>\n",
       "    </tr>\n",
       "  </thead>\n",
       "  <tbody>\n",
       "    <tr>\n",
       "      <th>0</th>\n",
       "      <td>1</td>\n",
       "    </tr>\n",
       "    <tr>\n",
       "      <th>1</th>\n",
       "      <td>2</td>\n",
       "    </tr>\n",
       "    <tr>\n",
       "      <th>2</th>\n",
       "      <td>3</td>\n",
       "    </tr>\n",
       "    <tr>\n",
       "      <th>3</th>\n",
       "      <td>4</td>\n",
       "    </tr>\n",
       "  </tbody>\n",
       "</table>\n",
       "</div>"
      ],
      "text/plain": [
       "   data\n",
       "0     1\n",
       "1     2\n",
       "2     3\n",
       "3     4"
      ]
     },
<<<<<<< HEAD
     "execution_count": 10,
=======
     "execution_count": 11,
>>>>>>> upstream/master
     "metadata": {},
     "output_type": "execute_result"
    }
   ],
   "source": [
    "df"
   ]
  },
  {
   "cell_type": "code",
<<<<<<< HEAD
   "execution_count": 11,
=======
   "execution_count": 12,
>>>>>>> upstream/master
   "metadata": {},
   "outputs": [
    {
     "name": "stdout",
     "output_type": "stream",
     "text": [
      "gapminder_all.csv          gapminder_gdp_asia.csv\r\n",
      "gapminder_gdp_africa.csv   gapminder_gdp_europe.csv\r\n",
      "gapminder_gdp_americas.csv gapminder_gdp_oceania.csv\r\n"
     ]
    }
   ],
   "source": [
    "#from a local file\n",
    "!ls data/gapminder_data/"
   ]
  },
  {
   "cell_type": "code",
<<<<<<< HEAD
   "execution_count": 12,
   "metadata": {
    "collapsed": true
   },
=======
   "execution_count": 13,
   "metadata": {},
>>>>>>> upstream/master
   "outputs": [],
   "source": [
    "#from local file\n",
    "df = pd.read_csv('data/gapminder_data/gapminder_gdp_europe.csv')"
   ]
  },
  {
   "cell_type": "code",
   "execution_count": 13,
   "metadata": {},
   "outputs": [
    {
     "name": "stdout",
     "output_type": "stream",
     "text": [
      "<class 'pandas.core.frame.DataFrame'>\n",
      "RangeIndex: 30 entries, 0 to 29\n",
      "Data columns (total 13 columns):\n",
      "country           30 non-null object\n",
      "gdpPercap_1952    30 non-null float64\n",
      "gdpPercap_1957    30 non-null float64\n",
      "gdpPercap_1962    30 non-null float64\n",
      "gdpPercap_1967    30 non-null float64\n",
      "gdpPercap_1972    30 non-null float64\n",
      "gdpPercap_1977    30 non-null float64\n",
      "gdpPercap_1982    30 non-null float64\n",
      "gdpPercap_1987    30 non-null float64\n",
      "gdpPercap_1992    30 non-null float64\n",
      "gdpPercap_1997    30 non-null float64\n",
      "gdpPercap_2002    30 non-null float64\n",
      "gdpPercap_2007    30 non-null float64\n",
      "dtypes: float64(12), object(1)\n",
      "memory usage: 3.1+ KB\n"
     ]
    }
   ],
   "source": [
    "#info\n",
    "df.info()"
   ]
  },
  {
   "cell_type": "code",
   "execution_count": 14,
   "metadata": {},
   "outputs": [
    {
     "data": {
      "text/plain": [
       "Index([u'country', u'gdpPercap_1952', u'gdpPercap_1957', u'gdpPercap_1962',\n",
       "       u'gdpPercap_1967', u'gdpPercap_1972', u'gdpPercap_1977',\n",
       "       u'gdpPercap_1982', u'gdpPercap_1987', u'gdpPercap_1992',\n",
       "       u'gdpPercap_1997', u'gdpPercap_2002', u'gdpPercap_2007'],\n",
       "      dtype='object')"
      ]
     },
     "execution_count": 14,
     "metadata": {},
     "output_type": "execute_result"
    }
   ],
   "source": [
    "#columns\n",
    "df.columns"
   ]
  },
  {
   "cell_type": "code",
   "execution_count": 15,
<<<<<<< HEAD
=======
   "metadata": {},
   "outputs": [
    {
     "data": {
      "text/plain": [
       "Index(['country', 'gdpPercap_1957', 'gdpPercap_1967', 'gdpPercap_1977',\n",
       "       'gdpPercap_1987', 'gdpPercap_1997', 'gdpPercap_2007'],\n",
       "      dtype='object')"
      ]
     },
     "execution_count": 15,
     "metadata": {},
     "output_type": "execute_result"
    }
   ],
   "source": [
    "df.columns[::2]"
   ]
  },
  {
   "cell_type": "code",
   "execution_count": 16,
>>>>>>> upstream/master
   "metadata": {},
   "outputs": [
    {
     "data": {
      "text/html": [
       "<div>\n",
       "<style>\n",
       "    .dataframe thead tr:only-child th {\n",
       "        text-align: right;\n",
       "    }\n",
       "\n",
       "    .dataframe thead th {\n",
       "        text-align: left;\n",
       "    }\n",
       "\n",
       "    .dataframe tbody tr th {\n",
       "        vertical-align: top;\n",
       "    }\n",
       "</style>\n",
       "<table border=\"1\" class=\"dataframe\">\n",
       "  <thead>\n",
       "    <tr style=\"text-align: right;\">\n",
       "      <th></th>\n",
       "      <th>country</th>\n",
       "      <th>gdpPercap_1952</th>\n",
       "      <th>gdpPercap_1957</th>\n",
       "      <th>gdpPercap_1962</th>\n",
       "      <th>gdpPercap_1967</th>\n",
       "      <th>gdpPercap_1972</th>\n",
       "      <th>gdpPercap_1977</th>\n",
       "      <th>gdpPercap_1982</th>\n",
       "      <th>gdpPercap_1987</th>\n",
       "      <th>gdpPercap_1992</th>\n",
       "      <th>gdpPercap_1997</th>\n",
       "      <th>gdpPercap_2002</th>\n",
       "      <th>gdpPercap_2007</th>\n",
       "    </tr>\n",
       "  </thead>\n",
       "  <tbody>\n",
       "    <tr>\n",
       "      <th>0</th>\n",
       "      <td>Albania</td>\n",
       "      <td>1601.056136</td>\n",
       "      <td>1942.284244</td>\n",
       "      <td>2312.888958</td>\n",
       "      <td>2760.196931</td>\n",
       "      <td>3313.422188</td>\n",
       "      <td>3533.003910</td>\n",
       "      <td>3630.880722</td>\n",
       "      <td>3738.932735</td>\n",
       "      <td>2497.437901</td>\n",
       "      <td>3193.054604</td>\n",
       "      <td>4604.211737</td>\n",
       "      <td>5937.029526</td>\n",
       "    </tr>\n",
       "    <tr>\n",
       "      <th>1</th>\n",
       "      <td>Austria</td>\n",
       "      <td>6137.076492</td>\n",
       "      <td>8842.598030</td>\n",
       "      <td>10750.721110</td>\n",
       "      <td>12834.602400</td>\n",
       "      <td>16661.625600</td>\n",
       "      <td>19749.422300</td>\n",
       "      <td>21597.083620</td>\n",
       "      <td>23687.826070</td>\n",
       "      <td>27042.018680</td>\n",
       "      <td>29095.920660</td>\n",
       "      <td>32417.607690</td>\n",
       "      <td>36126.492700</td>\n",
       "    </tr>\n",
       "    <tr>\n",
       "      <th>2</th>\n",
       "      <td>Belgium</td>\n",
       "      <td>8343.105127</td>\n",
       "      <td>9714.960623</td>\n",
       "      <td>10991.206760</td>\n",
       "      <td>13149.041190</td>\n",
       "      <td>16672.143560</td>\n",
       "      <td>19117.974480</td>\n",
       "      <td>20979.845890</td>\n",
       "      <td>22525.563080</td>\n",
       "      <td>25575.570690</td>\n",
       "      <td>27561.196630</td>\n",
       "      <td>30485.883750</td>\n",
       "      <td>33692.605080</td>\n",
       "    </tr>\n",
       "    <tr>\n",
       "      <th>3</th>\n",
       "      <td>Bosnia and Herzegovina</td>\n",
       "      <td>973.533195</td>\n",
       "      <td>1353.989176</td>\n",
       "      <td>1709.683679</td>\n",
       "      <td>2172.352423</td>\n",
       "      <td>2860.169750</td>\n",
       "      <td>3528.481305</td>\n",
       "      <td>4126.613157</td>\n",
       "      <td>4314.114757</td>\n",
       "      <td>2546.781445</td>\n",
       "      <td>4766.355904</td>\n",
       "      <td>6018.975239</td>\n",
       "      <td>7446.298803</td>\n",
       "    </tr>\n",
       "    <tr>\n",
       "      <th>4</th>\n",
       "      <td>Bulgaria</td>\n",
       "      <td>2444.286648</td>\n",
       "      <td>3008.670727</td>\n",
       "      <td>4254.337839</td>\n",
       "      <td>5577.002800</td>\n",
       "      <td>6597.494398</td>\n",
       "      <td>7612.240438</td>\n",
       "      <td>8224.191647</td>\n",
       "      <td>8239.854824</td>\n",
       "      <td>6302.623438</td>\n",
       "      <td>5970.388760</td>\n",
       "      <td>7696.777725</td>\n",
       "      <td>10680.792820</td>\n",
       "    </tr>\n",
       "    <tr>\n",
       "      <th>5</th>\n",
       "      <td>Croatia</td>\n",
       "      <td>3119.236520</td>\n",
       "      <td>4338.231617</td>\n",
       "      <td>5477.890018</td>\n",
       "      <td>6960.297861</td>\n",
       "      <td>9164.090127</td>\n",
       "      <td>11305.385170</td>\n",
       "      <td>13221.821840</td>\n",
       "      <td>13822.583940</td>\n",
       "      <td>8447.794873</td>\n",
       "      <td>9875.604515</td>\n",
       "      <td>11628.388950</td>\n",
       "      <td>14619.222720</td>\n",
       "    </tr>\n",
       "  </tbody>\n",
       "</table>\n",
       "</div>"
      ],
      "text/plain": [
       "                  country  gdpPercap_1952  gdpPercap_1957  gdpPercap_1962  \\\n",
       "0                 Albania     1601.056136     1942.284244     2312.888958   \n",
       "1                 Austria     6137.076492     8842.598030    10750.721110   \n",
       "2                 Belgium     8343.105127     9714.960623    10991.206760   \n",
       "3  Bosnia and Herzegovina      973.533195     1353.989176     1709.683679   \n",
       "4                Bulgaria     2444.286648     3008.670727     4254.337839   \n",
       "5                 Croatia     3119.236520     4338.231617     5477.890018   \n",
       "\n",
       "   gdpPercap_1967  gdpPercap_1972  gdpPercap_1977  gdpPercap_1982  \\\n",
       "0     2760.196931     3313.422188     3533.003910     3630.880722   \n",
       "1    12834.602400    16661.625600    19749.422300    21597.083620   \n",
       "2    13149.041190    16672.143560    19117.974480    20979.845890   \n",
       "3     2172.352423     2860.169750     3528.481305     4126.613157   \n",
       "4     5577.002800     6597.494398     7612.240438     8224.191647   \n",
       "5     6960.297861     9164.090127    11305.385170    13221.821840   \n",
       "\n",
       "   gdpPercap_1987  gdpPercap_1992  gdpPercap_1997  gdpPercap_2002  \\\n",
       "0     3738.932735     2497.437901     3193.054604     4604.211737   \n",
       "1    23687.826070    27042.018680    29095.920660    32417.607690   \n",
       "2    22525.563080    25575.570690    27561.196630    30485.883750   \n",
       "3     4314.114757     2546.781445     4766.355904     6018.975239   \n",
       "4     8239.854824     6302.623438     5970.388760     7696.777725   \n",
       "5    13822.583940     8447.794873     9875.604515    11628.388950   \n",
       "\n",
       "   gdpPercap_2007  \n",
       "0     5937.029526  \n",
       "1    36126.492700  \n",
       "2    33692.605080  \n",
       "3     7446.298803  \n",
       "4    10680.792820  \n",
       "5    14619.222720  "
      ]
     },
<<<<<<< HEAD
     "execution_count": 15,
=======
     "execution_count": 16,
>>>>>>> upstream/master
     "metadata": {},
     "output_type": "execute_result"
    }
   ],
   "source": [
    "#head and tail\n",
    "df.head(6)"
   ]
  },
  {
   "cell_type": "code",
<<<<<<< HEAD
   "execution_count": 16,
=======
   "execution_count": 17,
>>>>>>> upstream/master
   "metadata": {},
   "outputs": [
    {
     "data": {
      "text/html": [
       "<div>\n",
       "<style>\n",
       "    .dataframe thead tr:only-child th {\n",
       "        text-align: right;\n",
       "    }\n",
       "\n",
       "    .dataframe thead th {\n",
       "        text-align: left;\n",
       "    }\n",
       "\n",
       "    .dataframe tbody tr th {\n",
       "        vertical-align: top;\n",
       "    }\n",
       "</style>\n",
       "<table border=\"1\" class=\"dataframe\">\n",
       "  <thead>\n",
       "    <tr style=\"text-align: right;\">\n",
       "      <th></th>\n",
       "      <th>country</th>\n",
       "      <th>gdpPercap_1952</th>\n",
       "      <th>gdpPercap_1957</th>\n",
       "      <th>gdpPercap_1962</th>\n",
       "      <th>gdpPercap_1967</th>\n",
       "      <th>gdpPercap_1972</th>\n",
       "      <th>gdpPercap_1977</th>\n",
       "      <th>gdpPercap_1982</th>\n",
       "      <th>gdpPercap_1987</th>\n",
       "      <th>gdpPercap_1992</th>\n",
       "      <th>gdpPercap_1997</th>\n",
       "      <th>gdpPercap_2002</th>\n",
       "      <th>gdpPercap_2007</th>\n",
       "    </tr>\n",
       "  </thead>\n",
       "  <tbody>\n",
       "    <tr>\n",
       "      <th>27</th>\n",
       "      <td>Switzerland</td>\n",
       "      <td>14734.232750</td>\n",
       "      <td>17909.489730</td>\n",
       "      <td>20431.092700</td>\n",
       "      <td>22966.144320</td>\n",
       "      <td>27195.11304</td>\n",
       "      <td>26982.290520</td>\n",
       "      <td>28397.715120</td>\n",
       "      <td>30281.704590</td>\n",
       "      <td>31871.530300</td>\n",
       "      <td>32135.323010</td>\n",
       "      <td>34480.957710</td>\n",
       "      <td>37506.419070</td>\n",
       "    </tr>\n",
       "    <tr>\n",
       "      <th>28</th>\n",
       "      <td>Turkey</td>\n",
       "      <td>1969.100980</td>\n",
       "      <td>2218.754257</td>\n",
       "      <td>2322.869908</td>\n",
       "      <td>2826.356387</td>\n",
       "      <td>3450.69638</td>\n",
       "      <td>4269.122326</td>\n",
       "      <td>4241.356344</td>\n",
       "      <td>5089.043686</td>\n",
       "      <td>5678.348271</td>\n",
       "      <td>6601.429915</td>\n",
       "      <td>6508.085718</td>\n",
       "      <td>8458.276384</td>\n",
       "    </tr>\n",
       "    <tr>\n",
       "      <th>29</th>\n",
       "      <td>United Kingdom</td>\n",
       "      <td>9979.508487</td>\n",
       "      <td>11283.177950</td>\n",
       "      <td>12477.177070</td>\n",
       "      <td>14142.850890</td>\n",
       "      <td>15895.11641</td>\n",
       "      <td>17428.748460</td>\n",
       "      <td>18232.424520</td>\n",
       "      <td>21664.787670</td>\n",
       "      <td>22705.092540</td>\n",
       "      <td>26074.531360</td>\n",
       "      <td>29478.999190</td>\n",
       "      <td>33203.261280</td>\n",
       "    </tr>\n",
       "  </tbody>\n",
       "</table>\n",
       "</div>"
      ],
      "text/plain": [
       "           country  gdpPercap_1952  gdpPercap_1957  gdpPercap_1962  \\\n",
       "27     Switzerland    14734.232750    17909.489730    20431.092700   \n",
       "28          Turkey     1969.100980     2218.754257     2322.869908   \n",
       "29  United Kingdom     9979.508487    11283.177950    12477.177070   \n",
       "\n",
       "    gdpPercap_1967  gdpPercap_1972  gdpPercap_1977  gdpPercap_1982  \\\n",
       "27    22966.144320     27195.11304    26982.290520    28397.715120   \n",
       "28     2826.356387      3450.69638     4269.122326     4241.356344   \n",
       "29    14142.850890     15895.11641    17428.748460    18232.424520   \n",
       "\n",
       "    gdpPercap_1987  gdpPercap_1992  gdpPercap_1997  gdpPercap_2002  \\\n",
       "27    30281.704590    31871.530300    32135.323010    34480.957710   \n",
       "28     5089.043686     5678.348271     6601.429915     6508.085718   \n",
       "29    21664.787670    22705.092540    26074.531360    29478.999190   \n",
       "\n",
       "    gdpPercap_2007  \n",
       "27    37506.419070  \n",
       "28     8458.276384  \n",
       "29    33203.261280  "
      ]
     },
<<<<<<< HEAD
     "execution_count": 16,
=======
     "execution_count": 17,
>>>>>>> upstream/master
     "metadata": {},
     "output_type": "execute_result"
    }
   ],
   "source": [
    "df.tail(3)"
   ]
  },
  {
   "cell_type": "code",
   "execution_count": 17,
   "metadata": {},
   "outputs": [
    {
     "data": {
      "text/html": [
       "<div>\n",
       "<style>\n",
       "    .dataframe thead tr:only-child th {\n",
       "        text-align: right;\n",
       "    }\n",
       "\n",
       "    .dataframe thead th {\n",
       "        text-align: left;\n",
       "    }\n",
       "\n",
       "    .dataframe tbody tr th {\n",
       "        vertical-align: top;\n",
       "    }\n",
       "</style>\n",
       "<table border=\"1\" class=\"dataframe\">\n",
       "  <thead>\n",
       "    <tr style=\"text-align: right;\">\n",
       "      <th></th>\n",
       "      <th>gdpPercap_1952</th>\n",
       "      <th>gdpPercap_1957</th>\n",
       "      <th>gdpPercap_1962</th>\n",
       "      <th>gdpPercap_1967</th>\n",
       "      <th>gdpPercap_1972</th>\n",
       "      <th>gdpPercap_1977</th>\n",
       "      <th>gdpPercap_1982</th>\n",
       "      <th>gdpPercap_1987</th>\n",
       "      <th>gdpPercap_1992</th>\n",
       "      <th>gdpPercap_1997</th>\n",
       "      <th>gdpPercap_2002</th>\n",
       "      <th>gdpPercap_2007</th>\n",
       "    </tr>\n",
       "  </thead>\n",
       "  <tbody>\n",
       "    <tr>\n",
       "      <th>count</th>\n",
       "      <td>30.000000</td>\n",
       "      <td>30.000000</td>\n",
       "      <td>30.000000</td>\n",
       "      <td>30.000000</td>\n",
       "      <td>30.000000</td>\n",
       "      <td>30.000000</td>\n",
       "      <td>30.000000</td>\n",
       "      <td>30.000000</td>\n",
       "      <td>30.000000</td>\n",
       "      <td>30.000000</td>\n",
       "      <td>30.000000</td>\n",
       "      <td>30.000000</td>\n",
       "    </tr>\n",
       "    <tr>\n",
       "      <th>mean</th>\n",
       "      <td>5661.057435</td>\n",
       "      <td>6963.012816</td>\n",
       "      <td>8365.486814</td>\n",
       "      <td>10143.823757</td>\n",
       "      <td>12479.575246</td>\n",
       "      <td>14283.979110</td>\n",
       "      <td>15617.896551</td>\n",
       "      <td>17214.310727</td>\n",
       "      <td>17061.568084</td>\n",
       "      <td>19076.781802</td>\n",
       "      <td>21711.732422</td>\n",
       "      <td>25054.481636</td>\n",
       "    </tr>\n",
       "    <tr>\n",
       "      <th>std</th>\n",
       "      <td>3114.060493</td>\n",
       "      <td>3677.950146</td>\n",
       "      <td>4199.193906</td>\n",
       "      <td>4724.983889</td>\n",
       "      <td>5509.691411</td>\n",
       "      <td>5874.464896</td>\n",
       "      <td>6453.234827</td>\n",
       "      <td>7482.957960</td>\n",
       "      <td>9109.804361</td>\n",
       "      <td>10065.457716</td>\n",
       "      <td>11197.355517</td>\n",
       "      <td>11800.339811</td>\n",
       "    </tr>\n",
       "    <tr>\n",
       "      <th>min</th>\n",
       "      <td>973.533195</td>\n",
       "      <td>1353.989176</td>\n",
       "      <td>1709.683679</td>\n",
       "      <td>2172.352423</td>\n",
       "      <td>2860.169750</td>\n",
       "      <td>3528.481305</td>\n",
       "      <td>3630.880722</td>\n",
       "      <td>3738.932735</td>\n",
       "      <td>2497.437901</td>\n",
       "      <td>3193.054604</td>\n",
       "      <td>4604.211737</td>\n",
       "      <td>5937.029526</td>\n",
       "    </tr>\n",
       "    <tr>\n",
       "      <th>25%</th>\n",
       "      <td>3241.132406</td>\n",
       "      <td>4394.874315</td>\n",
       "      <td>5373.536612</td>\n",
       "      <td>6657.939047</td>\n",
       "      <td>9057.708095</td>\n",
       "      <td>10360.030300</td>\n",
       "      <td>11449.870115</td>\n",
       "      <td>12274.570680</td>\n",
       "      <td>8667.113214</td>\n",
       "      <td>9946.599306</td>\n",
       "      <td>11721.851483</td>\n",
       "      <td>14811.898210</td>\n",
       "    </tr>\n",
       "    <tr>\n",
       "      <th>50%</th>\n",
       "      <td>5142.469716</td>\n",
       "      <td>6066.721495</td>\n",
       "      <td>7515.733738</td>\n",
       "      <td>9366.067033</td>\n",
       "      <td>12326.379990</td>\n",
       "      <td>14225.754515</td>\n",
       "      <td>15322.824720</td>\n",
       "      <td>16215.485895</td>\n",
       "      <td>17550.155945</td>\n",
       "      <td>19596.498550</td>\n",
       "      <td>23674.863230</td>\n",
       "      <td>28054.065790</td>\n",
       "    </tr>\n",
       "    <tr>\n",
       "      <th>75%</th>\n",
       "      <td>7236.794919</td>\n",
       "      <td>9597.220820</td>\n",
       "      <td>10931.085347</td>\n",
       "      <td>13277.182057</td>\n",
       "      <td>16523.017127</td>\n",
       "      <td>19052.412163</td>\n",
       "      <td>20901.729730</td>\n",
       "      <td>23321.587723</td>\n",
       "      <td>25034.243045</td>\n",
       "      <td>27189.530312</td>\n",
       "      <td>30373.363307</td>\n",
       "      <td>33817.962533</td>\n",
       "    </tr>\n",
       "    <tr>\n",
       "      <th>max</th>\n",
       "      <td>14734.232750</td>\n",
       "      <td>17909.489730</td>\n",
       "      <td>20431.092700</td>\n",
       "      <td>22966.144320</td>\n",
       "      <td>27195.113040</td>\n",
       "      <td>26982.290520</td>\n",
       "      <td>28397.715120</td>\n",
       "      <td>31540.974800</td>\n",
       "      <td>33965.661150</td>\n",
       "      <td>41283.164330</td>\n",
       "      <td>44683.975250</td>\n",
       "      <td>49357.190170</td>\n",
       "    </tr>\n",
       "  </tbody>\n",
       "</table>\n",
       "</div>"
      ],
      "text/plain": [
       "       gdpPercap_1952  gdpPercap_1957  gdpPercap_1962  gdpPercap_1967  \\\n",
       "count       30.000000       30.000000       30.000000       30.000000   \n",
       "mean      5661.057435     6963.012816     8365.486814    10143.823757   \n",
       "std       3114.060493     3677.950146     4199.193906     4724.983889   \n",
       "min        973.533195     1353.989176     1709.683679     2172.352423   \n",
       "25%       3241.132406     4394.874315     5373.536612     6657.939047   \n",
       "50%       5142.469716     6066.721495     7515.733738     9366.067033   \n",
       "75%       7236.794919     9597.220820    10931.085347    13277.182057   \n",
       "max      14734.232750    17909.489730    20431.092700    22966.144320   \n",
       "\n",
       "       gdpPercap_1972  gdpPercap_1977  gdpPercap_1982  gdpPercap_1987  \\\n",
       "count       30.000000       30.000000       30.000000       30.000000   \n",
       "mean     12479.575246    14283.979110    15617.896551    17214.310727   \n",
       "std       5509.691411     5874.464896     6453.234827     7482.957960   \n",
       "min       2860.169750     3528.481305     3630.880722     3738.932735   \n",
       "25%       9057.708095    10360.030300    11449.870115    12274.570680   \n",
       "50%      12326.379990    14225.754515    15322.824720    16215.485895   \n",
       "75%      16523.017127    19052.412163    20901.729730    23321.587723   \n",
       "max      27195.113040    26982.290520    28397.715120    31540.974800   \n",
       "\n",
       "       gdpPercap_1992  gdpPercap_1997  gdpPercap_2002  gdpPercap_2007  \n",
       "count       30.000000       30.000000       30.000000       30.000000  \n",
       "mean     17061.568084    19076.781802    21711.732422    25054.481636  \n",
       "std       9109.804361    10065.457716    11197.355517    11800.339811  \n",
       "min       2497.437901     3193.054604     4604.211737     5937.029526  \n",
       "25%       8667.113214     9946.599306    11721.851483    14811.898210  \n",
       "50%      17550.155945    19596.498550    23674.863230    28054.065790  \n",
       "75%      25034.243045    27189.530312    30373.363307    33817.962533  \n",
       "max      33965.661150    41283.164330    44683.975250    49357.190170  "
      ]
     },
     "execution_count": 17,
     "metadata": {},
     "output_type": "execute_result"
    }
   ],
   "source": [
    "#describe\n",
    "df.describe()"
   ]
  },
  {
   "cell_type": "code",
   "execution_count": 18,
   "metadata": {},
   "outputs": [
    {
     "data": {
      "text/plain": [
       "0     2312.888958\n",
       "1    10750.721110\n",
       "2    10991.206760\n",
       "3     1709.683679\n",
       "4     4254.337839\n",
       "Name: gdpPercap_1962, dtype: float64"
      ]
     },
     "execution_count": 18,
     "metadata": {},
     "output_type": "execute_result"
    }
   ],
   "source": [
    "#columns\n",
    "df['gdpPercap_1962'].head()"
   ]
  },
  {
   "cell_type": "code",
   "execution_count": 19,
   "metadata": {},
   "outputs": [
    {
     "data": {
      "text/plain": [
       "gdpPercap_1962     8365.486814\n",
       "gdpPercap_1967    10143.823757\n",
       "dtype: float64"
      ]
     },
     "execution_count": 19,
     "metadata": {},
     "output_type": "execute_result"
    }
   ],
   "source": [
    "#multiple columns\n",
    "df[['gdpPercap_1962', 'gdpPercap_1967']].mean()"
   ]
  },
  {
   "cell_type": "code",
   "execution_count": 22,
   "metadata": {},
   "outputs": [
    {
     "data": {
      "text/plain": [
       "6631.597314     1\n",
       "4254.337839     1\n",
       "9371.842561     1\n",
       "10750.721110    1\n",
       "1709.683679     1\n",
       "10136.867130    1\n",
       "5338.752143     1\n",
       "4734.997586     1\n",
       "2322.869908     1\n",
       "12790.849560    1\n",
       "7481.107598     1\n",
       "4649.593785     1\n",
       "7550.359877     1\n",
       "13450.401510    1\n",
       "6017.190733     1\n",
       "6289.629157     1\n",
       "12902.462910    1\n",
       "10560.485530    1\n",
       "5693.843879     1\n",
       "12329.441920    1\n",
       "13583.313510    1\n",
       "2312.888958     1\n",
       "5477.890018     1\n",
       "7402.303395     1\n",
       "12477.177070    1\n",
       "10350.159060    1\n",
       "8243.582340     1\n",
       "20431.092700    1\n",
       "4727.954889     1\n",
       "10991.206760    1\n",
       "Name: gdpPercap_1962, dtype: int64"
      ]
     },
     "execution_count": 22,
     "metadata": {},
     "output_type": "execute_result"
    }
   ],
   "source": [
    "df['gdpPercap_1962'].value_counts()"
   ]
  },
  {
   "cell_type": "markdown",
   "metadata": {},
   "source": [
    "### Plotting from DataFrame\n",
    "\n",
    "We can plot the data in our DataFrame in a similar manner.  Maybe we are interested in comparing the distributions of the gdp across the 1960's.  We can do this by creating a histogram of each column.  In creating these plots, we will work directly from the DataFrame.  In practice, I tend to use what works fastest in generating plots and go back through with either Matplotlib or Seaborn after to clean things up."
   ]
  },
  {
   "cell_type": "code",
   "execution_count": 23,
   "metadata": {},
   "outputs": [
    {
     "data": {
      "text/plain": [
       "<matplotlib.axes._subplots.AxesSubplot at 0x10f14ac90>"
      ]
     },
     "execution_count": 23,
     "metadata": {},
     "output_type": "execute_result"
    },
    {
     "data": {
      "image/png": "iVBORw0KGgoAAAANSUhEUgAAAXwAAAD8CAYAAAB0IB+mAAAABHNCSVQICAgIfAhkiAAAAAlwSFlz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\nFPgiIgmhwBcRSYj/D1wNDbie3SGKAAAAAElFTkSuQmCC\n",
      "text/plain": [
       "<matplotlib.figure.Figure at 0x10f0a8950>"
      ]
     },
     "metadata": {},
     "output_type": "display_data"
    }
   ],
   "source": [
    "df[['gdpPercap_1962', 'gdpPercap_1967']].plot(kind = 'hist', alpha = 0.3)"
   ]
  },
  {
   "cell_type": "code",
   "execution_count": 24,
   "metadata": {},
   "outputs": [
    {
     "data": {
      "text/plain": [
       "<matplotlib.axes._subplots.AxesSubplot at 0x10f331210>"
      ]
     },
     "execution_count": 24,
     "metadata": {},
     "output_type": "execute_result"
    },
    {
     "data": {
      "image/png": "iVBORw0KGgoAAAANSUhEUgAAAZ4AAAD8CAYAAABHN8LqAAAABHNCSVQICAgIfAhkiAAAAAlwSFlz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\nSUVORK5CYII=\n",
      "text/plain": [
       "<matplotlib.figure.Figure at 0x10f39de90>"
      ]
     },
     "metadata": {},
     "output_type": "display_data"
    }
   ],
   "source": [
    "df[['gdpPercap_1962', 'gdpPercap_1967']].plot(kind = 'density')"
   ]
  },
  {
   "cell_type": "code",
   "execution_count": 25,
   "metadata": {},
   "outputs": [
    {
     "data": {
      "text/plain": [
       "<matplotlib.axes._subplots.AxesSubplot at 0x1910dcb510>"
      ]
     },
     "execution_count": 25,
     "metadata": {},
     "output_type": "execute_result"
    },
    {
     "data": {
      "image/png": "iVBORw0KGgoAAAANSUhEUgAAAmYAAAE/CAYAAADsRQ8oAAAABHNCSVQICAgIfAhkiAAAAAlwSFlz\nAAALEgAACxIB0t1+/AAAADl0RVh0U29mdHdhcmUAbWF0cGxvdGxpYiB2ZXJzaW9uIDIuMS4wLCBo\ndHRwOi8vbWF0cGxvdGxpYi5vcmcvpW3flQAAIABJREFUeJzs3Xd81dX9x/HXuUlu9t6DJIQNCsqQ\noTjAKiKKWmfrqKNq62r1Z2vHr9Vqf7bV1tY6WidqnXWxRMSBgiBbpkAISSCL7J3cm5t7fn+cb8gg\nm0zyeT4ePJKc+73f+72a3Pu5Z7yP0lojhBBCCCH6n62/L0AIIYQQQhhSmAkhhBBCDBBSmAkhhBBC\nDBBSmAkhhBBCDBBSmAkhhBBCDBBSmAkhhBBCDBBSmAkhhgSlVKVSKqW/r0MIIdojhZkQotcopa5W\nSm1QSlUppfKt73+qlFLW7YuUUk6lVIX1b5dS6lGlVHCTc/xIKVVvFVblSqlvlVILunotWusArfXB\nbjyHZKWUth6/6b+runouIYToiBRmQoheoZS6D/gH8BgQA0QDtwOnA/Ymh/5Fax0IRAI3AjOAr5VS\n/k2OWa+1DgBCgBeBd5RSYb3/LJoJsYq7hn9vd/UESinP3rgwIcSJQwozIUSPs3q8/gD8VGv9rta6\nQhvbtNY/1Fo7Wt5Ha12rtd4EXAyEY4q0lse4gZcAXyBFKRWhlFqmlCpVShUrpdYopVp9XbN6vUZa\n3y9SSj2tlFpu9dRtUEqN6OZzXa2UuqXJzz9SSq1t8bh3KKVSgVSrbZZSapNSqsz6OqvF+R5VSm20\nbl/ctAhVSs1QSq2znvN2pdTZ3bluIcTAJIWZEKI3zAS8gcVdvaPWugJYBcxueZvV43QLUIkpcu4D\nsjC9bdHAr4HO7jN3DfAQEAocAP7Y1WvtgkuA6cB4q8haDjyJKUD/BixXSoU3Of564CYgDnBZx6KU\nirfu+wgQBvwP8J5SKrIXr10I0YekMBNC9IYIoFBr7WpoaNLLU6OUOrOD++dgCo8GM5RSpUAepqC6\nVGtdBtQBsUCS1rpOa71Gd34D4Pe11huta3wdOKWD4wut62/4N66TjwPwqNa6WGtdA1wIpGqtX9Na\nu7TWbwJ7gYuaHP+a1nqX1roK+F/gSqWUB3At8JHW+iOttVtrvQrYDMzvwrUIIQYwme8ghOgNRUCE\nUsqzoTjTWs8CUEpl0fGHwniguMnP32itz2jluMeAB4FPrPUEz2mt/9TJa8xr8n01ENDB8RFNC80u\nOtzk+zggs8XtmZjn3NrxmYAXpthNAq5QSjUt4ryAL7p5XUKIAUZ6zIQQvWE94AAWdvWOSqkA4Fxg\nTUfHWnPX7tNap2B6nO5VSs3t6mMepyrAr8nPMa0c07QXLwdTYDWVCGQ3+XlYi9vqgEJMwfaa1jqk\nyT//LhSjQogBTgozIUSP01qXYuZvPaOUulwpFaCUsimlTgH8W7uPUspbKTUF+BAoAV7u6HGUUguU\nUiOt+I1yoN7615e+BS5TSvlZiwtu7uD4j4DRSqkfKKU8rdiN8cCyJsdcq5Qar5TywyyieFdrXQ/8\nB7hIKXW+UspDKeWjlDpbKZXQC89LCNEPpDATQvQKrfVfgHuBXwD5wBHg38AvgXVNDv2FUqoCM3T5\nKrAFmGXNr+rIKOBTzGKA9cAzWuvVPfUcWihtkWN2r9X+BODEPL9XMPPV2qS1LgIWYBYuFGH++yzQ\nWhc2Oew1YBFmuNUHuNu672FML+SvgQJMD9r9yGu5ECcM1fl5skIIIXqbUmo18B+t9Qv9fS1CiL4n\nn7KEEEIIIQYIKcyEEEIIIQYIGcoUQgghhBggpMdMCCGEEGKAkMJMCCGEEGKAGLTJ/xERETo5Obm/\nL0MIIYQQokNbtmwp1Fp3uK/toC3MkpOT2bx5c39fhhBCCCFEh5RSLbdia5UMZQohhBBCDBBSmAkh\nhBBCDBBSmAkhhBBCDBCdKsyUUhlKqZ1KqW+VUputtjCl1CqlVKr1NdRqV0qpJ5VSB5RSO5RSk5uc\n5wbr+FSl1A1N2qdY5z9g3Vf19BMVQgghhBjoutJjdo7W+hSt9VTr5weAz7TWo4DPrJ8BLsBsLDwK\nuBV4FkwhB/wemA6cBvy+oZizjrm1yf3mdfsZCSGEEEIMUsczlLkQeMX6/hXgkibtr2rjGyBEKRUL\nnA+s0loXa61LgFXAPOu2IK31em22IXi1ybmEEEIIIYaMzhZmGvhEKbVFKXWr1Rattc4FsL5GWe3x\nwOEm982y2tprz2qlXQghhBBiSOlsjtnpWuscpVQUsEoptbedY1ubH6a70X7siU1ReCtAYmJi+1cs\nhBBCCDHIdKrHTGudY33NBz7AzBE7Yg1DYn3Ntw7PAoY1uXsCkNNBe0Ir7a1dx3Na66la66mRkR2G\n5wohhBBCDCodFmZKKX+lVGDD98B5wC5gCdCwsvIGYLH1/RLgemt15gygzBrqXAmcp5QKtSb9nwes\ntG6rUErNsFZjXt/kXEIIIfrDkT1Qeqi/r0KIIaczQ5nRwAdWgoUn8IbW+mOl1CbgHaXUzcAh4Arr\n+I+A+cABoBq4EUBrXayUehjYZB33B611sfX9T4BFgC+wwvonhBCiP7jd8NqlMOw0uOq1/r4aIYaU\nDgszrfVBYFIr7UXA3FbaNXBHG+d6CXiplfbNwEmduF4hhBC9LXcbVOZBaae29hNC9CBJ/hdCCNHc\nvo/N1/JWp/sKIXqRFGZCCCGa22/NJqkqAJejf69FiCFGCjMhhBCNyrIgbydEjDE/S6+ZEH1KCjMh\nhBCN9lvDmNNuMV+lMBOiT0lhJoQQotH+lRA6HFLONj+XZ/fn1Qgx5EhhJoQQwnBWwcEvYfQ8CIoz\nbVKYCdGnpDATQghhHFwN9Q4YMw+8A8AnWIYyhehjUpgJIYQw9q0A7yBInGV+DkqAMukxE6IvSWEm\nhBDCpP3vXwkj54Kn3bQFxclQphB9TAozIYQQJu2/Kh9GX9DYJoWZEH1OCjMhhBAm7V/ZYNT3GtuC\nEyRkVog+JoWZEEIIk/Y/bDr4hTW2NazMrMjtn2sSYgiSwkwIIYa6hrT/0fOatwfFW7fLcKYQfUUK\nMyGEGOoa0v7HXNC8vaEwk8gMIfqMFGZCCDHUNaT9R4xu3n40ZDar769JiCFKCjMhhBjKmqb9K9X8\nNgmZFaLPSWEmhBBDWdO0/9YExUthJkQfksJMCCGGspZp/y0FxZvFAUKIPiGFmRBCDFWtpf23FBQn\nPWZC9CEpzIQQYqhqLe2/paB4c4yEzArRJ6QwE0KIoaq1tP+Wgq3IDAmZFaJPSGEmhBBDVWtp/5av\n9hewK7usSWSGDGcK0RekMBNCiKGorbR/oLaunp++vpW/rdoPQQnW8ZL+L0RfkMJMCCGGorbS/oHV\n+wqodLjIKa2BoFjTWC6FmRB9QQozIYQYitpK+weW7jDDltmlNeAdCN4SMitEX5HCTAghhpqGtP8x\nFxyT9l/lcPHZd0fw9rRRUeuiorbOLACQHjMh+oQUZkIIMdQ0pP2PPv+Ymz797gi1dW6umGrmluWW\n1VpZZlKYCdEXpDATQoihpp20/6Xbc4kO8mbhKSYmw8wzi5PJ/0L0ESnMhBBiKGkn7b+suo4v9+ez\nYGIc8SG+AOSU1pqVmVX54HL2xxULMaRIYSaEEENJO2n/K/fkUVevuWhSHFGB3njYFLllNY1ZZhIy\nK0Svk8JMCCGGknbS/pduz2FYmC+TEoLx9LARHehtVmY2pP/LPDMhep0UZkIIMZS0kfZfWOlgXVoR\nF02MQ1krNeNCfMktrTX7ZYJEZgjRB6QwE0KIoaKdtP8Vu/Kod5thzAaxIb7kNB3KLMvqqysVYsiS\nwkwIIYaKdtL+l27PYWRUAGNjAo+2xYX4kFtWi9srQEJmhegjUpgJIcRQ0Ubaf25ZDZsyipsNYwLE\nBfvidLkpqnJKlpkQfUQKMyGEGAraSftfviMXreGiSbHN2uOsyIzcshpJ/xeij0hhJoQQQ0E7af9L\nd+RyUnwQKZEBzdpjg32AJiGzMpQpRK+TwkwIIYaCNtL+DxVVs/1wKRdNjDvmLs1DZuOhUkJmheht\nUpgJIcSJrp20/6U7TC/YhRObD2NW1dfj5+OBj5fN6jGLB7SEzArRyzz7+wKEEEL0snbS/pduz2FK\nUigJoX5H27TWLNx6gFMC/UyWWVktjLV61MpzIDSpr65ciCFHesyEEOJE10baf+qRCvbmVXBRi96y\n3ZU17KqsYXdlDXHBvlb6f4K5URYACNGrpDATQpz4tDbDeUNVG2n/S3fkYlMwv0Vhtji/FIAsh9PK\nMmsSMiuFmRC9qtOFmVLKQym1TSm1zPp5uFJqg1IqVSn1tlLKbrV7Wz8fsG5PbnKOX1nt+5RS5zdp\nn2e1HVBKPdBzT08IMeQ5KuDF78Hyn/f3lfSPNtL+tdYs257DjJRwogJ9mrV/aBVmBU4XkUE+5Fc4\ncHr4m8UDZVKYCdGbutJjdg/wXZOf/ww8obUeBZQAN1vtNwMlWuuRwBPWcSilxgNXAxOAecAzVrHn\nATwNXACMB66xjhVCiOPjrof3boGsTbD9bXBW9/cV9b020v5355RzsLCq2RZMANsqqjlc6+SMEBOd\n4evvhdZwpNxamSk9ZkL0qk4VZkqpBOBC4AXrZwXMAd61DnkFuMT6fqH1M9btc63jFwJvaa0dWut0\n4ABwmvXvgNb6oNbaCbxlHSuEEMdn1e9MYTLhMnDVmCyvoWbfx62m/S/dkYOnTTFvQkyz9sX5pdiV\n4sfDIgFQvmaNmGSZCdE3Ottj9nfgF0DDJI1woFRr7bJ+zgLire/jgcMA1u1l1vFH21vcp612IYTo\nvq2vwvqnYNqP4dJ/m70e9y3v76vqW84qSP/qmLR/M4yZy+xREYT6N8ZnuLVmSX4pZ4cFMj7AZJjV\neZu3idyyWkn/F6IPdFiYKaUWAPla6y1Nm1s5VHdwW1fbW7uWW5VSm5VSmwsKCtq5aiHEkJaxFpb9\nHEbMgXl/Mtldo88zIavu+v6+ur7TRtr/1kOlZJfWHDOMuamsilxHHZdEhxJr98JDQaWXeYnObsgy\nk5BZIXpVZ3rMTgcuVkplYIYZ52B60EKUUg05aAlAQ/92FjAMwLo9GChu2t7iPm21H0Nr/ZzWeqrW\nempkZGQnLl0IMeQUpcHb10JYClz+MnhYL1Nj5kN1ERze0L/X15faSPtfuj0Hu6eN742Pbtb+YX4p\nPjbFeeFBeNoUMXYv8lwuQv28mqzMlJBZIXpTh4WZ1vpXWusErXUyZvL+51rrHwJfAJdbh90ALLa+\nX2L9jHX751prbbVfba3aHA6MAjYCm4BR1ipPu/UYS3rk2QkhhpaaUnjzavP9NW+Bb0jjbSPPBQ87\n7B0iw5ltpP3XuzXLd+YyZ0wUgT5eje1as6yglHPDgwjw9ABgmI+drFonscG+jdsygcwzE6IXHU+O\n2S+Be5VSBzBzyF602l8Ewq32e4EHALTWu4F3gD3Ax8AdWut6ax7ancBKzKrPd6xjhRCi8+pd8O6N\nUHwQrvoPhI9ofrtPEAw/yxRmutXZEieWnNbT/jekF1FQ4ThmGHN9aSUFThcLo0KPtiX42K0sM98m\n2zIh88yE6EVd2pJJa70aWG19fxCzorLlMbXAFW3c/4/AH1tp/wj4qCvXIoQQzaz8FaR9Dhf/E5LP\naP2YsfPN3LP87yD6BE/l2d962v/S7bn42T2YMzaqWfuHR0rx87AxNzzoaFu8j53c/DrmBfuwMb1I\nQmaF6AOS/C+EGPw2Pg8bn4OZd8Lk69s+bsx883UorM7cvwKGzWiW9l9X72bFrly+Nz4aX7tHY7tb\ns7yglHkRwfh5NL4tJPh4Ua8hMMBOea2LSuVn5qzJUKYQvUYKMyHE4Jb2Oaz4pUm2/94f2j82MAYS\npp3488yOpv03X4259kAhpdV1XDSx+TDmVyUVlLjqWRgV0qw9wdvMTfP0M4MruQ1ZZmVZvXjxQgxt\nUpgJIQavgv3wzo8gcix8/wWweXR4F8bMN/OvTuSthdpI+1+6PYcgH09mj45o1r44v4QgTxtnhwU2\na0/wMYWZ28e8VRyNzJAeMyF6jRRmQojBqboY3rjSrDj8wVvgHdjxfQDGLjBf953A01pbSfuvravn\nk91HmHdSDN6ejQWsw+1mRUEZF0SE4G1r/pYQbxVmNV5NQmYl/V+IXiWFmRBi8HE54e3rzCT0q16H\nkMTO3zdyNISPOnGHM9tI+1+9r4BKh+uY1ZhfFFVQUe8+ZhgTwM/DRriXJ6UeYFM0rsysPCIhs0L0\nEinMhBCDi9bw0X2QuRYufgoSp3f9HGPnQ8Yak3t2ojma9j+vWfPSHTmE+9uZmRLerH1xfglhXh7M\nDm29xzHBx4scZx3RQT4myyw4HtBQmddLT0CIoU0KMyHE4PLNM2YfzNn3waSruneOsQvA7YIDn/bs\ntQ0ER9P+Zx5tqnK4+Oy7I8w/ORbPJqsuq+vdrCwq58LIELxsre2O11qWmdXjdiLP0ROiH0lhJoQY\nPPavhJW/gXEXwzm/7f554qeCfxTsXdZz1zYQtJH2/+l3R6itcx8zjPlpUTnVbQxjNkjwsZNd6yQ2\n2MfalinB3CBZZmIgcbvNa8Py+/r7So6bFGZCiMHhyB549yaInQiX/gtsx/HyZbOZOVipq8Dl6Llr\n7G9tpP0v3Z5LTJAPU5NCm7Uvzi8hyu7JzJCANk85zMdOjVsTGuhNTlktOijW3CALAMRA4a6HxXfA\n+qdg57v9fTXHTQozIcTAV1kAb1wF9gCzB6bd//jPOXYBOCshfc3xn2ugaCXtv6y6ji/357NgYiy2\nJsOVla56PisqZ0FkCB6q9WFMaMwy8/H3wulyU+TyAXug9JiJgaG+Dt7/MWx/AyLHQW0p1Jb191Ud\nFynMhBADW10tvP1D0xN0zZuNc5yO1/AzTaF3Ig1ntpL2v3JPHnX1+phhzJWFZdS6NZe0M4wJZvI/\nAD4mYiOntMYsAJDCTPQ3lwP++yPY9Z4Jlz77AdNektmvl3W8pDATQgxcWsPSe+DwBjN8GT+5587t\n5WPmYu37yMxPGeyqikza/6hzmzUv3Z5DYpgfExOCm7Uvzi8lztuLqcHt9z42hMzWeZu3i5xSK8tM\nJv+L/lRXC29faz5YXfAXOP0eCE0yt5Vk9OulHS8pzIQQA9fav8GOt+Cc38CES3v+/GMXmEyunK09\nf+6+VpxmvkZNONpUWOlgXVoRF02KRTUZriytc/FFcQUXRYVga2cYEyDY04MADxsVXua4HEn/F/3N\nWQVvXmXmiC74O0y/zbSHWIVZqfSYCSFEz9uzBD77A5x0OZx5f+88xqjvgc3zxBjOLE43X8OGH21a\nsSuPevexw5grCsuo05pLopovBmiNUooEHzsF1OPjZbNWZlohs/V1PfoUhOiQowJev8KEKF/yDEy9\nsfE231ATFSNDmYPcR/fDZw9DXU1/X4kQooGzGj78iYm1WPhUswT7HuUbCkmnnxi7AJSkA6qx1wAz\njDkqKoAx0c3DYxcfKSXJx84pgb6dOnWCj51sRx1xwb6NQ5loqMjtwScgRAdqSuG1S+HQN2Zv3FN+\n0Px2pcxwpvSYDWIuB2x8HtY8Ds+eDhlf9/cVCSEA8naYFZNn/g94da546LaxC6BwPxSm9u7j9Lbi\ndFMwefkAkFtWw6aMYi6aFNdsGLPQ6WJNaQULo0KatbcnwcdOVm2dCZktsyb/gwxnir5TXQyvXgw5\n38KVr8BJ32/9uJAk6TEb1MqyAA2TbwBdD4vmw7KfQ215f1+ZEENb9hbzNa4HJ/u3Zex883Ww95qV\npJuNyy3Ld+SiNSyYGNvssI8KSqnXsDC642HMBgneXpS56okI8m6cYwbWa6gQvayyAF65CPL3wtVv\nwLiL2j42NNn0mGndZ5fX04Z2YVZ6yHw9+Qr4yXqYeSdsWQRPTzfbmggh+kf2VvPmHxjd+48VnACx\nkwZ/YVacDmHJR39cuiOXk+KDSIlsHh77YX4pI/28Ge/v0+lTN6zM9Pf3Ir/CQV2AhMyKPlKeC4su\nhKI0+MHbMPq89o8PSQJXrZkDOUhJYQYQkgh2Pzj/j3DLp2beyZtXw39vNJW6GBwq8mDbf8z8JDG4\n5WyFuFP77vHGLoCsTVAxSF/MHZUm583qMTtUVM32w6VcNLH5pP8jjjrWl1Z2aRgTTPo/gIefJ1pD\nXq3dCpmVwkz0orIsM5JVng3Xvgcjzun4PqHJ5usgHs6Uwkx5NHbLA8RPgVtXm+X5e5fB09Ng+1uD\nult0yFj9qNmW46mpsO11s02HGHxqSqD4YM9mlnVk7IWANgGtg1FDbpO1InPpDlMwXdhiGHNpQSka\nWNiJ1ZhNNfSY1XubkNncMmsBQLkMZYpeUpIBL19g8vmu+xCST+/c/UIHf2SGFGZB8eDh2bzd0w5n\n/QJuWwMRo+GD2+D1yxt72MTA07B5c8I0CIyBxT+Ff58JBz7r7ysTXZWzzXzti/llDaLGmyGQwTqc\nWWJFZVg9Zku35zAlKZSEUL9mhy0+Usp4fx9Gd2EYEyDS7oldKWrsDSGzDen/0mMmekHhAXh5vonG\nuGExDJvW+fuGJJqv0mM2SJUeavyf2JqosXDjx3DBY5C5Hp6eARv+fWKkhJ9ocr81S/en3gy3fAaX\nv2xW9f3nMrO8Om9nf1+h6KxsK+y1L4cylTLDmQe/NG8Gg02TDLPUIxXszavgoha9ZVm1TjaVV3W5\ntwzAphTxPl6UWp9hc8pqJP1f9I78vWb40uWAG5Z1/XXAyxcCogd1+r8UZu0VZgA2G0y/Fe74BpJm\nwopfwMvzoGBf31yj6JyjmzefZ95kT7oM7tgI5z9qemD+NRs++ImsIhsMcrZB2AjwbX8Pxx439kKo\ndwzOXtaSdPAJAd9Qlu7IxaZgfovCbEl+KQALo7v33zXBx05evYsQP6/GlZkSMit6Ut5OU5Sh4MaP\nIOakLt09vbCKbw+Xmt5vGcochFwO08PSUWHWICQRfvguXPpvk3n0rzPgy8fA5ezd6xSds+8jGDYd\n/MMb2zy9YeZP4e5vYdZdZqPbf06BTx+E2rJ+u1TRgeytfTu/rMGw6eAbZn6XBpvidAgbjtaaZdtz\nmJESTlRg8+HKxfklTAr0JdnXu1sPYbLMnMQF+5JbWmvNzdVm0Y0Qxyt7CyxaAJ6+piiLHNOluxdX\nObnmuW+4+81tZgGADGUOQg0ZZp0tzMD0xEy6Gu7YZIY9vngEnju7MXNJ9I+yLPNJa/S81m/3DYHz\nHoa7NsP4hbD2CXjyVDMsLYX1wFKRBxU5PT6/LPVIBVklHazW9fCEMReY3tfB1gtkZZjtzinnYGHV\nMVswpVc72F5R061hzAYJ3nbynS6ig33IbpplVi7DmeI4HdoAr14CPsGmKAsf0aW7a625/7/bySuv\nJaukmvrgRLMwZbD9HVuGcGF22HztSmHWICASrngZrn7TrCB74VxY+RuJaegvDZlzY+a3f1xIIlz2\nHNz6JURPMMPSz0yH3R/KqtuBomF+WQ/1mGmteXFtOhf8Yw3XPP8NNc4OVuqOvdD0pmYOol1A6uug\n9DCEDWfpjhw8bYp5E2KaHdIwjHlxVOeHMdPSHic3972jPzeszAwKtJtVmcFSmIkekLHWzAP2j4Qb\nVzSuquyCl7/O4LO9+UxJCsWtocQeC9o9aKeuDN3CrGmGWXeNnW/mnk2+AdY/Bc/ONJW/6Fv7P4aw\nFIgY1bnj406B65eYoWlPH/jvDfDiefL/biDI2WoibGImHvepKh0u7nxjGw8v28PkxFAOF9fw1Bcd\nbLuUco4ZStk7iIYzyw6DrkeHJrNsey6zR0UQ6m9vdsji/BKmBfkfLa46PGXZNjIynyUn579H2xJ8\nvADw9vOirKaOKm8r/FcWAIjuKkqDN66GkGGmpyw4vuP7tLAru4xHV3zHueOi+cX5ZvgzW0WZGwfp\nAoChXZi1zDDrDp9guOjv8KPlUO+CZT/rmesTneOogPSvTG9ZVza6VgpGfQ9uXwsX/9P8Prx0Hrx9\nrVmqLfpH9lYTXWH36/jYdqQeqeDip9ayYlcuv7pgLG/fNoPvT07gua8OknqknVWXdj8YMcfEZgyW\nXlRrRWaBVxzZpTXMHdd8t4T9VbXsqart9KR/rTVpaY8DUF2TcbS9oahTPlaWWa0n2AMkMkN0T12t\n+VDs4WnCYwNjOr5PC5UOF3e9uY1wf28eu3wiSeH+AKTVRZgDBukCgKFdmLWWYdZdyWeYlYBFByTY\ntC+lfQH1zrbnl3XE5gGTr4e7t8I5vzXne2Y6LP8f2fWhr2lteszijy8mY/G32Sx8+mvKa1y8fssM\nbjtrBEopfj1/LH52T37z4S50e0XX2AvN/JTc7cd1HX3GyjDLdJuCbESLLZgW55eggIsiO1eYlZSs\no6T0G3x9EnE6C3C5qgCI87ZjAxze5m0ju8xhXkNlKFN0x8pfm7nBl/7bbIvWDb/7cBeZRVX84+pT\nCPW3ExXojbenjb3VAWDzHDgLALr4IW9oF2Yhw3r2nOEjTJEwSMe1B6V9K0xMQOKM4zuP3R/Ouh/u\n3maGpje/ZBYIfPvG4Ok5GexK0s2czW5O/He63Dy4ZDf3vPUtE+KCWH73Gcwc0bhKNzzAmwcuGMvG\n9GLe29pOMTF6noleGSyrM4vTwcOb1JpAAJLCG3sbtdYszi9lZkgA0d5eHZ6qobfMxzuO4Sn3AFBT\nY97cvGyKGG8vKqzT5JZaWWZSmImu2vU+bH7RrJYffX63TvHelize35bN3XNHMT3F/J3bbIphYX5k\nljhNsTdQesxK0uHPwzt9+BAvzI5jfllrwlLM1+KDPXte0Tp3PaSuNEOSHh2/6XRKQBQs+BvcscFs\nbP3hT+D9H0Ntec+cX7TtOCb+55bVcNVz61m0LoNbzhjOGz+eQXTQsen2V00dxuTEEP7vo+8oqWpj\nRa5/OCTOHDy7AJRkQGgymcU12D1txDR53nuqajlQ7WBhJyf9FxR+QnnFDoYPv4cA/9HAscOZRTaN\nTUn6v+imojRYcrfZpWXu77t1ioMFlfzv4l1MHx7GXXOazy1OCvMjs6jaZJkNlB6zwgNQU9zpw4dm\nYeZymheTHi/MrCW+xWk9e14uSfzHAAAgAElEQVTRuqxNUF1kIg56WsQouGEJzPmt+XT3rzMga3PP\nP45olLPNLMaIGt+lu319oJALn1zL/rwKnvnhZH67YDxeHq2/tNlsij9eejJlNXX8+eO9bZ907IVw\nZNfgmDxsZZhlFlWTGOaHzdY413LxkRI8FFzYiWFMres5ePAJ/PxSiIm5BF9fszqupjrj6DEJPnay\nnS6ig3zIKbOyzCryBm0sgehjLge8e6OZQnL5y936QO1w1XPnG9vw9rTx96tPwcPWfG7xsDA/DhdX\no0OSBs7fb1EHi45aGJqFWXk3Msw6IzDWrOgqkh6zPrFvhZlHMPLc3jm/zQPOvN8s4dYaXjof1vxN\ntuTqLdlbIebkTr9Yu92ap784wHUvbiDc386Su85g/smxHd5vXGwQN58xnLc2HWZLZhufYhuiVwb6\n6kytrR6z4WQUVZHcYhjzw/xSZocEEmHveC5tXt5iqqpSSUn5OTabJ56e/tjtUVTXNPY6JHh7ketw\nEhPsY6X/xyEhs6LTPvmtmbt56b+6PZXo0Y/2sie3nMcun0RssO8xtyeF+1HlrKfGPwGqC8FRebxX\nffwKU82Um04amoVZk6iMn7/9Lfe9s53MoqrjP6/NZoYzpcesb+xbAUmnm5WxvSlxOty+xoQKf/YQ\nvHaJvBH1NHe9ecHu5Pyysuo6fvzqZh5buY8FE+P48I7Tj5n03p575o4iLtiH33ywi7r6VgrtsOEQ\nNWHgD2dW5kNdFTo0mUPF1SSG+R+96duKGg7VOju1GtPtdnIw/R8EBk4gKrJxIY2fbxLVLXrMXBrC\nAr1NllmQNWlbhjNFR3Z/CBufg5l3dnuUY9WeIyxal8GNpydz7vjoVo9JDDMfTo54Wqs8G97v+1PR\ngc7HOTHECzNHQAIfbMvmva1ZzPnrlzzw3o6O08E7EjZc5pj1haI0KNzX7A/8cHE1L6w5iKu1N9rj\n5RsCVywy0RqHN8Kzs2D/yp5/nI5UF8Pav8POd/v+sXtTwT6oq+rU/LJd2WUseGoNX6UW8IeFE/jH\n1afg79211dX+3p48ePEE9uZV8PLX6a0fNPZCOLQOqoq6dO4+Za3ILPNNoNpZT3JEY4/Z4vwSvJTi\ngoiOP7hk57xNbW0WI1LuQ6nGtwVfv2RqWonM8PM3+2XqIKuHslwWPIl2FKfDkrsgfkq355XlltVw\n/7vbmRAXxAMXjG31mAPVtVTazdDmYXekaRwICwCKDkC4FGbtKz0EysahOvNJ8jfzx3HdjCTe35rN\nOY+v5n8/3MWR8trunTt8hBlakMiM3rX/Y/O1SUzG018c4JHl3/GLd3fgdvfCSkqlTLTGbV9CYBy8\ncSWseMDMm+htxQdNhMcTE+DT35sFCYNxs+225FgT/zvoMXt70yEue3YdrnrN27fN5PqZyaiu5Nc1\ncd6EGM4dF8UTq1LNFkMtjZ1v0sNT+6EA7ywrw+wwpvegobfArTVL8ks5OyyQEK/2i9b6+moyMp4i\nJOQ0wsLObHabn28yTmchLpfJfmsozDz8PHG43JR4WkGe0mMm2uJywH9/ZF4/L38ZPDsXctxUvVtz\nz1vf4nS5+ec1p+Lt6XHMMU63m+t2HOTh3CMA7HNYK7L7ewGAo8Lsyx0xstN3GbqFWVA8maVmwurU\n5FAevHgCq+8/m8unDOPNjYc48y9f8PCyPRRWdvFNN6whMuNwL1y4OGrfCogcZ3ooLevSigjx8+L9\nbdn8bkkHWVXHI3IM3PIpTL8dNjwLL8yFgv2981iHNpjQ2ycnw5ZFMOEyuOUz89zfvdH0HJ4IsreC\ndxCEt/7iVVtXzy/e3c4v39vJaclhLLvrDCYndn/fxwYPXjzBfF2y+9gbY08xk9sH8nBmSTqgSLXe\nhJKtgM3NZVXkOOq4pBOrMQ8ffhWns9DqLWte5Pr5JQNQU2NGGeKt9P96b/PGmF3tZUJmJf1ftGXV\n7yD3W1j4TLe2WwL45+epbEwv5pFLTiKljSkLr+UUkV7jJKuunqhAb/ZVeIOXX/8vACiyAsulx6wD\nVlTGoWIzbNnwKTMuxJdHLzuZz+87m4smxfHy1+nM/vMX/GnF3raX1rfUsPnqifKGORDVlEDmumOG\nMQ8VV3P3nFHcdlYK//nmEH9asbf3ijMvH7jgz3DNW+ZN6bmzYOtrPZN55q6HPUvghe+Z3QjS18Ds\ne+Hnu+CSpyFhKlzzhsnaevOaEyPKI2eriSexHfuSdKiomsueWcc7m7O4a85IXrnpNMIDvHvkYRNC\n/bjn3FGs2nOET3a3mDeolBnOPPDZwN0HtzgdghNIL63Dw6aIDzWToT/ML8XHpji/g2HMurpyMg/9\nm/DwcwgJmdrsttzcXJzWqELDPDN/Dw/CvDyosYaLcsprJctMtO27pbDhXzDjpzBuQbdO8c3BIp78\nLJXLJsdz2eTWg2grXPX8NT0Hb216viNDfDhUXGMiM/p7KLNhJxmZY9aBJoVZgLcnYS32lUsM9+Px\nKyax6t6z+N74aP79VRqz//IFf1u1n7KaDpaFH43MkHlmvebAZ6DrmxVm6w+aeUCnj4zggXljuW5G\nEv/+6iD//LyXt1cacwH85Gszd2LJnfDuTVBT2r1zOatg4/PwzynwznVQeQQueAzu3QNzf9d8y5LQ\nZLjiFfNp7P1bB/dKUZcD8na1Or/s0z1HWPDPNWSVVPPSj6Zy33ljjlkef7xuPmM4o6MDeHDJbqoc\nruY3jpkPrho4uLpHH7PHlKSbDLOiauJDfPHysFGvNcsKSpkbHkRAK0M+TR069DwuVzkjUu5t1l5b\nW8uiRYv46isTKdIyy6zUGh01KzMly0y0oiQDPrzDTE8496HunaLKyc/e+pakcH8eXnhSm8c9dSif\nYpfmWl4BwM8f0/ESmtz/Q5lFqeZDdEPOaScMvcKsSYZZZlEViWF+bc5RGREZwJPXnMrH95zJ7FER\nPPlZKrP//DlPf3Hg2BfwBoExpvtUCrPes+8j8I80xZBlfVoREQF2RkcHoJTioYsn8P3JCfxt1X5e\nWNPL/y+C4uD6xaZ42rMY/j3bLBDorIoj8NnDZv7YR/8D/hFw5atmF4Lpt5pdCVqTchbMexT2r4DV\n/9czz6U/HNkF7rpm/z8B/v7pfm55dTPDwvxYfvds5oxtfRXW8fLysPHHS08mp6yWJz9rkTeUfAZ4\nBw/c4cyjGWZVRxP/15dWku90sTCq/aFeh7OQw1mLiI5aQGBg8+y4TZs24XA4OJJXgrc9ulmW2TAf\nO3m6Hm9PW5PCTHrMRBMuJ/z3RvP9Fd2bV6a15v53t1Nc5eSf15za5gKfnFon/zp0hFms5Vw/M78M\nnzryymtxBQ8zPWb9uXtLYaqJ5vLsfC//0CvMmmSYZRZXHx3GbM+YmECevXYKy+46g2nJYTy2ch+z\n//IFz32VRo2zxSR/pUxlLEOZvaO+DlI/hVHnm5wxzB/w1wcKmTki4miRbbMp/vz9k5l/cgyPLP+O\nNzf28pJpmwfMvg9usiaKvzQPvnqs/UUg+d/B4jvg7yfBmr+a6I+bPjHz18YvPPr82nXarXDqdeax\ndn/QM8+lr2UfO/E/p7SGv3+ayoKJsbz3k1kM68Tf6fGYlhzGVVOH8cLadPbmNRka9vAyW8bsXzHw\nFvQ4KkxOU+hwMourjxZmi/NL8fOwcW54ULt3z8h4BrfbQUrKz5q1O51O1q9fj1KKsrIyvH0Sm/eY\nedvJdtQRG2yFzAZLyKxo4dPfm+kJlzxteq26YdG6DD79Lp9fzR/LSfFtD8n/JT0Pt67nSt7klLG/\nJkSXUGM3HScl9jhwVpog8v5SlNql+WUwFAszKyrDHTSMrOKaZvvKdeSk+GBe/NE0PvjpLCbEBfF/\nH+3lzMe+YNHX6ThcTV60Jcus92SuA0dZs2HMtIIq8isczGqyLyKAp4eNv191KueMieTXH+xk8bd9\n8Kl+2DS4fa0prD5/BF5d2HyYR2szLPafy+GZGbDzPbPS864tcPXrJjOtK5SCC/8KCafBhz+F3B09\n+nT6RPZW0wPaZCPjTRkm+PW2M0fg49WJArUHPHDBWIJ8PPnNB7uar+odO9+8sB/e0CfX0WnWiswq\n/0RKq+tICvOnzq1ZXlDK+eFB+LWx+wFATU022dlvEhvzffz8mu/ht23bNqqrq5k+3fwuKqKorm4S\nMutjp8atiZKQWdGavcvhm2fgtNtg3EXdOsWu7DIe/Wgv546L4kezkts87rvKGt7OK+Y8VnJy1AxC\ngqcQo/IobZgDqaxVw/01nOl2m06aLswvg04UZkopH6XURqXUdqXUbqXUQ1b7cKXUBqVUqlLqbaWU\n3Wr3tn4+YN2e3ORcv7La9ymlzm/SPs9qO6CUeqBLz6CrrMKswDMaZ72bxC4UZg1OTQzltZun885t\nM0mJ8OfBpXs4+7HVvLHhkAmrDB9hfhHq2xjuFN23/2Pw8IYR5xxtWp9WCHBMYQZg97Tx7LVTmD48\njHvf2c7KlhO8e4NPMFz+Eix8GrK3wLOnm0mwO94xw5yvLjRhquf81swfu/CvjYtGusPTG656zSRL\nv/VDqCrsuefSF3K2mt6yJlMKtmSW4Gf3YFxsYJ9dRqi/nV/PH8eWzBLe2dxkVfXIc8HDPvCGM60M\nsxybGeJNCvdjTUkFxXX1HQ5jpmc8iVIwfPhdzdpdLhdff/01w4YNY9q0aQA460KoqytqEplhVmYG\nBNjJLbW2ZQKZZybM+96HPzErms97uFunqHS4uOvNbYT52/nL5ZPajcP5Q1oOAbY6LtZvk5R0G0rZ\nGOZRQb6XWQST7mrIMsvo1rUct4ocqKtuc7V5WzrTY+YA5mitJwGnAPOUUjOAPwNPaK1HASXAzdbx\nNwMlWuuRwBPWcSilxgNXAxOAecAzSikPpZQH8DRwATAeuMY6tneUHgZlI91pVht1ZiizLacND+Ot\nW2fw+i3TiQ324dcf7OSuN7aZHjN3nURm9DStzfyylLOazbtal1ZEfIhvm/8vfbw8eOGGaZwcH8xd\nb2zjq/0FvX+tSsGp18JtX5mhnrevNdljLqcJqf3ZTjjrfvAL65nHC4yBq/9jFgy8c8PgGVZyVJhw\n2RYT/zdnlHBqYgie7fT69IbLpyRwWnIYf/p4L0UNUTnegZByNuxd1r9zVVqyesxSXaZXICncn8X5\npQR52jgnvO2Ctqoqjdzc94mPvxYfn7hmt+3cuZPy8nJmz55NaGgonp6eVFaYv6uGlZkNWWbefl4c\nqailLqAhZFbmmQ1pLqdZ/KS1CePuwpyqpn63eBeZRVX8/epTjlmY19RXxRV8UVzBQv0ByREzCAgY\nDUCSt5tyLz/87B7sqbE+oPRXj1mhNWe1p3vMtNGw2ZSX9U8Dc4CG+PFXgEus7xdaP2PdPleZknch\n8JbW2qG1TgcOAKdZ/w5orQ9qrZ3AW9axvcPKMDtkZZglhbUxsbqTlFKcPjKC934yi8smx/N1WiG6\nYfWFDGf2rIJ9ZqVPk1BZt1uz/mARs0aEt/vJKsDbk1duPI0RUQHc+tpmNqa3sUdiT4sYZXLHLvwr\n/OC/8NNvzNCll0/PP1b8FFP0Za6Fj3/V8+fvDbnbAd1sflmlw8XevHKmJPVQ0doFSikeufQkKmtd\nPLqiySbnY+ab37387/r8mtpUkg6+YRwsNy/jMSE+rCgsZV5EMN6txI40OHjwCTw8fElOur1Zu9vt\nZu3atcTExDBq1ChsNhsREREUF5sesoZ5Zg2FGT4eaA35yuqplsJsaPvsIcjebF6DwoZ3fHwr3t+a\nxftbs7l77ihmpBw7AtLArTUPp+UQ6+lgrvt9kpNuA+Djjz/Gu6QAlCIqxIe0MsAvvP8iM7qRYQad\nnGNm9Wx9C+QDq4A0oFRr3TBWlwVY/dnEA4cBrNvLgPCm7S3u01Z777CiMjKLq/CwKeJCeuYNUinF\nyfHBVNS6KPa2NkeXzcx71j5rQ+kmhdl3eeWUVtcxa2Tbf8QNgv28eO3m04gL8eWmRZvYkdXNWIuu\n8vSGabfA6PNazenqrEqHi4935fLAezt4Y0MbixkmXQWz7oJNz5tA2oGuYeJ/kx6zbYdKcGuYmnT8\nAbLdMTo6kB+fmcK7W7L4xophMZuaq4E1nGmtyMwoqiY6yJscl4tyl5uzQtvuLSsv30l+wQoSh92E\n3d78b2bPnj0UFRUxe/bsox9yIiMjyc01L/M11jyzEE8P/D1sOLzN73J2tR28/GUocyjbtwLWPwXT\nfgwTLun4+FYcLKjktx/u4rThYdw1p/1C5v0jJeysrOEK/SZRIZMJDp5MTk4O33zzDbY88zfrH6DI\nLK42WWb9FTJbmGoCmJtGHXVCp94ltNb1WutTgARMD9e41g6zvrbWbaG70X4MpdStSqnNSqnNBQXd\nHI5qKMys3J+eHCppSCROrfYzL1QSmdGz9n9sQkiDG+v2dQfMH+HMlAgO1Th4Paeo3VDZiABvXr9l\nOiF+Xlz/0kb25VX0+mUfj4zCKl5cm861L2zg1D98wu3/2co7mw/z0NLd5Le1bdi5D8GIOWYLp8z1\nfXvBXZWzFYITTUSIZXNGCTYFpyZ2nFrfW+6eM4qEUF9+++EunC43BEZDwjQznDlQlKRD6HAOFVWT\nFO7PgWoz9Drav+0Pm2kH/4qnZwiJiTc3a9das2bNGsLDwxk3rvHlPTIykrKyGuz26KM9ZkopEnzs\nVJiONHLLrZWZZbJf5pBUehg+uB1iJsJ5j3TrFA5XPXe9uQ27p41/XH1Ku1mFtfVuHj2Yy1jvWqa5\nlpGcdDtaaz755BMA7KVOlHaDTz2Hi6vRIUn9N5RZlGrml3Vx27guVSVa61JgNTADCFFKNQSLJAAN\nH5eygGEA1u3BQHHT9hb3aau9tcd/Tms9VWs9NTIysiuXbricZjJeSCKHmywv7ykpEWZY9GBhtazM\n7GmVBSYbbMz8Zs3r0gpJifQnJtiHpw7lc9++wywrKGv3VLHBvrxxywy8PW388IUNpBdW9eaVd4nT\n5WbdgUIeWbaHOY+v5uzHV/Pwsj0cKa/lptOH89atM/j03rNwuTXPrG7j98vmYRYfhCSaoNqB/IaZ\nvRXiT23WtCWzhDExQQRak8z7g6/dgz8snMCB/Eqeb8jBGzvfbC0zEP57upzmOsKGk1FURVKYH6nV\nplBP8Wt9bk9JyQaKi9eQnHw7np7Ne9VSU1M5cuQIZ5xxBrYmvbpRUWb+modHbLMsswRvO0XWYtns\nhpWZ0mM29NTXma3h3PVmXlk3p2j8acVedueU8/jlk4gN9m332BezC8l21HGNXkRwwHjCwmazb98+\nMjIyGDduHHXVAURQgNNej8Plpso/wfyt9EfcTeGBLs8vg86tyoxUSoVY3/sC5wLfAV8Al1uH3QAs\ntr5fYv2Mdfvn2nRhLAGutlZtDgdGARuBTcAoa5WnHbNAYEmXn0lnlGebTYm7kGHWFfEhvnh72jhY\nUAnhkmXWo1I/AXSzYcy6ejcb04uZNSIcrTVfFJver/9NzabC1f4fYWK4H6/fMh231vzw+W/IKum/\nLXcKKx38d/Nhfvr6FqY8vIofvLCBV9dnkhDmx0MXT2DNL85h1b1n8av545iREk5KZADfnxzPGxsP\ncaStXjPfULjmTairhbd+MDC3FKoqMnM/mswvc9W72XaopN+GMZuaMzaaeRNiePKzVA4VVcNYa0uZ\nfSv698LALCzSbhxBieRXOEiOMD1mCT5e+HscGy+itSbt4ON426NJiL/umNvWrFlDcHAwEydObHZb\nwwfg+vpwqmuaRmZ4keNyEeLnZa3MTJDCbCj67A+QtQkufrLbK8s/3XOEl7/O4Eezkjl3fPsh0sV1\nLv6RmcfsgFpGOlaRlHQb9fX1fPLJJ0RERHDeeefhdPoSQx5lVmRGgWeMWYzX17+fdTXm7zR8FIeL\nq5n6yKedvmtnesxigS+UUjswRdQqrfUy4JfAvUqpA5g5ZC9ax78IhFvt9wIPAGitdwPvAHuAj4E7\nrCFSF3AnsBJT8L1jHdvzrKiMSt9YSqvrerwws9kUwyP8SSuoNFszlUpkRo/Z9xEExpmhTMuOrDKq\nnPWcPiKCjBonh2udXBUTxhFnHX9Oz+3wlCOjAnnt5tOodLi49oUNbQ8N9jCtNbuyy/jHp6ksfPpr\npv3xU+5/dwdbMktYMCmW56+fyre//x6v3nQaN8xKbjVc9c5zRlHv1jzbVq8ZmM3Wv/+8yTZbevfA\nWlEIkLPNfG0yv2xvXgVVznqmJvd/YQbw+4vH42lT/G7JLnT4SIgYPTCGM60VmXkeZkVkYpgfqVW1\njPJrvceiqGg1ZWVbSR5+Jx4ezY/JzMzk8OHDzJo1C48WRV3Dysya6kDq6oqpqzPhuwk+dkpd9UQH\nNckyq8yT17uhZP9KWPckTL0ZTrqsW6dIL6zivv9uZ0JcEL+aP7bD4/+ReYRKl5sr61/E1zeZqKh5\nbN68meLiYs477zyCg4Px9PQiRpdSYK3cP+RuiMzo4+HMojRAQ/gIDuRXUtiwyrsTWt/joAmt9Q7g\n1FbaD2Lmm7VsrwWuaONcfwT+2Er7R8BHnbje42MVZtk6EjhMUrgfN+1Mx6k118eFMzc8CI8ujgW3\nNCIqgF3ZZXDKCHC7oOxQl/bIEq2oq4W0L8zE9ib/fxryy2akhPNhiXnD+FlSNH4eNl7KKuSKmDAm\nBbZffE+IC2bRTadx7QsbuPbFDbx960xC21mi3V1VDhdrDxTyxd58Pt+bT36FA6VgUkII9547mnPG\nRjEhLqjdlaVNJYb7He01+8nZI4gOamMIYcwFMOe38PnDEH0SnPGz1o/rDzlbAWUyjyybrWDZKQOg\nxwzMsPfPvzeaR5Z/x8e78rhgzHwzybmmFHz7bw5cQ4ZZen0UkEViuB8H0gqYGRJxzKFau0k7+Fd8\nfROJiz32pXnNmjX4+/szefKxe5U2rMwsK6smLBxqajLw8prIMGtlZkigt0n/D4ozoxGVec2CgsUJ\nqiwLPrgNYk6G87u3HVxZTR03v7IJm4JnfzgF7w72dc2scfByViGXhNURVvQ5SWP/j5oaB6tXryYl\nJYVRo0ahlCI8PJxIVxE1vj74KUhzhnMWmAUAyWd061q7pagxKiM1tWtzmYdW8n/pIVA20hxme4fI\nYB8+Kizji+Jyrt+Zzmnr9/BERh5HHN3PgBoR4c/h4mqcwcmmQVZmHr+MNVBXdcz8sq8PFDE+NohQ\nfztfFpeT6GMn2dfOr1JiibB7cv++w9R3opdocmIoL1w/lYyiaq5/aSPltceXAVZa7WTdgUKe/+og\n97y1jXP/9iUnP7iS217bwvIduUxLDuPxKyax6Tfn8uEdp3PX3FGcFB/c6aKswZ3njMLdUa8ZmK2i\nJlwKnz4I+z/p/hPradlbzfwLn8atgzZnlhAT5EN8SPvzTPrSj2YlMy42iAeX7qZ6xDzzgSt1Vf9e\nVHE6ePqyv8r0Cnj5e1Hj1oxsZX7ZkfzlVFZ+R8rwn2OzNZ+3l52dTVpaGjNnzsTLq/U5fVFRUeTn\nm+9bZpn5+nuZHrOGYqxMIjNOeM5qePdmM7/sile6Na/MVe/mzje2cri4mn9dO6VTQe9/OpiLh4JL\nXC/ibY8mNuYSvvrqKxwOB+eff/7R18/w8HACqyvBpggP8mZXdRCg+n4BQGFDVMZIUo9UEhnY+Vy3\nDnvMTiilhyAwjgwrw6ze11ToT41Lwm5TvJpdxJ/T8/hrRh7zIoK5IS6C00MDsHXhDXNEVABuDYdV\nLCPAWgBwbs8/l6Fk3wqzyjV59tGm2rp6thwq4foZSdS5NWtLKrksOhSlFEGeHvxhZDy378nk5exC\nbknoeKHIrJER/Ovaydz66hZuXrSJV246DT97+38eWmvyymvZnV3O7pxydueUsTun3EyGtsQG+zAh\nLoj5J8cyIyWMaclhePXQSmDTa5bAGxsPcftZI4gJbuMFUimzC0HRAXjvFvjxZ92akNqjtDa7Ioyc\n26x5S2YJU5JDu1yk9iZPDxt/vPQkvv/sOh7fFcPvAqLNcObEVgcG+kZJOoQmk1lcQ6ifF3nWxOZR\nLVZkut11HDz4BAH+Y4iOXnDMadauXYu3tzdTp05t86EiIyPZtcv8zjbMM2sozDz8PCmrqaPaZxh+\nIFlmJ7rSw2bOat5OuPzFbs8re3jZHtakFvKX709kejt5ZQ2+La/mg/xSbo8Bj9xVDBv5K4qLK9i4\ncSOTJ08mOrpxblp4eDjeGRUQAgEBNtJL6swHhz4fykw1u2LY/UnNr2RUVACbO3nXoVeYWSsyw/3t\n5LndAIzy8+akQD8ujAzhYLWD13IKeTuvmGUFZaT4enNdXDhXxYYR5tXxf66UCBOZsb/ClxH2AFkA\ncLy0NjEZI85p9slsa2YJTpebWSPD2VJeRWW9m7PCGleaLYwK4a3cYv50MJcLI4OJ9e54eHLO2Gj+\ncfWp3PXmVm57bQsv3DD1aPe6261JL6o6WoDtyTHFWHGVEzC1z/AIfyYnhXLdzCQmxAUxPjaI8IDu\npV931h3njOS9rVn868s0Hrx4QtsH2v3h6jfgubPhzWtMcebT9sbAva48G6rym038zy6tIbeslmkD\nZBizqcmJoVxzWiKL1mdy56Q5hB1YZvbBO45cuuNiZZhlFlWTGO7PAWtFZss5Zrm571FTk8nEic+h\nVPNrzc/P57vvvuPMM8/Ex6ftXo+oqCjcbk88PaOOrsyMsntiV4p6K8ssjzBSQBYAnMgy18Hb10G9\nE37wNow+v+P7tOK19Rm8sj6TW89M4cppwzo8XmvNQ2nZhHt5cr7j3zg9g4mPu5p3312Gp6cn55zT\nuD1ffbmDUHsQ3uUaD12HzdfNodxqSOiHyIxCE5WhteZAfiXfn9z5eNahV5gln2G9mPlx0HoxG+7b\n+OaZ4ufN70fG88vhsSwrKOXVnCIeSsvhT+m5XBQZwg3xEUwN8mvzE/3wSCsyo6ghMkOGMo9L3g7z\nJn7Or5s1r0srwsOmOCFeMPQAACAASURBVG14OE9nF+Ch4IyQgKO3K6X405gEzt64l9+l5vD8Scmd\nergLJ8ZS7ZzI/e/u4JZXNjM8wp/dOeV8l1tOtdP0Snh5KEZHB3LuuCgmxAVzUnwQY2OC8Pfu+z+n\nTveagYnPuPJVs1fne7fANW+ZaI3+0EqwbMP8sqnJfZ/43xm/PH8sK3fl8Z/saO52Vpje8P7oedTa\nzJcZMYfMw1VMTgwltdpBqKcH4U02fK+vd5Ce8U+Cgk4lInzOMadZu3YtXl5eRzcrb8vRaCIddbTH\nzKYUcT5eVFtTBbKq7aR4+UuP2Ylq04uw4hcQOtys9u7m7/3a1EIeXLqHuWOj+OW8jif7A6wqKmd9\naRUPJtmpzviI5OQ7OXy4gL179zJ37lwCAszrvtaawlf34FFViqM+gGjycHr7UFTlpC5oGF4Zq7t1\nzd2itRmhmHgleeW1VDpcjIzu/L6/Q2eOWZMMs8yiapLC/DhY4yDG7oV/K5MOfTxsXB4TxpLJo/hi\n2hh+EBvOx4VlXLQ1lbmb9rEou7DVSIYAb09ignyslZmSZXbc9q0AFIxq/ulsXVohkxKCCfD2ZHVx\nBZMD/Qlu0aOZ7OvNz5KiWVpQymdF5Z1+yCumDuMPCyfw9YFC3tuShU3BlVOH8ZfLJ7L87jPY/dA8\nlt89m79cPokbZiUzJSmsX4qyBnfOGYnbrfnXl534XUs+Ay74s4kf+bx7mwz3iJytYPM0CxIsDRuX\nj40JRGvNs4fy2VY+cGI+gv28+O2CcawotIZNcrf3z4VU5IGrBldIMtklNSbDrKqWUf4+zT4wZme/\njsORx4gR9x3zQbKkpISdO3cyZcoU/P3b35YuJCQELy8vHM5gaqyQWTBZZiXWS+fRBQBSmJ1YXE5Y\neg8svxdGzD2uaRBpBZX89PUtjIwM4B/XnNpuiOzRh3drHknLJcXXm1k1i7DZfImPu46VK1cSHBzM\njBkzjh5bu7+EuqxK/Es9cDp9ieUIFd7mF7TEHgcVuSbCoi9U5oOjHMJHkXrE7Gg5Kiqggzs1GjqF\nmZVh5goaRm5ZDYlhfqRXOxnu1/EQ17gAXx4dncD2WRN4fMwwPJTigf1ZTFq3m/v3HWZnRfM3j5RI\nf9IKqsz4e0nm4NlQeiDat8Ikrgc0zhOrqK1je1YZs0ZEUFLn4tuK6mbDmE39JDGKUX7e/Gp/FtX1\n7k4/7PUzk9nx4PnsfPB8/nv7LB68eAJXTh3GhLhg7J79+2eT76ijuK4xlmBYmB+XTzG9ZnllnYj8\nmHYLTLkR1j4BO9/t+PjekL0Voic0G55uunF5Wo2Dh9JyuGzbAb4qHji7M1xySjxhySfjxBOd823/\nXIS1IrPQKx63NpuXp1Y7mk38d7kqych8lrDQMwgLnXnMKb7+f/bOMzCu+kr7vzu9j9qo92JJttyN\nK6aangAJLaEYCBsWSNgsmwWyb3ohIR1S6BBaQg0QegCDMe7dclHvXZrRaHq/9/1wR7LHKpbcQkDP\nF4F0q2fmzvmf85QNGxAEgeXLlx/xdMPKTK/HQCTiJBKRDZxzdRr6BBGFEC/MrDnT5P/PErz98NQX\n5Wi3ld+WO2VHSX8Y8of5j6e2o1YqeOz6RZgmuZB9oXeQen+Qu/K02Pv/QU72VdTUdNDb28uqVatG\nBCuSJOFZI7su6CQ1Bp2BdGkIh0YWEfUq0uMX0jHmeY47RhSZpTT0Txdm4yNulTGgykCUID/VSHMg\nRLF+8hwgo0rJtdmpvLdoBu8snMHFtiRe7h3knO31XLijnud7HARiIiU2E80DXjnMXIqNnHsaU4S7\nW3ZaL78g4dfbWgeJiRLLS1L5xOlFAs4YpzDTKhT8ckYe7cEw97X2Tun0Jq0KxSRWdScLncEwd9V1\nsHDTAa7Z05wQPfWNM0vjCs3GyR3sgl9B/jL4xzfhZBcYoiifc4Lg8q0uOY0hTaPi2upm3h44Sbmm\nR4AgCJw/N58aMZ9Q565/zUXEPcxaJfnLJtmqxRGJJvDL2jv+QiQySEnJt0ft7vF42LVrF/PmzcNi\nsYz6+1hIT0/HMSh/mR4aZt4fjWEza+NeZjnTHLPPCrp2ynzUnj1yisjZPzhq2kMkJnLrszvpcgZ4\n+LqFY/oyjgVfLMavWno4xWKkwvsMAJmZ17FmzRpycnKoqjrYbQ81DRFu92BcImdSJhuTSAt7icQX\nKy2xk+xlZo8XZqllNPZ7SDFqpsQ3/twVZm0xWQGSGn+YFY9jyDgRBEFgvsXAfZX57Fo+i5+V5eCJ\nxvjv2g5u3t9Ksc2IJxhlSB8PM5/mmR0d6t+Vfx5WmG1sdKBRKVhQkMzHg24sKgXzJvArW55s4srM\nZB7o6KfWd5Ja2ccR3cEwd9d1sGxzDc/1DDLfYmCXx58w5hvumj23tWNyXTOVRuabGVLl2KaT2dUd\nbIaQa8Lg8m0uH0kqJe8tmsFss56v72/lxd7Bk3eNE6Ai08x+sRBlb/W/xrTX2QKCkvqg7KMWjavL\nhztm4fAg7e2PYbOdh8UyZ9TumzZtQhRFVqxYMelT2mw2nPHCLDBimSF3K9IsOnpc8cJs2mT23x97\nXoC/XACCEm56D6ouO+pDSZLED/6xn03NDn7x5dlT4o8+3DFAXzjK/xUY6el5kcyMS9ixowWv15tg\njwHg+bADhVmD9bxCECBJZcLsc4NagVGnojYUP+/JCjN3NIJKB9Y8Gvq8lE6hWwaft8JMUNAUlFux\nol5+yBTrj81MNEmt4j9ybaxbXMHVWSlsGPJSNJyZGYu3T6eVmUeHuncguRBsiSTRjU0OFhUko1Up\nWDvoYWWyGdUROls/LMnBrFRyd10n4qfNAX8c9ITC/F99J0s31/C3nkG+mpXCpqWV/G1OMSalgie6\n7Anbf+PMUkRpCl0zUzpc9Bv5s3EyY4a648T/7EOJ/4nB5dtcPhZZjSSrVbw4t4TlSSb+q6adxzsH\nTt51joMZGWb2SUWoI+6TL8EHuWNmzaXFGcagUdKPPKIfDi9va3+YWMxPcfEdo3b1+/1s27aNqqoq\nUlOPbFMwjPT0dAIBMyCMsswwGTV0Dx1mMjuNfz/EovDP78KrN0POIrj5I8gaXdhPBU9ubOW5uAn2\nZQsnbzw8EI7w5/Z+LrJZyXA/jyiGSE29hg0bNjBr1izy8/NHtg21ugg1uzCfnktMqUBh0WAR9egG\n5a672azkgFsPSu3J7ZillCAJwohVxlTw+SrMzNm0OCPo1AqGlPKXc2q0AZdrZ8JY6GggCALzzAb8\nMRGTVV651nn0oDFPCwCOBmEfNH8MMy5IcPt3+sIc6HGzvCSVpkCIrlCE05OPrHZJ1aj4fmk2W1w+\nnv+UdF7GQ28ownfjBdkz3XauzExh49JKflWeR65Og0ml5IrMFF7vH8IRTuSaXbFI7pr1uCbZGSw9\nR4662vnUCbqbMdC1E1T6hIJ7e9vgSHC5Ixyl0R9isVVe4BhVSp6ZXcwFaVa+29DFfa29x/x5PRZY\n9Wr6DDPk//lXCACcslVGu8NPQaqRxkAIrUIgV6chGOqls/MZsjIvxWQcTdLeunUrkUiEU0+dmgO6\nzWZDkpQIQupIx2zY/V9jVNE9FECyZMsbT48z//3gH4S/Xi6nWiy+GVa/BsbRKRJTwdq6fn765gHO\nnZnBneeWT2nf37T0EhJF7s630Nn5DDbbuWzcKNM3Vq1K9AV1r2lHYVJjXJzJe49V4/BGsAS0KL0K\ndFIAlV6ibTAgq9JPWsesAdJKGfCGcAUi04XZuHB1JISXtwTCCICz9ma277iCzVvOp739ccJhx1Gf\nojy+YnWqQKdW0GT3TYeZHy2aPoJYaNQYc1Oz/PosK0ljbZwUPh7x/3B8JTOFJVYjP23sxh7+9I1b\n+kMRvt/QydLNB3iy285lGclsWFLJbyryRr4Eh3F9TiphSeJvPYnv19vOGO6aTfI9p1TBguugcc3J\n40J275QzT5Vy11oOLh8aGWNud8srXe/OrbS2tgKySvrRWYVcnpHMvS29/KSp+19anCmyqoihkHNI\nTzYGWyC5iFaHL67IDFGi16IUBFpb/oQkiRQVfWvUbqFQiM2bN1NeXp5gyDkZWK1W1Gp1PMy8FYAs\nrRoBkHRKQlERlzo+IXB1HuMNTuOkor8GHj0LWtfDxX+EC38NyrFTICaLhj4Pt/9tF+WZFn5/1bwp\ncXUbfEGe7XFwXXYa2qFXiEbdGA2XsWfPHpYuXUpy8kGfw3CHh1DDEOaVOXg9Yeo3P8vA0AFMLhXB\ngIVMeojooNMZQEo6SV5m0bB8ntQyGocVmVOwyoDPU2F2iLlsftwqI0ujQCW5SU+/CJXKTEPjz1m/\nYQV7934Th+NjJGm0HcZEGHbdbvSHKEqTBQCklExzzI4G9e+A1goFiaqxjU12jBolc3KtrB30UKTX\nUDBJAYdCEPhleS6eWIyfNn16VvUD4Qg/bOhi8eYDPNFl59L0ZDYuqeR3Ffnj3luFUc/yJBNPddsT\nYqeGu2bPT6VrNv9a+eeuZ4/1Vo6MWFQuZg4LLvcfEly+1eVDBfj37mLbtm0j26kUAn+ozOfGnDQe\n7BjgzrrOSUVunQiUZKVRL+Ui9pxk4UTQBYFBxOQiOgYDFKQZaPTLVhmRiIvunpfIzr4KvX702Gj7\n9u0Eg0FWrlw5xoEnhkKhwGaz4febRmKZNAoFmVo1objJbLcU5/FMd8z+fVDzJjy2CiJ+uPFtWLD6\nmA856Atz01Pb0aqVPHb9oilbCf28uQe9QsEd+cm0tz9BcvJy1q1rx2AwjHrvute0ozCoMC7NYsfb\nuxHDdbhDHZgjWiIRHZlxy4yoKOE1nCT3f2eLLPpLKzsqRSZ8XgqzWATcXUhJebQP+slPMdLsD1Gg\nkdPec3Ov45RFL7Nk8Tvk5l6Hc2gzu/d8jQ0bT6e5+X4CgclJwFPUKmwaFfX+4EHLjJRiuSictsyY\nPEQR6v8JZatGrdw2NjlYXJSCKMAGp5czUiyH7BY9Ysezwqjn1rx0XugdZKPTe0Iuf7IYCEf4UWMX\nizcd4NHOAS5OT2L94kruqxy/IAuF+mlq+g09Pa9yY04ancHIKI+2KXfNkvLlaKSdz5x44vZADUQD\nh/HLEo1lt7l8FBJFJYo0NTURix1cICkEgZ+X5fDfBRk82+PgtgNtRMSTX5xVZJrZFytE7Np9cgUA\ncUWmU5dDOCaSnaSnPRim1KDF49mHJEWx2c4ZtVskEmHTpk0UFRWRm3t0IePp6em4hjREoy4iEVkl\nm6vV4FHJ3ZAOvwbUhunC7N8Boghr74UXroG0GXDzWshbfMyHDUdFbnl2B73uII+sXjjlzNstQ17e\nsbv4Zn46EcfrhMP9KIQLaWtr48wzz0xIqAh3eQnWDmJakYOkUrB/7RsAuCN2VCixmqxkiEO4tPI1\nONSZ8YWN85jvc0Icoshs6Pdg0ammlJMJn5fCLO5h5tFl4w/HyE/R0xIIka2QHy5GQxEAJtMMZpR9\nl1NXbKCq6o8YjaW0tP6RjZtOZ9fuG+jrfxtRDE14qnKDjjpfkBKbiU6nn3BSkVw9n+w4iH9ndO0A\n34DMLzsEva4gzQM+VpSmsd3lIyCKCTYZbe0Ps2Hjafh8ExckdxRmkq/TcHd9B2Fx8t5mxwv2cJSf\nNHazeFMNj3QMcJEtifVLKvlDZQFFY4RQAwQCHdTWfZ8NG0+nte1B6up/xKokFZkaNX85TAQgd83y\neH5rh2xjMBksuF42YG784Fhvb2J07ZB/Hur43+YkyyoHl4dEkT0ePxlDDhQKBcFgkM7OxNGYIAh8\npziL75dk84/+IW7c10JgCh51xwPlmbIAQBWwy4avJwtxD7MOSR5Fqk1qJOQoJo+3BgCzqXLUbrt3\n78br9U6pW+bd0kOw/uCXmM1mY2hIfn/6D1Fm2uN83R5XMG6ZMT3K/FQj5JGV2Gt/AXOvhhvfkYUb\nxwhJkvjea3vZ2jLIry+fw4L8qUWrSZLET5q6ydSo+XpuKm3tj2A2VbFuXT9paWksWLAgYXvPR+0I\nWiWm5dnUbmgk5N1PcnYJnoi80EvWWkgJe4gZ5MV9R9xe5oR/Fx/qYdbnpSzDPOXs389HYRbnzvQI\nw74/OlzRGJl0o1JZUasT1UkKhZaM9AuZP+9Jli/7mKLC2/H5Gtm373bWb1hBfcM9eL31Y55qhlFH\nvS9IcZoBUYIeZTwfa1oAMHnUvS1LtcsSSZ6bmuUCZFlJKh8PelAJsPyQGKb+/rcRxSA1td+ZcAxt\nUCr4+YxcGvwhHmjvPzH3MAYc4Sg/a+pm8eYDPNjRz4U2K+uWVPCnmQUUj1OQeX0N7D/wbTZtPpvu\n7pfJyvoys2b+nljMi2Pgda7NTuWjQQ8t/sQFwzfOLJla16z8AjCmn3gRQNdO2aQypXjkVzvanCyM\n88uqPQFCooSpq42FCxeiUChoaGgY81DfyE/n1+W5rHG4ubq6acwkjhOFEpuJGuQF3UkVAMQ7Zg0R\nmZgd1MmP8DKjDq/nAFptJhpN4vMsFouxYcMGcnJyKCoqmtRp/NUDDL3aiHvNQd6hzWYjEJA71Id6\nmfVKUbQqxSHu/9Mds08tBpvhsXNkFfZ5v4BLH0gweT4WPL6+hRe3d3L7WaVcMm/yuZDDeHPAxQ63\nn7uKM/E6/kkg0E4ofDaDg07OO+88lMqDPmqRPh+BfQ5MK7JR6FVsee0VQOQL3/pvgjEfUaJYBSNG\njwd0SpQKgaZo/HNxoseZ9kb5Waqz0hhXZHqjMX4+BfrM56owa4m/MJJBnnmnRRsxGIonrGb1+hyK\ni7/FiuUfM2/uX0hOWkpn5zNs2XoB27ZfTnf3i0SjvpHtZxh1eGMilnhmYWM0XqVP88wmj/p3ZW6Z\nPnHFtaHRQZJBTWWmhbVOD4ssRszxOK1AoB2vtxardSEu1046O5+Z8BSrUi18wWblvrY+WgMTd0GP\nFd5ojF8297B48wH+3N7PeakW1i2u4M8zCygdx0fP7d5L9d7b2LLlAvr7/0lu7vUsX/4RlRX3kJHx\nRczmWXR2Ps21WSmoBHiyO7Frlpssd81e2DbJrplSDfOvkUfI7p7jcdtjo3unPMaMf+aGg8uHif/D\nxrIZLgczZ84kPz9/3MIM4LrsNB6YWcA2l4/LdzcmqFRPJDQqBcHUSkSEk1uYOVvAaKPJJaBRKrAr\nQACK9Vo83gOYTTNH7bJv3z6GhoY47bTTJrVyjwz4cb7cAAJEur1I8W5keno6waAJEA7xMtMQRSDd\nopPfZ9bcaff/TyuaPoRHzpTtTK57BZbdlqB4PxasqenjnrdruHB2JnesmjHl/cOiyD3N3VQYdVyZ\nkUxr20PodUVsWO+jpKSE0tLShO3dH3YgaBSYVuRg77Dj7NpKWsF80guLUOuScUc9WCI69ENBEATM\nJhX7fMNeZiehY5ZWhsMbwuELU5puYp83wB+m0AT4/BRmgoI6vwVBAJ9afjOmhveOjDGPBEFQkpp6\nGrNn/4lTV2ygrPT/EY16qKn9P9ZvWEZNzf/hcu1iRrzzEYqbPta6NaC1TCszJwtnK/QfGKXGlCSJ\nTU0OlhWnMhiNsdcTSFBjDgzII7iZlb8mNfV0Gpt+QyAwcfzGT8tyUAkC36nrPCEKP1GSeK7HwfIt\nNfy+rY+zUy2sXVzBg7MKR4Qih8Pp3Mqu3TewbfulOJ0bKSy8jRXL1zGj7LvotLKrtSAI5OZch8/X\ngDawiwttSbzQMzgqcuobZ5YgMYWu2YLV8th99wkSAUQC0HdgwuDybS4v6WIUKyJ5eXmUlZXR19eH\n2z1+1umXMpJ5oqqIOl+QL+1qpCcUPjHXfxgKsjJoF7JPfscsuYg2h4/cFD1NwRB5Og0aQvh8TZjM\niYWZKIp88sknpKenU1Z25IxDMRzD8WwNglrAen4RUkQk0icbGcvKTD2SmJzQMQOwmjVx9//saZPZ\nTyMa3odnL5Nfn69/BMVnHLdD1/V6+K/ndlGVbeW3V0xNgTmMp7sdtAbCfL8kG5fzE7zeGjyeFYRC\nYc4999yEBUVkwE+gegDj0myURjUfPfN3IMzp13wFAGNyNu7QAGafBsGnxiy5UBugzqWQu/UnvGPW\nAKmlNPYfVGTu9UzN2PzzU5iZs2kdipBl0dERiaAErJEDGAwlUz6cRpNKfv5NLF3yLosWvkR6+oX0\n9b/J9h2Xo+j+DQDt0Ug8zNw3HWY+FdTF3f5nnJ/w6/ZBP11DAZaXpLLe6UEi0SZjwP4BJmM5BkMB\nFeU/QxCU1NT+vwkLriythu8UZ7HW6eEf/cc38mfrkJfzd9RzR20HeToNby8s45FZhSOWKodCkiTs\njrVs33EVO3d9FY9nPyXFd7Ji+SeUFP8PGs1ot+yMjC+iUiXR2fkMN2SnMRSN8Vp/Iql1yl2zlGIo\nOg12Pi2Tg483evfKhd8hxP/Dg8u3ufxkuBwUFBSgUqlGiomJumYA56ZZ+eucYrpCYS7Z2UjbCe6C\ngiwA2BMtOLnKTGcrpBTR5vBTmGqUw8sNOry+ekDEfFhhVldXh91uZ+XKlSgUEz/uJUli6NVGov1+\nUr5Sgb5KnjCEO2RbGkEQsNlshEJWAv5Ek1m9UR3nmA2bzPYd3/uextFDjMnGsSklcNP7kDK5ZsRk\nYPeGuOmpbRi1Kh5dvQi9ZuqxTe5ojN+19nJqkomzUsy0tj2EWp3O1q2wYMGCUdYunrWdCCoF5pU5\nhAJBOvZ9iCG5lMK58ns/OSsXV6gHs1dNIGAmkx6iOoE2hw9OtGWGfxACg6MUmXu9fmyayatTPz+F\nWVK+rMhMla0ycrSgIobBePRvUkEQsFoXMLPyXk5dsYm0tFWEHG+QqlZR7wtSkm6Me5mVTHfMJou6\ntyGtXP43OwQbm2S15fLSND4a9JCsUjI3HsMUDg8yNLSNNJvMSdPpsiktvRuncyPdPS9OeLobc9KY\nY9bzg8YuXJFjX+V3BsPcsr+Vi3c1MhCO8ufKfN5cUMYCi3HUtpIUo6//HbZtu4Q9e24iGOxixowf\nsmL5OgoLb0GlGt/7RqnUkZ19BQP295ivc1Nu1PFkp31UIXrbGXLX7IHJpgEsuF7+vDR/NKX7nhS6\n4o7/OYmO/8PB5c2BEI5IlOSBbkpK5NffZrNhtVqPWJgBrEg28/K8UjzRGBfvbDjh8VsVmWb2iYUo\n3F3gsx95h2NFNASuTqTkQtocPvLitj+lRi0ez36AhFGmJEmsW7eO5ORkZs4cPeI8HL4tvfh39WM5\nOx9dWTLKFB0Kg2qkMAP59fB49PgDrUiSNBLLpNCr6HMHiZmGTWanx5mfGux5Hux1ct6ldmq2DRMh\nFI1xyzM7GPCEeOz6RWRaj46r9qe2PgYjMX5Qmo3LvZOhoa0MOhahVGo588wzE7aNDgbx7+rDuDgT\npVnD+ufeRIr5WHDBl0a2SS8qxBNxYEKHJJrIpB+fTok7GCViOcEmswkZmV6MGiVZVh17PQFmmyav\nUP0cFWZ5tDn8FKQYafGHyFPJD22DofgIO08OKpWJlOTlRKMuyvQK6nxBitNMNPfHw8xdHbLx3DTG\nR9AFbRug/PxRf9rY5CDDoqUo1cDHgx5WpphRxtvbdseHgIhGvZiNGzcSi8XIyf4KSUlLaGj4OcHQ\n+Ko5pSDw6/I87OEo97YcvbpuOHB35ZYa3rW7+J/CDNYvqeCyzJRRvB5RjNDT83c2b7mAffu+SUz0\nU1nxS5Yv+5C83NUolZP7AOfmXIMkiXT3vMCNOWlUewMJ+ZlwFF2zyi+CPuXEiAC6d4Ipc0QB5glG\nxgwuz3QNUlRUSG3t93C791BWVkZzczPR6JEL5/kWA6/Ml/koX9rZOOrf43hiWJkJnJxxprMNkPAa\n8vCFY1gtGoKixAyDTPxXqSzodAetMJqamujp6eHUU09NIE6PhXCnh6E3mtDOSMZ8lhx3IwgCmjwz\nkc6DhVl6ejpuj55o1E0k4sSoVJKiVhLTKRAlsCvjYdHThdmnA5GgrL7MXiB/to8TJEni/17Zy/Y2\nJ7+9ci5zcpOO6jjbXT4e7Bjg8oxk5pgNtLU9jEJhobrawsqVKzGZEgtJz9oOmTN2Wi6iGGP/x2+g\n1GSy6AsH1cZ5laW4Iw4EBJKMVtJjLrw6+Zk6pM2S64ETpcYfUWTKVhmlGWZCokS9P8icCfKcD8dn\nvzCLe5iFTbnYvSHyUvQ0BUJkK+yAAoM+/4iHmCyMRvkLoUjtG/Ey84SieAz5cnv/X5Gr9++Exg9A\njEL5hQm/lvlldpaXpFEfCNEbjnDGITFM9oEP0GozWbeulffee4833ngDSYLKil8gSVHqar8/4Uhz\nrtnAjTlpPNllZ6fbN+52Y0GSJP7eO8ipW2r5XWsf56VZWb+kkruKsjAe9mUYiwXp7HyWTZvP5kDN\nXSgUGqpm/YGlS/5JdvblKBRTy23V6/NISz2T7u7n+bLNOGZ+JshdM2ByXTOVFuZdDbVvgfc4K1a7\ndh4WXD40KrhcL8bIU0gYDIN0dT9HXf2PKCkpIRwO094+uWSCSpOefywok6OrdjeeML+6nCQ97ep4\nZ/ekFGayIrNLkLmGGOVuVZlBJv6bTJUJi4BPPvkEs9nM3LlzJzys6I/geLYGpVlDylXlCIdwhNS5\nZiJ9fsSQrHi12WwE48rMwDDPTKsZ4e12ifGx+7QA4NOB7U/ITYFVPzpuRH+Ah9c188rOLu5YNYMv\nzDk6q42BcIT/2NdKtlbNz8py8HrrsNvXMNA/G7M5jaVLlyZsH3WF8O3ow7goA6VVS/UH64gEHcxY\negFK5cFSJqusEG9kCBGJJJWZ5JB7RPDXq8iUE2VO1Kjd3gAKNSQVyFYZ6SZqfEFiElRNd8wOQdzD\nzKGWH2ZJVh3+mEi61IFen4dCMTXjt4kwXJjlKvpxR0VSkuTWbruQJW8wPc6cGHXvgiEVck9J+HV9\nnxe7NzxikwFwWpxfFosFcAx+gtm0koaGRmw2G7t37+bdd99Fr8+npPjb2B0f0tf3xoSn/k5xFuka\nFXfXdRKdpGHpc2ZIVAAAIABJREFULrefL+5s4Bs17dg0Kv4xv5SHZhWO8G6GIUkSHR1PsXHT6dTV\n/xCtJp25cx5j8SlvkJFxEYIwNV5GJBIhEpENi3NzryUctuMffH8kP/PwuKkpd80WrJYL5N1/m9J1\nTYigS15NZif6lx0aXL7V5SPTPUhJcTFDQ5sB8Hj2kpTUgVKpnNQ4cxiFei2vLyglS6vm6uom3re7\nJr2vJEkEYiKOcJTOYJgGX5A9Hj+bh7x85HDz1sAQezx+BEEgMzOLPmXmySnM4lYZTVG5KxWIO+4X\n61V4vbWYzbNGNm1vb6etrY3ly5ejUo3PbZFEicEX6oh5wqReU4nSmGjorMkzgwSRLrm4PRhmDv5D\neGbO+Fu4w6+eNpn9tCDohk9+A8VnQvHpx+2wb1Z388t3a/ni3Gz+6+zSI+8wBqKixH/ub2MoGuWJ\n2UUkqVW0tT0M6Kivz2HVqlWo1YnvRe/HnSCB+Yw8JEliy6svISisrPxKolBMo9Oj1Fjxx3xYJT1G\nlxspLsZrjcU7uieqSeJohJQiXCGJfk+IsnQT+7xy1362efKF2dSyEv4dEbfK6JTiL4hBBW5Ii9Rh\nMB6fMeYwNJp0VCoz2WIzkEM0XqXXhm1UwbQAYCLEotDwntwtUyQWKhub5C7Q8pJU7mzvocygHSl+\nBgfXI4pBenszUSjcrF69mo0bN7Jp0yY0Gg1nn309ff1vU9/wE1JSlqPRjB3Ma1Yp+WlZLjfvb+WJ\nrgFuzksf91J7QxHuae7mpV4n6RoVv6/I46rMFBTjrEhbWu6npfWPJCcvp2rWH0hKWjxlw8Fh1NbW\n8sYbb2Cz2bjhhhtISVmJXl9AZ9cz3FBxLn/psvNcj4PbCxIJs984s5SXtnfw548auedLsyc+ia0c\n8pfJIoAV3zo+K+3uOEE+Z/7Ir3a0DVIRDy4fjMSDy50DlCycxaDzj+j1BUhSjM7OBykouJSGhgbO\nO++8SZ8yS6vhtfllfLW6iRv3tXB5RgpRSSIgigRiIv6YSEA8+DMQk0b++0gwKBXUnTqb8kwz1X0F\nrOrZw/HrR4wDZwuojdR59SgEsCtFUtUqdNEORDGUYCz7ySefYDAYWLhw4YSH9KztIFjnJOmSErkI\nOwyaXHmUFO70oC22YrFYkKRUJElIUGZ+qJAXM92uUNzLbLpj9i/Hpj+D3yFzy44TNjba+Z8X9rCo\nIJlfXz7nqJ9jP2/uYeOQlz9U5jPLpCcQ6KC37036+qrIzCyhqqoqYfuYJ4x3ay+GBemoknW0VVfj\nHWwns+xizKmjR4SGpExcYQfmoAmDOwzZCvQ6JfWhQywz8peO2u+Y4WiU+WUDcgOhLMPEu54AVpWS\nfN3kJyKf/Y5ZvDBrCssvSDC+ykwO7cF4nPhlwxAEAaOhlPSwvHp2KCV0agU1Q2pZpjvtZTY+OjZD\ncGhcfllBqoE0i47NQ95Rakyl0syuXT5mzZqF2Wzm3HPPZeHChaxfv5716zcys/JeolEfdfU/nvAS\nvmizclaKmV+29NIdHM0HDMRE7mvtZfmWGv7RN8Tt+elsXFLJV7NSxy3K2jv+QkvrH8nOupL5854m\nOXnJUT3MgsEgr776Ks8//zyiKNLa2kpnZyeCoCA39zpcrp1ki01j5meCPHa7clEeL27voGtSXbPr\n5YVE6/opX+uY6I4T/+Mds5Hg8ng+5vYRfpmDwsI8hoa2kpJyKoUFt+L2VFNcHMBut+N0Ti1OJVWj\n4uV5pZyRYuEDh5stLh8NvhCDkRiCAGlqNeVGHcuSTHzBZuX6nFTuKMjgu8VZ/Kwsh99V5PHQzAKe\nml3ES3NLeHNBGd8vycYfE6nzBajINLMrUoDgbIHA8VX2jsJgC6QU0T7oJztJT1MoQplBi9dzAGCk\nY9bT00NDQwNLly5Foxn/yyDY6MT9fhv6uTaMS7PG3EZp0qBM0SUoM9PSMonFrId4makJKsCiV8n5\nrJac6cLsXw3vAGz6E8y8NIE+cCzY1+Xi5md2UJhm4LHVp6BTT12BCfBm/xAPdPRzQ04aV2bK38tt\n7Y8BAq0tpZx33nmjnpGedZ0QE7GckQfAur89B4KeZZePzZtLysjFHerD7FER9RtIkexojAJ7vFZ5\ngxMhABBj8nd83PEfoCxdtsqoMumn9Nz/nHTMBGr9Fiy6ID1SDLUAqWLXcSP+HwqjsQzfwBpS1Eoa\nAnKYeZM9bpkxPcocH3XvgFIDJWcl/DomSmxudvCFOVlsc/kIiBKnx/llohjFbl+DIMwhGIyweLGc\n9SYIAhdddBHhcJg1a9ag0VxAcdHtNDX/lv6BL5BuG7vrIggCv5iRy+lba/l+YxePV8nEbkmSeHPA\nxY+buugMRrjIZuUHJdlHDE/v6XmFhoafYbOdT0XFz456ddnc3Mxrr72Gx+PhtNNOY+nSpdx///1s\n2rSJK664gqzMy2hq+i2dnc9yY87dfH1/K2scbs5NsyYc57YzS3lxewcPTKZrNutSePduWQRQNPXQ\n61Ho2gnJhWCQH8TDweULDzGWVUgSs3RqoJVYzEdy8jJsaWfT2vYACsXbwHwaGxs55ZRTxj3NWLCo\nlDw75/h91lPVKn7a1M1uT4DyDDNrhgUAvXuPz7/VeHC2QNoMWh1+ClIN7PIHuciWhMezH4VCM/I8\nW79+PRqNZsJ/p5grxOBzdahsepK/XDbhe1OTayLcnqjM9PlMo7zMUszauJdZDrR8fBxueBpHjU9+\nK/sGnvW943K4doefG/6yDYtOxVNfW4zVoD7yTmOgwRfkW7XtLLQY+EmpzE0Lhe10d79EX18xZWWn\nkJeXl7BPzBfBt7kHw7x0VGl6Btpa6G/ZiyHlNIrmZI55nvSiQhwtmymKzicYNJNFN326TJqcUVmA\ndCJGmUNtEAvLGZndXnRqBekWHQd8AW7IGXtSMx4+Hx0zSzbNQxEKUuOKTE0MBeIJKsxKiUYdlOpV\n8cxMI80DPtlDZnqUOTYkSbbJKFwJ2sRxyv5uF55glGUlaax1elALwkgMk8u1k0jESWtLEtnZ2Qnh\nzAqFgksvvZTy8nLeeecdnM7FmEwzqav74UgA81go0Gv5n8JM3hpw8Z7dxT6Pny/tauTr+1uxKJW8\nPK+Ex6uKjliUDQy8T03td0hJXkHVrN9NmUcGEA6Heeutt3j66adRq9XcdNNNnHXWWRgMBhYsWMCB\nAwcYGhpCrbaQmXkJvX3/4GyrNGZ+Jkyxa6bWw5yr4MDrsjfPsaJr54TB5VuGPKR5h6goLmLQuQmA\n5KQlKBQaCgtuxe/fT16eZ0o8sxOFQr2GJJWS3W4/FZkW9ouF8h96q0/cSUVRHr/EO2YZSXoGIzE5\nvNxbg9FYjkKhxm63s3//fhYvXoxePzanRYqJOP5WixSJkXrtTBTaid+bmjwzsaEQMY/cRU5PT8fn\nM+D3D1tmyIWZyaShaygI1hzw9EybzP6r4GyD7Y/D/Gsh7cimwkeC3Rti9RNbiIoiT9+0mCzr1ILJ\nh+GNxvjavhZ0CgWPzipEE/fV6+j4C6IYpquzilWrVo3eb30XUlTEfKZcsG148UVAzbzzLkoQqhyK\nnPJi3BEHOtQoBWvcMkNNjyuAeKK8zOxxcVXcw6w03URzMERIlJgzBeI/fF4Ks6R82h0+8uO+PzlK\nuc1oMBYf1XhkIowoMzX+eGamkQ6nn2hSEbg6ZS+iaSTC3iC3gA9z+wc5hglgWbFM/D/FasQYj2Gy\n2z8A1LS3m1myZPSIUKlUcvnll1NcXMzrr7+FVnMzkYiThoZ7JrycW/JszDDo+MaBNs7ZXk+9P8iv\nZuTy/inlnJo8vrfYMAadm9i3/78wm2cze/aDRyUw6ejo4KGHHmLbtm0sXbqUW265JaHwXLJkCQBb\nt24FIDf3OkQxxEDf37lunPxMkLlmAH/+aBIKzQXXywqmPc9P+foT4O2Xg60nCi53B8h0OSgpKcHp\n3ITJVDlirJuVdRk6bTb5BdU0NzeNCB/+VRAEgblmA7s9fqwGNSpLBkMq24kVAHi6IRYiYM5n0BdG\nZ5aLoVK9Fo/nwAi/bP369ahUqlGKtkPheruFcJub5MtmoE4/soR/mHsWjttmDGdmxmJeIpHBkcJM\nY1DHR5nTJrP/Uqy9FwQFnH73MR/KF4rytSe30esO8vj1p1CafuTn31iQJIk7ajto8od4eFYB2fH3\njN/fQnv7k9gH8pk371ySkxNj+ER/BO/GbvRVaajTDbgH+mnasQGVbg5zzhxfeJA3s/RgmLnOii3q\nIqTXIErgN+aemI6Z4xAPsz6PPMb0ygvgqilYZcDnpDATrXl0OgPkpehpDYTIEvpRqSyolMk89thj\n3H///TzwwAN8+OGHdHV1HVM8j9Eor1DyhH6GojFsKXokCQY0ufLD6kTndP07ov4d+eeMsfhldmZk\nmECrYJ83wJlxfpkkSQwMvE8oVIhOl8SsWbNG7QugVqv5yle+Qm5uLq+/vguz6XJ6el/B4Rh/1KJR\nKPhNeS5qhcDNeTY2LalkdU7aiG/aRHC7q6mu/k/0+gLmzX0MlWq0sexEiEajfPDBBzzxxBPEYjGu\nv/56zj///FEKpaSkJGbOnMmOHTsIhUKYTRUkWU+hq/OvXJOVNGZ+JkB2kp6rTsnjpe0ddDqP4PGV\nWQU5C+Vx5rFEVo0Yyx4koh8aXL7XEyAMZHuGyM3NwOXaQXLyspFtFQoNBYW3olC0YDJ10Nb2r/8M\nzbMYqPEFCMREyjPN1ApFJ7YwiysyexUyF0wyyIuTArWbaHQIs3kWPp+P6upqFixYMMr/aRj+6gG8\nG7oxLc/GMNc2qVOrs02gOJgAkKDMDLSSrFJiUCqQdAqG/BGChvh4aVqZefLRdwD2PAeLb5Y7l8eA\ncFTklmd3sL/bzZ+vXjDyeT0aPNwxwBsDQ3y3JHtkcSuKYfbtv4NoVKCnZyUrV46mAXg3diOFYiPe\netveeBUkKF6wCqN1/AWv1qAnptQREkMkKYxYA54Rywy7KlPmQB5vX1F7A+iT8SgtdLuClKab2Ovx\no1cIlBqmtjj/bBdmcQ8zjy6bqChhtWgJihI2sRWDoRin00kwGGTmzJno9Xo++eQTHn30UX73u9/x\n5ptv0tDQMClTy0Oh1WahVBrJFuUHKfE3Q6sYV8lNjzNHo+4dyJwNSYncgnBUZFvrIMtL0kZsMoaJ\n/z5fPYFgO+1tKSxcuHBCSwCNRsM111xDRkYG772nQa3Op6b2u0SjnnH3WZxk4sCps/lxaQ5W9eSo\nmD5fI7v3fA21Opn5855CrZ7ag6y3t5dHHnmE9evXM2/ePG699VaKisZPpli6dCmhUIjdu2XFY27u\ndQSC7ai8m7jQlsTzY+RnAtx2hrzSfGAyGZoLroeBWujYOqV7SUD3TnkFnyX7aY0XXL7IrMcf2Ico\nhklJXobojyDFrUuysy5Do8mkoHAvDQ31R38txwnzzHpiEuz3ygKAbcE8JHs9hKfmgzdpxD3MWkRZ\nLezVKNArFJhDtQCYzTOpq6tDFEXmz58/5iGGw8k1eWasFx458aS3sR63fQCFRok6w0i40xs/lxkx\nJnNmAv5WObtVqyEUj+PpJ86ncXce/f1O4+jw4c/kbOZT7zimw4iixF0v7+GTBju/+PJszq7MOPJO\n42Cj08tPm7u5yGbltryDi4HmlvvxePZSV7uYZcsuQKdLTA4Qg1E8G7rRzUxFk2Uk4HGzd80/UWgq\nmHfO2AvxQ2GwZuKOOLFE9RjdHiS9/BzvFtLlJolr4izlKSOuyGwakJ8BZekm9noCzDTpJ7WoPxSf\n7cLM3Q2SSL9SflMJ8SIpLXIAg6GI3l7Z6X3lypXceOON3HnnnVx66aXk5uayZ88e/vrXv/KrX/2K\nF198kerqagKBI6vZZGVmCRkRmW/i0cn/xPtD8YfVtAAgET4HdGyBGaPHmLs7hghGRJaXpLJ20EOK\nWjli0jcw8D4ATmc+ixYtOuJpdDod1157LVZrKrt3zSUU6qWx6dfH7TYCgS527b4eQVAyf95TaLWT\nf5DFYjHWrVvHI488gt/v5+qrr+aSSy4Z9aA6HHl5eeTm5rJ582ZEUcRmOxeNJp3Orme4MScN1xj5\nmTDFrlnVZaAxHVsSQNdOsFWARu4eHs4v2+RwYQn4mFuYj9O5CUFQYlbPp+febXjXy+o+hUJLUeGt\nWCz9dHd/ePTXcpwwzyKPJnZ7/JRnmtkTK0SQROjbf2JOONgCChW1AVnQ0aeSKDVo8flqAAGjsZza\n2lqsViuZmaMJ0SPh5CqBlGsqEFTjP/odnR28+ssf89fv/g/vPfwHQB5nhjs8SJKEIAhYLMWyZcYh\nykx3vKnbGYsvSKY7ZicXHVuh7i1Y8V8jIpujxS/eqeG13d3ceV45Vy7KO/IO46AnFObm/a0U6bXc\nV5E/QjcZdG6ire1hfN4FBIOVY9q6eDf3IAWiWM6Sz7/7n28Ri4ZJylxObsWRF73W9BxZmelVo/PE\nUGgklEqBpnD8u/h4jzPtDTK/rE9e8Jekm9jnDTB7imNM+KwXZnGrjA5RfiFCOnlFlxrZj9FQTG9v\nLwqFAptNruINBgPz5s3jqquu4q677uLqq6+mqqqKtrY2XnnlFX7961/z1FNPsXnzZoaGxieQG4wl\naAJ7SVIpaY1EyLLqODCkBl3SdMfscDS8J69exuCXbWyyoxBgSVEKHzs9nJ5sHrGl6O9/D68nnbKy\nRVgslkmdymg0snr1aiSpiN6eKrq6/orTufmYbyEctrNr92piMT/z5j2FwVA46X3tdjtPPPEEH374\nIZWVldx2223MmDFj0vsvXboUp9NJfX09CoWanJyv4nB8zBz1wLj5mSB3zQQE/vzREd6PWhPMvhz2\nvSKbxE4VkiR3zLIT8zEPDS7f6vIl8MvM5tlEagJI4Ri+7b0j15+dfQWCkEJyygbs9pOQTTkBsrQa\nMjQqdrvlwmzfsADgRI0znS1gzaN1MITNrKU5HJaJ/579GAxFxGIqmpqaqKysHMW1PDycXJU0dsHv\ndw3xwWMP8NSd36CzZj8ZxWV01uwjEgqiyTMjBaJEHUEAbLZMQiET/sBBk9mBuJdZR0Ajm8xOu/+f\nPEgSfPAjMKbD0luP6VCPrmvm0U9auH5ZwUhqyNEgLIrcvK8NvyjyeFUR5jg3OBIZ4sCB/0WtzmX3\n7hksW7ZsFFVDDMfwftKJdkYymlwzkVCQHW+/jkJdxNxV88cl/fs2bcL1xpsApOXn447YsYR0RAJG\n0oV+tEYF+4Pxou540oqCbvD2Qmopjf1eNCoFkl6JNyZOmfgPn5PCrD6UglopYFdKaAVIZhCDoYTe\n3l5sNtuYYzC1Ws2MGTO4+OKL+fa3v81NN93E8uXL8Xg8vPvuu9x33308+OCDfPTRR3R3dyd8+RmN\nZYTDvZQZ1LIAwGakacArB3NPe5klovZNWb6cNW/UnzY2OqjKsdIlxhgIR0fGmMFgN17ffgYGckZI\n8JOFxWJh9erV9PUtJRi0sG//3cRiRx92HY162LX7RkKhXubOfQyzqWJS+4miyObNm3nooYcYHBzk\n8ssv54orrsBgmNrqqrKyEqvVyqZNspIxJ/srCIKK7u7nRvIzd46RFzmlrtmC6yEagOqJA+HHxFC7\nbHJ5iLHs9raDweUtgTAuCfICHtLSTLjd1SQnL8O/ewAEiPYHiPTIowGFQktuzn9gtfZTV/ePqV/L\nccY8iywAKE03MaBIxa9Kgp7dJ+ZkcQ+zNoefvBQDncEIZUY5I9NsmkljYyOxWIyKitHvP9/WQ8LJ\nZ4zuNETCIba89hKPf+vrVK95l7nnXMhNf3iUU6+6llgkQlfN/hEBQKTjoADA7zfj9crPszydBpdK\n9iLumjaZPfloXCPnDJ9+10hn+mjw6q5O7nm7hotmZ/GDL846aosfgB83drPN7eO+inzKjfJiQJIk\namu/RzjsoK/3C2g05jFtXXxbehB9USxny9yyfWs/IOTzoDYspmLZ2J57YihE911303fPPUiSRE55\nCe7IIBZJTyBgIZMeRL2CapdBjk06nh0zR6IiszjNyH6/vIipMusRxQj9/e9O+nCfg8JMYL/PRF6y\ngdZgmDxNGAUSBkMRPT09Y7b9D4dCoSAvL49Vq1bxzW9+k9tvv51zzjkHrVY7MoL6/e9/z1tvvcXA\nwMCIMrNYE5AzM9NMNA/45DBzx3RhNoLBZtkmY+5XQJH4VvSHo+zqcLIsPsaEg/yygYEPAFAqFyYo\nFSeL5ORkrrvuJtraTicc7uRAzS+O6vJjsQB79nwdn6+BObMfJMk6scv6MIaGhnj66ad59913KSoq\n4rbbbhvldD1ZKJVKlixZQltbG93d3Wi16dhs59Hd8xJfStNhUirGtM4AuPWMEhTCJLpm2fNlDuDR\niAAOM5b1BCPUHRpcPiTzlhYnmXB7diJJUazqhYRb3ZiWZ4NCwL/7YGZnSckNRCJGXO6/Tu06TgDm\nmQ00+kOEgKI0E83q0hPbMUuWC7OkOOm5SBslGOrGbJ5JTU0NBoOB/PzE7N9wp4eh1xPDyYchiSI1\nn3zEX+64hfXPPUXerDnc8NsHOPtrt2CwWMmpnIVSraa1eheqdAOCRpEgAAgGzAQCbQctMxQCqSYt\nPUNxZeb0KPPkQBRhzY9kn8AF1x/1YT6uH+DOl6pZVpzK766ai3KcrtRk8PfeQR7vsnNLno2L0w8G\nnPf0vEz/wDuk277O/v1eli5dilabSIyXIiKedZ1oS6xoCyyIsRjbX38FpSab0kXzMFjGNk0eevll\nogMDxIaGiPb1kV9ViifiQIUSgyqVDKmfoE5NqzOEZM09vh2z4cIsVQ4vL8sws88TQC0IlBt1eL01\n7N33jUkf7rNfmFmyaXFGyEsx0BIIkat0AQpisVR8Pt+kCrPDkZqayooVK/ja177G//7v/3LJJZeQ\nlZXFrl27ePHFFzEa5MIsT2FnMBIjI0WPJxTFbyqQCYeR4HG+0X9TbPozKFRjtt63tzqJxKQR4n+5\nUUeWVv5Atne8jt9vYf78C456RWez2fjSpXfT31dJX9/f6OnZMKX9RTHC3n23M+TazqyZvyU19bQj\n7iNJEjt37uSBBx6gu7ubiy++mKuvvhqz+egk6MNYsGABGo2GzZvlsWxe7mqiUTde+5vj5mfCFLpm\nggALb5ANVLt3Te3iunbKxsEZcuE5HFx+Stzxf12fHU0kzIqCvDi/TIO6WS62Tcuz0c1IJrB7YEQE\noFRqUSguRKtto7//OKUSHCXmxbkj1XGe2e5IPvTXHH9LHP8gBF1ErAX0uoNoTfLYJ1uUyct6fTkN\nDQ2Ul5ejOGSBMxJObhodTt5Zs4+/fe/bvP2n36I3W7jyBz/n0ju/T0r2wYWOWqsjp2IWbdW7EBQC\n6hzTYZYZZiTJTzjiGLHMsJg0dLsCYMmd7pidLOx/Rf5snvk9UE0+9udQ7OkY4tZnd1CWYebh1QvR\nqo7O1R/ggDfA/9Z1sCzJyPeKDwac+/0t1Df8hOTkZdTU5KLRaEZMwQ+Fb3svoicyspCo27wet70f\nhXoRVaeNrTSVwmEcjz2OMiWe8FNTg8FiIoBATIqRpDFji7qI6NX4wzEilrzj6/5vbwBBgd8kO0AM\nE//LjTq0CgUu19Sem5/5wkxKyh9p/7cFwmRI3ej1ufT3ywTkrKyx26KThdFoZP78+Xz1q1/ltNNO\nY2BgAEhFodCOKDNV8QdptyIbkE5MHMS/G3wO2PVXmHMlmEcXxxubHKiVAlV5Vja7vJwRl1hHIm4C\ngT243cVH3WUaRlZWFsuW/YZw2MCu3f+N1zu5SB1JEjlQcxcOx0dUlP+UjIyLjriPx+Phueee4/XX\nXyc7O5tbb72VBQsWHNOoYBg6nY758+ezb98+3G43VutCTKYKOrue5frsVMKSxHM9jjH3vfWMEgQB\nHvr4CF2z2VfIvKGpigC6d8lFWfwL42Bw+UFFZoZ7kNKSYpzOTVit8wnt8aDJN6NK1WOYZyPmDhNq\nOchvKy66gVBIT339b6d2LccZc+MCgF1uPxUZZjb6c+Xw9/4Dx/dEcUVmv1r+kovolCiAlKh8nsFB\nI6FQiMrKg1mZCeHk1x4MJ3f2dPGP39zDCz/6Dl7nIOffdgfX/vz35M2aM+apC+fMx97RhnfQIQsA\nur2y2afZTCyWCsjKzFydfHy9UU3PUFDumHl6p01mTzSiYfjwp/JnrOqyozpEi93HjU9uI8Wo4akb\nT8GiOzpXfwBXJMpN+1qwqlQ8MqsQVXwxMGyNIQhqsjL/H/v313DKKaeMom5IURHP2k40BRa0xVYk\nSWLb639HrUsjOaeKnPKxSf9Dr71GtKeHzB/8AASBUK2sVtab0/FEXVglAxa/e8Qyw6XNOc6jzAZI\nKqDZGUWSoDTdyF5vYCS43OXehVYzeUHYZ74wC5ty8QSjWC0aIpKELdaMIU78B8jIOHoZ8OHIzpYf\nnL29/RgMJaRH9wIQ0Mv/zE0jlhnT40y2PSrzlpb/15h/3tRkZ35eMtX+ICFR4oz4GLOt/U0EQSQz\n8/wJLTImi8LCCvLzvotWO8g7736TYHDibqYkSdTX/4S+vtcpKb6TnJyvjrldJBKhpaWFtWvX8uST\nT3L//ffT3NzM+eefz+rVq0cZKU4GkiQRanFhf+YArvdaE/62ZMkSRFFk27Ztsn1BznV4vTVkRvez\nYpz8TJC7ZpcvzOPFbZ30uia4d50VZn0J9r4MIe/kLlgU5fDyQ4xlh4PLTVoVzkiUTklBcTSI0Qge\nzwGs6oVEenwjHlu6makIGgWBPQMjxygsLKWnZw6hcDVO55bJXctxRF//O9Q33EOKWkWBTjOizNw3\nHM10vMeZcQ+ztrhVhksjUKDXEPbuR6vNpKGhF41Gk2CtMhJO/oViNHlmAh43Hz75ME9++zba9u5m\nxVXX8bX7HmbW6WcjKMb/GiiYI3MD2/buRpNrhqhEpNeHIAgYDPL5/IFWMjRq1IKAQq+iayiAZMkG\nKTZtMnuJTrxXAAAgAElEQVSisetpeaF/9g9H0UEmg35PkNVPyJ+hp7+2mHTLxErwiSBKErfXtNMR\nDPNoVSE2zcECr7nlD3g8e6ms+AVbttSjUqlYtmzZqGP4dvYRc4WwnC0rONuqdzHQ2oykWEDVytwx\nF7JSJILjkUfRVVVhPu9c1Pl5BGvrALDYcnCH+jGHtJg8PiR93NJFmSlzXyf7LDsS7I1xfpncUU5K\n0uGIREdcBFyu3VisY9vYjIXPbmEWi4K7C6dG7sYo4tleKeF9I4VZUlLSuLElR4PhwqyrqwujsRSd\nfw8WlYJehRxmXu2XV5ife2Vm2A9bHpYtMmzlo/7sCkTY2+WS+WVOD1qFwJJ4DFNLy6uEwzoWLbxi\nzENLY/h2HQlVVVdhMKwiOXkzL738O8Lh8Y0Hm1vuo7PrGfLzv05BwX8evKVwmKamJtasWcMTTzzB\nvffey1NPPcXatWsJBoMsWrSIW265haVLlyaMmyYDSZQI7LMz8OAeBh6uJlgziOejDsLdBx8qKSkp\nVFRUsH37dsLhMJmZF6NSWejsfIYbctLoDEZY43CPefzbzihBlKQjd80WXA9hL+z7++Qu3NEAYc+4\nweVbBuXrWZJkwjm0BZDQ9cwAAfRz5MJMoVGin5WGv9qOFJVfW5VKhdFwAZGIgeaWP0zuWo4TnM4t\n7N9/Bx0dTxAK9csCALefyiwL7VI6YZX5+Bdm8Y5ZfVzm36uSKDPo8HgPYDJVUltbS1lZ2Yiy7dBw\ncu3CNLa/8QqPf+vr7H73LarOOIeb7n+EpV++CrX2yF/CtvxCDNYkWvfsHJUAkJJSNmKZoRAEsrVq\noloFoaiId9guZppnduIQ9sHHv4L85VB2zpR39wQj3PDENhzeMH+54RSKbWObEk8Wf2jr4z2Hmx+X\n5nCK9aAAwencTFvbQ2RnXYlGs2RcE2QpJuFZ24k614S2TOalbXv9ZdQ6C2pDJRXLx6Ydud58i0hn\nJ2m33YogCOgqKgnW1gCQlpePO+LA7NWg8UqodDEA2sS4n9rx6JqJ4oiHWUOfF5VCYEgjF5BzzAZC\nYTvBYAdm09hd6bHw2S3M3F0gxegV5FVmKN61ypBaE4j/3g1duN5twbezj3CnBzEcO+pTGgwGkpOT\n6e7uxmgsJRTqokyvocEfojjNxIEhJeiTp73Mdv8VAoOw4ltj/nlLswNRguUlcgzTEqsRg1JBIOBB\nkvYiinOwWpNG7ede0073TzYTODD22G4iLFr4S5QKKxbzq7zwwt/GNBZu7/gLra1/IjvrSnJzvkVj\nYyPvv/8+jz32GPfeey/PPPMM69evJxaLsWTJEq6++mruvvtubrnlFs4//3zS0qYWZCtFRLxbe+j7\n3Q4cz9YQ80ZIuqSErO8sRqFX4XqrOUENvGzZMgKBANXV1SiVBrKyLqd/4F3ONIfGzc8EyEsx8OUF\nOTy3tZ1+9wRds7zFsh/ZZMeZXTvkn/GO2eHB5Wu6+lCIImcV5OB0bkKh0KPYk4a2NAml+SBXRj/P\nhhSMEqw76MlWVjaT9vZKhoY24xzaNrnrOUb4/a1U770NlUouUJxDW5hnNtAViqAx/H/2zjtOrrps\n+98zvc/Ozs7W2V6yLb0QAgm9BWmCiBKKgCjKoygW9PFR0edVsaNSRKSDKNIJEAKEJKS3zWY3u8n2\n3qb3ft4/zuxml+ym+76KXp9PPrv5zWlzZvZ37t99X/d1KdCrFAxoKv8BGbNuMOTQ7klh1irpSSQo\n1yoIBjsQU3aCweBEN+Zkc3KHfYwn776D9c88Rl5lNTf+/HdccPud6DOOPVsryGQUz55Hb9NeZCYl\nMoOSWJ+0ILDZcolEDPh9EvHZrlERTD+QRkgvQv/DM/vHYdvDUkby/B9IPNDjQDSR5AtP7+LgiJ+H\nVi1kbuHh8+nx4AOXj/u6hrk6x8Itkwy743EPzfvvRqcroarqf9i0SeLynnHGGYcdI9QwStIVwXSu\nlC0b7mijt6kRmWo+FQvy0RoO58+JySTOP/4RdXU1hnPOAUBTU028p5dkIEheZRn+uJMMUUckbCJX\nPoJSK+NgLK3zdioaAHwDUvUnq4K20QClWXr2h6IIQK1eg88rNUC98sq+Yz7kydeC/lmRlsroTkgT\nhFcpoJOJmJMeVMoiXK6DzK6bjeeNTvhIhUduUaPM1qHI0Uk/s6WfMs3Rb1dBQQG9vb3odZIycakq\nwjqfgnNsevb2e/5jZp5KwpY/gH0xFE3v57e5w4lGKSMvx0BrTx+fypUykXsa/oJcHqfQftVh+8Qd\nYXzv94Ig4Hx6P+ZLSjEsLzhmDpdSmUFd3U/Y1/QlHI7XefFFLddccw1yuZT67ul5nvaO/yWVms+G\nDUX87W8/RxRFZDIZBQUFLFu2jJKSEgoLCw/rMjpepEJxAtuGCWwaIBWIoywwkPnZarR1WQhy6f2Y\nzivC83onkQNutNXSJFNUVEReXh5btmxhwYIF2Auup6/vMUaH/8oN+dfyi+5hOkNRyqaxB/nyORW8\nuHuARzZ08r1P1E5/YeNNAG/fA8NNkmXTkTCwG5R6yJJ02T4qLLvdEyArEKC6tJaGvVsxaeaTcibQ\nnZs95TCaigxkeiWhhlG0ddLfc0VFBatXV1Fe3k5X1++wzH/6mO7tiSIe97K38TYEQWDRwr+xfceV\neNzbmJcrPQwaA2Gqco00B0soHV4tuY7IT5yrMwWTOjJzLVpGRJFCuQtIMTamQSaLUVlZiZgScT7X\nSioaZ1v0bTr/sJOsohKu/u6PKJm74KinmQnFc+bT8uEHOPp6UNmNUzoz+/qNBIISNcOuUXEwPUX2\nJi1UwH8Cs38UQi748H6p6jDDPDoTUimRr/9tL5s7nPzm03M5q+rYrLlmQm84yh3NPVTrNfx81qFy\n42RpjEULXyAUSrJ7927mzZuH2WyecgwxJeJf14cyT4+mRpofdrz2IgqVFmT11C3PP+y8AL633ibW\n3U3Bb387cV51epESPXiA4vpKdsRd6EUNsYiZXAbxaMvYF0yf/1TwvSd7ZI4GqMkz0hQIUaFTo1fI\nGfI2AAp8vmNfEH3sA7PWcAY2o5reeJxCZRghCYGAlEK1KcwgBrHeUIPCpiM+EiIxGiI+Kv2MdHgg\ncShqk5tUU4O19O/jZVKQyplNTU0IgvRFKpY7ccat5GXqWL1viGRZGfK+Lf8Pb8Q/GVpek/4YLvzf\nGVd5WzqcLC7JZItP0q86O1MSIh0cfBOzWUll5eVTthdFEe/rHQgKGTlfmY/37W68b3YRHw1hubLi\niCrnk5GdfRHZ2SuBd9i5o4i//13SPRtzrCU//zU8nlxaW+opKNCwYsUKiouLsdul7qJTgYQnSuDD\nAYLbhxFjSUniYIUddbn5sABTvzSPwJYhvG92oqm0IMgFBEHg9NNP56WXXqK9vZ2qqiqsmSsYGPgL\nn114G7/pGebJAQf3Vh7e2VRs1XPF3Hye2dbDF88uJ8swQ3A559Ow9gdS1mzlUZwTBndLUhsyKbjd\nMcm4PJZK0SHKWSLGEAQ/wWAbBdGzQCFMBF/jEOQytHOyCO4YIRVJINMoMJvN2GwFuN1LgLV4PDvJ\nyDi6A8SJQOrA/TLhcD/z5z2FTleKJWMJbs9W5lRoEZAcAKpzjWzeZ+cTYhQcByHn6LYxxwRXF5Sd\nRU9biJy06XhuurGovT1GWVkZGo2G8EEnsR4fOxxvMyLv5cIvfIW6s89DJjvxDjs4xDPr3rub6sIl\nRA64SEUSE52Zsdi4ZIYSh0xEDfQGVaDQ/qeU+Y/Cpt9C1Afn/c9x7SaKIj96Yz+rG4f47spqrpp/\n/HJDkxFJprituZskIo/Vl6KXH/qujUtjVJR/C5NpNu+88w6pVGrabFl43xgJR1hypRAE3MODtG3b\njDF7GfpMC/mVh2f0xFQKx8MPoaoox3jhoVKuJt0EE2lpIXPBAgKpODIEjEobueIYezWzaHLLpEXj\nqShlOqSMccRcRo+zgcvm5vOsP8ySdDnX69tDKlmAUnnstKmPeWAmsC9goDhTSVc4SqngQi43MDYm\ntbNbojpEgqiKTcgNKpTZH+kQSYkkXRHi48HaiPQzuH0YMX6IyyQzKCcybDabFIk7nTIEQUm+2ANY\nUZtUiCK4NXayvP2SZIbyxImW/5IQRdh0v5Q1nLVy2k3G/FEOjPi5cn4B691+bCoFNXoNnZ0d6HXt\naDSLUCim3rfIfheRA27Ml5ahsGrJ/Ew1PlsP/vf7SDjDWFfVTnSlHQ1VVT/A5drMosXNbNxgJDPT\nSW3dWgShlAXzf8cVl1ccplJ9sogPB/Fv6JdEVRHRzbFhWGFHlT8z50OQyzBfUoLz6RaCO4YxLJW6\ni2tra1m7di1bt26lqqoKu/1G9jbehsy3jpW2Op4fdvHtsjx08sOD1S+fW8HLDQM8urGLey6ZQShX\nlwm1l8Pev8L594JqBkHcRExq4T9N4uGJosiubvcEv2zHmJuETMYSswG3W1qoKFuL0dZYp81M6+Zl\nE9wyRLjZiX6hxF+qrKxk69YhVpxlpavr98yffxK2UTNAFEUOHPwBbvcWamt+jsUitfdnWE7D4Xwf\nRdJBpU5Dgy/MBTlGnt5RCGpgqPHUBGbxMPgHSWaUMOAJk18qzS+2WCMBmYHR0SRLlkiflfODdmLJ\nCOalRVy66nuoNKeGP2uwZJJVVEJP4x7mfPo8ECE2EMBQZiaZsAIHiMUc2DUqRJUMlVzGkC8tMuv9\nj1/mKYdvUOLozvn0cX/HHvyggyc2d3PbmaXcvuLEVf3H8d9t/TT6wzw5u5TSSZn4CWmMjKUUFX2e\nUCjEjh07qK+vx2qduvASUyK+9/tQZOvQ1kll0F1vvIwgkxGN1LL4zPxpKx/+d9YSa+8g/5e/nNLA\nosjORm6xTHRmKvSZhJIBMuQGrPF+kjoFI4NhUkXFyE5FKdPZBiojXREDKRHyMrUM+ELMNupIpeL4\nfI14fbUUFh67tdXHl2Pm6QVjHp3uBPZMHb3hGDliH3p9OSMjI2i1WtRjKeQWNfJpatcAgkxAkaVF\nW2vFdHYhmZ+eRc5/zSf/3mXkfmsx1pvrMK8sRVOdiZhIEdo5gnq9F0EQGBoaRacrITveBEAs3Q3S\nL+QhSWZ0/b+6E/886P5Qkk9YdudEFuWj2NIp8cOWlmWy3nXIhmn3npdQqcOUln5yyvZiPInnjQ4U\nOToMy6TgRJAJmC8sIfO6WcT6/Iw+0EB85NjMpdWqLGZVfR/o4JOfjDBn7gYMhnJWLH+BsrKaUxaU\niaJItNOL44lmRn67m/A+B4bT88j95mIyr6s+YlA2Dk2tFVWpCd/aHlIRiROnUChYsmQJnZ2djIyM\nYLWuQKspon/gmUP+mSOH+2cClNsMXDYnn6e2dOMKztwAwYKbIOqF/UdQ3x9thmRsgvg/4Akz7Dtk\nXP5Oj1TiuqjEjtu9BblgQDVSMNGN+VGoiozIMzVTxGYrKipIJGRoNJfjcn+Ix7tr5us5QfT1Pcbg\n4F8pLr6DvLxDcgSWDMlxwu3exjyTdqIzs0vMIynXnjqeWfrB4VIVkEyJRDVybCoFhBpJpQoAgerq\nalLRJKmuCP3hg5x5/Q2nLCgbR/Gc+Qy0NiPYpO9/rM+PIAioNZLWVCjcTaFGBYKAxaRiwBMGc8F/\nMmb/CKy/T6KEnPOd49rtbzv7+MWaA1w5L5/vrqw5+g5HwbODTp4dcnFXcQ4XZR0qTaZScZqbv44g\nKKmt/SWCIGPr1q3E43GWL19+2HEi+50kRkKYzi1EkAkEPW6aPniXTPsiFCrTtEr/oijiePhhVCUl\nmC65eMprgiCgqakm0iIFZsasAnwxB6a4BmPQO2FmHtLZT1HGrE3il6XNy5NpeazZBi2B4AFSqQgj\nI/pTG5gJglAoCMI6QRBaBEFoFgThq+nxTEEQ1gqC0Jb+aUmPC4Ig/E4QhHZBEBoFQVgw6Vg3pbdv\nEwThpknjCwVB2Jfe53fCqRB38vSSMhcy7ItgMqlIAVmJgxPm5bm5ucT7A1IL+HFCkAkoMjVoqzMx\nrrCTeU0V2V+ah+miEmTeJFmZWenOzEp04QYMchnudOx3MJHmz/w7NgBs/h3obTB3eokJkGQyjBoF\nglmJMy7ZMLndboKBD0GUkZN93pTtfR/0k3RHsVxRjvCRLJBuXja22+cgxpKMPriXyAHXMV1mTs7l\nWK3nMOZ4EaXSyvx5T6BUnhw5dhwTHZYP7mXskUZifX5MFxSTe88SMi4rR2E5ehZVTKVIJZMIgkDG\npWWkgnH8HxzKTCxcuBClUsnWrVsRBDkF9s/i8WynTt5HtV7D4wPT+2cC3HluBeF4ksc+PMLCoeRM\nKet5pCaAgbTif5r4v6tHCgYn88tMkRBziuy43VsxROqRaZRoZk1vviwIArq5NqLtHpJ+KWgc5/MN\nDVahVGbS1fX7ma/nBDA29i5t7T/FZruY8rKvT3nNaKxFoTBONAA44wlMFg0pZIwZqk5hYCZ9Dn2C\nlCV0K6FSpyYQaMXtMlBYWIjBYCC0bwyZKCOWn0SlPX7T5KOhZM58kokEgz0HUFg1E9ZMZlMlIGVI\nxkVmDXoVQ94ImP6BgVnqxJu0/qXhaIfdT8OiWySl/2PEtk4n33lpH8srs/j5NXORnYSqP0CDL8R3\n2/o5y2Lkm6VTuyU7u+7H52+kpvqnaDR5RCIRtm/fTnV1NdnZU/mjUrasF4VVg3a2tCjb8/brJBMJ\nwqE6yhfa0ExT7QisW0e0tRXrF76AID98ka+uriF68CBiIoG1oAhfzIEhpMToD09ombmUeRKt5njd\nTD6KdEdm+4gfmQBjSul49UbthLCsz5t1yjNmCeBuURRrgKXAlwVBqAXuAd4TRbESeC/9f4BLgMr0\nv9uBh0AK5IAfAKcBS4AfjAdz6W1un7Tf1BD4RODpJagtQBRBkf5gsxKtaDWljIyMkGPNJumOTrSA\nnwqoiqRj5RqzGBwcRKcrJxLpo1KnoismmZk3BMclM/7NtMxG9kuG5Uu+AEeotW/ucHJaqZWNHmn1\ncZbFyI4dO7Bm9WM0LUKpPLQySzjD+Nf3SbIAZRmM9Xaz7eW/kZo0aauLTGTfOQ9FpgbHE80ENg3M\nGJSMQxAEaqr/D/l51zJ/3pOo1SevdSfGUwS2TeqwDMXJuLKCvHsWYzqv6JhKraIo0rp5A4/ceQsv\n/uT7iKKIym5EN8+G/8MBEh6po1Kn0zF37lwaGxsJBALk530KmUzNwMAz3FyQxb4Z/DMBqnKMXFKf\nyxObu/GG4tNfiCDAwpugdwuMHZh+m8HdoM2EjGJAcnLQp43LU6kUB1BQJcaJxYYIR3pR91Wgrc9C\nUM48Jenm2UCEUFrTTC6XU15eTltbL0WFt+FybTxuhe2Z4Pfvp3n/1zAa66lLr/qn3gI5GRlLcLu3\nMi8tNNuVSJBtVNMmK4PhRqmN/mSR1jBri0slnkG5SIkqSioVYXRUPSEq69nUjT/uJm/ZKeK1fQTj\n9kw9jbtRFhonJDOs1ipSKQGvp418tRIBUOqUDHrCUmDmHzr1QdTup+BXs/795lCAdf8LCg2s+MYx\n75JKifx49X5yTRoeWrUQ1TFybmdCbzjKrU1dZCkVPFhbjHxSHmWyNEZ29kUA7Nixg0gkwooVh7uj\nhBpGiQ8GMZ5fjCAXiIVDNLyzmpyyeSQTZuqWH86HFUURx4MPobTbMX9iqrj3+r71vHDwBTQ11Yix\nGLGuLnIrSvDHXZjjOmRBORqtNE8OCtkQD0Fw+m71Y0IsJLn5pD0yS6x6WsNR7BolFqUCn3cPYCYa\n1VNQML1rwXQ46ickiuKQKIq707/7gRagALgCGF8yPwlcmf79CuApUcJWIEMQhDzgImCtKIouURTd\nwFrg4vRrJlEUt4jSE/OpScc6MaQ1zJxK6YEaT5cRcxkikbCSTCbJUkgP+BPJmM0EVb4BFAJZoolQ\nKIRAPpCiTBXjQChCuc1As0uQHlj/bp2Zm38vKccvvnXGTfrdIXqcIc6okPwx6wwaMgSR/fvfR6fz\nkpd3yZTtPW90IshkZFxaSjwS4bVf/R8+fP4pNv/tuSnbKTI02L44F011Jp7XO/G80n5UvTO1Ooea\nmp+i0xWf+HsGUuEEvnV9DN23Hc/L7QgaOZnXV5N79yIMS/MQlMdGzB7r7eaFH32X1ff/HIDepr20\nbFwHgOniEkDEt+ZQWn7p0qUkk0l27NiBUplBTs7lDA+/yhWZiiP6ZwLceU4lgWiCxzcfIWs297OS\nEfCuGbJmA3ukbFl60paMyy0o5DIahkcJKVUsNutxuyUbKd1o9YxlzHEoc/Qo8/QTgRlIPLNAIIBS\neX46a3byumbR6Ch7Gz+PQmFi7pxHkMunX0hYMk4jHO6mXOlDKQgT5cydsSJJ7+1UBA7uLlAZOehT\no1HK8MlF7IJUzg0EJO26hDsCQ3F6gvspX3TayZ9zGihVagqq6+jeuweV3UjSGyPpi5KTk0ckYsDr\na0Mlk5GjUiJq5Iz4IiSNeadeZHakGd78JgTHpADt3wmDe6D5ZTj9y2DIPvr2aazeN0TTgI+7L6zC\noD45WnmDL8Slu9sIJFM8NrsUq+rQ8eJxL83770arLaay8nuApO+4ZcsWKioqJnQ+x5GKJfGt6UZp\nN0z87Te+t4ZoMAiyhVjy9OSVT+3eBAh++CGRpiast38eYRK1JJqM8oPNP+DXO3+NqkrqBI+0tlJU\nV4Ev7sQ8LpmhHEGmEOhMnAIts/HnuFWSyqhIWzHNMUiLNa9vD+FwHjk5uWg0x84pP67QWRCEEmA+\nsA3IEUVxCKTgDRj/phQAfZN260+PHWm8f5rxE0daw6xflG68VwlGWQoDfvx+qVPCEtWBAMqCkxPV\nmwxBIUNVYMTqlyZyn186drHcyVgsQb5VK5mZW8v/vUqZ3gHY9zdYcKNEHp8BWzokftn8UgvbvUHO\nsphobGzEYJC6XmxZ509sG251EWlxSdkmk5qNzz+JZ3iIwtrZbHv5r7TvnKoIL1PLsd5Qi/EsO8Ft\nwzgebyY1U0boFCDpi+J5s4uhn22XJp98A1m3zSb7y/PQzbZN8S08EiKBAO8//kee/vZXGOvt5vzb\nvsRtv3uU3Ioq1j/zGNFQCEWGBuOZBYT2jE5kMrKysqiqqmLHjh3E43Hs9lWkUmH8jpe5Nu2fORab\n/v3X5pu4sDaHxz7swheZ4R4ZbFC9Evb+5XBvyFgQxlqmMS6XEuRruqQ/9wvT+mWKZAYaSlCXH71c\nrJufTbzPT9wRBiSeGUBn5yBFRbfhdG3A6zvxMmIyGWZv4+0kEj7mzvkTavXMD8AMixQEhb07qDFo\naPBJnZkfeNOcmKGGE76OCbi6ILOEHlcIW4YWBIHcVDuiKMdorCQzM5PQHilQixeKaAynbj77KErm\nzMfZ30vSLC1qYn0BbDYbkbCJcFh6uNk1SiIqgZQIHkX6wec9RZIZsSC88DlEjZlA7mnQ8Jd/L8un\n934kLeqX3XnMu8STKX75zgGqc41cMe/kHqvvOLxctacdtUzg9QWVzDUeKpmLokjrge8Rizmor/sN\nCoX0nN29ezehUGhablngwwGS3hgZK8sQZALJRJxdq18hp7wWr8NE3fLDSf+iKOJ44EEUeXlkXDk1\nf/Nax2s4I04C8QCDWQKCSkWktRVrfib+ZBQNSlLxTPKFQdDJaImkC3YnI5nhkKQy4pZyuh1Bim16\nOsNR6o1aYjEH4XAvY2Om4ypjwnEEZoIgGIAXgbtEUZxeQjy96TRj4gmMT3cNtwuCsFMQhJ2SJ+UM\nSEtldCas6FRyBsUkhYoAAgIOhwy5XI7RKUORrSMSDRD0uI9a3jpWqIqMGEelc4yOiAiCnHykSUtv\nUuOPJogYS/690vDbHpLq+Eu/dMTNNnc4sepVjKkE4qLIWRYD27ZtIzdvBKOhDo1GWnGJ8RSe1zpQ\n2LQYzsinb/8+9rz1OvMu+gSf/M695JRV8NYffoV7aOoDQZAJmC8pxXJNFdEuL6MP7iU+dgTz7hNA\n3BHG/VIbQ/ftILCxH011Jtn/NR/bLfVoKjKOWVctlUrS+N7bPHbX7TSsWc2c8y/hlt/+kbkXrESu\nUHDeLXcQ8nnZ8vdnATCeXYhMr8Szumviu7x06VJCoRD79u3DZKzHbF5Af/8z3JifSUwUeX5oZs7d\nV86rxBdJ8NTm7pkvcsFNklBwy+tTx4caQUxN8MvGjcsnFP89ftTJBIvzsnG5NqMdm4V+bvYxBava\nuTYQIJxuAjAajeTl5dHW1oa9YBVKpeWEs2aimKJ5/zfw+5uoq/0NRuMMem5pGA01KBQm3J6tzDPq\n2OsPUZVjZH8iH1GmOjU8s0kaZvq06G5GaBeBgJnq6jpEUcS3rZ/RcC/FS09cq+xYMC6bMTB2EGQC\nsX4/BoOBeMJCKjWclsxQ4UsnMYZPtcjsW98Cx0FeL/shd/WeCYFhaF97ao79z47O9dDxPiy/W7JH\nO0Y8v72XHmeIb19cjfwkeGVPDDi4eV8XlXo1by6ooko/NfszNPQio6NvUlb2dUwmSeE+kUiwadMm\niouLKS6eWnlI+mP4P+hHU2tFXSa9n9ZNGwi4nBiyTkeulDHrtMOV/kNbtxJuaMD6+dsQJskUJVNJ\nnmh6AptWWgzs9xxAXVlJtKUVQSaQUhtIpOKY5DZyUg7iGiW7fOlq2clkzJxS0qBHzCORElGbpGua\nbdDi9UoLM7cr4x8TmAmCoEQKyp4VRfGl9PBIugxJ+ud4u1Q/MPkq7MDgUcbt04wfBlEUHxFFcZEo\niotstiOUPbxSYq4llEFRpo6ucIw8YQyNxs7wsJOcnBwSA0FUdgNPffNOHv7CDTz4+ev56w/v4d1H\nH2TPmjfobWok5D02U+vJUBebkCcEsi1ZDA6OodUWkROXzIaTadLhmMouTVbx8HEf/18OES/sfELy\nWbTMXBYURZHNHQ5OL7eywe1HIxPI9ozh8fSi1Q5hsx3SqfFv6CfpipBxRTnxRJQ1D9+POSeXFZ+9\nGVjfT/EAACAASURBVIVKxWVf+w4yuZzXfv1T4tN4X+oX5WD7/GxS4bjUFNB+/J/zRxHr9+N8toWR\nX+0kuHsE/eJccr+xCOtnqlEdZ1Z28GArz/333ax95A9kFthZ9bPfcv6td6A1mia2yS2vZM65F7H7\nrddx9HYj0ygwnV9ErMtLZL8UcJWWlpKTk8PWrVulh2bBDYTD3diiO4/onwlQX2Dm3OpsHv2wi0B0\nhqxE2TmQUXR4E8BgmvifzphNNi5PJpMcREGFGCca6SEWH0XnrEE3b2pmKpVK8v4Tf2Sks33KuMKs\nRl1qJtQwNhGAVlZW0tfXRzwuo6jwVpzOD/D5Go/pXk9GZ+evGRt7m4qKe7DZzj/q9h/lmfmTKQwW\nNXEUeE2nwAEglQR3D6KllB5XCEGvQCeToQ5uJRDIpKamhlivH7xJeoLNVCw+PqHR48WEPVPTbpR5\n+gmhWaWyAEGIEYuNYteocKar8z2JdEbiVDQANL4Ae54hsexr/Gi/jXWpeQSU1n+PcqYownv3gskO\ni2875t2C0QT3v9fOktJMzp51YiKyKVHk3vYB7jnYz/lWEy/PryBbPZUPK0lj3IslYynFRZ+fGG9o\naMDv90/LLfOt7UFMpDCvlPxWxVSKHa+9iLWwhJFuC5WLsqcl/TsefAiFzUbG1VMN29/rfY9efy/f\nWvwttAotTY4m1DXVRFpbEUURgzVPKmeiIzPuRdQpaHODqMs6+YyZuZCDbolHGdFJX/45Rh1eXwMg\nJxCwnvrALN0h+WegRRTFX0966TVgvLPyJuDVSeM3prszlwLedKlzDXChIAiWNOn/QmBN+jW/IAhL\n0+e6cdKxTgxpDbMGn4ECi47BaJzsVA/6tEdmjsVGKpggpo8T9LipXX4OlUtOJ5VM0rppPe8/9jAv\n/Pi7PHT7Kh687bP89d57ePfPD9GwZjV9+/cR8nlnPLWqSHp4Zqut6QaACnThRnRyGX6NtGLpIb0S\ncP0bSGbsfFzySzxjerPycXQ6goz4oiwrz+IDl5/TMwzs3bGDvLxRQMRmuxCAhCuCb10f2tlZaCos\nbHzuCbwjw1z8xbtQpmv45uwcLv3KN3H09fDOI7+fNhuqLjGT/eX5yE0qHI81Edg2dNxvTRRFIm1u\nxh7dx+gfGoi0uTGeVUjet5dgubIChfX4JAuCHjdvP/gb/vI/3yDodrHyv77Bp394H9klZdNuf+Zn\nbkSt0/P+439EFEX0S/JQ2LR43+pCTKYQBIGlS5cyOjpKZ2cn2dkXo1Jl0d//NJ9L+2e+O4N/JsB/\nnVuBJxTnma0zrChlMqk83bVhaml+YLdE/DZKHM/JxuX7e/tw6YwsMesn9MuMqXko7VOD17Ztm9nz\n1utsePbxw06rnWcj4QgTH5CsgSorKxFFkY6ODuz2G1AoMo67Q3No6EW6ex4iP//TFBXOzIP8KCSe\nWQ+1KqlZxaMWkAnQq04HZieTifcNQCqOV2snlkgRVsso18pADJBKFZCTk0No9whJMUGqUIHOdOyZ\nlBOBIJNRPGe+ZGheYCDW70dMiRj00vczGOrGrlERU0uPld6QOi0ye5IZM2cHvPE1KFzK8/rrcQRi\nWI063hDOhoNrwD98ku/snxytb0j2Zud857i0L//8YReOQJR7Lqk+5kz9ZESSKb7Q3MNDfWPcXJDF\n47OnCsjC9NIYAMlkkk2bNpGfn09Z2dT5Kz4clLQXT89DmSXNkZ17duDs7yV/1rkkYqlpSf+hnTsJ\n7diB9bZbkU1yVxFFkceaHqPYVMwFxRdQa62lydmEprqGpMtFYnQMa0ER/pgTQ0SFKeBD1CmIJ1PE\nTYUnZ8vkbJP4ZSMBBAEGFSI2lYIctRKvdzeJRB5arRmL5dhV/+HYBGbPAG4A9gmCME6a+C7wM+Bv\ngiDcCvQC467SbwIrgXYgBHwOQBRFlyAIPwbGje1+JIrieC3lDuAJQAu8lf534vD0Ihrz6HTHqSlX\nIZLCGm9BriggHA5PEP8dYYnrcvqnricjRwqWRFEk4Hbi7OvF2d+Hs78HR38vLRvXEQsfKnvpzBlY\nCwqxFhZhtReTZS/CWliE1mRCnqHGljCwNxZDJuQTjayjyqiinyRapZzWqI3lIBEHc45cLvmXRiIq\n+bmVnQ15c4+46eY0v6y80ETbARefzNBx4MABzjzThUZTiF4vkTk9b3QiCGC+tIzepkYa1qxmwSWX\nY6+dag9UMncBZ1y7ik1/fZq8ymoWXHLZYedUZGrIvmMurr+04nm5ncRoCPPKsgnbo5kwLnnhX99P\nfCCAzKjCfEkp+tNyj8m266NIJhLseft1tvz9ORKxOIuvuIalV117VNkDrdHEmdfdyLuPPsCBzRuo\nPuMszCtLcT65n+C2YQzL8pk9ezbvvvsuW7Zsoby8nPz86+jufoAVFT7JP7PfMUWDaDLmF1lYUWXj\nTxs6ufH0YnSqad7bvFWw7qdS5uKCe6WxgV2S4j+HjMuvWSglxdd29wMGzi/MxzX8MIqwFXNN/ZQH\nhyiKbHvlBRAEepv2MtrdOSU41dVn4Xm1g1DDGCq7kYKCArRaLW1tbdTX11NUdAudnb/G52ucKKsc\nCW7PDlpa/xuL5XRmVd171IdYIBDA5XJRVFSEJc0zy4rtQSsrpTkcpSRLT2OyhDkRj7RIPEKm+IhI\nL9wGBGluciphsVwKpHNyFkFCJNgwSl/wAGXnLjmxcxwnSubMp2XjOiLaCGIkScIZxmKZRTAELlcr\n9owaUMjQaxQMeiOSyOzJBGaJKPz9FpDJSFz1CA//qYP5RRlcPjefh99YxnXqF6HhOVj+9aMf618R\nyQS892PImgVzrjvm3ZyBKI9s6OSiuhwWFB1fUADgiie4eV8X271Bvl+ezx2Ftmn/LrrS0hiz6x9A\nozmkN9bU1ITb7eaiiy46bD/Pm10IagWm84omxna89iKmrGxcI3lYC+TklJr4KBwPPoTcaiXj2mun\njG8f3k6zs5nvn/595DI59dZ6/tL6FxSzpGRAtLWFnNISHM3vY47YMAQiiAYpwPRpCsjyNB33/QGk\nRZejHeZeR9uon0KLjtZwlNkGLalUQhKW9VRSWFh43IHxUZ8ioih+yPQ8MIDzPjqQ7qz88gzHegx4\nbJrxncBRjPeOA55e4kY70bEUKr0SiJIj9hCL1gA+ifivSNA70Iw+w4I5+5AcgiAIGDOzMGZmTfGX\nE0WRgMuJs08K1Jz9vTj7etm/4X1i4UMlyVmnL+f04iuwdEoTaCiUgSgmKFMn2OxLUpqlZ1dAzefh\n498AsO8FqV3+igeOuumWDgcFGVrakcpm5p52gvI4guwANtsNCIJA5ICLyH4npotKSGlSrHn4fjJy\n8zjzMzdOe8zTrvwUQ+0HWP/0o+SUllNQfXgQLNMosN5Uh3d1J4FNg8THwlg/Wz1tgCXGUwR3jxDY\n0E/CGUGRpcXyyUp0C7KP2fbpo+hu3MO6Jx7BNdBH6byFnH3T7WTmHztJd/Z5F9L43tusf/rPlC1Y\njKY6E3WZGd+7PegWZKPQSIKz69atY2xsjIKCz9DT8xAjQ89xQ/7NR/TPBPjqeRVc/dAWntvWy23L\np8ncmfKg6iLp4Xju9yDql3hRC24AoGVoqnH5NrcfWYaepbYMdrZsReeajf6iqXIk3Xt3M9bdyVmr\nbmHTC8+y+83XuPhLd028LtNJemehvWOYV5Yik8moqKigra2NVCpFof1Genv/TFf3H5g755Ej3r9Q\nqJt9++5Aq7Uzu/4BZLIjy5bE43GeeuopxsbGuPPOO8nMrEGhMOP3bGWOsXaiAWBjXz6rQMqanWhg\nltYw60zaABcOBVjCnYgiVFWeS7jFCdEU3f4mrlz8qSMf6xggiiLJeIp4LEk8kiQeS2LK0qJUHcqS\nFM2eB8CQp51ssoj1+cnOrqGjU4bb3Yo9V7p/ZoOKQc94YHYSpcx375WaKD79LK/3yOl3h/nBZXXU\n5Bm59/U8Bs0LyN/zNJz5teM28v6XQOPz4DgAn34G5Me+6HtgXQehWIJvXjTruE/ZHY7y2b2dDERj\nPFJXwuXZ0zfluN3b6J6QxjikcJVKpdi4cSPZ2dlUpbsjxxE56CZ60I350tIJK8OBAy0MtO5n0eU3\n0rQxzIrrqg4LZMJ79xLcvJnsb9yNTDu1EvFY02NYNVYuL5es+uqz6omlYvTnyhGASEsrhRdcRefL\nf6dA1JEKaTDYgsSAMUUuWd63JdrA8VqXBUakalBWJe1tAcpsetaGIlyQZSYYPEgqFWZszMT8+UVH\nP9ZH8PG0ZPL04LNIK/a4Rg4JSSrD59MBPswuJcp8DQP791Mwq/aYollBEDBaszBasyiZt3BiXBRF\n/M4xnP19NKx5g/YdW1j+hc9g3KtCaVTicqlRqaFI7uKlmImlWTqaB7ygy/p4NwCkUpJERs5sKD/3\nKJuKbOlwcl5NDuvdAXJUCka27aC+XkAU49iyLkBMpPC83okiS4txeQHvPfEwPsco1/3wPpRqKb0/\n2uOjY/cYSy4rRa6QIchkXPLlr/Psd77G67/9GTf87H70GYevHgWZIIm7ZuvwvNrB6IMNZN1UN1GK\nTEUSBLcN4f9wgJQ/bSp+fdpU/AQJtd7RET546lHad2zBnJPLld/6H8oWLDnulZVMJue8W+7gL//z\nDba+9FdWXP85zJeWMfqHPfjW9ZFxSSmLFi1iw4YNbN26lcsuuwxb1oUMDr7AZxbdyW96mNE/E2Bh\ncSbLyq08vL6TVUuL0Uwn77HgJjjwJhx4C1RSN9Yhftkh4/JIJMJBQUkJSVLhNhJ4MYrzDrNC2/7K\nCxisWcy/5DK8YyPse28Nyz9705TPTjfPRmS/k2inB02FhcrKSvbt28fQ0BAFBQUUFd5CZ9dv8Pmb\nMBmnX/NJxuSfRxRF5s55dIpG3kx47733GB0dRSaTsWHDBq666ioyMhZLDQBZd/LkoINzs4080pSN\nqJEjDO2VLKxOBK4ukClpCZlQyNxENHIyQvuIxjMoLq7C9VQLETGEvFCLIVMi2g91ePE5wsSjSeLR\nJIlJQVY8miSRHh///0df+2jltXyBjYtvnz3xf4MlE1tRCR1tO8hRfYJYn5+cWXk07zcQCHRSq5bI\nzxp9WsusyA5dG0/s/R94G7Y+AEtuJzXrUh66fwNVOQbOq85GJhOoyzfx98S5fMX1S+jZJAkff5wQ\nj0jZ6IKFUP2JY96tzxXima09XLuokIrs45OD2uUNcsM+6bn0wtxylmRMz4+VpDG+PkUaYxytra04\nHA6uvvpqZJOsksSUiGd1J/JMDYbTD0lnbH/1BTRGE7HYLBQqN1XTkP4dDz6E3Gwm47qp4uQtzhY2\nD27mqwu+ilouLS7rsiQtv6ZwJwuKioi0tpJ3axb+RBiTqCMcNpKnGaZHyKBPzKYmJclrkXGcAVS6\nIzNpKadzLEhNiYWkmEwT/98HwOc/PmHZcXz8LJmSCfAOMCqXVuEBtYBFnkBHiLExGdZMKwxFwKbA\nNzZC/qyTKyUKgoApK5vSeQuZc/7FJBMJ/LiQIZBjtjEwkAQECkSpU9RoVtPvDpPKLPt4B2Zt78BY\nq8QtO0qw0TLswx2Ks7TMykaXn9lijGgkQl7+KEqlBbN5Af6NAyQcYTIuL6e3pZG9a99k4corJrJg\nsUiCtx9pYveaHjY8f3CCV6bRG7j87u8SDQZ547f3kUzM3F5vOC2PrFvrSfrjjD7QQLjZgfftLoZ+\nuh3vW90oc/Rk3VZP9p3HJ3kxGfFYlM0vPMsTX7+D7sbdnHndjdz8ywcpX3jaCfFAAPKrqqk/5wJ2\nrX4F50AfqgIDuvnZBD4cIOGKoNfrmTt3Lnv37iUYDGK3ryKR8IDnbS61ZfCXYSfe+Mz35SvnVeII\nRHl+e+/0G1ScL3HKdj85ifgvLYx2TjIub+vqYtRoYZFJh7N/AwC24rOmHGrgQAv9LU0suvQq5Aol\nCy65nGQyScM7q6dsp63JRFDLCe2RurPLyyXfv7Y2abIsLLwJhcI0I9dMMia/k3C4jzmzH0SnK5n5\nBqfR0dHB1q1bWbx4MaeddhqNjY04HA4slqWEw73UaqNEUiKGDDURUUUk4yQbANxdkFFEjytKhkkN\nMoHcVCMKRSliMEHkgIsubyOVS5cB4BkN8dIvd/Hu4/tZ/9wBNr/YzvbXu2j8oJ/2naMMHvTgGg4R\nCSWQyQUMFg3ZJSZK6q3ULstnwcXFLL2yjOWfruTcG6spX2Cjq9FB9COyMkVz5jNwYD+KfB2xPj96\nvZ5YLIN4fAC9Qo5FIUfQKhjyhqWM2YmIzHoH4JU7IHc2XPBj3msd5eBIgDvOLp9Qrb+wNpeHxupI\nqYySGv7HDTsfA18/nP/D48oG/mbtQQQB7jr/ULZqdHSUV199Fbd7ejs2gNVjHq5uaMekkPPGgqoZ\ng7KZpDHGX9uwYQOZmZnU1U0VOw7uHCYxEsJ8SclEhaF9x1Y6d21n3oWX0bnHTeXiHNTaqfmicHMz\ngfXryfzczcgN+imvPd70OHqlnmtnHSpv2g12MtQZNDub0VRXE21pQa6UEVOokYsC8mQOebJBBI2M\ng9G0fNOJNAA4pblmQG4nlkwhGKXrnm3U4vXtRhSNJOJm8vIOt5Q6Gj5+GTP/YFrDLAuZAMMykQK5\nF7loYHAwSL41D3EwhU+UvqDTlbdOFAWz6kAQ6B9ppVBZSLbMzN6hg9TU2slJ7AfqkRmUiCL4dUWY\nhzafsnP/02Hz76QuorqrjrrpuH5ZRq4e90EHpoF2cnNtRCKvYsu6gJQvgf/9XjR1VgS7mjXfvB9L\nXgFnXHfDxDG2vtqJ3xWhfL6N/R8OkpmnZ+550krFVlzKhbffyZt/+BUbn3uCs2+cubNJU55B9pfn\n4XyiGefTLSCAtj4L41n2kxIjFkWR9u1b+ODpR/GNjTLr9OWsWHULpqwT65b6KJZ/5ibatm/m/cf/\nyDX//WNMF5UQ3ufAu6Yb62eqWbp0Kbt372bXrl0sX74cvb6S/oGnuHPWSl4d9fBA7yjfLc+f9thL\ny6wsKc3kofUdXLek6PCsmVwB81fB+p9Lwp/WCtBmTBiXLy6VJr8PuvtIarI5tyAHx/4NKEO5mFdM\nnbzHV89zzpNUwy15BZQvXMLed95kyZWfQqmSVsWCUo62zkq4yYF4ZQV6vR673U5bWxtnn302CoWR\nwsJb6Or6LX7//inSF5Ix+Q9xuzdTU3PfBE/sSAiFQrzyyitkZWVxwQUXEIvF2LFjBxs2bOCCC6T9\nS1L7ATthvTStDuurKB3aInFRTiTodnVBZindziBaowoZIkWqTqymGyTPUBG6Ak0sWSKV8tt3SmNX\nf2shxkwNSrUchUqGbBrD+mNBZr6Bjt1jdDY4qFl26OFSMmc+u954mYgmjLwtiZhIIZflIQi7JyQz\nYqow7lCcmD4f1bjIrGn679dhSCXhpc9L/LJrHkdUqHnwg3bsFi2XzTl0jAvrcvjNuwfpyL2Eyv2v\nwiX3gfbUWKf9f0cyAVsfhOIzofTwrsaZ0DLk4+WGAW5fUUauWaokiKLI66+/Tl9fH62trXzyk5+k\nsrJyyn6P9I3yg/ZBFph0PDm7jKzp+KRp9Pb+idHRNykv/9ZhHM62tjaGh4e54oorpmTLUtEEvnd6\nUBWb0NZLLhZhv4+1f/oDtpIyDNZlJGId05L+HQ89hMxkwnL99VPG+/x9rOlZw021N2FSHeKkCYJA\nXVYd+xz7UFefj3/tWpKBIFpLDsGEFxOZZKd6SWiV7A2mvy/uHig9hhs85cLaQaGlJSyd26eWYRJl\nFGlUbPE2EA7lkZ9fgEJx/GHWxy9jltYwOxjNJD9DS3c0Rh5DaDTFeDzeCeL/kLsdhVqNrfh4P42Z\noTEYsBUW03+wGWWBAWtYTzKZRCEvxBjei1YmI5DuWBpWFEhBZOzU6mj9U6B/p1RaOP3LID+61dDm\nDidlNj1NcUmo1NjTzvz5BhIJHzbbBXhXS1ybjE+UseGZxwg4nVz8pbsmHtKD7R72fdDP7LPtXPT5\nesrm2dj09zZ6mpwT56hZfg7zL76MXatfoXXzhiNejzJLS/aX5mK+tJScuxdhvb7mpIIyv9PBiz/5\nPq/9+ieoNFqu/f5P+MRd3z5lQRlIzShnXLuK3n0NtG3fjMKsxrC8gPDesTQPKJvy8nK2b99OMpnE\nbr8Rv7+ZIvEAn8yx8Kf+MYajMwvufvW8SkZ8UV7Y1T/9BvNXST+H9s5oXL7NLXVRLjZr8KcaMMbn\nojAf4rY5ervp3LWdBRdfNtFhC7Bw5RWE/b4Jp4OJ9zwvGzGaJNwqlUsrKysZGBggEJDOU2i/CYXC\nSFf31KxZX9/jDA4+T3HxF8nPu+Zot3biwRYMBrn66qtRqVQYDAaWLFnCvn37iESyUCjMGAObyFDI\n6RXSTT5CmRSonkjXoCiCuxvRUkqvM4Sok5OdCqEgQVHRmYR2j+LDha7wEEe2becIeRVmcsvM6DPU\nqLSKEw7KALKLjZiyNLTvnKrcP27PNBrogaRIfCiIRlOETBYnGh3GrlERUEmBqFM+rmV2HDyzDb+Q\n5o9LfwVZlWztdLGn18MXVpShmPR+qnONFGZqeS5+NiTC0PT3E36v/3Q4+LYk+7T0i8e128/fbsWo\nVvClsyomxpqbm+nr62PFihWYTCaeffZZ1q1bRyqVIimKfK+tn++3D7LSZubv8yqOGJSNjr5Ne8d9\nZGevnCKNAdLfycaNGzGbzcyZMzVg86/vJxWIY760dKIy8P7jfyQSCHDxHXfRsnmErEID2cVT59nI\ngQME3n2PzFWrkBunvvZk85PIBTmralcddp311no6PB0IlWUgikQPHsSSZ8cXd2KMa8iMehF1cna5\n9SDITkzLzNkG1nLa01qYvXKReoOOeNxNONzN2JhxoowpJlL43puh4jANPraBWVMoA7tFx0gsQVay\nEwFpxWeJ6RA0Crq7GsivnIX8BKLZI6Ggpp7BAy2oCg1YXBLfIha3Eg53UqlTMZqOU7pSacKz+2Mo\nmbHpfkkEccH0pPzJiCdTbOt0sqxcsmGyxyNkKuSYTB3IZBp0rnrC+xwYzy6kv3c/je+9zcJPXEl+\nleQRmIglWfd0K8ZMDUuvkBSkz/9cLVa7gTWPNuEcDEyc66wbbiG/qoZ3Hv4djr4j/yHKdEqMy+0T\n7dwnioPbNvHUN+9k8EAL59x8Ozfc9zsK647eKXgkOAcD+ByHa+DNvWAltuJSPnjyUeKRCMaz7MgM\nSjyrOxFFkdNPP51AIEBzczO5OVcglxvo73+ab5fmkhDhV90zBxDLyq0sKMrgoXXtxBLT2FllFEFF\nuhfoI8blC4steDweOhQasoUU6sG9pOQRMnPOmHKI7a/+HaVGy7yLp/Jp7LWzyS4pZ9fqV6dIn6jL\nM5AZlBNis+NZgI4OqalGqTRRaP8cY2Pv4Pe3ADDmeI+29p9gs11EedndM77fyWhoaKClpYVzzz13\nSlli2bJlKBQKNmzYiCVjCR7PVuYadewNhKnKNbI9nOaWnEg5M+SCqI+QvhB/NEFAJSMzIgU3ukgp\n8aEgbY6dVC6RypjOwQCuwSAVC0/e13UcgiBQuSiHvlY34bRxPEj2TPaaetq7pAb7WJ8fs1m692OO\n/dg1StwK6XMaSqVLRcfamdn9Iay/T+pAnCfxiR78oJ0sg4pPLZrK1REEgQtqcnm2z0Iyu/7jVc7c\n/kep4lB1ydG3TWNrp5N1B8b40jkVmNPE+ng8zrvvvktOTg5nn302t956K3PnzmX9+vU8/txz3NTQ\nzqP9Dr5QaONPdSVojxDIe70NNO//OmbTfGprfnGYf2x3dzd9fX2cccYZyCfJaiS8UQIbByRP47Sc\nVNu2zbRuWs/pV19HKmXFORCgbnnBYXQOx8MPI9PpyLzxhinjzrCTV9pf4bLyy8jWHe7OUZ9VT0pM\n0ZcrXUf0QCs5pSX4Y05METXGoB9Rq8AVEUkZC05MMsMxLpXhJz9Dw8FYlNlGLT5fQ/p+HdIvi3b7\n8K099nN8TAMzgT0ePRnp1bgtcZBoVEpZZriVKPK1jHV3nTS/bDrYa+qIRyOENEGMSQ0atQa/z4Ao\nxijXJOmIxcg3a2iOpLMlH7fOTGeHpAS/6FZQH11Ydd+Al2AsyYKSTHZ6g9iGelm4cAFO1/tkWs7E\n/8YAcqsG1WIL7/zx92Tm2znj2kMrpO1vdOEZCXHOqmpU6U5KpVrOyjvmoFTJefPBRsIB6aEiVyi5\n7Gv3oNRoeO1XPyEa+sdlK2ORMGse/h2v//qnZOTmccN997PgksuRyY+z82cSHP0B3np4H8//aDsv\n/mLXxPsah0wu59xbvojfOca2V/6GTK3AdEExsW4fkWYn5eXl2Gw2tmzZglyuIy/vakZG3yJX7ueG\nfCvPDTlpDx0uyAvSQ/Ar51Uy6I3w0u4ZsmZLbpd+FkvBwmTj8vb2DobNmSw26RnrkIix2XWHRFy9\no8O0bt7AnPMvRmuYujIWBIGFl16Ba6CP7r27D43LBXRzbYRbXaTCCXJzc9Hr9RM8M4DCwpuRyw10\ndf8ev7+F5ua7MBrrqKv91WEPlungcrl46623KC4uZtmyZVNem5w1UyrrCUd6qdclaQmGqcg28K4r\nGxAkQ/PjRXrBNqyQAkGnQiQ31YtMlkmiMYkoiPQGW6g8TQpu23eOIggSWf9UonJxDmJKpGPPVKeV\n4jnzGew/gKBXEOvzk5UlzaWOsWYK1CrCqrSWWSIdmB2LLVPQCS/eBpZSKVsG7Ov3srHNwS1nlk7b\neHJhXQ6xhEhr3pVS9+bQCdzrfzaMtkragItvPeZOTFEU+dlbreSaNNy8rGRifOvWrXg8Hi5Yfh7B\nDwdRCgquvPJKzlz5Ce43FfCuO8A3bQburShAdoRyezjcz97G21Gpspkz54/I5YfrqW3YsAGDwcD8\n+fOnjPvWdCOKIuaLpOsK+bysffQBskvLWXzFNTRvHECpllO1ZOqiItrRgf/tNViuvx55xtQSI3HP\n/gAAIABJREFU9bMtzxJLxri57uapF7H7KVj3E+qzpIafRmEAudlMpKUVe005vriLjJQOgz8GWuk7\nGtbbjz9jlohK+6TNy/MydURSYpr4vweQ4fdnHgrM2t1wHJzkj2VgljLmMhISUaaVg3MYwuvVYtAb\nUI4miWqjiGKKgn9AYFZQLXFmhj0dCAjk6K2MjEi3uUjuZjAapyhLzw5f+ov2cTMz3/IHqXx52rGl\n4De3S2baYqaaBFDoHqO21kA0OoTRtYjEWJiMy8rZ8JfHCbicXPylr6FIW3GMdPtoWNtLzRl5FNZM\n9eA0ZmpYecccgt4Ybz28j2Q6y2PItPKJu76NZ2SItx/8zSmz4pqM4faDPHPPV2n6YC2nXXUt1/3o\nF1jyTtynzjkY4O1Hmvjr/26nv9XF3HMLiQTjrHu69bDrt1fXUbv8HHa+/hLuoQH0i3JRZOvwvtUF\nSZGlS5cyPDxMd3c39oJViGKMwcG/8rWSHNQyGT/rnFlo96wqG3PtZh74oJ34dCbwVRfB3QcmNOsm\nG5dv7+kjrNJwpi0Tb2g7mlgJ2oxDE/GO115CJpOx6NIrDz8uMGvZcvSWTHatfmXKuG5eNiQlXTmZ\nTEZlZSXt7e2kUtL1KZVmCgtvZmxsDQ17bz6qMflkJJNJXnrpJQRB4KqrrprCmRnHsmXLUCqVtLZK\n5yuni6QIJouGvpCchKX8xDJmaQ2zrqSUDUjoFBQrujGb6gk1jOIUhjEV5JCZX4AoirTtHCG/yoLe\nPL3syYkiM1+PJU9P246p5cyStD1TTB8l1u8nP7+eVEqGz9eOXaPi/3L33uF1lGf6/2dOL9Jp6r3b\nkmXLvRsMGDCmGLBpAQyBhJ4sIVnYTbKbTYMk7IYkhBJsmuktxhBsg3vvsuWm3ns7vdf5/jGyZCHZ\nlrPw+y3c1zVcZs7MO+XozDzv89zPfYtqSaqgyasCheb8GTNRlMj+Pivc/PrgpO7FHfXEqxXcOWdI\ncsQfjbG+z4EoiszIMWPWKXnbPwfkajj6LciaHVwpXcu0u8+/7QC+ONVDRZuDx64oGgxgPR4Pu3bt\nYvz48ZjKwzjXN2F9u4p6j5+fRXU4DWaWNZ3E9/G7HDp06KzPwnDYxbHj30cUw0yZ/DIqVcKIbdrb\n22lqamLu3LkozzAWD3V48B3pJW5+BgqLFMxtefVvBL1eljz8GD5XhLpDvYyblTI4sT6N/pdeQtBo\nsNzz3WHrvWEv79W8x2XZl5FnPIOKFHDCFz+H3X8mURlPqj6VU9ZK1CUlBKqrSclPxh3xYhR1hP06\njDrJucKuTrtw8r+tCcQYMUsh9b0edAO/u0nxOpyuo4TDKRiNycQNeNcG6hyossdOh/lWBmZ+nfQS\njGmlP9BUuuntlZFsSoQYWAMdCIKMtKLir/zwcWYL5rR0WhtPIrdoSIoZ6OiQHtqZA17tZpOGk1YR\nUZ/07cqYefokPavJtw2qvp8L4WiMfxzrYkKagUM+L4pohIXpyfgD+wEZ8t1ZaEosdAeaOLF1IzOW\nLiOtSNLliUZibHuzCp1BxfzlhaOOn5JnYNFdJXTVO9n+Ts3ggydrwiQuvuMe6g/t49Cnf//KLj8W\ni3Lg4w949xePEwmFueUXT7Hgtrv+6XK5vdvLxpdP8t5vDtJ6ysqMq3NZ8eQ8FtxSxNwbCmg61k/l\n7pHcnYvvvBe5UsnW11eCDIzX5BGxBvDs76KsrAydTsf+/fvR6/OxmBfQ0fEOCYoYD2Yl8Vmfk6Ou\n0TOJp7NmbTY/a4+e5UUbL7W6u84wLo/FYhywSw/Bye4gvrhazIYhwr3XYefk9k1MuPiyQdmHL0Ou\nUDJ18bW0HD9Kf2vz4HplZhyKBI1EhkcqZwYCAdrbh7J62Vn3IJfHEYl4mVy2ErV6bOW+nTt30t7e\nzrXXXovJNDqpXK/XM3v2bI4dsyKXG8gISW4GoTjpO7cbiv+5wGwgY1YVsCAAok5BrqoefaSQmCdM\nVdc+imZLGbz+Ng/OXj9FM85uuP7PQipnJtNZ78BjHzKrTxywZ+r3dxDp86OVaQkFDfgDrWRqVCAT\nMMSp6HKNUWR2/wtQ9wVc+SSkSaX+hj4PG052s2JuDgbN0Mv+meZu7j3ZzC67B4VcxqKSFD6r9REr\nuQ6Ov//NtroLOOHYezDpJtCP/lv4MiLRGP/9RTUFSXqWTxtyN9y6dSuRSISFRbMJVNlQ5xvZ1+3k\nmoO1+KIxPp5WxP98Zzl5eXmsW7eOjz/+mFBoeBZe6l5+BJ+viUmTXkCvH/1Zu3PnTrRaLTNmzBhc\nJ4oiznWNyPQKDJdKmaOafbup3beLeTffTmJ2LofXS9m0aVcN1/oLtbTg+mwd5ttuQ2EZPun+qPYj\n3CE39068d/hJHHoFgi6IBqHzKBMTJg44ABQTrKlBpQSfICdO1BAMGEnVSpONLiFFak65kL+bgY7M\nXlU2wUiMiF6BViZQoFXgch3HYR/KlkW9YcKdHpxy67lGHIZvYWDWgkMlpf89aoFEeRANQbq6IiQq\npYdrS9dJEnNyUevOraz+zyKjeCIdVadQZcdjcWuIRBQoFMmkhiWeiyJeiScYIWzM+3bZMh1cKaV4\n553bfuk0XtndRE2Pm0cvL2Jjj410Rz/zZ82kv28T+tAE5ME4tItS2fjSsyRkZjPvptsH9y3/vAVr\nh5eFdxSj1p29waBoZgozrsmlem8XFZvbBtdPv+YGxs29iN3vvkHLiYqz7j9WuPr7+PA3P2f3e29Q\nOGsedz39V7ImTDr/jqPA0eNj06unePdXB2g6YWXa4hzuenIes5fmD/rHTb4si6wSM7s/qMPe7R22\nv95kZt7Nd9BcUU7D4QNoxplRF5lwb21FHoYZM2ZQU1OD1WolJ+d+gsFu2jve4aGsZCxKOU82dJ51\n9nxZcTKl6Qae31ZPZLSs2QDONC7v6uqiVRuHTgBz/X5EeZjEvEsHty1f/wmxSJSZS5efdTyAssuv\nQqFSU77+08F1giCgnZJMsNFJ1BkkPz8fQRCGlTOVShNTJr/C9GnvEh9fOtrQI9DW1sbOnTspKytj\n0qRzf4/z5s1DpVLj92WhcG0nRaWgd8BfuVFZKJG4vWN/KAPScyE+nUZHDL1eATKBdKEdRVsqMWWM\nbl/DYBmz7nAPMplAwdSvPjADKJqRAiLUlw9lzQRBILdsKk3t0m8n1O5GJBkxJpH/AfR65YDIbMa5\nyf8dR2DTf8H4a2DWEKH8pR0NqOQy7l0wlBXpD0V4pUPKsn/YIzV9XDkhBVcgQmXq9VJgU/XZV3bt\n/5+j4h0Ie4fdh/Pho/J2Gvq8PL64eLA5oru7myNHjjBz5kxkO+3IEzTsvjaTh2frMPuivN0tZ2qc\nDp1Ox+23386ll17K8ePHefnll7Fapb9VURSpqfkFdvteioufxGKeO+rxu7u7qa2tZc6cOajPsEoK\nVNkINjoxXJ6DTKPA53Sw5ZUXSC0oYubS5Th6fFTt7aL04gwMX7Kv61+5EkGpJOHee4atD0fDvFH5\nBjNSZlCWdAZXN+yH/S9Kmm8ALXsoTSylzd1GrDAHMRgk1NKC0mghFA2giqaRqewApUBTdKD87xg7\nOf+0eXl1RJrk9atgQpwWv6+eaNSL9Qzj8mCDA0TYs+u9MQ//7QrMBjTMemTSje5TQLrMjlKZSiQi\nwxLSITOqaK0/Tsb4kq/tNDJLSgl4PYQNYRK8ku6KGEslLliBRiYQGMjkObRZ355SZsgLh1bB+Ksh\nsei8m7daffx5cy2LS1MozjPRGROYEPGTnCzg8daga5xE/MIsdv3jTbwOO1c99KPBEqa1w0P5+maK\nZqaQV5Z43mPNuiaPgmnJ7F1TT/Nx6aEuCAKLH/wXzOkZrPvL07j6+84zytlRs283bzzxA3oaG7jq\n4ce49tEn0MRdmHE5gLPPx5bXK3nnl/tprOhjyhXZ3PXbucy9oQBN3PDgU5AJLLp7AgqVnE2vVg6W\nak9jyuJrScjMZtvqVUTCIYxL8oj5I7i2tTFz5kzkcjkHDhzAYpmPxbyA5ubn0eLjsZxUdjs87BjI\ncH0ZgiDww8uKaLb6+Oz42cue5c22QePyxsZGuo0JTI/T4rTtA1GGJUky3A76vBzbuJ6iOfPPW+7V\nxhsoXXgZVbu34XMOGc/rpiSBCL7jfWi1WrKzs4cFZgAm0wwMhrEFysFgkDVr1mAwGLj66qvPu71O\np2P27Nm0tWkJBNqYpJdRFQ6RGKemIjyQCei+wKyZXZLKaLF6EdQC8RE3OnwIlWZ6aMOYlkpiVo4k\nw3K4l8wSy4i/ka8KphQdSdnx1B3uHbY+p2wq3Q5JizHU7kapzEChtGGWg1YmoNQp6XT6zx2YBVyS\n5VJcClz/3KCsSJfTz8dHO7h1ZhaJcUMv+xfbevFHY8w3xbGuz4k3GuWioiQ0Shkf9eeCKUfS0/sm\nIhaDg6sgc9agDuD5EAhH+fPmOqZmm1hcKgUJoijyxRdfoNVqmakrJtLrY/tlKTxU08p0o54PtRYS\nDvfj+LQBURSRyWQsXLiQO++8E7fbzcqVK6mqqqKldSWdXR+Qm/vIObuXd+3ahUqlYtasIVswMRrD\nub4JRZIW/axURFFk8ysvEPL7uOrhx5DJ5Rz8rAm5QmD6l7Nl7R04P/kU0803o0gazplc17SOXl/v\nyGxZxdvg7YXLfwVJxdCyj0mJ0u+9JUX6mwpUVWNKzcQdthIXMZIcsxLTKjjhO0MyY6zor4e4FKoH\nZOGa5DEmxmlxOiUOrNuVeAa/zEFUFsUe7jnbaCPw7QrMBjTMmiOJmHVKWiIRUsV2RFGaSZrsSkSz\nQDgY+Fr4ZaeRWSIRD/t8behRE6fR4/UZCfjqKdSpsQ48PztlaZL4Ysh7jtG+ITj6Nvjt5zUrB+nB\n8fO1J1DIZPxq6UQ+rpd+EDcW5NDXtxkAY2g2VmMPp7ZvZtb1N5FaKIklxqIxtr5RhVqv4KJbzx8A\nwkAQ890SkrLi2fjKKawD5tcqjZalP/kZ0UiYf/zpd0TCZ5eLGA0hv4/PX/wzn/3595jTMljxh79Q\nunDRBQvFuvr9bH2jirf/6wB15b2ULcpixW/nMW9ZIdp41Vn305vUXLqimL5WNwf/MVysWK5QsOje\nB3H19XDok49Qpcehm56CZ28n2pCCiRMncvToUfx+PwWFjxMO22lpXcVdGQlkaVQ82dBF7CxZsysn\npFCcGs9ft9YRjY2+zeEW+6Bx+YmmZux6AzNiSnzxp4hTlaBQSHyLii/WEfL7mHX9+WUrAKZdfT3R\ncJiKjesH1ymTdCgz4vBVSMF1UVER3d3duFxnN2g/FzZs2IDD4WDZsmVoNGMzjZ47dy5en/QgHifv\npt4XpDAljh3ugS7OCy1n2prAnEeL1UdIBen0IycOpTeRk607KJo1D0EQ6Gly4bYFvpYy5pkonJFM\nb7MLZ99QuSd70hTCsSBhTYRQm4e4uHxksihWa4PEM9PI6HT4EU8HZl8WmRVF+OxHUqbipldAN1Sy\nWrWziZgI951hA9YXCvNqez83pph5PC8VXzTGhj4nWpWci4qS2FjVhzh1BTTv+maKdzdslSbqp5to\nxoDX9zbT7Qrw71cNGZXX1NTQ1NTEwnkXEdzeTUeJkZ95HMwx6nl/SgFZi3KJuzgT7/4unBuaBrPj\nhYWFPPDAAyQmJrJly9M0NDxNcvK15Oc9dtbj9/f3c+rUKWbNmoX2DKsk74FuIv1+jEvyEOQyavbu\npO7AXubdcicJmdn0t7upO9RD2WVZI3iR1lWrEASBhO9/b9j6mBjjtZOvMc48jgUZZ7g8RCOw51nI\nnCm5P2TPhbYDTDBLtJfjOiuCUkmwuorknFxcYRuGkBqT34GoU1DuHtBAu5AGAGsdJBRR1+MhIU6F\nRwZl8TpczgpEUY8oJpKcnIwoigTq7Nii3aSNGzt16tsVmA1qmJnJsOiwhiMkRusJBMwolUr0djlu\nQZppn+7IbKu2cXxbG8e2tnFsy9BSsbl1cDm6qZWjG1s5srFFWr6QlvLPmweXwxukpaPWjiEpmfiE\nJJrbTiCoZCSrzdisamKxAAWaGM1iBK1STt1AGvQb+RA5E9EI7PsrZM2G7Dnn3fyTik521fXzxFXj\nSTVq2NDRS3zQz5LJE+lpXIfKnYnpoqlsevU5ErNymLN8yIajYnMbvS1uLrp1HNq4swctX4ZSJXVq\nqjRy1j1/HJ9L4lIkZGRx1UOP0V1fy/bV5/ZVPBNd9TW8+W+PcmrHFmbfeCu3/eppzKljFNAcgNsW\nYNvb1bz9i/3UHuxh0sIMVvx2LgtuKkJnGNu15U9JYsJF6RzZ2Ep7zXBV76zSMsbPu5iDn3yEo6cb\n45U5CDIB5+fNzJ07l3A4THl5OYb4iaQkX0tr66sQ7ueJvFROePx82usY9ZgymcAPLiukoc/L+hMj\ns2aRaIyKNgczcs2EQiHKBzhrE9qc+I2NJKRKD9VwKMiRDZ+SO2U6KXkFY7peS3om+dNmcmzTeiJn\n8GF0U5IJd3gI9/ooLJR4MPX19WMa80xUVlZSUVHBggULyMkZu8elTqejrOwqwmE1qb6DAJjMGsp7\nQTRlX1hgFvKBp5ugIRurN4RfryJH0YnGl0MsTsQW6BrWjSlTCORN+Wq7Mb+MwulS4HdmOfO0PZMj\n0kOozYXFLL14uruPk6mROjMD4Rg+TQqIUfAMz7hx9C04+Xe49KfDnhs2b4h3D7Zy/eR0sixDdJMX\nWnsJxmL8ODeFWUY92RoVH3ZLf/NXTkih0xmgJm2ppEt19O2v61Z8fTi4EvTJMOH6MW3u9IV5YVs9\nl45PYna+xEeLRCJs3LiRxMRECq2J+MMRnihSoJPL+FtpLmqZDEEQMC7JRT83Dc/ODtxn6GuZTCaW\nLZ9CcclenM4kDh+aOKgLOBp2796NQqFgzpyh7y/mj+Da3IK6wIimxILXYWfLq38jrXA8M66TBMcP\nfNqESqtg6hXDbZDC3d0416zBuGwZytTh1kw72nbQ6Gzknon3DJ/8nvpYCqpO+6XmzIegi3h7C7mG\nXE44q1AVFRKoqiajuAB3yIoxosPg8yJq5VS7dYgKzYU1APTXQWIh9b1uEixSQDoxXovTdRSvN5XM\nzCxkMhlRa4CoPUir9RR5U2ecZ9AhfCsDs2MeA2aDFIWnxFpwOjUkGxMREOhyNBCfkIQhMYlwMMq6\n546z6/06dn9Qx+4Ph5Y9H9UPLnv/Xs/eNfXsW9MgLR9Ly/61jYPLgU+kZdMrpwCpnNlRcwplZjyJ\n4Th6+6TyZY7cSWcoQm6inuP+gTLcNz0wq/pEuvdj4JbZvSF+/VklU7JM3DE7h367nSq5mmlKiLrt\nuGPHMUfnsXffB3idDqkLc6DLx97t5eA/msibnDj4orgQxJnVXP1wGX73QKdmWCr/Fc2ex8ylyzm2\naQMnt28+5xixWJT9a97n3f98nGg0wq2/+B0LbltxQQR/jz3AjndqeOs/91G9r4vSi9K58zdzuejW\ncf9UV92Cm4owJevY/FolAe/wrN/CFfcikyvYtnolcoOauIsz8Z/oxxzUkZubOyg4m5//Y0QxTFPz\ncyxLMTNBr+H3TV2EYqPzyJZMTKMwOY6/bq0j9qWs2Wnj8hm5FlpaWuiMMyEHstoPgiyKOUEirZ/c\ntgmf08Hs6y/MgHva1dfjczqo3rNjcJ1uciII4KvoJSUlhfj4+BHlzPPB5XLx6aefkp6eziWXXHLW\n7bzlPdjX1CFGh1/3vLnzcbvTSHBtAECMVxKMxPBZJl5YYDbwguhVSIF+JE5NOrWo+jLojDZiSEom\nJb8QMSZSX95DTmnCCBubrxqGBC2p+UbqDn2pnDl5Gu191cTcYZLiJHqI3VFDpkaFc+CU+mWnRWbP\naADorYb1j0PeQljw42Fjvr63GX84yoOXDAXrfaEwr3f0syzFTKFOg0wQuCnVzE67m65giEUlKcgE\nWN8MFF4hlbaiZ7cZ+z8HW6NkYzfjHlCMbVL2wo563MEIT1w1lIk5dOgQNpuNRTMXEjjQw58vMlMb\nDPH8hGxS1UOlbkGQ/IF101NwbW7FvVNqlvH7Wzl16mF0unTycp+mo6OHl156iZaWkdkku93OsWPH\nmD59+mD3IYBrWysxfwTjNVK2c9Oq5wkHAyx++EfIZHK6G500H+9n6pXZg5zZ07C+/AqiKJJw30iO\n3asnXyVdn85VuUOG6Ygi7P6TVL48rfmWM8CFa9nLxMSJnOyXGgACVVUk5yXhingxxXRoPBHQCsRi\nEInPHHtg5rOB34aYUEhdrwdlvAqFAAWqID5fI/1nCMsG6qWJQ7e/mbwzPLbPh2+XJdNAYFbhimf+\nOBUgkkoXvT0JZAwYFDc2HSZjgpQt66ixE43EWPLgJNILTXBGEC4IDPIdhMH/nP5MGPz/Mz+r3tfN\njndqsHV5ySgupWr3dsQEAUuLFr9WOn4mbcA4EswaDnQNmCZ/kzszRVESlE0olPhl58FT66tw+cP8\nbtkkBETe2nuQkC6FG3KTaN/1IRhEZJYyKt9/mznLbyMlX8p+iDGRbW9Vo1DJWHj7+H/aVzI5x8Ci\n707gi1Un2fZ2NYvuLkEQBBbcdhc9jXVsfvl5krJzB497Jlz9vWx47hnaq04yfu5FXH7fI2j0Y+eS\neR1Byj9v4dTuDhChZH4606/KId4ytnLZ2aBUy7nye6V89IfDbH+rmsX3Txy8P/GWROYuv42db79G\n45FD5C6chvdgN851jcxdNJd3332XyspKJk2aREb6d+jofIfsrHv4WUE6dx5v5O0uG/dkjOTxyWUC\nP7yskEffq2BjZTdXTRwSXh00Ls8xc3z/cXpMCRTLFMTiTiCgwGScTjQS4fA/1pA+roSMkrER8k8j\ne+JkkrJzKV//CaWXXI4gCMgNatQFJnzH+jBckUNRUREnT54kGo0OE7s8G2KxGGvXriUajbJs2bKz\n7uMt78H+Ya10DwwqDJcPZdW0Wi0JlrmIvEuGQsQ2oFvUoR3HuMb1EjFdc36j9NMdma1iChBG1MlJ\nE1tQu2dzsH4zxVdcgiAIdNbb8TpDEjn/K0LM58NXXo533358Bw4Qv3gxifdLL8mimcnser8OW6cX\nS7rEnc0pm8q2L/aBGXSOBGIxOV5vI5lqFW6lgBroFBPIgYHAbIZE1P7oHsnwftlKkA3da08wwuq9\nzVwxIYVxKUPyAs+39hKMiTyWK11rNBrkphQLzzT3sKbHwSPZyczMtbCxsocfL14B798JDVskCZdv\nAg69It2H6fecf1skDt7re5q5cUoGJWlSKc7n87Fjxw4KCgpIOBbj02w1H6kiPJqTwiUWw4gxBJmA\neXkRYjiKc30TUYWXKtkPEcUok8teQa/PJz19PO+//z6vv/46V1xxBXPnzh18tuzZswdBEIbp+0Vs\nATx7OtFNS0GVHkfVrm00HN7PwjvvJSEjC1EU2b+2AW28krJLM4edT6SvD8eHH2K8fimqzOF80yM9\nR6joq+Cns36KQnZG2FK3EXpPwQ1/g9NyNsZMSfC6ZS8Ty67is8bPCOVnEF1jQx1y4hXBIOoI+eMx\nG524keHWZmIZaylzwLzcqs3BF4ri08oo1msJeKTJl8uVNBSY1TkIygIQL1yQy9C3LGPWRkSfij+m\nIKaVIyCSTDculw5LWI/MosJh7yF9gPjfesqKQiUjpzQBTZwSjX5oUeuUqLUK1FoFKq0ClWZoUarl\nKFXSolDJUSilJbtU4ki0VdoGeWb2SA+J0XgiETVgJDVSA4AmXkWdA0R98je7AaBpp5QNmPfDoR/G\nWbC3vp8Py9u5/+J8kpQhXnvtNTb32hBEkUujWmz+HShjiex8dx1J2bnMWXbr4L4ndnTQVe9kwc1F\n/2utpsLpycy6Lo+a/d0c3SgF8zK5nGv+5Qm0BiOfPvM7/J7h5Peafbt444kf0tMkEfyvefSJMQdl\nbluAXR/U8uZ/7uPkzg6KZ6dyx6/mcMnt4//XQdlpJGXHM3tpPg1H+6jaO7y8OO3qpVjSM9n2+kpi\nRDFemUOo1U1mwExCQgJ79uwhHA6Tm/cDZDI1DY3PsMgSzxyjnmeau/FGRjegvrYsnfxEPX/ZUj+s\ni/Nwi510o4Z0k5a6xib64i1MccTwJ1VjNE5FLtdSs3cnrr5eZt1w8wUH2YIgMO2aG+hvbab1xFAm\nSjcliag1QKjNTVFREaFQiNbWsXVaHThwgMbGRhYvXkxi4ugNJb5jfdg/qkVdaEI7OQnXllaCLcN5\nbGVlUvYv1ddKgxBFEOCUmCt92H1ibBc40Kl93C0FJqJOQQbtKOTZeENOimYNdGMe6kWhkpE7hgaY\ns0GMRPBXVND/4ou0rLiLmtlzaLvvfuxvvkm4pwfrqlXEApLocMG0ZAQB6s4oZ2YUT8AjOhARCbd7\niUbNRMKdZGqUiBop4GoJD5CrTzcAfPEz6K2EG18alFc5jXcPtOL0h3n4jGxZbzDM6o5+lqeaKdBp\n6O39gp27ppJKJzMMOj7otiGKIleWplLd7aYl4SLQJ0lio98EhLyS/lrJUjCMzfD6z5vqEEV47Ioh\no/Lt27cTDAZZWDCL2m43TxWrmWPU83hu6lnHEWQCllvHoyqJp6rzJ/h9LZRNehG9Xsp2paSkcP/9\n91NcXMzGjRv54IMPCAQCuFwujh49ypQpUzAahyYbzs+bEGQCxitz8NhtbH3tJdLHlTDtGqk8215t\np6PWwYyrc0folllffQ0xHCbx/pEcu1dPvopZbebGoi95L+96BozZkrzImcieJwVmCdKkry1VOlao\ntpaYPg6VKCMSNJOqlTLA/YpUifw/Fl3LAamMhqj0XXUpGSD+HwUE3O4EMjIyEKMiwQYHXZ4GcqdM\nv6Dn3LcsMGvBq5XS/z6NjGS5H7WgIBTSYrKrCGqlB8xp4n9LpY3M8Wbkyq/mNhgStJhSdLRV2bBk\nZKKNN9DWW4UGJUZNPKFQAobgMdQygbBOjiiCPz4HrN/gUuaev0i8iLLbzrlZIBzl52t66+X5AAAg\nAElEQVRPkmPRMVPXz9/+9je6+q105Jcw1aBHXFeNN/EkAXsafrebxQ8/hlwhpbld/X72rW0gu9TC\n+Dlnf8h49x+g+8mnEL+kxTMaZlydS9GMZPatbaBxgDSuM5pY+thP8disrP/r/yDGYhLB/4U/8dmf\n/4AlPZO7/vDsmAn+1k4Pm1+v5K3/2MeJ7R0UzUjmjl/N4dIVJRj+l1ZPo2HqFdlkjDex64M6HD1D\nWmRyhZLL7nkQR08Xh/+xBt30FJSpOlxftHDJxZfQ3d3Na6+9RjCgIjvr+/T2rsftPsF/FqTTF4qw\nsn30jlW5TODhSwup6nKxuUp6wJ02Lp+ea8HtdlPpDxKWyZjQaiOgb8ZsmYcYi3Hwk49IzMohf9rM\ns17PucR/i+cvRGc0Ub7u48F12omJoBDwV/SRn5+PTCYbUzmzu7ubzZs3M378eKZPH73c4D9lxfZ+\nDaocAwl3TcB8YyFykxrb+zXEAkMls4SESUAcGYHjdEajZFl07PUOZAbGWs60N4HGyOEOP3K5iFYR\nxRx10+N0ozdbSB9XTCwao+FoL7mTElGqx+4mIYoiwYYGbG+9TdsjP6B2zlyab/sOfX95lqjXg+Wu\nFWS9/DLjDh4g43/+m5jbjXvTJgD0RjXp48zUH+4d/G6UKjVpJcW4YjZCbW7JzFzWR7paCSoZCrlA\nk1cticw62yU+0OFXYf6jUHT5sHMLRqK8vLuRufkJTM02D65/vrWXkCjy4xypu6+55XlisSAdne9x\nc6qFGm+Akx4/V06Qsmmbamww+TuS36R77J1wXwW6u7txOp0XttPxD6Rs6uwHxrR5fa+bD8vbuHNO\nziAHr6+vj0OHDjF96nSie1z8dIYejVLGi6U5KM6nOC8T6J/xDj5LFSkn70Hdlj/sY41Gwy233MKV\nV15JdXU1K1eu5PPPPycWi7FgwRAJP9jiwn+8n7iLM5EZVGxa9RyRUIjFD0klzNPZsjiLmtIFwzNi\nEZsN+3vvYbj2GlRf4nbW2evY0b6D75R8B63ijOdmy15o2y8lBb7syZwzD3z9FItKFIKC4ybpOwlU\nVWNKycQTdqAKpZGlaUcUoI0kSQPNP5ynOyr660Cm5KRXCkgdGkGyYnIeJRRKJikpE41GQ6jDjRiI\n0umpJ3vSNHZ/OHZqxbcsMGvFppRe3H1ykXShDzGWjCDIMHrVWINdqLQ6ErNzcPT4cPX5yS4dm4jf\nWJE1wUJnrYNYRCSzZCIttRUoErUky024nHoCvjoKtGocA5YlVnXWN5dj1n1SKhfMfgCU5878PL+t\nnqZ+L/PVrezYupnCwkJkN9xKVwx+6FfiiBxClIdo2udk9o23DpLBRVEqYQrAJXcUnzUgCtbX0/7I\nI9jffJPePz5z3lMXBIHL7iohOcfAptcq6WuTMmRpReO57J77aa4oZ+PKv/Lmvz1K5c5tzFl+G7f+\n8g+YUs89oxVFkc46B+ueP8Z7vz5Iw5FeJi7M4M7fzGHR3RMwJn31AdngNckELv/uBORygU2vniJ6\nhs5YTtkUxs2ez4G1H+K29mG8Op+oLUCu08xtt91Gf38/q1atQqG8GqXSQn39H5hm0LEk0cjzrb30\nh0bn61w/JZ1si45nt9QhiuIw4/LGxka6DdLvq0isBEHEbJ5LQ/lBrO2tzLr+prN+n15HkLf/az+n\ndo0uTKpQKpmy+BqaKsqxtkv6dDKNAm2xBd/xPlQKFTk5OedtAAiHw6xZswaNRsPSpUtHPZ9ArR3r\nO1UoM+JI/G4pMpUcmUaB5dbxRO0BHJ8OZbwFQUaCZS4laik7lmjRctiqhPi0sQdmAx2Zjb0uZDo5\nmbFeNL4sjlVtpWjWXASZjI4aB353eExlzHBPL85PPqHz3/6d+oWX0HjNtfT89rcEa2sxLFlCxp+e\noWjvHvLXrCHl8ceJWzAfmVaLbtYslJmZOP6+ZnCsohnJOHp89LcNEcJzy6bS62km2O5Go81BrXZj\nCPpAkERmO11BSWS27SB8+ihkzIDL/nPEea450kGPK8jDlw5ly3qCYVZ39nNTioU8nRqH4xBu9ykU\nCiNdXWu4NlGPShD4sNtOlkVHcWo8Gyt7YOoKiEXg2Ltju+dfARwOB6+88gorV66kr2+M8juiKJH+\nUydJzVNjwNOf16BTKfjBZUN0i40bN6JSqZihGcfTKSJ1WoHnSnJIU5+fr9bS8iJdPX8nN+sHJKmW\nYHuvBn/lcN290yXLu+++m1AoNEh/sAyIvw6KycYrib84k8qdW2ksP8iC79yNJV0Kwpoq+ultcTPr\n2rwRyRDba68jBgIkPjjSMeb1U6+jVWj5zvjvDP9g959AlwhTR5qYn7aFU7cfoshcRIWvDmVmJsHq\nKhJzcnCHrcSH4kmOWRG1CiqDAx3BYylnWuvBkk9tX4B4rRJUcibGqXG6KrDbzUMyGXVSJrkv1I5C\nlcOxLW3nGXgI357ALBoBVwedJKFSyGgjSnKsFX/ASEK8GQVy2noqSR9XjEwmp3XgD++rDsyySyxE\nwjG6GhxklpTi7O1BSFaS4NfhcGiJRj0UaqBDIb0024Q08HRD8OydL/9nsfevoNRLnm7nQGWngxe2\n1VOosGIMdLN8+XJmL72Bl7odLDUbKNvchS//BNGQHK2qlNk33jK4b9XeLtqr7cxbVnDWsl/Ebqft\noYcRtFoM112HbfVq3Fu2nPf0FSo5Vz80CY1OwfoXjuN1SsrmZZcvoXTh5ZzctolYLMotv/wd82+5\n85wEfzEm0ljRx5r/LufjPx6hu9HFrOvyuPup+Vx067gRAopfF+LMGi69s5jeFjeHPhsuXrzwru+B\nANvfeFkSnR1nxrW1jaKsAu69915kMhlvrH4fjXo5dsd+bLZd/DQ/DV80xrMto2celHIZj1xawIkO\nJ9tr+4YZlzc0NNBvSSY9DPEpp5DJNBjiyzi49kOMySmMn3fxqGOKosi2t6tx9vrZ8/d6vI7gqNtN\nvuJq5EolR9Z/MrhONyWZmCdMsMFBUVERvb29OByjd5cCbN68md7eXm644Qb0ev2IzwMNDvrfqESZ\nrCPpnlJkZ5Rf1LlG4i/NwnekF9/xoRdxQuI8xqlOIYgxImqRZquXaErZBWXMosZsen0i0TgVaWIT\nymgWoZBvqIx5uAelRk72RMuI3aMeD+6t2+h+8ikarr2W+oUL6fy3f8ezYwfa6dNI/fWvKNi0kcJN\nG0n7za8xLFkyQl0dQJDJMC67Ed/+/YQGnBQKpiYjkwnUHR76e8gpm4ot2AWhGPGKXOTyKNH+WhQC\naHRKOh0DWmbtUrcqN70yIsMRjYm8tKOBSRlGFhQOlWafa+0hLA5xy1rbXkGpNFNS/DvCYRtR5w6u\nSDSwpsdOJCaVMw8327BqcyTZhKNvjq089RVgw4YNg/9evXo1/f3959+pZY9U1p31wCCn+Vwob7Gz\nsbKHBy7Ox6KXgq76+nrq6uq4aPZ8Pqu18XGWin/JTuayhJG8si+ju+cfNDT+kdSUG8gv/BGJ3y1F\nma7H+nYVgbqR2aPc3FweeOAB5s6dy6JFiwbX+0/0E2p1Y7wyF6/XzrbVK8konsC0JdcBEIuJ7P+0\nEVOKjvGzh1c9og4H9rffJv6qxajzh2frujxdrG9cz/Ki5Zg0Z7hvdJ+Q+GVzHgTVKELxCYVSObtl\nHxMTJ3Kq/xTq4mKpM3NcPq6wDWNIOyCZIafCO5ChHYuWWX/dgEemG4NJjQDkCp1Eo95hiv+BOjtu\n0U5iYS4dtT4UF5DZ/vYEZu4uiEVojCSQYdbiisZIitbjsGskxX+ZQHPb8TP4ZTaMydqvPIORPs6E\nTC7QVmUjY4Bn5pY7SPTr8Q0I2eUonLRHIqQaNdSGB9rcv2lZM2c7nPwIpt8NWvNZN+vs6uK+l7ai\nEMPcXqLhkUceYeLEifysrgMlAo+Wu4lFw9j1+3C1xnHVgz8eDIA89iB7PqonvchE6UWji4+KoRAd\n//IokZ4esp77K2lP/hZNaSmdP/3Z4MvkXNAb1Vz9UBkBb5gNfztBJBxFEAQu//7DLH7oR6z4w7Nk\nFp+dnB4Nx6jc08m7vz7Ahr+dwOsMcdGt47jrd/OYeU3e1yb6eS4UTEumZF4a5Z+30HnGw9WQmMyc\nG2+l7uBemo8dwXR1HmIwgntLK6mpqdx3332kpaWxYYMXSKS+4WmKdCpuTbPwekc/bYHRS8Q3Ts0k\nw6TlL5vrONRsQ6+SMz4ljobGRnqMCZT1hfEnVWMyzaSzuoau+hpmXLf8rIbuNfu7aTlhpeyyTGIR\nkT1/Hz3rpTMYmXDxZVTu3IrPJZUqNOMtCBo5vopeiooknbuzZc3q6+s5cOAAs2bNGtz2TARbXFhX\nn0Jh0ZD4vYnIRnGYMCzKRpkVj31NPZGBANJsmo2GAElhO90xP6II/fHF0F97fs3CaAQcrfTGDHhF\nJUGdkjRZMx6XEm28gcySUqKRGI0VfeRPTkJxhrF3LBSi7cGHqJ09h/aHH8bx4YcoU9NIfvxx8j5e\nQ9HePWT+6U+Yb7kF1cDL43ww3XADCALONVLWTBOnJGuChbrDPYPlzMTsXHxK6bpMkVwAHLZK0tQq\nBJ2CrtOBGcDSv4A5d8Rx1p/ootnq4+FLCgazlt3BMG90Wrkl1UKuVo3P10R//xYyMu4gKely1OpU\nqZyZYqE/HGG73c2VE1KIibClulfKmlnroXX/mK71f4OamhpqampYuHAhd999N7FYjNWrVw+q6J8V\nB16Snp9f5kiNAlEU+cOGahLj1HzvIolIHo1G+eKLLzCbzaisCTw1Xs0snZYn8oZn9sOhIC3HK4hF\nh/iiDsdhqqqewGScSUnJUwiCgEyjIOneiSiTtFjfqCTYPLIsGx8fz+LFiwe5ZWIkhvPzZpSperTT\nktm08jmi4QiLH/oRwgDvuO5gN/YuL7OX5iOTfylb9sabxHw+Eh98aMSx3qiUeIJ3Tbhr+Ae7/wyq\nOJj5/dFvliBIgflAZ6Y77CaQl0qouZmkNAPusAejqMPo9SFqFVS4Bnhy58uYRSNgaxzsyBTjFBTo\n1EQ8kgOG2y0R/2PBCKFWFx3OWnKnTKf5eD85E0ZOfs6Gb09gNtCRWekzDUll0IXDoSYhrCdmhJgY\nIWN8KZFwlI4a+1eeLQNQaRSk5htprbSRlJOLSquj015HgmgYDMwyBak8k2LRctQ78GV90xoA9r8o\nzUTnjPwxgaSns337dv71hY/pCKp5ZF4a995xC3FxcXzWaWObzc39VX5MLR5c0+oQFAFSUpeQnCvN\nmERRZMc71cQiMS5dUYwwCk9CFEW6f/skvkOHSHvyt2inTEGmUpHx5z+BKNLx2I/HxDdLyo7nintK\n6WlysfUNyRhcoVIx8ZLLz0rwD/kjHN3Yypv/sZdtb1YjU8i44nsTuPPXcyi7NBOlauyzo68DC24p\nwpioZdOrlQR9QxIa06+9EXNaOltfewlZogr9rFQ8eztxfNqAXq3j7rvvZvLk6VRXFePxVNHRsZZ/\nzU1FEODpptGV/lUKGQ9dUkBFm4OPj3QwNduMzdpPVySGS65gotuDn2bM5rkcWPshOqOJiZdcPupY\nHnuQXR/UkVZoZMFNRUxdnE3doR46akbnfky/+noi4RDHN38OgKCUoZ2YiP+kFYvBjMlkGpVn5vV6\nWbt2LUlJSVxxxRUjPg91eOh/7STyeBVJ35+E/CyaeYJcRsKt4yEWw/5BDWJMRK8fh1JpoVjVRW+8\nlOWtkxeAGIOeU6OOMwhXO8QiVNrkgICoU5BOBw0n2yicOQeZXE5bpY2gL0Lhl0Rl3Rs34dm+HfNt\nt5G9ejXjDh4g++VVJHzvXjQlJYMvyQuBMj0d/fz5OD5eizjwUi+akYzHFqSnSWp8EASBxNI8wrEg\n2n7pnCQzcyVhlYxuV4DI7Ifh+heg9MYRxxBFkRe2N5CfpGdx6VA25a8tPURFkR/lSNmytrbVCIKS\nzIw7EQQ56Wk3Y7PtZq7OjUUp58NuG6XpBjJMWjae6oHSG0AV/7U3AYRCITZs2EBSUhLjOxJQH/Nz\n9913E41GWb16NTabbfQdne1QvQ6m3QXK8ycIttX0crDZxqOLCtGppMnrkSNH6OvrY/7Ui/hXVQCV\nXMbfJucN45XFolE++9Pv+ejJ/+CNJ35I/eEDeL1NHD/xIGp1OmVlLyKTDTVUyXRKEr83CblJTf9r\npwi1j+4CchqevZ1EbQGM1+RRuXMLTUcPc9Ht3x3UdYxGYhz8rInErDgKpg7X24s6ndjefJO4yxeh\nGT9u2GeOgIO/1/2dJXlLSIs7I9C0NcKpNTDj3nMmBciZD85WSlVSBrYtTQGiiMbaiicqYhT1KLyg\n0MawhtTENKbzZ8wcLRAL49Ln4g5EcGhkTIrT4nRVEIvpkMlSMZvNBBudEJNkMkypJXidoQtq0vnW\nBWYVbsOgWnoanfj9BoxOFR65E0EmI61wHJ11DiLhGDlfQ2AGkFViob/NQ8ATJWN8CY1NR1GpVRjk\nKUSjOlKjUmem3qBmr30gPftNypj5HVD+OkxcJrUlfwldXV2sWrWK9dv2cCSWzZw8Ez+8bhZiTKT7\nQAc/P9HKOFeU7yaYMD44nsru1xFjMmZd+fjgGHWHemg+YWX29fmYkkf3NLW/+RaODz4g4f77MV53\n3eB6VVYWaU/+lsCJE/T+8Y9juqT8qUnMuSGfukM9lG84+4/T6wyyb20Dq3+2l71r6jGl6rjuh5O5\n9eczGTczdcRs8P8vqDQKrvheKT5naJiBu0Kp5NLvPoC9q4PydZ9guraAuHnpePZ20vtCBaItxPXX\nX8+UKffh8Zg5eeq36ANu7s1I5KNuO1We0Y1+b56RSapBgzcUHSxjnuaXTTA1AyD6Mmk5fpTp19ww\naK91Jk7zCWORGJfdVYIgE5i+OIf4BA073qsdxpk7jYTMbHKnTKfii88GnRt0U5IRQ1GCNXaKiopo\nbGwkEokMO84//vEPfD4fy5YtQ6kcngkLd3vpf+UEMo2CxPsmIT+P2K8iUYvpugKCjU48uzoQBAGz\naTbjZKcIGLUoBJHy0MDv5HzlzIGOzIp+6cUr6hSkix14uoQhb8zyHtQ6BVklw2fgjg8+QJmVRcrP\nf4Z+9ixko9zjfwam5cuIdHXh3SdlnvImJyFXyKg7dEY5c8o0rMEuwvUCoqggEGwjU6PCoxKIidCr\nHwdT7xh1/O21fVR1uXhwYQGygYCiKxjirS4pW5ajVRMOO+js+ojU1KWo1dLLPS1N6oC19nzE9clm\nvuh34o7GuGJCCrvq+vChhknLoXKtRK7/mrBr1y4cDgeXZc8meLQf95ZW1OU+VqxYQTgcZvXq1djt\no0wsDr8GiDDj3FQQkEq9T39eQ26CjttmSX9Lfr+fbdu2kZOTw+t9ArUGOc9NyCZdM/S9i6LI1tdX\n0njkEFOvuk4K0p79Jbu33UAsGmHK5JdRKkcGN/J4FYnfn4RMr6T/1ZOEu0fP9Ea9YVxbW9GMNxO2\nRNm2ehWZEyYydfE1g9tU7enE1R9gzvUFIybY1ldfI+bxkPTDH44Y+92ad/FH/Nwz8UsSInueBZkC\n5j5y7ps2oGdW4OhEI9dw0iTRhUJ1NYQ0GoyiloDfgEknTTAC+jFomQ14ZDYjBZ0OtYyJ8TqczqN4\nPMlkZWUjCALBOgcxogR0fhy9Wkn3duLY443/G2+RrwIDgVlDyAw6BXJEkujD7zdgCerpdjaSkleA\nUqOh9ZQNuUJG+jjTeQb955A1kLJsr5bKmdb2FuRpWpJi8fh8RkyBCpSCAHoFfUEFUX3KN6sz8/Cr\nEPKMEJSNRCJs2bKFlStX4vV66UydjyjI+f3yKQQbnfT+9Sh/PNVBr1rgDxOyMV+fyxern0WfbsUQ\nNwP1AIfA5wqx6/06UvIMlF02esnFs3sPPb//PXGLFpH0o0dHfG648krMK1ZgW/0GroGusvNh2uIc\nxs1O4cCnjTQcGS6k6ejxse3tat78+T6OfNFCVomZm/59Bjc8No3s0oR/WlftQhGx2+lfuQrX55+f\nd9uUXAMzr8uj/nAvtQe6B9fnTZlOwYw57P/7e3hcNkxLC0j4bilRV5Devx7Fe7CbefPmk5vzE5RK\nJ2s/+TE3q2LEK2Q81Th61kytkPPQgMTB7DwLjY2N2JPS0IdF0lKOo1DEc3JDBWqdnslXjK53V72v\ni9ZTVuYuKxgMxhUqORfdOg57l5fjW0cvTU+/+nq8Djs1e3dK55JvRBavwndUKmeGw+FhAplHjx6l\nurqaRYsWkZb2pZJPn4++l0+AQkbSfZNQmMYmZ6KbkYK2NAHnxmZCHR5M5tlkR8tBENAowuzqEEBr\nOX9gNqBhVheRgg+5ViA5FESpiid7YhmRUJSmin7yp0rB0WkEm5rwHTyI6eab/6nM2LkQt2gRcqMR\nx98/AkClVZAzKYH68t5BceGcSVOwBbsQrRFEMQlR7CZDpcQ5kDjudIwe0AO8uK2BNKOGG6YM0RWe\nbekdli3r6HiPWMxPdtaQR6JWm4HFsoDOrg+5OcVIICbyWa+DKyekEIzE2FXXD1PvgrBPchj4GtDf\n38+ePXuYNL4Uw8EgmmIL+jlpeHa2ozsWZMWKFQSDQVavXj2c6xgOSJPbcUvAfH6HibVHO6judvOT\nK8ejHJj87dq1C5/PRyh3Bh9ZBB5Q6bk8dXiQVb5uLcc2rmPGdcu47J4HWPH0n5h6dwyZ2kv1xxY2\nvfAOts7Rf1cKo5qk709CUMjoe/kE4T7fiG3cW1oRg1EMS3LZ+NKziLEYix8cKmGGQ1EOrW8mrdA4\nKCd1GhGrFdubb2JYsgTN+PHDPvNH/Lxb9S4XZ15MkfkMmoG7WxIPnnL7CKkVgP2NVtad9vBNmQhq\nA4rW/UxImMBBsRGZwUCgqhp9UirhiB9CiaRopQmGQ51+/lLmgIbZqaCUGY7FKZigjeHz1WOzGcnO\nloLmQJ2dvmA7OVOm0HzCSmq+8Zz2el/GtyowC+lSCKHEp5aRIncjROOJU5vQoKS57digDVPrKSvp\n40xfW7kpKTsetV5BW9WQnplf48Xi1eFxx+H31lKgU+PSSLffo8/+5pQy7S2w73nIvxTSygZXd3R0\n8NJLL7Fr1y7KysooXnQLu1u8PDI3l7gNLfSvOkENUd7JU3F7moVpGXrW/O6/6G7dh9oQIiNr6eBY\nu96vJRSMcOmK4sEZ9JkINjbS8dhjqIuKyHj6D2d9ESU//q9oJk2i62c/HxPfTBAELr2zmNR8A5tf\nq6Sv1U1Ps4vPXzrB27/cT82+bsbPTeWOX87hqvsnkZJ7fnLtV4VwRwfdTz1F/WWL6HvmGTr/7d8J\ntZ2/y2fa4hzSi0zseK92mM/hpXffhxiLsf3NVwDQFltIeXQ6qhwDjo/rsb1VxcTC5ej100lLO8wn\nb6/iJpXIJquLA47RG1VWzMnhnftmMzPHSHNzMz3xCUxyRvGpKtBryqg9uJ8pi69BrRuZAXXbAuz+\noI70IhOTFg4XnswrSyR3UgKHPmvCYx/ZCJBTNpWEzGzK161FFEUEmYBuchKBWjs5KZnI5fLBcqbV\namXDhg3k5uYyd+7cYeNEbAH6V50AEZK+PwnFBTRsCIKAaVkRMr0S23vVmOJmkU0LCkQUcXKqe9yQ\nNnlMGbOooKRdlopcLpCs7MPXFaNg+izkCiUtp6yEg9ER3ZiODz8ChQLTjTeM+ZzHCplKhWHpUjyb\ntxAZyPwUzUjB5wrRWScFG3qTmYghiiAKKIV0NGoXCbEIMa30jO10BkYd+3CzjYPNNu67KB/VQKDZ\nEQjxdqeV21ITyNaqicVCtLe/gcW8gLi44S/wjPTbCAa7yQqXU6hT80G3jZl5FoxapVTOzJgGyaVw\n5M2v/L6Iosi6detQqVRMt2aBQoZ5WRGmpQXoZ6Xi3t6G/lSYFStW4Pf7Wb169ZCURuVa8PXDrJEK\n919GMBLlmU21TMwwcM0kaSJhtVrZv38/aVNm8IdohClekZ/PHm5rVntgDzveepVxs+dz8e3fRRRF\naut/QUSop6T490y++D5aTlTw+k8eZtPK5/DYR5ZcFRYNifdJZuD9q04QsQ19j+E+H579XehnpVJ9\nag/Nx45w8R33YEoZCphObG/H5wxJ2bIvTV6tK1dKnZg/+MGI435c9zH2oH2kWfn+F6Ru21FcZuze\nEA+9Vc4THx0jGIlKgr1Zs6F1H6WJpVTba1AXjydQXUViVhausBWVP5lsrfRu6JSlSAmes7idSCdd\nB1oLJx0KNGo5qGRkxyTBafeAsGzEGSTS56fL00hqURn9bZ4L1hr8FgVmLbg1UnrRqoBUevD7DRLx\nXyng8PeQUTwBl9WPvdtH9gUQ8S4UMplAVrGFtkobKfkFKJQqer2tJMUM+HxGolEXRRqBboU02+xT\nZn4z1P9dnbD6OumHsfgpQJIb2LRpEy+//DKBQIDbb7+dK66+jic31FGoV3Pdnn6CdXbirszmvxcY\nMSrl/CQ5jg9+/VM6a6qYedtkQCAxUeIcNR7to768l5lX55KQPpLfFXU4aHvoIQSlkqwXnkc2Sifd\nachUKjL+JElnjJVvplDKWfJgGZp4JWv+u5yPfn+Ytmo70xbnsOLJuVx6RzGmlNFLq18HAjW1dDzx\nBPVXLsb+zrsYFi8m+9VXEORyep586rz7y2QCl98zAUGQJDRiA+VAY3IKs264mdp9u2g9KQULcoOK\nxHsnYlySh7/KRu+zRyk0PIpCEWDc+BaELz7FJMb4TUPnqBpjMpnAvIJE2tra8IoCXar/R957x0dR\nr+3/79lekmx2s+m9QSCEUEURpQhIk6rYAAU9Hnv3eOwVe8F6PBZUQFSkCApIb9KrkJBASO892c32\nMr8/JiSEDcppz/N8z+96vfLP1J3JzHzuz31f93WpyFa4cbrKaCqSo1AoGTB+csB+oiiyfUk+fr/Y\nUcI8H8Nm9sDvE9mzIpAvJggCAydOpb60mPJcSaZC1y8cfCKe/FaSk5MpKCjA5ynRwKkAACAASURB\nVPOxcuVK5HI506ZNQ3ZOQO9tdVH/2XH8Hj/m27NQXqB8DiD6/XicgYGGXK/EdF0PvPUOPNtl6JQh\npCoaUUQaaPPKqNMkQV0eeLvvMgUQm4ppIQSPUmpiiBXKaKuRd5YxD9ahDVYSe0623+9207pqFcGj\nRqEI/894ZobOmI7o8WD56WcAErPCUKjlXbozQ3pJ31+NJxqN1orWbukQmb1Qxuzj7YUYdUpuuKQz\nM/5+aS0i8EB7J2Zd3Xpc7lriEwJV8c3mUSiVJqqrv+faSCP7Wm1Uuz1clRHBlvxavH4RBsyGqiOS\nvM+/ETk5ORQXF3N5wgAUFR6MU1KRh6gQZAKhU9PQDYzEuqWM4Hwfs2fPxmaz8fXXX2OxWCTSv7kH\npIz4w/Ms2VdGZYuDv47r1TFR3bRpE6JCyTdB8Sh98LdeiR2BLUB1wSnWf/A20ek9GXfvwwgyGSUl\nH1JTs4qU5AeJi7+Wy2bcyO3vf0a/sRPJ2b6JLx74E7u/X4zL3jUzpgzXYb4tC7/HT/3nJ/C1d6+3\nritGUMgQBujZsfhz4jP7kj1mfMd+LoeXIxtKScg0EZPetTrlqamh+dvvMEydijqlqyK+1+9l0clF\nZIdnMyBiQOcKRwscXAi9p0JYoLfuGxtO0Wz3YHP7OFjcXjpOvAzq8+kTlITL58KRHIXrdAHRaclY\nPY2EuEKIoh5RJeO0xww+t6SScCE0nAFzOmdq29CEqInTqhBsRxFFAbs9gujoaFztk5U6dxl+n5QF\n/v9xYFZGvbydJCr4ifAVYWnVYvTocelciIjE9uxNWa40K/hH6r3/DOJ7m7C1ummtdxPdI4Oi8iOY\nxCCcDinVnKi0UIkPrUpOCZFgqwPX75Ms/1fRVg+Lpkg+YbNWQmRvysvL+eSTT9i9ezf9+vXjnnvu\nIT0tndcWHaXG4uRRmxxDvwiiHh3EL72COGix82hEMBteepKminKuefRh3Iq9GAwDUKvDcdo87Pj2\nFOb4IPpfHZjeFz0eKh56CE9VNXEffoAytvtOzXOhiosj+pX5OE+coPbNty7qUnUhKibenU14YjBD\np6dxyytDuWxq6r/sOHCxEEUR24EDlN1xB8VTptC2eQum2bNJ27SRmNdeRT90KOb77qNt+3asW7f+\n4fGCTRpG3NyT2mILh9aVdCwfNHk6hohINn32IY0VEhVAkAkED48j4u5sBIUM5yI/Rv8ITKYjDOmX\nTN+C4xyy2FlbcwFCM1BUVESdIQxREMgMlxpdCndV02fUGHSGQPpA3p5qyk42MXR62gW7pA3hWgaM\nS6TgUB0V+YHn7jVsBNoQQ4fgrDI2CEW4FvuxetLT02lsbGT16tVUVlYyadKkLmrlPqubhs9O4Ld7\nCb+tD6roCwf79tYWvn/hr3x67zyaa6oC1mvSjQRdEYt9Xw0h8v4k+vNoDpGuaUelHPweKTi7ADy1\np2kUQ2hxK3EHScR/tyWExOz+uJ1eSk80kDogoguXsW3zZnzNzYTOnHnB4/6r0GRkoMnMpGXFCkRR\nRKmSk9zXTOGRug7uX9zAvti9VtQNJmQyP8qWYlDI0KrlUmfmecirtrA1v465lyd3kNkrnG6WVjdx\nY7SJeI0KURQpK/8CnS6NMFOgvIpMpiI6ejoNDVu5xihNFlbUNjM2M5IWu4eDJc3Q93qQqyTpjH8T\nnE4nGzZsIDoiisRcLdrMMLTZnUHxWbsj3YAILJtKCSkQmTVrFm1tbfzyxXwpULzkjj+UyLA4PXy4\ntYBhaWaGpUuDe3FxMfn5+Zy5ZCSn5SKv2VQkp3YmGlpqa1j1xovoTSamPvYMSpWa2tqfKSpeQFTU\nNJKSOjNUOkMoo+b+mbnvfELqgEvYt/J7vrj/do6sX4PP29k0pIrWEz6vD36bh/rPT2A/Xo8zr4ng\nEXFsWvwxoghX3/lAl+rFsc1luGxeLp0SGEQ1/O0TRFHEfPfdAes2lGygsq2SeX3mdc2yHfwc3FbJ\nrPw8HC1r5ruDZdw0JAGVQsaW/PYJQ6I0oenjlILNiiglosOBSe3H4mkj1K/H4LAg6hTkONu/Tb/X\nANBYgBiWxuk6K26dnKwgHa2Wo3g8ZiIjk1AoFLjONOMWneiTzZTn2zGEazGEyqh6+ukLH/c8/HcE\nZu0aZuWimfAQNQ5BJFIsx24PwWhV0+yuJTQyGn2okbLcRoJNmv941uMsMVeyZ8qkuuQ0KrMWtVua\nGcZRhSgIRBu15LXXq//PNgDYm2DxVGgph5uX4Y7IYsOGDXzxxRd4vV5mzZrFlClTEKqcbHt7P98U\n1jEjSM+oewZhmtkTi1bOi4VV9NcocC94AXtLMzOefgmvfisuVy3paU8AsHt5AY42D6Nm90LeDYm+\n9tXXsO/dR/QLL6AbMCBg/YUQMmYMxjmzaV68GMvGjRe1jzkuiOmPDqT/2ARU/2GD6LMQfT4sGzdS\ncv0NlM25BWdOLuEPPkDatq1E/vVxlOfwoUyzbkadnk7ty/PxOy7M3zmL9EGR9Lw0ikPrSqg+I83o\nlCo14+56CKfNxuK/PsCB1cs72ulVccFE3N8fXf8IQveMw+9zkZ6Yz31ZPTHY23jit1M0XUAfrLCw\nEGtYLHK/SHLIQfDpcDQpGTRpesC21iYnv/5QQGyPUPpc+fuB9oCxCYSYNez87jQ+b9dyg0Klot/Y\nCRQdOUhTlUTA1/WLwF3cSnKkxPs4fvw42dnZ9OnTp2M/X/tA42t1YZ6biSoumAuhrqSIJU8+RG1R\nIaLfx+o3X8btCOTdGK5OQhmtR5EbT6LvODadlDXa2dj+4b9QOVMUkbWW0oyRBo+IX6cghgoiYoei\nVKkpOdGA1+MPKGM2L/sBZWws+qGXdX/cfxMMM6bjOnUK58mTAKQPjsRl81KRJ2UnYjN60+ypQVUr\nBRDyVikA1elVVLYEZhj/tr0QvUrOLZcldSw7q5d3fzu3rKXlAFZrLgnxcxGE7oermOjrEUUvipY1\nDA0N4oeaZq5IN6NWyNh4sgZ0JsiYBMe/l7hd/wZs27aNtrY2Lnf1RKFREDotLaBUJ8gEjNf2QNsv\nHMuGEowlMm6++WZ6WXbiFtS0pV1zgaN34rOdRTTbPTzeblTu9/vZsGEDVYlpbJJrmFPq5pqrOoVm\nHW1WVr72PKLPx/S/Po8uxIDVmsfJvMcxGAbSK2N+t3zY0KhoJj34ODe/8i7hiUls++pTvnzoTvJ2\n70BsL+2p4oMx35qJr8VF09J85AY1xe5cyk4cY/iseRgiOp9Lh9XNb5vLSR0QQXhC13fKXV5Oy4oV\nGK+7LsATUxRFvsz5khRDCiPiR5yzk11SAkgb3YVCA1JjxDOrc4gIVvPE+AyGpoaxNb/dnSKmP8jV\nxNecIkQVQq5RomFoG4to83kxiDpCbHZErZyctrOBWUn3/wynBdpqsQcn02L30KqR0SdIQ2vrMZqa\nJGFZURRxFDRRbSskIWsAFaeaSOprxrZrF63LL57n+N8RmLVrmBW6TYQZJLJuFNU4HCGE+YIorztJ\nTM9e+Lx+Kk41k5Bp+o+Ttc8Gf2d5ZqLoxxPsxWiLxOtVEeWV6tKGUDWHre0PxP/FcqbTAktmSBpM\nNy7FFTWQzz//nL179zJo0CDuuusukoyxNC4+SfWnx3m1uYVwrZJnHhmKKl56IV8pqqbV4+OSFZ8h\nej3MfO5VgqIcVFYuIT7uFgyG/pTmNpK/t4YBYxMCXmSA5m+/pXnpUkzz5hE6PbDl/o8Q+Wg73+yp\npy+Km/U/Cb/LRfOyZRRNnETl/Q/ga2kh6vnnSNu6BfOddyI3BBpfC0olUc8+g6eqioa///2iznPl\n9T0IDtOw6cuTuBxSl2Jc7z7c+tZHpPQfzK6lX/Hds3+hsbJdSV+twDSzJ1GThxNaNYKq+mX01qh4\nJC6MerWOh1etpeI87p7NZqO6uppanZGeXgFn6y5ay1T0unxElw83tHdhLs5DFLlgCfNcdDQC1Ni7\nbQTIHjMBuULBkfVrANC1ZzC0pV7MZjOhoaGMH99ZavE7vDQszMHb6CTslkzUSRc2GD+9fzffPvsY\noihywwuvc81DT9BUVcH6j97tGLjOQlDIMN3QE219T1I4A2o5eq2CQnkibkFzwcBMtNWj8Dtx6JLx\nIXVkhjtq6DFIEvIsOFiHPlRNdGrn73SXlGDft+8/Qvo/H4aJExFUKlpXSANMQi8Tap2io5ypVKnx\nGUR0Fokj6LEVEqFSoNApqG7tOnkobbTx8/Eqbr40EUO7Ply508231U3cFG0irr2zsKx8IUqliaio\nC3Pn9PoUQg2DqaxaxrWRoRQ5XJxyuhmWZmbTyXa9tQGzJbud/J//5ftQVVXFgQMHyI7OILRWQejU\n9AvLqcgETNf1RNvXTOu6YsLOtNBHKOAYmSz6biU224V17eqsTj7fVcykvtFkxUn/82PHjnGqxcqm\nxEz6Nvt4PD4SRXsm3+vxsObt+Vjqapjy6NOYYuLweJo5fuIulAoDWX0+6iKL0R2iUtO59un5zHji\nBVRaHevef5MlTz5E6XFJp0udbCBsTm9kOgXKK0zs+HYhCVn96Dt6XJfjHN5QitftY8jkQOPuhg8/\nRJDLCftzoAXV7qrdnGo+xa2ZtyI7NxA/9o3EyRv2cMA+3+wvJafSwtMTexOsUTIqI4LSRjtFDTZQ\nqCFuMEK5JDS7V1UOSiW+gnycSiUGUYdgV6LUejll+wMts3aPzHKZ9HyLQQrSlS34fFYsrWHEx8fj\nqbEj2nzUOErQBKXh94ok9zVj/WUDcuPvSHuch/+OwKy9IzPHFoq+vfMhimq8bjNBoobq5kJiM3pT\nU9iKx+n7j+iXdYez9kzhSenI5HIa3dWYPcHYbQaCbIdQCCDTKzlgOSuZ8X8sMHPbYOn1UHMcrvsa\nUkd1KKXfeOONTBg9Dtf2amreOYzzdDOr0/UU+H28OCMLg1b6PxxutbGkqpFBufuIc1q54YXXCYuP\nJS//CTSaWFJSHsbt8LJ9ST7GKB2DJiYF/Azbvn3UvDyfoOHDiXgk8MU8iz2Ve3j9wOu4fIEcHuEs\n30wQqHzoYfwXwTf7T8NntdLw6WecGT2ammefQ6bXE7vgXVLXr8N4ww3INL/fEagbPBjDlMk0fbEQ\nV3Hx724LUjfdmHmZtDW72PndqY7l+lAj1zz8BBPvf4zmmioWP34/B9eswO+Xsme6fhH0GvsMAgoK\n895ixmkZmWole2JS+eyrrzl+/HjHsYqLi/EJAiXBOvoHi7g9dVjKNQyeEiigefLXKsrzmrl8eupF\ne4cmZZlJ6mvmwNpi2pq7Zj/0oUZ6XTGS3B2bcbRZUZi1qOKDsR+r5+abb2bevHlo2u+p3+Wl4UtJ\nBiBsdi80ad13aIuiyN7l3/LTO68SnpDErFfeJTIljcSsfgyfdRtnDu5l38rvA/ZTRuqJGH45CS4L\najwEhWpwaSOoEs24Sg90e67GgkMA2HzSYObXKTA2NJHcfxAuu4eyk42kDYzoEsC2LF8OcjmGf2Ky\n8kc4n0coNxgIHjuW1p/X4nc6kStlpPQLp+hYPV6P9KwEpUegcIUiigq8vmri1Cr8GlkAx+zvO4tQ\nyGTcNqxz4H6/tBYBeKA9W3ZWUDYu9mbk8t9/F2JiZuJwlHCFqhCNTGBZezmzotlBXrUVkkdIZtf/\nYjnT7/ezdu1atBotfUsj0WaHo8v6ff6QIJeMwrV9wvBt/RTB7yF68jM0NTWxePFi7PbArCvAgs0F\neHx+Hh0rNTy4XC42btvO9n5DUfngtRIfpivbgwRRZOPf36fiZA5X3/Ugcb37IIo+cnIexOWqJSvr\now6ZkT+CIAgk9RvI7NfeY/y9j+Bss7J8/tMsn/8MdSVFaNKNRD15Cdu2LUQQ4Oo/398l0dHW7CRn\neyU9L4vGGNWVFuA6c4bWNT9hvPlmlJER55+ahTkLidBFMCllUudCn0eSyIgf0mG1dBb1VhdvbjjF\nsDQzk/pKFYWRPaXjbm337yXxMqj+jczQdE61FaFKTcGZn4/SaEbjk+Fql8xwocKrj7pwKbNBkso4\n5ZWeT3+QkkS/lD22tBP/Xe2C3lZ1K43VatQ6BRFxaqzbtxPcjV7ihfDfFZjZDYhaBQr8GP0tGIhB\nVIHDZ5X4ZScbkckE4jIuPnL9V3DWnqmxwklkShpltbkdDQBuRwEpWg12rRy7qMGji+zQMPo/Aa8L\nvrtZMomd/ilkTKCoqIiDBw8yZMgQ4iwGat46hHV7BbrscNy39eZvJXWM6R3ZIRLp9Ys8dOwUepuF\nCWV53PDiGxijYykp/Qi7vYiMnvNRKPTsXVVIW4uLUXN6dVEyBykjUPHAg6hTkol5+y2EC6jF/1T4\nE3dvuZsleUt4YtcT+Py+gG1UcXHEvDIfZ04OdW+8+e+/ZxcJT20ttW++yZkRI6l/5x00PXqS8NWX\nJC3/gZBx4y54jd0h4rHHEDQaal+e/7um32cRlWJg8MQkTu+v5fSBTpKrIAhkXD6cW9/+mOR+A9n5\nzZd899zjHa30ush4EpNuxxp9gOaCAzxwwolFpaG8Vz9WrlzJli1b8Pv9FBYWYgkOwyWXkRFUAoDR\nNBRzfFfOoKXRwe7lZ4jtabygq4Pj2DH83QxaV8xMR/R37wgwYMIUvC5Xh+Cstl84nmobQW4VISFS\nF63f7aPx65O4K6yE3ZiBtmf3jUAep5OfF7zOnh++ofeVo5j57KvoQ43nnGsymcOvYs8P33DmYKC6\nfNDQGAzeTJJ9JXi0MqrtUK+IRd6QL9EvzkNtvnSMOqt0P0K1rRgUMag0WoqONeD3il1EZUW3m5aV\nqwgeNRJlROAg94+gwdHA3qq9LMpdxLO7n+XGn29kyNIhvLj3xS7bhc6Yjt9iwbpZsjxLHxSJx+mj\nLEfi/UVdmgmiAC4TanUrETIRp0pGs92Dwy29k3UWJ8sPVTBjYByRIVLAVeZw8W11IzfHhHXocJWV\nf4UgKImN68YL8TxERIxHoQjGUvs9480GVtc2c0XPcAQBqZwpk0meikXb/1ir6ndw5MgRKisruUzo\niVavxdgNf6o7CHIZppmpBGk24PT1x+jqxQ033EB9fT2LFy/GcR4dIaeylW8PlDHr0kSSzFJw8+uv\nv7IpMolqtZ7njzvIGJOM0P693PPDUvJ2bePy62fTa9gIAAoL36Kp+Vd69nweg6H/P3ytgkxG7ytG\nMvedTxg++zZqi86w+PH7WffBW+xd+R1lOccZPvt2QsK7PnsH15UgiiKDu5lk13/wITKdjrA/BSr2\nn6g/wcGag8zpPQfluZZdOSugtUzilp1X6Xp1XR5Oj48XpmR2BIfxJh09IoPYmn82MBsKop8+fgU+\n0YcjOQpnfh5hcfHYPM3IXOFEaiVLtTZd3O9nzAQ5v7UZUShlhAWpULYdwu/XotEkEhQUhLOgCYu3\niehsic+ekBmGY/eviHY7IePHdX/cbvBfFZhVi2E4NTKiZS247EGYPEG0yS1ogoIxxcRRmttEdJoB\nleZf5wz53W48NTU4T56kbdevtK5ZQ+NXX2Hb3zkbPteeKa5XH4qKjhCqDsHpMCKKraRpBeqV0mBq\n0SX83yll+jzww61QtA0mfwh9ZuB0Olm9ejVhJhPZxZE0ryhAYdIQcU8/jNf14Nktp5ELAi+e84K8\ntnMPp/0yphceZc4zLxFsMmNty6e09O9ERU0jLOwKKk83k7OzkuxR8USldC0l+SwWyQNTEIj7+GPk\nQd2r8C/KXcSTvz7JoMhB3Nf/PjaVbuKNg290G6gEjx6N6ZY5NC9ZgmXDxfHN/l1wFRVR9dRTnBk9\nhqYvvyJoxAiSV60k4YvP0V966T9VXleYzYQ/8AC23buxXuT1DByXSHSqgR1LT2Fp6Dog6EONTH7k\nKSbc9yjNlRUs/sv9HPppJX6/j8SkP6FUmmgdsZ7BTV4ubfSy2xRHxoCB7Nq1i2XLllFYWIgtWAos\nzDWrcLcpGDyuq4CmVMLMB2DUBVwdmhYvoeSGG6n8y18C/o8hZi0DxyVy5lAd5ec1AoQnJJGQ1Y9j\nv/yEz+tB1zccBLAfkz68otdP45I8XMWtmGb2RNun+2yHpaGO7557nNP7d3PlrHmMu/uhAFFcybrr\nHqJS01n34dsdDRTnro/ofRXJsnwaNQJ2tw8hZRgK0UPl8W0B57RV5CAicMYfhSCDGHUVkbFShuDM\n4VqCwzRdJFqsW7fia2r6h0j/do+d4/XHWXF6Ba8deI3bN9zO8O+HM3LZSO7YdAdvHnqTHRU70Cv1\n9DT2ZGXBSirbOo3kdUOGoIyN7dA0i+0ZijZY2VHODE9Lps3fgswahlZrIdTrprX9c1vVXs784tdi\nvH4/dw7v9EV8r7QWGQL3J0qDvMfTQnX1cqKipqBW/XFHm1yuJTJyCnX165kWrqbZ6+OYy8WgRKMk\nmwHtArcCHP3mou/XubDZbGzevJm4kCiSmowYp6d3a9N1IQgF65D76nFH30jLj2eIbgri+uuvp66u\njsWLF+Ns7/QVRZHn1+Ri0ql4aIykht/S0sLi0yXkxqYwu8LDVUFBHc9u7o4t7FvxLX1GjunwGa6t\nXUtp2afExt5EbMz1/9T1noVCpWLQpGnc9v5nXDLlWgr272Hfim9Jyh5A1qixXbZtqbWTt7uazCtj\nA/yBnSdPYt2wAdMtt6Dopqy3MGchwapgru1xTnbd75fslyJ6Q/rVXbbfV9TIyqOV3HFlCqnhXceG\nURmRHCxpwuL0QNwlIMjJapUCtcooJb76BiKiI7F4mtDYIonXSRPQennk72TMCsCYSH6DC3mQkr4h\nOizWo1itZuLjExA9fpxFrdTYijBG98Jh9XQpY+oGD76o+w3wP8Nq/k+jpQyXJgKXU0WzEiLESuz2\nYCJtWmrdJcT0yMBu8dBY0cZl07qf4fjdbnxNTfiamvA2NeNrasTb1ISvqRlvUyO+pub2ddI2/rbu\ntZzkJhPpO3cgKBRd7JkGj+/DwTUrwChD5ZDaypOVbfwiF1ABNfIYwpr2/Kfu0MXD74OVd8CpdTDh\nrQ617o0bN2KxWLg2aQz+fBvGa9PRDYxEEARWH6tkV0EDz1/Tm2iD9DJuXvczn8rMZNhreOlPt6PW\n6RFFH/l5T6BQhNAj/Slaau1s/DyXELOGIZO7mteKXi+VDz+Cu7ychIVfdOvtJ4oi7x15jy9yvmBM\n4hheu+I1VHIVra5WFp1cRIQugtuyAlW1Ix55BPvRY1Q/9RSa3r0u2jfwn4WrsJD6BQuwbtqMoNFg\nnDkT09xbUcXF/fHO3aDV1YogCISopEHaeMP1tKxYQe2rrxJ0xbDflRABkMlljJ7bm+9fPsDmL08y\n9eH+Xbr8BEGg17ARJPTJZtNnH7FjyUIKDuzl6rseJCnpbgoKXibxFgeP7DRzHV5yvPFMHGli4/bN\niKJIbUwYMTI5eu9+PLY4YnpkdDl/7q4qKvKbGX5Tz25LmC2rfqR2/nyUcXG0bd6CZe06DJMmdtmm\n/9gE8vdWs+u701z/9CVdxFYHTZzKytee5/TeX+l1xUjUaaHYj9URclUCjUvzcZ1uljrm+nWfZao8\nlceat+fjdbuZ9vizpPS/8AdVoVIx+ZGnWPLEg/z45kvcPP9dNOdMIMKihpFS+iK/BF+NGrDHD4fT\nb1P460pi+3eWNhobG1HbqnAKRso1avxyD3FCJalZM3C0uSnPa6b/mPguwXvLsmWSZdLQruUdAI/f\nQ5mljILmAk43n6agpYAzzWeoaOvk5mkVWtJC0xgeN5x0Y7r0F5pOmFaietTYahi/YjyLchfxxBCp\nQeessXnDBx/irqhEFRdL6oAI8vdU43Z6UWkUeIN96K2x+MJOobNb8ajlqIHqFidmvZol+0qZ1DeG\nxDDpOS11uPi+pok5MWai1VLwW1n5LX6/k4T4QImM3NxcduzYwcSJE0lM7MzExsZcT2XlEtJdmwhX\nDWB5TTNje0cxf10e5U124k1xkHaVxFca8VdJ5+ofwKZNm3C73AyxJKEfGIW2V1dKjCiKHF2/BqVW\nS+aVVwV6wR74DEITCb59Hu5vTtG8qoDYGT2YOXMm33//PUuWLGHWrFn8ktfIodJmXp+RhUErBX7f\nbt3OlrS+ZHnhnjwnoff2QhAEynJ+Y+Pf3ychqx+jb78HQRCwtuW3k/0H0CP9mX/oGn8PGn0QV9x0\nK/2unsTJnVvpM3JMwGTywM/FyBUCA8cFdtXXvfceMoMB09xbA9YVtxazpWwLt2fdjl55zvfr9C9Q\nnwfTPpWynu3w+Pw8uzqH2FAt944M9Lm9qlcEn+woZNfpBib2jYbobMIrjxERFMFJk50EwCjaKPBY\nMHjMxAo5iDKBQn846ZZKqWKkOI+P13gGwtIpKG7DYZDTRy/H1niGlua+ZGXF4yq1IPigzlWG0jkW\nmayOuFQ9pdu3Y5g0CUFx8eHWf0nGrJQWtVQ+q5b7ifAX47AbCBODqGzIJ6a9jAl0UR8WRZHyO+/i\n1KDBnOqbzZkRIymePoPy22+n6i+PU/fa6zQuXIhtx048lZXIdFq0WVkYpk0j/MEHiHrhBWI/eJ/E\npd+Qsn4dMW+8jq+pCdv+/R3nOGvPZIxJA0HAIjSib5UCgRixEr9CRniImiJ/JNjqJbL9/xb8flhz\nv+RDNubFDvHDgoICjhw5wuCUbAx5PoJHxqMfFIUgCDTb3Lz400my40OZfVkSoiiye9k3zK9oxK9U\n8tnoYah10otWXv4VFutxevR4FodFw+oFR/H7RSbenY1S3fUjVvfmm9h+/ZWo555Ff8klAT/V6/fy\n3J7n+CLnC2b2mMmbV76JSi591B8Z9Ajjk8ez4MgCfir8KWBfQaUi9p13QCaj8sGH/mN8M29DA9XP\nP0/R5CnY9u7DfPfdpG3dQtQzT/9TQZnX72XxycWMXT6Web/M6yjXCgoFUc8+g7e2lvqPP76oY4WY\ntVx5Y0+qC1s5/Ev3M0R9qJEpjz7F+HsfoamynMV/uY+648FoNHEUVb7DUtstVQAAIABJREFU5TN7\nMUmuZnGIiG6vnGuvnEy8Noqi0CDSvfXINV7iUyd1OaalwcGeFWeIyzCSeUVMwDktGzZS/dRT6IcO\nJeWnNWizs6l96SW8DQ1dtlMoOxsBftvStZkjKXsAppg4DrULzur6ReBrdlH/6XGcJxsJnZKKfnCg\najhAzvbN/PDiE6g0Wm56+e3fDcrOIjjMzORHnsJSX8/P773ewc0D0OlS6KlsRAySPsqHq0LwydSo\nGvMoPocXmJ+fj5EW/L5oypQifp2SaH8NBlNPio7WI/pF0s7pxnSXlWHbs5fQ667tKH17/V7eOvgW\nM9bMYMg3Q5i6eiqP7XyMhTkLKbOUkWnO5J5+97Bg5ALWTVvHvpv2sXTiUl68/EVm957NpdGXdgRl\nAFH6KCakTGBlwUqanZ2WQqHTpnUxNk8fFInX46fkhPQ/0iYb0Tvikcn8aKwVcI6W2aK9Jdjcvg6X\nCIAFpbXIBaGjE9Pvd1NesQiT6YoAQdlTp06xYsUK6uvrWbRoESfbO0QBgoN7Exzch7rq75keYWRT\no4XBPaTr2XTybNZsNlgqofCPZWbORWlpKceOHSNbmYw52EjoNedNJP1+tiz8hG1ff8bGT97n68fu\npfDw/s5sb00OlO6GwbcjqJSEzeqNOi2U5hWnibMbue6666iqqmLh4qXMX3eSvnEGrhsojROFZWV8\npAhFJZfzyt42DIOjUMUE0VhRxpq3X8EYHcvkh59ArlDg8bRw4vhdKBTB7WT/f48t17kIDjMzZNrM\nLmV9gIYKKwUHa+k7Kj5AWsh+5Ci2HTsJu+025MGBzV1f536NSq7ipl43dS4URfj1Hcn2r8+MLtt/\nubuY07VtPD85E203QvH940MxaJXnyGYMhYpD9DH1Zo9ekrnR1J3B6vNgEHUYnRZEnZw8twkQJR/T\nc+H3Q2MhTkMK9W0ufHoFybJqQMRiMUv8sjPN+EU/isQgyvPaiE4PxXN4r1TGHNc12/dH+C8JzMqo\nlUWiVytwygWiqMbpMGAU9TS7aojNkOq9OoOKsNjO2azj2DHatm9Hf9ll3QZaPfbvI+PEcdJ37SRl\n9Y8kLFxI7NtvEfXUk5jvvBPj9TMJGTMG3YABqJOTCb76amRBQVjWres4x1l7pvoyF+GJyVQ2nsZk\nj8HnU2C0S4KHxlANOc72dP3/lmSGKML6v8CxJTD8r3C5ZHPkcDhYs2YNZmMYmadNqFMMhIzunA29\nsi6PFoeH16ZnIUNk65d/5/t9+8lLz+b+pGjSQ4Laj1NGYdE7mMNGEaQew+oFx3A7fUy+vx+mmK4Z\nnuYffqDp60UY58zGeN11AT/V6XXy8PaHWXVmFXdm38nTlz6N/JzZr0yQ8fLlLzMkagjP7n6W3ZW7\nA46hiosl5tVXcObmUvf6G/+WW3gWfrud+o8/pnDs1bQsX4HxxhtJ3bSR8PvvQ2H654SNcxpyuGnt\nTbxx8A3ig+M51XyKNYVrOtbr+vfHcO0Mmr5ehOtMIPeqO/QcEkWPSyI58FMxWxfldXRqngtBEOh9\nxUhueftjEvr2Y8eir6g9Go3Vmktd/TqeGpSCTy7weaoKw4Y2+rj60KiWEVEt2SOlZ3WW2US/yNbF\n+SAgGdOfN9tu2/UrlY8+ijY7m7gPP0Cm1RL9iiQHUvPCCwElzaQsM8nZZg6uK8F6jiK5IJMxcOJU\n6ooLqczLRZsZBgoZ7jIrhgnJBF0WGBD6/T62L/qcDX9bQGxGJje98g5hcRefSY3t2YurbruT0uNH\n2bX06y73LyM0hSCFA51azvETDQiRWcTKGtm2bVvHNeXl5WHGiijGUml3I+oUJApeBEGg4FAtoZE6\nzHGd366WH86S/jslSDaXbubrk18Tqg5lVu9ZvDLsFX645gf237yf1VNX89bwt7gz+06uSriK+JD4\nrl1vF8C8PvNw+px8m/9tx7KzWbqWVasQfT6iUw3oQ9UUHJRKReGDe6CyS9lIlfUMokaOABQ2tPHl\nnhJGZUTQK1rK9pY4XCyraWJ2TBhRaik7VFu3Dre7LiBbVlhYyLJly4iKiuL+++8nOjqaZcuWsW9f\nJ78vJuZ62trymRDcgEcUOerz0CMyqDMw6zkBdGFw5GsuFj6fj7Vr1xKs0tPXEo9xRg9k59Bh/H4f\nG/7+Pr9tXMvgyTOY/MiTiH4/P77xEsteeILqglNw4FNQaCWeGyAoZZjn9EadYqB52SkSXWHMmDGD\n9aV+6q1unhnfE5lMwO/38/DhPBqCQ3mpWiDGLyNkTCK2lmZWvvY8CpWK6X99vqMikZP7IE5XNX2z\nPkKt/td4h/8o9q8pRqVV0H9MoH9y/XvvITebMc0K9Eutt9ezpnANU9OmYtaeU7Yu3Q0VByWVf3nn\n/a5udbBgcwFXZUQwpndkwPEAFHIZI3qGs+NUPT6/KAVmPhdZSiP5ngrkMVFQkItDUBAi6giyORG1\nCnLbdUYDeIiWCvA6qFGe7chUEu/NQRQF3O5YIiIisOc10OCqJLJHJs3VNqmMuf4XqYx5ySXU2H5H\nuPY8/L8fmPl9YKmk1BeG2aABQSCaKlSeWLwqLz6Zl4jEVMrzmgI8DVtX/Yig1RL96qvdBlpyg+Ef\n4v3I1GqCR4/GumlzRxamw56pXc+soPggEWIodrsBQ9th5AKoglXsb21/IP43OjNFETY/Bwc/g6H3\nSWn+dqxfv562tjaGu3uhVKsw3dDJCdpT2MAPhyv40xUp9AjXsf6jdzi0aT27xt1EkkbFfUlR7YcX\nyc9/GkFQkBj3DGve+w27xc0192UHSGPYDhyg5oUX0Q8bRuRf/hLwU61uK3duvpPt5dt54pInuKff\nPd3+j1RyFQtGLiA1NJWHtj9EbmNuwDbBV12F6dZbaf7mGyy/bPiXbiFIOmQty5dTOG48De9/gH7Y\nMFJ//omop5/qllNxMWhzt/HK/le4ae1NNDgaeGv4W/xwzQ/0CevDh8c+xOHt5IhFPPIIMr2emhdf\nuqhGAIBRs3sxYFwi+Xur+e7F/QGcrbMIMkpilePufoiqw34cjRryTrxEgkpkVqyZlWYZDZdH8ZtJ\n+oCmCYdRCJFotZ3E/txdlVSeaubyGWkB/BP7oUNU3Hcf6rQ04v/+CbJ22yZ1airh99+HddPmLhOe\nsxh2XXsjwPKuwWivK0eiCQ7h8LofkWkUhE5KIXRaGsFXBmYqnbY2Vr3+IofX/ki/qycx/YkX0AZd\nWM/sQuh71Tiyx0zg0E8ryft1e8dyk+lSksQCMCop9Hpx2xOJEeopLyuluLgYq9VKXUUROtqwmZLw\n+EREnZw+4THYWl1Unm4hbVBEx3Mukf5XEjRiBMpIaWASRZGFOQtJCkni0zGf8vDAh7km9RoyTBmo\n5f+8MHJqaCoj4kawNH8pdk9nI0aHsfm+fQgygbRBEZTlNuK0eQhJi0JukzoA9fYCkAnodEqW7C2l\nyebm7nOyZe+W1KIUBO5L6LyO8rKF6PXpmM4RlC0rK+O7774jLCyMWbNmYTQaueWWW8jIyOCXX35h\n48aN+P1+oiKvQSbTEtKyjF56DctrmhjbO4oDJU0029ygUEH2jXBqvSSafRHYv38/dXV1XGpLJXRI\nLJoene+yz+tl3Qdvk7t9M5ddexNX3HQr6ZcM5Za3PmL07XfTVFXBymfvx3fkG1xpEyVNtXYISjlh\nt2SiSjLQ9P0phOZg8vzRpMkbyN21Frfbzd8On2B/aCRTPG6uPNFGyOhE/Eo/P77xInZLK9Mef66D\nfF9Y9A5NTbvo2eN5DIauOo9NVTaObCilpa77DtB/FTVFrZQcb6D/2AQ0+q68O9vevdj378d8xx0d\n7/W5WJy3GJ/o45bMW7qu2PUO6MM7gtmzeOnnk/j8Is9Pzvzd3zQqI4JGm5vfKlogQdL4y3RIFCTJ\nAeAUGEIw+LT47FrUWg/5be3/2/MbANo9Ms/4pc5PvUFFkH0vbreJ6OgURIcPb62DWkcJMkUSAIk9\ngzu6MYttZYxZ/v+nrsx2DbPTLhP6YOmBiKIafVsMLZ5aIlPSaap24bJ7u9gw+Z1OLOvXEzJ2DPKg\n3+fk/CMImTAev8WC7VcpS9Nhz5TXRGxGJk6XleCQIFx2I35vMSlaNS6tnHx3+0zhf8PMfMcbsPs9\nGHw7jHmpo/MlPz+f48ePMzisN8YmNaYbeiIPkVLjTo+Pp1blkGDScfcVCax5ez55v26nbs59VCs1\nvNIjDm07b6m6egVNzbtJin+EDZ/UYGlwMOnuvgFkf3d5OZX3P4AqPp7Yd94OqMk3OBqY+8tcfqv/\njdevfL1r2rsbBKmC+Nvov2FUG7l7892UWwL1yyIefghNdl+qn34ad1lZN0f5Y4iiSNuuXRRPm071\n08+gjIkhcelS4t5/D1VS0j99zI0lG5ny4xS+y/+OGzJuYPXU1VyddDWCIPDwoIeps9fxTV4nkVlh\nNBLx0EPYDxzA8vPaizqPXCnjsqmpTH9sIAqVnDULjrHz21N4XIFdrYIgkDn8Km5962/4Gy7HL2vk\npy9uZp5ORCWT8XGKkjNXxaD2uskwnyYiakTHvpYGB7tXFhLf20TvYV0zVo6cXMr/fCfKmBgSvvgc\neUhXD1LT3LlosvtS+9LLASXNELOWQeMTKTxSR/nJzqBSqVLTb8x4zhzaT3NNFUGXRhM0pKthOUBz\ndSVLn36UshPHGPOne7lq3p3If4cL4rJ72Ph5Dt+9tB+7JbAEPvLWPxGbkcnGT96ntkgKFo2hl5JK\nIVadggr8WBpikfscxOs9bNu2rb2MKXkoNsZIQYtK6yHV3JvCI3UgQvrAzsyAddt2fI2NGGd2ZpP3\nVe8jrymPWzNv7ZI9/ndgXtY8Wl2trDqzqmNZ0OjRyA2GDk2z9EGR+H0ixb/VIyhk+OU6RK8Cg6qO\nEJmARq/E5vZxSZKJQUnSd7jY7mJ5rcQti2zPlrW07Mfalkt8/NyOQLSqqopvvvmGkJAQ5syZg659\ncFcqlcycOZPBgwezZ88eVq5cCWiJjJhAbe1PzIgI4rDFTu9UIz6/2Nml13+2ZCt3/Ls/vPbW1la2\nbdtGojyClJA4DBM65T28Hg8/L3iNU3t2csVNtzL0ups6frNcoSB7zARue+9TJl4Zgxwvy34pYeuX\nf8duae04hkwlx3xrJsqEYF78OQ+1XMYzk/tSUlLCRz+s5PVWD3GONp76DRThWnRDIlj3wVvUFJ1h\n4v1/ITJFEpetrVtHaeknxMTcQGzsDR3HF0WRnB0VLHv1IHtXFbL0uX388mkOdaX/PsqMKIrs+7EQ\nbbCSviPjAtbVLViAIjqa0BsCmxAaHA18n/89YxPHEh98Toa6+jco3AKX3gXKzkncjtP1rDtRw70j\n04g3/b5I/PAe4cgE2JZfJwXE4b3IrJPG15poDe7iYgxRMfi9dtxOA6E6C1W+UESZMrABoFF6l39z\nRCDIBfqEB2GxHO0QlnUVtiAgYFG1UFeuwhSjR5Z3sKOMuebMGuTCxb+X/+8HZh0aZgZkeiUqvGid\nLkyOUKqazhDTsxelOY0IQqcaP4B1yxb8ViuGaf9e/R/9ZZchNxgCypm2Vjd6o/RS29VtCLZIZLJW\n0rQKmtQCTtS4dFH/8xmzPR/A9lcg+yYY/2ZHUGa32/npp58IDwkjsyKCkKsS0KR1zhQ/2naG4gYb\nz49PY92bL1B09BB9br+fFbpwJoUbGBUmDa4uVz0FZ+YTEjKIw8szaKqyMf7PWcT27JpB8rW1UX7X\nXYiiSPzfPg4YnMst5cxeN5syaxkfjfqI8cnjuRiE68L5ZMwn+EQfd26+k0ZHY5f1gkpF3DvvgFxO\nxYMP4ndd2MewOzjz8ii/7TbK/3QHfqeT2AULSPx2KboB/3h7+llUtlVyz5Z7eGTHI5i0Jr6Z8A1P\nDnmSYFVnFmdw1GBGxI3g8xOf0+TsDEhCr7sWTVYWtW+8js968RZfUSkGZj41mOxR8ZzYUcl3Lx/o\ncAg4H0GmMCb9+ROU9EAbl8OGZ+5jiruZNXUtrKltJLaxGIXSi8kkkdJFv8jWRXnIBBg5q2sJ03Xm\nDOW3347cYCBh4RfdlnoFuZyYV17Bb7dT88KLAdnAfmMSMIRr2fn9aXyeTrHX7LETkcnkHF0fyDME\nKDl+lG+eehiH1cK1T78cIJJ5PqoLW/nu5QMUHqmnpdbB+k9OdDkfgFyhZPLDT6ANMbD6rfnYW1vQ\n6ZLpoajDF6zCD1SYewNwRXwQ5eXl7Ny5k1i59NydlkvvRaSunuCQTAoO1hEWq+9S7m9ZtgxFdDT6\nYcM6ln2Z8yVmrZlJ53H6/h3oH9Gf/hH9+Tr3azx+yaZHplIRcs01WDdtxtfSQkRiMCFmDQWHpOBH\nHW9A7ghHo7USLqODZ3bXyM5s2TulNagEgXsTOktuHYKykVMAOjoWNRoNc+bMIei8zmyZTMaECRMY\nPXo0OTk5LFmyBLN5Kj6fjStkB5ABxwUvUSEaSTYDICJD6tQ7skiqFvwONmzYgOj1c6k9DeO1PZCp\npaDd43ax+q2XOXNwH6Pm/plLutHpA1Cp1SS5DuOLGUzU5dM4tnEtX9x/O/tXLcPjksrvMrWc45dH\nsA8vc70qLglO4KrJU/nUEAN+P2/6NMgaXYROSmHn0q84c3AfI2+5g7RBQwBoaztFXt7jGEL607PH\nsx3ndrS5Wfe3E+z49jSxPUK5/unB9L86kfK8Jn549RA/vnuUstzGi86uXwgV+c1Unm5h0ISkAMWD\ntm3bcf52HPNddyJTBfLdPjj6AW6/m3v7n2dk/uu7oAqGQZ3NW06Pj+dW55Bs1nPH8BT+CKE6FQMT\njWw5R88spPwQicEJnDQ5we/HHBKE1dOMwhFOuLYePzJc+tjAUmZDAahDONqkRNQr6KXx4PVa2jsy\n43GcasLtd2HIiKPmTCtJWZ3dmOpBA/mp6CeGxgQ26VwI/zWBWYnPjFMjI5IGXI5gwvzBNDgqic3I\npCy3kchkQ5cUa+uqH1HERKPrhlj+r0BQKgm++mqsW7d2WOWcDQgbyn0YY+KoaytFa5VmFolyC9Xt\nZubNmvj/WY7Zwc9h49OSKezkD7p0vaxduxaHw8GwpnR0aSaCR3XyBk7XWvlkRyHXZIZTseRNqgtO\nMeG+x1gcmYZMEHgxrbN8dbrgRXw+J1UHZlFbYmPs7ZkBPqWiz0fVI4/iLi4h7r0FAVmm/KZ8Zq+f\nTZunjc/Hfs7Q2It/wAGSDcl8OOpD6ux13Lvl3i4lGQBlbCwxr76K62TeRfPNPDU1VP31CYqnz8B5\nMo/IJ58k9eefCBl39T/tKuHxe1iYs5CpP07lUO0hHhv0GN9O/Jas8Kxut39w4IM4vA4+Pf5pxzJB\nLifq2WfxNTRS/8EH/9D5lSo5w2amM/Wh/oh+kZVvH2H3ijMd4qHnQiaTkT3oNRRaLykjBSK+fh+9\nx0WLKNBTLAEg1HgpADk7K6k83cLl16UTbOoUCnWXl1M2dx6CUknCV1+ijOqekA9SSdN8371YN23C\nun59l3UKpZwrbuhBS62dY1s6s55BRhMZl19JzrZNOG2dXdSiKHJk/RpWvvocwSYzs155h/je3d9j\nAL9f5NC6Yla9fQSZTGD6YwMZPbc3NUWtbFuSHzCw6QyhTHn0KRyWVn569zX8Ph8DDaaOBoCiAQMR\nURBVWkpISAhWq5UkjxSY7S/3gAAJ2kr8rlhqilq7kv4rKrDt3k3otTM6SP8nG0+yt3ovs3rN+pfK\nlr+HeX3mUW2r5pfiXzqWnTU2b/15LYIgkD4okor8ZuwWN8asBDT2aLRaK0avGyFSy+TsGEb0kEqc\nhXYnK2qamRNrJqI9W9YpKDsLuVxDY2MjixYtQi6Xc8stt3T4m4oeH87TzYg+6b4LgsCwYcOYNm0a\nZWVlLF9+FI0mGXfdUoabgllR18KY3pHsPN2A8+yzPGCO5GZS3r3YL0hNTydPnqSfO4noy1LRpEoi\nxG6ng1WvvUDJb0cYc8d99B/3O9ZKBZugpRT55fcw5k/3cstbH5HQJ5tfv1vEwgfu4MTWjThcbl7e\ncIo0s54bY01UfZvHmw41bfoQnlR66XHIjSbDxMmi3RxZt5oB4yczYLx0To+nleMn7kQuDyIr6+MO\nZf/y/Ca+e+kAZScbGXZdOpPuycYcF8xlU1O55ZWhDJ2eRkuNjZ8++I3v5x/k9IEa/D7/ha/jAjib\nLQsyqckcdp69kt9P/fvvo0xIkBpGzkN+Uz6rClZxU8ZNJIac08XZWAgnV8Pg20DbKfz86c4iShrt\nvDglE7Xi4rJPozIiOVltkZwnEi8Ht5U++jj2BEkNAKEeC1ZPK1pbFHFaifDfpI4OLGU2FkBYGvl1\nbfiCFCTLpOqL1RpBbGws9vx66hyl6Izp+P0iiRkhWLdtI3j0aA40HKbOXsfktMkX9ZvhvygwqxLD\naFYKRIllOOwhGEU9Le5aTDGp1JVZu3Rjemprse3ZQ+jUqf8RG5OQCRMQ7XbaduwAzrdnyqSw7DCh\nbUkAmBxF+NUyNEo5lbLo/zkts2NLYe0j0GMcTP+sC7kyNzeX3NxcBirSCdeGYrq+ZwevzOnx8fiK\n4+iUMnocXkRzdSXT/vIMJT36srnRwmNJUR0CkfX1m6irW4e79loqTui56pZepPYPJKTWvf0ObTt2\nEPX0U+gvvbTLuoM1B5n7y1yUciVfj/uavuF9A/a/GPSL6McbV77ByaaTPLLjkY6Z/1kEjxqJae5c\nmpcuxXLewH8ufG1t1L3zLoVXj8Oybh1ht80jdeMGTHNmI3QzI7xYHKs7xvU/X8+7h99laMxQ1kxd\nw5zMOShkFy6rpYamMi1tGt/nf0+ZpTMg0Wb1IfSG62le8g3O/Px/+LfE9jRywzOXkDkshmObylg2\n/yC1JYGlD0NINhHh49EnFjJp3k0MPSoR/geFl6HX90CtMtNab2fPyjMkZJroNbSzlOipraVs7jxE\nt1uSQ0kIJAyfj7C5c9H07UvNiy/hbeya+UzMDCOlXziHzmsEGDhxKh6XkxNbJA6hz+th06cfsO2r\nT0kZcAk3vvQmhogLB4RtzU5Wv3uU/WuKSRsYwfVPXUJkcghpAyO45JpkTu2v4ciGwK7WyJQ0xt55\nPxV5OWz7+jPSzFmEaC3IZHCqzYsY2hNlWz6DzRJPJlq0IapDOVrrxq+Rk6JxU3RY6oRMP0dUtuWH\n5SCTETqjs0vtq5yv0Cv1XNczsFHmd+HzQGslVByG/LXSRG3ry7D6XlhyLXwyTKI4AFfGXUmqIZUv\nc7/sCEQ1vXqh6d2blrPlzMGRiH6RoqN1aJKNaOxRaDRt6B1ttESoee+Gfh2TlndLalHLzs+WfYlM\npiI27mZaWlpYtGgRfr+fOXPmYGrPpPra3NR/eoKGhTnUvncE5+nObtHs7GxuvvlmWlpaKSyMwWI5\nyqRQJ+VON3GJITg8Pn4taC+FZ04DVZCUNesGHo+HdWvXEiro6R/ag5BxSQC47DZWzH+WirwcJtzz\nMH2v+oNuuwN/h+AYyasTCIuNZ8qjT3P9C68TbA5n49/f556nP6C00c6zk3sTMa8Pzw3Uc8Dt4h2j\nmZmNZkSPH0uSle1ff0bqoEsZPkfKIomij9zcB3E6q8nK+hC1OgKf18/eVWdY894x1FoF1/5lENlX\nxXfRClRpFfQfm8Ds+UMZNScDv9fPpoUnWfLsPo5vK++WxnAhFP/WQF2plUsmJSNXdh1LrRs24MrP\nJ/y+exGUXXlnoijyxsE3MKgN/Dn7/+PuvKOrKLu2/5vTk5yS3nsPoRPpSAcpClJVVKSIoGIFK6Ii\nqI8dGyiPWBBRinSQFqRJ75CENNJ7zzlJTp3vjwmBmACxvN/6vvdaKwude86UM3Nm9n3tva/rT9ZM\nR5aCTAk9rxuc55TX8cX+dEZ18KNfVNscDECSzQDYn1LaVGfW3i6QoipH0GpRF6VSa7dgsBsIkhci\nAjlCK1pmZelY3SIoqzHjcFESYD2Pw6FGp41CbhQRTCIl5hxMtT446ZQ4555rEpXdkrEFnUrHwKCB\nbT7u/wWBWTb1ai/MqCiRO/AlH4fZC5u8AYOfL2V5NhBpZsNUvWULOBwYxoz5Hzkk5zsSkHt5UrO9\neTqzILUK/6h2lNfm42ULw26X42q6CIKAp5uGNJu35AfWUH2Lrf8LuLwRNj8B4QMkqyXF9YDCaDSy\nbds2vNVudKj1x+P+WOSNNldWu4MnfzrD2ZwqBlQcRqgpZcKri/Hq0JkFafnEuWiYGSj9aGy2WlKu\nvI5oDiXjQD8GPBBDTI+WL8CqXzdSsXIlbg88gNv99zcbS8xJZPae2Xg7e7NqxCrCXW9PX98KA4MH\n8lrP1zicf5g3/2jZ5ef93LM4depE4YLXsGQ3/2GKVisVP64mY+gwyr/+Gt3wYUTs3IH3vHkt0q5/\nBdXmat48+iYP7XyIWkstnw78lKWDluLrcvNg4UY80fkJlHIln579tPm5PP00coNBagRw/PWZsEqj\nYMCUWO6e2wlLg50N753m+JbMFubhERHP43A0oA68xOczHuHthnzi5Ptxd+vdmMJMQSaXNUth2ioq\nyJk+A3tlJUH/XYE6qqUOUWsQFAr8316Cw2RqNaXZZ2IkiHBkfdr17yE0nKD4jpz9bRvGinLWvbWA\ni4m76XHvJMY8/woqp5vXqWSeK+XnxScoyall8NQ4hk5v18zQPmFkKFF3+HBsUyYZZ0tafD6u7wAS\n7h7H+d3bKUmxESHLQKaVk1JUiyy8GypVJqHJGiar7kSvqsKuD6LIrkZ0VhDl7Ez66WK8Q3QYvKRj\nFK1Wqn7dgLZ//yZ2Mbc2l13Zu5gUPalJ1w67DWoKIP9awPUNJC6RAq7VE6WA6/1IeMsLPm4H/x0E\nPz8gTdQOfSixPKZSScspcTFUZiETZDzS/hHSKtM4lH+o6RwN48dhTk6mISkJd38X3PxcSDtVgsJD\ng6LeG5nMgbq2EKPdQbVNeuGn1zXwa3EljwR44qWSXthWayWFhRvfjzG0AAAgAElEQVTw9RmLxazm\nhx9+oKGhgQcffBDvRlcDa1k9JcvOYyk0oR8agmh3ULbykmSt1VjUHhERwbRp0ygvi8LhkBFS8iMu\nchnJKgc6jeJ6OlOtlYKzy7+2KlF0+PBhKquq6G2OxnNSHDKVnPraGta99SpFGWmMfuZF4vrd5kVb\nlibJciRMB3nzwCQwNp773/qAnnNe5JAsknBTJoVrPmb+5SvsNQjMK3DQa30WdaeLkbV3ZuvK9/EO\ni2DU3HnIGmsIMzM/prziIDHRr+Nq6EZVcR2/vn+aM7tyaNfXn4kv39Gq7/A1yBUy4nr7c//CHoyc\n0wEXg5pDv6Txwyt/cGJrJvXGW8sIORwix7dk4urj3OLZLtpslH76GeqoSPQjR7b4bGJuIieLTvJ4\n58ev37cANYVwfo2kn6m73hDyxtbLKGQCr41ud8tj+jOivLUEuDqRmFIMhgBwDaF9dTEIAg3hfijS\nzmN0CBgcznhYqkEjJ83mAfUVYG4sBbGYoCaPUrU0eVTqlBhMhxplMoKbbJjwV5J/xUhIB09Mu6Q0\npqNzO/Zl7+Ou0LtQ29ouy/S/IDDLoULpi1wmYFXL8aUQtdGPUmMO/jHtyL5cjkarxLvxBhVFkeqN\nm3Dq1g1VSEsRvH8DglyO/q4RGA8exN4oRHvNnknhJBU4Kl3kmOsNuDWcRQZodCou1DUGj/+TrNmV\n32DDTMl37L6fQHk9tSSKItu2bcPSYKZfTTSuQ8NQh0tUst0h8uwv59ibXMJQ4wnizNlMfv1dAmLi\n+DirmHyzlXejA1E2zszS0t7FbC4l++AU+k6Ia9V2x3TiBIWvv45zr574vPxSs7GNaRt59vdniXWP\n5fu7vm9zoHK7mpEJ0ROY02kOmzM289nZ5qk+QamU/DQVCvKefRaH2YwoitTs2UPm6LspXrwYdUwM\noRvWE/DeeygDWrcSatthimzP3M49m+5hY9pGprabyuYxmxkY3PZZFUg1dFPjp7IraxcXSq97Vspd\nXfGeN4/6M2eo3rT5bx9ncLwH9y/sTnR3H07tyGL9f05Rnn89LejsHIa/3yTy89egcqnn3p6eiKIZ\nN7deXDyQR0FaFX0nRqJ1k+4ze20tuTMfxZqXR9DyZTh1uHkKsTWoIyPxnDuX2t27qf3tt2Zjeg8n\nuo0IJeNMaZNuIUisWW15Kd8+N5vijDRGPjWfvvc9fFO23Gaxc3DNFXYuv4jew4nJr9xBbC+/Filq\nQRAY9HAsPmF69n6bRGlOy5q+fg9MJaRjFw58s4FIoQCzVk1KUS34dUJmr0FtqEVXo0SpLKbK6oRR\nrkV0VhCmcKMku5bIG4v+f/8de2kZrjcU/f9w+QdkgowpcVOgvgq+6g9vecJHcbDiWsD1HBz6QAq4\njMWgD4DYUdD/RRj9Cdz/C8z6HZ6/Aq+Vwbwr8NgBeGgTCHIpOANGhY3Cx9mHlZdWNu3fMHo0gkpF\n1foNjelMbwrSqzBVmXFylp6vLvUSm5vXIL2YJLZMxuM3sGXXBGW9vO5n1apV1NbWMmXKFPz9pUYR\nc3YNpV+eQ2yw4TWrA/rBwfg+2w3DyDDMWTUUf3Kaqi0ZOOqs+Pn5MW3aXIy1kRgrNtNHYWd7eQ39\nY7zYm1wiyScAdJ0K1jopOLsB5eXlHD50mAi7D9F9O6IO0WOqqmTtolcoy81mzLxXie7Rp9V7pxlO\nrAC5CrpNbXVYEAR+LtQiU6p4cXAYm/W+/Gy0MazkKjN6e6P0dEZwlrPjwOc46w3c++JClI1eryUl\nv5GVvQx//8n4+99H8h+F/PL2SapL67nrsfYMnBLbQhvyZhBkAmGdvBj/QjfGzeuKb4SBk9uz+OHl\nPzj4S2oLd5BrSDtZTEWBiR73hDcTqAao3rIVy9WreM6d28JizmK38OGpD4kwRDAx+k8s77EvpMaM\n3k81LdqTVExiSgnPDInG13Brz9QW5yYIDI7z5kh6uZTGDulNTO4F5IKcYj8N5tQr2F1cMIjOaE0W\nRCcZKQ2N2bVrrFnj+zgL6V6M8HamoS6F6kbjcuPlYkzWapwDQzHX2QiJ1WNsTGPuzd9Pg72Be7y7\nw/ttm4DC/5LArEDwwkOvBpmAD4VoawIoMeYQEBNHblIFwe3cr6fiLlzAkpmJ671j/9buRFGkzlpH\nkamI1MpUThefZn/OfrZkbGF18mpOF58GpO5M0WzGmCgJGV6zZ6oslKH38qbcXIBo8kIh5hLmpMbu\nouC0sfGG+J+qM8vYD2sfBt8O8MBaUDXvRr148SIpKSl0tYXjGxWEboAURDocIi9uuMC2C4X0N57m\nDkcOk9/8D14hYVwxNbA8t4T7fN3p4SoV5lZUHKOg8GcqUofQqd9AOg1uqQdlycoif+5TqIKCCPzk\nkyaqWxRFvrn4DQv/WEgvv16sGLYCV03rBtPNYDbCxtnwcTwUnLvlqnM6zWF81HhWXFzBLynNDaiV\n/v5N9WYFL75E9pQHyZ/7FCgVBH21nOBvV+IUf+s27dshpyaHWXtm8dKhlwjQBvDz6J+Zd8c8nJW3\n7jK6GR6JfwR3jTsfnf6oGYtkuHcsTl26UPLBB9ir/z4Lq3ZWMuSRdoyY3QFTlZm1b5/k9G9ZTTUp\nYWFPIQgKMjI/prLyKCBDsLXn6K8ZhLT3ILaXlMJ01NeTO3sODWlpBH726V+yKLkRHtOnoenQodWU\nZpfGRoBDv6Q1FeaHd0nAIzAYlcaJyW+8S1yf/jfddkWBifX/OcXFA/l0GhLE+PndcPW5+XVRKOWM\nmN0BjYuS7V9ewFTVvHlEJpMz+ukX0Xt641OUjUOnoLTWTI2rdA+59alDFeqMYC4kt8yKDQWCs4A6\nX7rnb/TGrFq7DoWvL9p+/aRjbahgU/om7g6/Gx8XHzi+HArPQd9nGgOun6WA67kUWFDaGHAdhAd+\ngbuXwsCXIWEaxNwF/l1A59tcDd8QIHXFXVwHBedQypU81O4hThef5nzpeaDR2HzoUKq3bcNhNhOV\n4AMipJ8uwRAgsRtegsRS5TVYSTM1sLG4kumB19kyh8NMbt4PuLr2YcOGo5SXl3P//fcT3Jjerr9U\nRumKi8icFHjP6Yw6WGJYBIUM3Z2B+M5PwOUOX4xHCyh8/xTGI/kYdHp69HgepdKM95UN1NodeAbq\nqDBZOJ3dyHAEJoBXLJy5bmwuiiI7tm1H7hDobeiIYWgItRVl/PLmy1QVF3Lvi68T3rUN9625VioX\nib8XtK3riR3LLGfr+QIe6x9Bdc/eJHbuT7+GKrpu/5HvXn2SJP0p9letpcFiYtxLbzQJuhqNqSQl\nz0ev70Jo4Kvs/uYyiT8k4xOi477XurdaLtJW+EW6Murxjty/sAeRCd5cPpjPjwuPsfuby5TlXZ94\n2G0OTmzNxDNIS0SX5qlF0WKh7Isv0MTHt2rcvSZlDbm1ucy7Y17zUo36Sjj1LcSPA/fGRjmLjTe3\nJhHjo+ORPqF/65wGxnpTb7VzNLMcQnrjVFdGlC6YFE8zYl0dzq7uaGwClnoXNE5WUuob3zfXGgDK\nJQb+stkbZNDetQEQqa3xJCggCEtWLUUNWTgIRq6Q4VaehKOuDt1dw9mcsZkQfQidMv4Ae9sZs/+/\nLZkcdqjO46q6O9rGdJu3vRi3Bn+SzWfQ6IKpr81vlsas2rgRQaNBd5fUgZVvzCezKpNaSy21llpq\nLDVN/1777z+P2cWb5+ANagP7Ju7DqXNnlP7+kp3MPfc0s2cKjI0nO+kiWl9/VD5XCFfLSFILGB2N\ns+P/icAs+6g0e/aIhAd/BU3z9FtNTQ07tu/AR+ZKZ2Uk7pOiEWQCoiiycMsl1p/Oo7fxHH3JZtIb\n72Lw9kEURV5KzUUrl7MgQppN2Gz1nDs9H0u9F4G+T9JtRGiLQ7FXVZE7ew4IAkHLlyFvLOp1iA4+\nPPUhPyT9wIiwESzps6S5me3NUJIsBZxlaZJ45Pd3S4FnSK9WVxcEgQU9F1BeX86S40vwdPJkcMjg\npnHdoIG4T59OxcqVyL088V30Jq7jxv0lS43WYLFbWHlpJSsurEAlV/Fqj1eZGD3xH8sbuChdeLzT\n4yw+vpgDeQcYEDQAkIRWfV9fyNVx4ylduhTfhQtvvaHbILyzF36RksfmsU2ZZJ4rY8gjcbj5ehMc\n9AhZ2cvQqP3R6dpzcHU+MoWMAVOkFKbDYiHvybnUnz1LwEcfor3zztvv8Ca4ltK8Om48RW8tJvCT\nj5vG5EoZ/e6LZttn5zm3L4dud4UiyGTct+g9ZHI5Kk1LCyiQXshJhws4vDYNpUbO6Cc7tWhSuRlc\nDGpGPdGJDe+fZseyC4x9vivKG9TINVotY+YvYP3qxxEjpPs52RFMD0GO0pqK96QE+NROaoUM9JJ5\nee5pA77h2qZmCUtePqbDh/F8/PGm+3BNyhoa7A08Ev+IVP5w7EuplmnIG3/9S70Z+j4Dp7+DPQvh\n4c1MiJ7AVxe+4ttL3/LJwE8AqQmgZvt2avfuxXXUKLyCdaSdKiH67lDIV+GrkAqt88wWNpdUopHL\nmBN0PXgoLt6OxVJKbs4QiouLue+++wgPl8oWag/nU709E1WQDo+p8chdWj4P5FoVbvdGoe3lT9W2\nTKq2ZmI8VojrqM6o1QEM9DvJpoaRHBbqUckFdl8uonuYu9SB3vVh2PUKnP0RYkaSdLWQjKuZ9LJF\nE3RfR2oqS1m3WGrkGP/ymwTGtW/b93b+Z7DUQvdZrQ7b7A7e2HKZAFcn4jp48WhKNv3ctKzu2BFL\njw78sf4nzu7ehiATGP/KIjwCpSD1erG/C97ad1j79jlMVRZ6jg2ny7AQZK34zv4duPu7MHhqO3rc\nE875fblcPlRA2sligtu502VYMFXFddSUNTD6yU4tvG6rNmzAmp+P7xuvt2CZKxoq+Or8V/QN6Evf\ngL7NxjixAixGyay8EZ8nppNfVc/ax3qhlP89HqlXuAdOSjn7U0oY2EdqHIuXaznqksEwwMNZjbm6\nGnu9O3rnWjILPEDD9QaAsnRA4GCVAYeLmTCZtNxuD8HZJKfOJlCtqKAqS0FAjAsNe1chd3Wlsl0g\np7ecZm7HOQh7PoDYkUDbfFr//w7MGjXMUupdkfso0WBGVSfiIWqxOduoLJaCtWtdkQ6zmZodO9EN\nHYpcq6XWUsvELROptTZPQajlanQqHTqVDr1Kj5vGjWB9MHqVHr1K37S8aR21Hr1ST2pVKs/sf4bd\nWbu5O+JudCPuouL7H7BXVSF3dSWonTvHN2cS0TmW1MNH6GbsjBnwtpaSqFShREW9ky9O/3Yq8+oh\nKSjTB8DDm5qJHIL0Utq6dSs2i5U7zV3wnBWHXKtCFEXe2ZnCj8dySDBeZJAsi0kL30HvKT1U1xdX\ncrTKxAcxQXiqpFvpj71vIaoKcLK9Ta9727X4YYoWC3lPP4M1P5/g775tKvq2Oqy8fuR1tmZu5YHY\nB3ix+4ttUibn3E+w7TlQ6+DhzeARAT+MgVX3wn0/QuSQVj+mkCl4r/97zNw9kxcOvsCKYSvo6nNd\nlNH7uWdxTkjApUf323pP3g4O0cGxgmO8c+IdsmqyuCv0Ll644wW8nNtexHo7jIsex4/JP/Lx6Y/p\nG9C3aSaqiY3F7cEpVK76EcO48Ti1/2dsn5NWxfBH25N+qoQDa67wy5KT9BwTTvyds8jLX0ODuQCh\noT+F6dUMnhqH1k2NaLNR8Pw8TEeO4LdkCfq7bi1L0Raoo6LwfPJJSj/+mJrfhjfbZki8B+FdvDi1\nPYvo7r7o3DVoXLQ33VaDycrvP6aQcbaUoDg3Bj/SroWlzO3gGahl2Ix4diy7wL7vkhk+M77ZC8sz\nKIQ7B87EvaISI5BUZqGHV4yk19RYlJwjShOzAG015bla+k2+gS3bsB4EAdfxktJ/nbWONSlrGBg0\nUKq9PPCeFJz1bynK/I+gMUjb/O0lyNiHS+QQ7ou5j/9e/C9Xq68SZgjDuWdPlP7+VG/YgGHUKCIT\nvDn6awZmFxWqOh88VUWoRAeJ5TXsr6jliWDvpueFKIrk5KzEavUiLU3B+PHjiI6ORnSIVG/PxHik\nAE28Bx73xSAobz2BUfq64DmjPQ3JFVTvuErFd8m43jEAs9tq+tuN7JB70s7Fxu6kIl4dJXlN0vE+\nOLYMNj+BiIC74McoMZzYTvGYKGPdG4uwNNQxYcFi/CJjbrl/kKRhRFFEduJr8O8qsXKt4KcTOaQU\n1fLCuHieSM0l1sWJle3DUMlkqNw9GDZrLgmj78VSV4dvZHTjd2XnctKzNDQUoKl7j+2rc9F5aBg3\nvyu+YYZW9/NPoXXT0GdCFN1GhHL5UD7nE/PY/Mk5BAH8Ig3NmupA0gctW7Ycp27dmsm5XMOX576k\nzlbH/IT5zQcsJuk6RA0DXyn4TS8xsuJQJuO7BkqB9N+ERimnT6QH+5JLePPuAQgu3rSvM7HZYAK5\nHF1dBTVWC4o6b7w8ykgmFLtSi7wplZkGhiAul1oRXRQEWM/Q0OBGQEAUDakViKKIMtSN2isNdBno\nj/Hb/ehHjWJT9g4EBO62yaGuXNIJbWNgdts3nyAIKwVBKBEE4dINy9wFQdgjCEJa479ujcsFQRA+\nFQQhXRCEC4IgdL3hM1Mb108TBGHqDcu7CYJwsfEznwp/RWugsSMzzeKORSPDRyzCUu+K2VaDX3Qs\nuUkVeAXrcG4URTUmJuKoqWlKY/6a9iu11lo+6P8Bm8duZv+k/Zx68BSnHjzF/kn72TJ2Cz+O/JFl\nQ5bx3p3vsaDnAp7q+hTT2k9jfPR4hoUOo5d/L+I94gnSBzEwaCAh+hDWpa4DpO5MbDZq9uwBrgeI\nMnkANtGCq12ia93qMrA7Sw+qMlXgv6tldu4nKUjR+0uBSyu0+rlz50hLSyPBEk7QsHaoQ6Uf+Sd7\n0/j6YCadTMmMUGQy+Y3rQVmV1cab6QV01TvzgJ90Xid27cGiWAemofQfO6llUCaKFL75JnXHj+O3\nZDHO3boBUG+r55n9z7A1cytzu8zlpe4v3T4os9TBpidg0xzp4Tf7MIT3B0MgTPsNPCPhp/sgactN\nN+GkcOLzQZ/jr/XnycQnyai6/r0LCgW6QQP/dlBmtVs5kn+ERUcXMXjdYB7b+xg2h43lQ5bzfv/3\n/9WgDEApU/JM12fIrM5kU/qmZmNec+ci9/SgaNGiv9UI8GcIgkDUHT7c/3oPgmLdOLI+nW2fpePr\nJbED6Uf8Ce3gQUxPX0SHg8JXF1C7Zw8+r7zcFFi0BWX1ZTjEmx+vx4zpaOLjKXpzEbaK5o4FfSdK\n9RyH16W19tEmFKRX8cviE1w9X0avcRHcPbfzXw7KriGsoye9740k40wJJ7ZfbTEe130sEcocUMIf\nJy+BXycpMKuU1s3TS6m/UGU9CBDRVfqtiTYb1es3oO3XD2VjzdXG9I1Um6uZ3n66VLx+9AvJbsiv\n09869lsiYTq4hsCeN8BhZ0rcFFRyFd9d/g64Zmw+DtPRY1jy8ons1qhEn1yB2uqHi1MtenM9iRW1\nOP+JLSsv/wOjKZmrVyO4554xtG/fHtFqp2J1MsYjBWj7+OMxJe62Qdk1CIKAUzsPfJ7pimFUONor\n3UEUGGc/gyjIsKobyKmo50JOY3emiwc8dQ6m7ybdfzxWUSRB+APd5Zlov+7GMN1hpk7ogJ+B29av\nXr1QxvcvH2Hni59BWSoZqrHkXC7HXNe8A7zCZOHD3al0DXPjC3MtHkoFqzuGo/uTBIS7f2BTUAaQ\nmfkJ5eUHMGVN5exWLdE9fJn8avf/saDsRmhclHS7K5SHl/RiwJQY/CJd6TsxqsUzvvKnNdhKSvB+\n5ukWY+mV6axLXcfE6IktG7nOrJIK7vs+B0jvioWbL+GklPPyyNh/fPyDYn3Ir6ontcQEIb1oX5KJ\nTSFgDvZGU3SFWrsZF5MfgU75gECtk/8NjFkadvcIKmrMoFPgZkykqsqdoKAgai8WUmkpQuYi1VN6\nmdKlNObw4WzJ2EJ33+74nV8HHlEQdvMSij+jLdzgd8Cfp7gvAftEUYwC9jX+P8AIIKrxbxawDKRA\nDngd6AF0B16/Fsw1rjPrhs+1fTrdGJjliV5UK8GXPGR1XpQZc/AJj6Eos7pZOqJq40YUfn449+iB\nzWFjdfJqEnwSGB46nHBDOJ5Onv9IB0gmyJgYPZGzJWdJrUxF064dqpCQJrHZa/ZMFYVKnA2u2BrU\nOBwy3EyXQS7DTaciV/D7d1KZoih1Ym2aI/mETd8l1Yz8CdXV1fy2Yye+Dle6RXRssqxZfiCDpfvS\niK9LZYwincmvv4vO/bqP2btXi6iw2vhPdCAyQeDC/ixKjW+Dw0DfYe+2oLcBKr75huoNv+L5+BwM\n90iaLtXmambtnsXh/MMs7LWQWR1n3V4HrDQV/jsYzq2GO1+QAk7dDZ5pWi+Yuk2qm1k3Fc6tuemm\n3DRuLB+6HLVczey9s/+Sn9mfUWetY1fWLl44+AJ3/nIns/fOZnvmdrp6d+U//f7DxjEb6RPQhqLh\nW0EUpW67VljVQcGD6OzVmS/OfdFMq02u0+Hzwgs0XLggyS38S3AxqBn5eEcGPRxLaW4tvy+PpuL8\nK1iq4hkwRXqYFi95m+rNm/F8ai7uDz/cpu06RAcrLqxgyLohPJ34NJab1GYICgV+77yNw2ik6K23\nmo3p3DUkjAol82wp2ZfLW3zW4RA5uf0qmz48g0whY9wL3eg6LKTV+/avoPPQIOJ6+3FqexapJ5vf\nS4Ig0Fkvw65VcS6nnArRE4zF2NIPYnXIyPVsh6iR417pICDatSlANB44gK20FNfJku+o1WHl+8vf\n09W7K529O0uSDA1V/z5bdg0KNQxeCMUX4cJaPJw8GBs5lq0ZWympk7pRr012qzdtQu/hhG+4gfRT\nxTipQ1BrjDjXSVmJGQGeeDSyZQ6Hg5On3sFiUdO1yxy6dOmC3WSldMVF6pPKMYwOx/XuiGbXRHQ4\nqCoqJC/pEvXGmwsoCwoZun4BBD09HL2tOy7iOtrV2DHHhAIi76/eRVVVo4CyXEGRKoSfCoL5w/48\nJcP3sLOsG1fqgwjy0aA78T580V2qX930BFxcD6brDhQNJit7v01ix5cX0GhV9PDZSwOu7D0ew9bP\nzvPf5w+xZtFx9v+YQvIfhSzZdAmj2UZ2mDOiAGs6hTc5H9wMJSW7yMr+kprsOyk634uh09sx5JHm\nXcL/N6BQyonvF8C9z3fFO6R5OYzdaKJ8xQpcevdutX70g1MfSGUXnR9vPmC3SkLnwb2ayk+2Xijk\nj4xy5g+PwVP7z7X5BsZKE+HElBII6UNERQ4auZqSAGeUKacw2kUMDh1BikIAChS+Uo2ZKEJ5OpVO\nUuDl56ZCsJdRW+NFgI8/lNgobsihtsITr2Ad9oO7kLu6ciVMSZ4xj3s8Okt+n3fMbBJvbwtuG5iJ\nongQ+LOB3hjgmgvs98DYG5b/IEo4BrgKguAHDAf2iKJYIYpiJbAHuKtxTC+K4lFRqlr+4YZt3R43\naJiVKoXGjkx/ys2FyJQBiCJNNkzW4hJMh49guOceBLmcvdl7KTQV8nC7tr0s2op7Iu5BJVOx7so6\nBEFAP2okdcdPYCstvW7PlFJJQGw8+WVp2Ovc8DCfRwZoDWpSLF4S7Vnfuup6m2BtkDovD74n2Y88\nuKGZUN81iKLI5o2bsFvtDNR0xn2y5IP5/R9ZvLszhZi6TMYr05j8+jto3a5TyWdr6vg+v4zpgZ50\n0DmT/EcBl899icYth/YdF6FWt9xXze7dlHz4EfqRI/CcOxeQzMhn75nN5fLLfND/g5YdOq3hwlr4\neoDUXfbgBhj0avOC5WtwcoWHNkJoP9g0W6pfuAkCtAEsG7KMWkstc/bOocbSdruSioYKfk37lSf2\nPUG/n/sx78A8jhceZ1joML4Y/AUH7zvIhwM+ZGT4SDSKv9ZR1AwN1dI5LOsjddutvKuF158gCDyf\n8Dxl9WX8kNRcn0k/ejTO3btT+tFH2Cor+bcgCEJTy71vmCslV8LoNzkGF1c1pZ8spXL1atynT8dz\nzpw2ba+svozZe2bz6dlP6ejVkd/zfufZ35/FbG/dkUETHY3nE09Qu/O3Fn6nnQcH4+rjzKGfmzsC\nXNMmO7H1KlF3+DD5lTvwCW275En9uXNUb23dTUAQBPo/EIN/lCuJ36dQlNm86SLB3QdRp6RS7c7+\nPSelz6TvptqqoQQNopMcl1xls27MyrVrUXh7N9Xl7craRaGpkGntp0lF5ke/kPQI/f++28Q1iKJI\nUkENS/emMfaLI3y0J1UaiB8Hfp1h/xKwNjA1fip20c6PST8CkkizS69eVP/6K6LDQdQd3pTnm1Ao\ngxBkDtzNlejkMmY3dmKKosj27StRqZJxchpBjx59sZXVU/rlOSwFJtwfiEPeUUvOpQuc2bGZXcs/\nZfWrz/HZI5P45ulH+eXNl/hyxv2sfOYxdn7+Ied2bac4Mx27zdbsfOQuSkK7TsOurmIY+WS7qAhR\nykgxqvnmm28oKirC4XCwde0m1KKCO9p1YN2K98l1hBDw3A7kz12Epy9IzRKBCZCyDTbMgPcj4Ks7\nqfrpBX5f/DUZJ/NIGBXKxDneeNYdRtNvBtM+HsI9z3Sm++gwtG5qMs6UsGb1ZTZcKETp7USpHF4x\nOuGUW39L7bDKihQuXnie+vIw7KWzmLygB9Hd29il/n8Rlat+wF5ZidczT7cYO5R3iCMFR5jdcTZu\nmj/5Bl9cJ5mEN9aW1TZYWbwtiQ4BBh7o8e8oJ/gZnGjnp5dkM4J7oQRiNV5c8bAgFhdgUasxiM74\n2soQFQJXHV5SfFFbCBYjuTKJ1IhylzQSTSYf3OudERCwe0JxdgMhcQaMiYnohg5hS/Z2nBRODMm7\nDEpnxE6T2XQ2v83H+3fDbR9RFAsBRFEsFAThGjcdANxoSJjXuOxWy/NaWd4qBEGYhcSuSR07VdmY\nVJ6YG1TYneT4UYDO1JEix3lqKrSonKz4hEkP3JptWyXtsuFQhQgAACAASURBVLFjEEWR7y9/T4g+\nhP5BbacX2wI3jRvDQoexNXMrz3Z7Fv3IkZR9uYyaXbtxf3AKQe3cST9dQlSXKC6f3kyYyRetPocg\ntRJclJwtcZfC5YoMCOj21w/AVC7Vk+Ueg8GvSzf7TSL1U6dOkZl1ld62WEKndUXuomTtyVxe33KZ\n8Pos7lOnMvm1d3DWX6fKTXY7L1zJxVul4MUwP9JOFXN44wHChm/Fw2MIPj4trZLqL16i4IUXcerY\nEb+330YQpKaCRUcXcan8EksHLmVQ8KBbn5e1XqpzOf2dNLOasFJKz94Kaq3UBLB+OuyYB+Ya6Pd8\nq6vGusfyycBPmLN3Dk8nPt3EorWGfGM++7L3kZibyNmSszhEBwHaACbHTmZw8GA6e3X+9/wKC87C\nqZXSLN1aJ6WqhrwB+9+BLU9KnXc3XN/O3p0ZEjyEby99y4ToCXg6SSynIAj4vraAzHvHUfrRR/j9\niWH6p9C5a7jnqc7UlNdj8HKmbMUKyr/6CtdJk/CeP69NbgjHCo/x8qGXqbXU8nqv1xkfNZ71aetZ\ndHQRT+9/mqUDl7Z6TTxmzqB2zx6KFi3CufsdTbZOcqWMfpOj2Prpec7uySFhZCiZ50pJXJWM3SYy\n5JE4Ynq29M+8Gew1NZR89BFVP0udvLaSEjxmzGixnlwh467H2rP+3VPsWH6RiS8lNBXx9/TpgKjN\nwybKybBJwZfcXk+dzJ8yEzg8FOizvYjoKs3wrQUFmA4ewnPObASFAlEU+fbSt0QYIrgz8E7Juqa+\nUpK++Juw2BycuFrBnqQi9iaXkF9VjyCAr17DZ4lpDIr1pnOQKwx7S2qsOfE1QX2eYljIMNamrmVm\nx5noVXoM48dR8Pw86o4dI6JrNw6vTaO2xhu8YFD5IZ4O8MNdKZ3Db7/9RnX1BpxdFNzR7XkKjyVh\n3V6G6LCTrD5N1ufLMVVdn0A46Q14BYfQYdAwPIND0bq5U5KVSWF6KlkXzpJ0aD8ACqUK7/BI/KJi\n8IuMwS8qGnf3AahU3vQK3sPnVTNw9dSSXShSbRT4duVKOsS1J7+iiDvV8ez47SOcDHomLliCwbsx\nOHYLgW6PSH8OOxScw5qyF+PJHegL/stdajuinwahqg/sFAEBEqaj0igIinUnKLaxxtnuYOznR5CX\nW6mOMzA9yUL15Rw2kYMgE/AM1OIbbsA3Qo9vmAGdh4bCzAIuJs8AmRIPzdv0eD6hhTTF/wuwV1dT\nvvJbtIMH49SxuQi41WHl/VPvE6IP4f7Y5lqVWOvh4AfgHS/VlwEf70mj1GhmxcMJyP+lZgaQxGa/\n2J9Ola4LrmoD7W1wUlfKEEDu7ILOoUFd5wAnOalWT0ZZ6yDnKADnLN6IAsS5ZOGoVuHqGkd9UjE2\nhxXR2wtKwceWQ31dHeqhg9iV9TJDA/vjfGgVdJrMgRwrz/xya7WAG/Fv86CtfYvi31jeKkRR/Br4\nGiAhIUGkKocyuS86ZyUNChm+YiEG4wj0IUXkJdcQFOeGTC5DFEWqNm7EqUsX1GFhnCk+w6XySyzo\nsaBtBeY3PyAp7ZhzTLqAuSfAtwOT7nySbZnb2Hl1J+Ojx6OOjqZm504pMGusMxMFf4y2Spzqg5B5\nJxGIlUyNjBSrN6iRzMz/amBWlg6rJ0jikhO/k1q1b4KKigp2/7YLf7s7PYf2QR2iZ/O5fF7ccIHg\n+jwe0qRx34IlOOmuMwkNdgfTLl7lsrGebzuEUZZUyd6VlwkfvgaFUk1c7KIWL2BrURF5jz+Owt2d\nwC8+R9aow7MqaRVbM7fyROcnbh+UlWfA2qlSKqXPMzDotWZOBSClplYeucqR9DKW3NsBf9fG7jul\nBiZ9D5seh32LpHqcIW+0Gqz29OvJkj5LePHQi7xy6BXe7/8+MkG6f1IrU0nMTSQxJ5GUCklNP9ot\nmsc6Psag4EHEuMX8bSumFjAb4dIGKSArPAdKZ+gwAbpNg4DGsk2lM+x8QVJr7/5os48/3fVp9ufu\nZ/n55SzouaBpuToqCveHH6Zi5Upcx4/HqXPnf+d4GyHIBAxezlSuWUPphx+hHzUK39cX3vZ7sTvs\nLL+wnK/Of0WoIZSvhn5FtJtUWzMxeiJyQc4bf7zB3H1z+XTQpy2YR0GhwO/tt7k6YQLFixcT8NFH\nTWPB7TyI6OrF6Z1ZVJfWkXK0CK9gHcNmxN9SBuNGiKJI7W+/UfT229jLK3Cf+jDWkhJK3v8Auatb\nq3VzTlqV1Kn53mm2f3GBcfO7otIo8NSG4qVPogoIGPsYFYd3466uR/SMpqEYnJ3MhIYE46SV6mKr\n1kuq+teU/o8UHCG1MpW3+ryFzFIHf3wuvdACurY4hluhut7K71dK2JNUzIErpdSabWiUMvpGevH0\n4CgGxnqjUcoY8tEBXvn1Ilue7IMi7E6IHCpponV5kOntp/Nb1m+svbKWmR1mohsyBJnBQNX6DQT0\n7o1/tBtXUxvw9AJXdQU1F89RGRPNvr17SclKokePDGqzfdj64wf09BxNg93IkfJNqP30hHbqhmdw\nCJ7BoXgFhzZJRdyIsC4J169PWSmF6VcoTEuhMC2Vc7u2cXqbZLru4uZOyJ2+qHx20lP9ECkxWiis\nRWttj9p+nlPnz+DjMHA1bTdad3cmvLa4WdlGM8jkXK0I4ffdfWgwdidhmBddY3KRZ/0uyRGVXZHY\nRUNgi49uOl/AhcIarPGufNAhhCnDPWgwWSnKrKb4ag2FGdUkHy3k4u8SV+FsUODe8WNcfEoJ9f2K\nyPb/rn3gv4nyb1biMBrxeuqpFmPrrqzjavVVPh34acsu+71vSCTEgxtAEEgqqOG7P67yQPdgOgW1\nQSbpL2BgrDefJaZzIL2CMcE9iK/KYKOnVP/nppQj1NdjqdehdrKQamq839IluavD1e6Nhf/Hqanx\nICgohLpjFZQ25GK2BuDiqkZxbBNyV1eO+tViumpijE0JtnpImMGyLRn46jW09AhpHX83MCsWBMGv\nkS3zA67JXucBN4pWBQIFjcsH/Gn5743LA1tZv22oyiGPUPR6FaWAW0M1VqMJ9/ZRpJ42N8lkNFy6\nhCU9A99FbwLwQ9IPGNSGv+RdBYDNIhXr5h6TgrHc45JCNoDGVfoxXlpP515PEukaybrUdYyPHo9+\n5EhKP/kEa2EhOj8/3HydqSxWoXZxQVPvg0UQ8Wgo4YRKT53ojYiA8FfrzLKOSEyZTAGPbIOgm/+I\nHQ4Hm9b+CjaRoaG90N0ZyK7LRTz7yzn8GwqZ5pzK/a8uRnODYbDF4WDm5SwOVRpZGhdMu1I7276+\nSEDXEyh0l4mKXIJa7dN8PyYTuXMex1FXR8ian1B4Sg+7owVH+fD0hwwJHsKsjq23kzfh0q+w5Skp\nEHtgLUS3tECpNFmYt+48+1JKkMsE7v3yCCsfuYN4/0amT66Ee7+SGLQjn0jpn5EfNPMGvYaR4SMp\nrS/lg1Mf4PyHMwaVgX05+8gz5iEg0Nm7M/MS5jEoaBBB+pb6bP8IRZfg9Ldw/hep1d67nXScHSdJ\n3XE3ovssSN8reZ2G9gXvuKahUEMoE6InsD51PVPiphBmCGsa83ricWq2b6dw0SLC1q1rIf74T1G9\nZQtFi95CO3Ag/u++c9vtF5uKeenQS5wqPsU9Effwao9XW+i5jYsah0yQsfDIQp5MfJLPBn2Gk6K5\n7IUmJhqvJx6n9JOl6IbfhX74sKaxPhOiyL5UTsrRIjoPCaLn2AjkirZNyCx5+RS9tQjTgYNo2rUj\naNlynNrHI1os5FbXULhwIXI3V3SDWk4u3P1cGP5oPNs+v8CelUmMmN0BmUwg3r2eIzhRofFC9O0I\nlcexBSdAMbip6ohs16h4brNRtWEDLv36NokZf3vpW7ydvRkVNgqOfi4VTPd/qcW+W0NuRR17k4vZ\nm1zM8cwKbA4RT62KkR38GNrOhz6Rnjipml+v1++O5/HVZ/jujyxm9guXJjXL+8Lhj4gbtphefr34\nMelHHmr3EGq1GsPo0VStW4e9qoqoBG9+X12Bl12DRlNDxvnLLFu0EIt3ICFe55DJ7XiW302Id08c\nbgJe4zszLXxUk7J9WyEIAnovb/Re3sT0kjTe7DYrpdlZUqCWnkrJxTME+oqEJX3H4ahZeMsa+F1R\nzweenUkpykWszMPkqWbCgsU4G1oPCBpMVg6tTSX1eDEeAVpGP9mpUVm/PcQ1ZgpqixHVOhx2M3a7\nCbu9Dru9jpo6I69uLcahVzKzk4UB4m5ycuqw2euwO5kwxNShjawj3Gaivq4Wc10tFmslgjKf8NDX\nCQv/a8LTN0IURSwZGVhycnHp2QOZ89/TS7wZbOXlVKxahX7ECDQx0c3Gqs3VfHn+S3r49miS8WlC\n+l5Je6/7YxA5BIdD5LXNl3B1VjF/+O07YP8qOgW64uGiIjGlhDEhvenweyKmIH+sngZ0taWYRAPU\neaB3NpJe7g7KxmNUOnO6QoPoosC74TAl1RHEhvihqKuiSlZGUVYIMQmumD5JRD9qJFuytuPv4k/C\n5Z0Q1IPTliCOX/2DBaPiON7GY/27gdkWYCrwbuO/m29Y/qQgCD8jFfpXNwZvu4C3byj4Hwa8LIpi\nhSAItYIg9ASOAw8DbXders4jU+iKwl2Js1iHpk5JRUMhcpnUmRTcTgrMqjduQlCr0Y8YQW5NLok5\niczsMLPFw70F6islFiynMRArOAO2Rh8+tzBJiiG4JwT1BM9o6WX6UTzCsS+YFD+Jt4+/zeWyy0SN\nHEHpJ59Qs/M3PKZPIzDOneTDBfhHt6O2TKp9cTWmY3XugRkVJo0v2r/SmXn+Z8luxT1MCl7cw265\n+vEjx8gpyqO/sgMh93fmQGopT64+jXdDMTNdUnng1UWona93I9ocInOSstlbXsP7MYH0NcrYuuwc\nHkFm9FE/o9P1wN9/crN9iHY7+fPmY75yhaCvlqOJln6wubW5zD84n3BDOEv6Lrk5Y2kzS/pCJ/8L\ngd2l1KVry0DodHYFc386S6nRzBt3t6NHuAfTvzvJpOVH+XxKVwbGNGbZZTIY9ZEkq3FkqaSXM+bL\nFswbwNT4qRTXFbMqaRVKmZIefj2Y0WEGA4IGNKUG/zVY6+HyJokdyzsBcrXEdCZMl4Lrm7FNgiAd\n/7JesH4GPJrYzMVhdqfZbM3YytIzS5v0pgBkLi74vPwS+c88S+Wan3F/cMrfPnRRFLHm51N//jwN\nFy5Qf+489Rcv4tyjBwGffNzCH+/POJx/mFcOvUKDvYHFfRYzJvIGizS7VRKbjBgEnpGMjRyLTJCx\n4PACntwnBWd/DuA8Zsygdvceit58U0ppukmPG527RtJbEsA/qiXz0uq52WxU/LBKMoIXBLxfehH3\nBx9s0hATVCoCP/uU7GnTyX/2OYL/u6LVgufgdh70mxTFwZ9TObYxg97jI7nDQ8chJ5FTuUXM7TYS\n9h6nTCv9Zr1FM+GdpXvMePAQtuJifF+TWM9LZZc4UXSCeQnzUNrMUsF05BAIbJ1ZdzhELuZXsze5\nmD1JxZLjAJJNzaN3hjMkzocuQa631L4a0d6XgTFefLQnlREd/AjwbQ+dH4DjX0H3WUxrP41Ze2ax\nJWMLE6Mn4jp+HJWrV1O9fTsRYyZxcE0qCrMvOuc68A3CYncQGRpAcEQlTg134FfWC007D9zvi0Gm\n+vcmCXKFEt+IKHwjorhWeXfq5P0Mi7rIrw47ai8VKUWw8cgyXEQHnmFhTHz1HZy0rVsYXb1Qxu8/\nptBgtJIwKpSEEaEtgnujMZWklBcwGpMQ/6R1+X7q09TXR9CxQwb9yj4m5XrvADKZGrncBbncGbnc\nCbnCBa2bHrncF1fXhwkOeugvn7+1sBDT0WOYjh6l7tgxbKUSgSBzdkZ311243jsWp27d/hWv6PKv\nv0a0WPCc+2SLseXnl1NrqWX+HfObM+emcimL4RULQyXCZP2ZPE5nV/LehI64Ov993+GbQS4T6B/j\nxb7kEmw9exJss6GTaygJdME1L4lK3y4oTT54uZaRZfeXAjNjEQ6fDlTlWDH4qdFQR02NF+4mDXbA\n7u2EPceBr1CIo64Oe/8eHCt4lZkBQ5Bd+i8MeIVlv2fg6qzk/u7BPHq7g2zEbQMzQRDWILFdnoIg\n5CF1V74LrBUEYQaQA1yr2t4BjATSgTpgGkBjAPYWcLJxvUWiKF5rKJiD1PnpBOxs/Ls97BZw2Ei2\numHRyPEV85DXeVNhKUJd0R+PADlaNzUOi4Xq7dvRDRmCXKdj1fHPkMvkLXPdoii1reccv86IlTYa\nQMsUUm1PwozGQKxH8y7Aa9AYJPuNY8sY3X8+HyucWJe6jjd6v4GmfXvJ9Hr6NILj3Lm4Pw+dZzh5\nRw7j31fArS4JvHuhUsooUfqjbYuWmSjC7+/Agf9IRe6TV4HTrV88ZWVl7EvcR5DDg94PD+V4YQ2z\nvj+JoaGMWdp0Hnj5DdQ3zKjsosjc5Gy2l1bzVoQ/nVMb2LohHa27msihP1FdYyEu9u0W6aqS997H\nuH8/Pq8taFIqr7PW8VTiU4iiyKcDP7250n3FVambsvA89HpSmqX/iQJ3OES+PpTJ+7uuEODqxIY5\nvekYKM10Nz3Rh2nfnmTm96dYNCaeKdcKSAUBhi6SrtO+RZJ2zoSVUtfZnzAvYR5DgocQ7RaNVnVz\nDay/jdJUiR0795PUUecRBcPfhk73t9CZuym0XjB2mZS+3vsGjHi3acjTyZNp7afxxbkvOFtyli7e\n1wvDdcOH49K7N6VLl6K/a3gTk3k72Gtrabh4kfoLF6g/f4H6CxewNyrvCxoNmvh4PGbOxGPWLGTq\nm3dSWR1WPj/7OSsvrSTKLYoP+n9AuOGG9vn6Kkkw+OoBcPaUtPd8O3BPxD3IBBmvHn6Vx/c9zpeD\nv2x2DwlKJX7vvM3VCRMpfmsxAR992DQWEN22gAyg/uJFChe+jjk5Ge2AAfgufK1JpuJGyFxcCPpq\nOdkPTCF3zuOE/LgKTWzL1v4OAwKpKDRxdk8Obn7O9IiMRNRmkVRYA6NGQNJmDjSqjUc6qVE7S/d6\n1dq1KLy80PaX6mBXXlqJTqljfNR4yf+yrrwFW9ZgtXM0o5w9ycXsSy6muMaMTICEUHcWjIpjcJwP\nYZ5tl4ARBIFFY9oz9OMDvLHlMiseToCBr0ip9sQl9Lx3OXHucXx36TvGRY5D064d6nZxVG3YgPsU\nqabWUuOFkz4Ni91BTEwM/frIuZJehs/ZR3Dp5dei8/JWEB0iZXlGKgpN+ITqMXg7tbmEIDDofqqT\nnmWkp4Ot4b5QXELIo2/SU19HcHyHVn1Tb86S3XBMokh+/k+kpS9BLtcSHPwoCrm2MdByYW2BK8nZ\nZnxCnfhhSH80ilGNY87IZE7IZP+8osheXY3p+HEpEDt6DEtWFgByd3dcevbEuVdPlH7+1Py2k9od\nO6n+9VeUQUEYxo7BMGYsqsC/Zy9nLSqics3PGMaOQR3WnBDIqs7i55SfuTfyXmLcb2DARBG2PgV1\nFTBlPSidqKqz8O7OFBJC3JjQtWUa+N/C4Fgffj2Tzzl7GAkKDfFyLWmeNnofPEetZ0e09X4EOF0l\nmXAa1B5ozOXUuoSACIGukjWVXB6JNakMi92EWe2DQiXD5dwuGlxd2e1RgCPfwT3FWeDsSZrnQPYm\nH+fpwVG4qNt+nW+7piiK999kaPCfFzR2Vj5xk+2sBFa2svwU0EY55Rtgl3LDeaIn1UoHcUI+apMf\noruckiwznQZJ7IoxcT+O6moM995LtbmaTembGBk28rqO1OVN0kMm5xiYGjOyaoPEVnSYILFhAd1A\n1Ub6t8dsOLYM3WlJvX7H1R08n/A8+pEjKXnvPSzZ2fhHByCTCzgcflTUl+Bf50GgkIogCBgMGrJE\nX8Ir/rj1fmxmiSW7uBY6PwijP25mRt4aHA4HG35Yi8whMOLO4VzGzrSVx9A2VDBHn86DL73WTBnd\nIYo8n5LLxpIq5vl54f1rPgdTKgmOd6fT3TmkZe4jMuIFnJ1Dm+2n8udfqPj+e9weegj3KRIjI4oi\nC44sILM6k+VDlt88DZi0RTovAcnLM3ZUi1UqTBaeW3uO36+UMrKDL++O74hecz1w89FrWDu7F3N/\nOsOrGy+RU1HHi8NjrzMD/Z4HlQ52zoefJkn7+ZM9lUyQNROc/VdgM0PyVokJyj4MMiXE3S2xY6F9\n/1I7dROihkr33PFlEnsSdV1Q9+F2D7P2ylo+PPUhq0asanqBCYKAz4IFZI4ZQ8n7H+D/n3dbbFa0\n2TCnp0ss2IUL1F84jyUjs0nLSRUWhrZfP5w6dUTTsSOa6OjbMmQAhcZC5h+cz/nS80yMnsgLd7zQ\nvGas4qp0TSquSs0rJ1bAd6OlDtuArowOH41ckPPyoZeZs3cOXw75Ehfl9WuniYnBc85syj79DN1d\nw9EPG9bKUbQOu9FE6VKpk1Th4UHA0qXohg295Ytf4eZG8Df/JeuBKeTMfJTQNT+hCmp5b/ebFEV1\nSR2/r77C8LkdEXRyyq6C2S0S9az9HFu+GVGpovs1hffCQowHD+Ix61EEpZLsmmz2Zu9lRocZaBHg\nyKcSmxh0naUrrmlg9GeHKa0146yS0z/aiyFxPgyK9cbN5e8zEEHuzjw9OJr//JbC7stFDIsPlO65\nI0sRej3B9A7TmX9gPom5iQwNGYrruPEUL15MQ1ISUQnepJzxQut9mo4h0YwcMeb/sHfW0U3e/xd/\nxZomldTdqJfi7u7u7jJgMDaYMYUNZsxgw4YNLQwpOtwZw4vWhbq7po39/nigUFp0bN/tnN89Jych\n8vRJSJ7nft7v+76X63/2xUjjgmPzPpi1c3kmsSrKVZMUnktSeC7JEXmoix/6gplZGeMaYIlLgBUu\n/paV2ryaYGvbHanUglb6o+w0642tiYw/0yoY06l5jc9/niqZRpNHePgHZGUfx8qqLbVrf4fc6OFC\n52JeET+euYxEImbXyJZYmT+jS/Oc0KvVlIWEUHLxIiUXL6EODQWDAZFSibJpEyxGDMekZUvkPj5V\nqmKmbVqj//BDik6cIH/PHrKXLSf752UomzVDNXAg5t26vpB3Y/aKlRgMBmxff73aY99f/x65VM6s\nho9V0m5sEaZbu34OjsKgwOKjkRSUaVg4oM4rSy+oCW19bZCKRZyIyqeJS1PqlGZww7ycDhUa1BIp\ntnozXO5bZmTJnXAtzyFRIhBFb9Mk1GoLnJx80F9Xk6lOJC/TB1c/C8rWn8SsZ0/2JfxOA6sA3EOO\nQ5s5rDyfjEImYUIrjxfaz/+u8/99b6Nkgy35RmLsSUNeaIfCVkF+vAG3Og/amHuQ2ttj0rIF68M2\nUKYte2iRkX4Hdk4Qpvu8OgqVMLcWYBtQo/7ouWDhKrSiQjYxbPwugqODORh3kCE9e5C5eDGFhw9j\nM306Dp4q8jLKERmJkZbZY6FMxkEMUlMZodm2dNLmCSuKmqonpbmwfTQk/ikI4du+/Vwn9fOHTpNW\nmElX+2bkBtgxduUF5OoCZqpiGPf+R5UBuSAQqQ+iktmenst4iRLVqhgyDNBhtB8+zZVcvjINM7NA\nXF2rTqUVX7hA+sKFmLRvh/28h5Niq2+v5njCcd5p8g4tnWqIStJWCLEvl1cKjtlDfwVLj2pPuxov\ntC5zSyr4vH8gY1u413hgN5VLWTOuCfP3h/LL2TiSc8v4flh9jB8YVTZ/TdCc7ZspGPCO2lGjpchf\nhk4rtCgjfhdazqXZwvvqskAg1KavwGi2y2dCusPeGTDjz8ptKmVKZjaYyYKLCziZeJIu7g9Jm9yz\nFtaTJgmTk0OHIHN1pezWLaEtees2ZaGhGMrurxAtLDCuXw/znj1R1G+Aom6dyhitF8GpxFN8cuET\ndAYdi9stpmetxyZ4Ey8JOkm9TqiSebQRfkub+glpDmN2g2szetbqiVgk5v1z7zP9+HRWdllZpapp\nM3UqRSdOkP7Z5yibPmxpPg1FJ0+SvnAR2owMLEeOwHbOHCRmNbe1HofMyQm3tWtIGD2GxMlT8Ni6\nBalt1f9XsURM96l12L34OqfXhGHbVE2OQURMZjGBTiqS8rUYlAra1xFMZvN3B4PBgMWQIQBsDN2I\nTCwTwsqvrRe+R49Vy748FE5BmYbVYxvTztf24Xf9FWBK21rsvZHCgv2htPa2waTNHAjZCCfm03X0\nLlzNXFl/Zz1d3Lqg6tObzMWLyQ/eQ6233+f6OXtMxXpaGNuRvH0Hat94vGw+wrxZzYuzijItyZF5\nJIfnkhSRR36G4MmnVBnhXsca1wArrJxMyIgrICk8j5iQLMIupIEIbF3NcPG3xDXACkdvFdJHPgOJ\nRI6jwwC0KVtxUwwARyVnIrNQa3RVPqvnqZIB5OVdIjTsbSoqcvDx/hBX14mIHpFmRJSUMfZkGKLs\nct7q6Yeb6uVJmUGrRR0aWtmeLLtxA0NFBUilKBrUx2bmTExatkBRty4io6eTcLFSiapfP1T9+qFJ\nSaFg/37y9+wl7YMPSF+4EPPu3VENHICySZOntjorEhPJDw7GctiwSg3kA1xKu8SZpDO81eitqvKP\nnFg4/L7Q4Wkp2CbdTMpn25VEJrWuRYDj89vWvAzMjWU09bDiVEQG8+q3pM71Zey3E7iCQSZDZVDi\nrMvCIIJEkS2uwI37E5le0vMUZFvhaWeHVGegzKyCklwDjvIc9CUl5LbyJy5rL59aCNKCNO/h7DsZ\ny/iWHi+8MPrvEjOt4GuUYrBBr5ThQBpkB4KNI1K5BEcvFdqsLIr/+APrSZPQoicoPIgWji0ellWP\nzxfaWjMuPLMF+EJoNQvu7iIw/iq1rWuzI3IHI/qNQNG4MYW/H8Jm+vTKeCZ7Tz9EBUkYW4Vhr1WT\nrhBzu8xa6G/n3qtOzHJiYetQKEgW2nB1Bj/XLqUnpHLu2gU8JPZY9WrJ8FUXEKuLmGkRy7j3P0Rm\n9LD1ZDAYWBCbysbUHHpkg+vJZGx8LISIHSsp4eHvZNZeTgAAIABJREFUo9Hk0aD++ipl+PKYGFLe\nmoPcywvn73+oFH6fSTrDspvL6OPZp2bfuLwE2DVRME5tNk0Yy3+svajXG1h5NpYfjkfhYqkg+PVW\n1HF+OjmQSsQsGlAHd2slXx6KIL1QzZpxTbB68CNpMEqolO2aDBv7wJg9r4YoleVBzEmIOgLRx4VW\npVgqeE01mQSeHV+e+NcEmTEMXiv4u+17XSCZ98lqf+/+bA7bzJKQJbR3bY9M/LCqZTN9GoUHDpAw\nYSI88H+SyTAOCBCmNuvXQ1G/PjJX1780carRafjh+g9sCd9CgFUA37X/Djdzt6pPur1T2HeVq7D/\nNt7C/Va1YOJhwaZh0wAYvQM82tDdoztikZj3zr7HtBPTWNVlFWZGwslTJJPh9NVX3Bs8hIxFX+D8\n/XdP3rf0dNIXLaL4xEnkvr44//gDyoYv7gcm9/YW2poTJ5E49TXcN2+qRuzkShm9Xq/Hrm+u4air\nIAcJtxJiCLBvSEGZFImVCEczBQadjvxduzBp3RojFxeyy7LZF7OPft79sJEoBY2kZwdwe1jpuRib\nw76bqczu7EO3wFfvcSWTiPlyUB0Gr7zIj8ej+LhPbWj7Dhz7CMm9s0wInMDCSwu5mn6VZo7NMOvS\nhYIDB7B79x2s7IUUhsKUCAo8TiOTWOHa+KG2UafTk3mv8H5VLI+M+EIMegNSIzHOvpbUaeeMS4Al\nVo4mVb6Htq5m1Gnvgl6nJzOxSCBy4XncOpnEjWOJSGRiHL1UuAZY4RpghY2LKU5Ow0hK3kB3RSLr\nzK0wqhBavx39BS3qvVtZnNka+dQqmV6v4d69n4hPWIlC4U6TJrswN6va9ElVVzAyJAZdWD7uNibM\naPOY0/1TYNBo0GZmoklPRx0eIbQnr1xBXyRoBOX+/liOGoVJq5YoGzf+S5FxMmdnbGbMwHr6dMpu\n3KBgzx4KDx2mYM8eZC4uqAYMQDWgP0Yu1duL2cuXI5JKsZ4+rcr9Or2OxVcX42zqzJjaYx55QAvB\nrwm63oGrQCxGrdHxYfAdbE3lvNXF56Xfx4ugc4Adi34PJ9OqMXXU5WTZgk4px1QEco0BudqAyFhM\nrNaG1sDlEmsMSim1uEV6USAWRlJAQ5m5GeSBKuwUWpWKPeZxGOUY0T3qPPj24JdbWsQiYVHzovjv\nEjNdBUUyawxaYzASY6/LpDDfkwKRBS5+lkikYnIOHASdDtXAARyJP0JmWSYLWi0QXh97CmJPQrcv\nXgkpi8oo4stD4agUMpaOaAjubeDSSob1ms+Cywu5mXUT9149yVi4CHVUFG61Hbi8Lw5Ty1oUpN/D\nxMuARWEqYUaO3KsMM4+tKuxN+FOoKIjEMP5AlQPz06DVaAneuhOpQUKDHj0Ztf4CurJSZlveY9K7\n7yN9bIX1zb10fknKosW9cpqHlNFyiDf1OrqQm3eWy1e+pLQ0Dg+PWZiZPcxd1ObmkjR9BiK5XAgm\nNxUOFnH5ccw7P49A60Dmt6weakv0Cdg9SWiRDd0IgdX9hXOKy5mz4xbnorLoXc+RrwfVxcz42W0z\nENp2r7XzwtlCyZwdNxm04gK/Tmz2UGdTuz+MMoHtY+DXnkKKQA0JCU+FwQDZUQIRizoqVH4MOkEf\n5d9bmCT17FgtOP6Vwr42dFsktGevrBEqggiZoHMaz2HWqVnsjtrNCP8RlS8RKxQ4ffM1+bt2YxxY\nG0W9esgDAp6qD3tRJBUl8e7ZdwnNCWV0wGjmNp6LkeSR75vBIGgkz3wF7q1h+JbqixGVy31y1g+2\nDIGRQeDVia7uXfmuw3e8c/YdXjv2Gr90+wVzI+Ezrmxp/rxMaGl27VplkwadjrygbWQtWYJBp8P2\n7blYT5jwXO3Y0JxQcstyaevStsr9igYNcPnpJ5JmzCB5xuu4rltb7bO0sFPSc1pdrh66xB2Rnj/i\nEmlm6kJFuQQLpRaRSETR+fNo09Ox//ADAILCg9DoNYyvPV7QJZZkVamWaXR65u+/i4ulgtc7eD1z\n/18Wjd2tGNnMlV//jGdgI2cCm00VUgeOz6ffpKMsv7mc9XfX08yxGarBgyg8dIjikyepVbs+yUVQ\n7HKHYqub1HJ9k8IsLUnhWSSF55ISlYdGrQMR2Lmb06i7G64BVjh4qp5relYsEeNQS4VDLRVNetWi\nQq0lNTqf5PA8kiJyubgnlot7YjE2lQntTq9AGhRvQm/9PkYyMcfC0mnpavmwSuby5CpZWVkSd0Pn\nUFh4A0fHIfj6fIpUWpUYFWi0jLodR0F0AYZSLV+MbFwZwG3Qau+Trgy06Wlo0tLRZKSjTUtHk5GB\nNi0NbXZ2lfgnmYsL5j16YNKyBcrmzZFaW/OqIRKJUDZqhLJRI+zvtzoL9uwhe/lyspdVb3WWx8RQ\nsP8AVpMmIrOrGvMXHBNMdF4037X/rqrv4LlvIeWaUFBQuWAwGPhoz13C0gpZO67Jcx/T/yo6+gvE\n7ESRG6P0YCNRkO0sxzQ/HY2FMeVlKuQKDWe0AYyzr8OlXBvkphLMKCZe7YQ0tpSCigIKy2yxdzdD\ns/MoJj26cSj5KJ3MfTCPPUxh3fFs/y2RAQ2cH1o3vQD+08QsU2yHubmcQpEI21I1JbISSgrkuAda\nYTAYKNizB0X9+hjVqsXmg/PwVHkKkTh6vdA2s3Cr5gH1oigo07DkRBSbLiYgQphgHN7UlVat3oBt\nw+mp1vKdzJQdkTtY2P1tMr74UmhnvjEbuYkUrdaBvKwyTACLkjg0pq4kPbDMeHQA4PYOoe1m4S5U\nDayebwWm0+nYsWILmRV5NA/oyJSDdykrU/OWdSKT33kH6WMnou+iU1mSnEnDWDUjsyR0/agpRmYp\n3Lozidzc8yiVtahfby3W1h0qX6MvLyd55iy0WVm4b95UKZQurChk9unZyCVylnRcUt35PvoEbBsh\nTOYM31Tje7ocl8Ps7TfIK9WwaEAdRjd3e6nqTe96jjio5EzddJ1BKy6wZlwTmnjcJwDeXQQNU9Aw\nwVF/3F4hDP1p0JZDwgWBiEUdEeI7ABzqQtu5953YG73aytiz0GwqxBx/aKFhL7TF2rm0o4l9E1be\nWklfr75VNFnKpk1rnCZ8FTgaf5QFfy5AJBKxpOMSOrs9JkvVqAWT3Ds7of4owV39STpJMweY8Dts\nHiBkoA7bBH496OzWmR87/MicM3OYemwqq7uuRiUXKqk2r71G0YmTQkuzSZPKlqY6IoK0T+ejvn0b\nk9atcVgwv0ZdWJVd1Wk4nnCcoIggbmXdAmB2w9lMrVf1+GHatg1OX39N6jvvkDL3bVyWLqmc5HwA\nZ19L+mbU5vC5SG6lFHGp4iYgwtX6geh/JxIbG8w6dqREU8L2yO10ce+Ch9JeqJbValcZXQOw8c94\nojKKWT228SttX9aE93v4cyw0gw/33CV4RisknT6B4KkYRxxkTMAYfrrxExG5Efi1bInUyZH8Xbup\ntfIXEs8Yk297CpFBxoUNPhRmCsYB5jbG+DS1x9Vf0IgZm/z1k7ORsRSPujZ41BVaaCUF5ZVt0aTw\nXGQ5jXFsuolapaXkWMo5dDMN70sFVBRradrbg8Y1VMkA0tP3ExH5CQCBgUtwsO9b7TkleXmMvRNP\nbLEORUw+raSFeCxbxL30NLRp6QLpeiyvVqxUInV0RGZvj7xdW2QOjkgd7JE5OGJUy6PGatXfCbFC\ngapvX1R9+6JJTb3f6txTpdWpSUtDrFRiPWVKldcWVxSz7MYyGtk1opv7I/rOpCsCMas3vLLLs/HP\neHaHJDO7sw9datcwTPc3wdPGBA9rJcdiihnl1IBAXRHRNlpqx4dSbGqPpNQGM2UxpzMCqHj3PDmf\nHMbRsRy9Xoa1ZR2MwsSkGTLJTfemUd1C9CUl3GvsSEFRAf1KJWDlyZoUd8q1cUxr/3ILpf80MUvU\n2yA1k2BmKMS01Iwcc1NE+SLcAq1Rh4ZRHh2Nw4L5XE2/SnhuOAtaLhDsGW7/JujLBq2tcSLvuf68\n3sCOa0l8ezSSvNIKRjVzY1YnbyHG5FgULad1RWTtg/LyKvrU70NwdDDvNX0PkxbNKTp0GNvZs3H1\ntyIlSkdhnh6DQYST4R4Gk06UY0SR3AHz3Pti67OL4cyXzz15+QB6vZ7gNduJyounjl0jFkQUUVRa\nwZs2iUx9+00k0qoHwS+v3OOnkgLqJZSzwMmO+qPNiE/8hpTwbUilpvj4fIyL82jE4ocnT4PBQNpH\nH1N24wbOS5ZUuj7r9DreP/c+KcUprOu2DgeTx9or987Bb6MF/63xB6rpu/R6AyvOxPDD8SjcrU2q\n+pK9JBq7WxE8oxUTN1xl1NrLfD+0Pn3r35+2c28p7MfmgULlbOzeSmJTiaIMiD4G0UcFM8mKYpAa\nC22l1m+CT/cXr7a9SjxqobF7Mkw9DTJjRCIRcxvPZdShUfx699fqYtxXjHJdOd9e/ZbfIn+jnk09\nFrcX2hpVUJJ9P6HispDD2Gbus3WSprYP/49+GyOsvGv3o4NrB5Z2XMpbp9+qJGcWxhb3W5r3pzS/\n+BLHzz8ja/lycjdsRGJhgdO332Lep/dTiX52WTY7o3ayM3InWWVZuJm5Ma/ZPG5n3eanGz9Rqi1l\ndsPZVbah6tMbXV4eGV98Qdr8+TguWlTtb/Rs44YoJJqsXGNuae4BrgTYWaDJyKD4zBmsp0xBJJOx\nKzSIoooiJgZOFFIvijOE930fmYVqlpyIpoOfLV3/gZObhdKIj/sEMOe3WwRdTmBs8yGCbcfJhQx7\n7RRr76xl/d31LG63GIuBg8hesQJRdgYivTMiUSyFCW2xcXahYRcrXAMsUdm+Wk+tmmCikuPXwhG/\nFo4YDAayUny5G7mT9qIrbHJoTkVmGefkGvr39cQx0K7ahKhWW0JU1Gekpe9GZd6QwMAfUShcMRgM\nZFRoiSlREx4eSURENNckciLdPWlw5Bpxcgcm/LGWcgtjZI4OyFu3RubogNTBAZnD/WtHR8Smpq/O\nnPoVQ+bkhM306VhPm1al1akvKcFm5sxq+s01d9aQq85lRecVD99TeZHQwjR3hl7fAkLrfeHv4XQJ\nsOOtzv9MC/MBRCIRHf3t2Ho5EU3rFtSN2sYdSyWNbySQp9MiL3XAxj6XbI2K8/E5YABnk1QKC6yx\nV9ohRoLaXIyoTIRl3B9IVCp2mUVgU25By8ibqDstZOOpRLrXdsDb7uUm+v/TxCy63IpyI3AgFUmh\nNRqRLRb2SsxtFKSv2ovIyAjznj3ZdO0jrIyt6O3ZW1iln1ok2F88pz7rcVxPyGX+/lDuphTSzMOK\n+f1qV5KGWR29+WRfKOdicmnfahYceJOhrV9nu76C/bH76dezJ+mffIo6LKwynsna2QdRWQrusliQ\niDEzNSJN4oR5VjjsmQ63tz+7ovAYDAYD+zfs5m5aNJZmdfkhU0RuqYbZtslMmzsbySOr+IoyLfMP\nR/CrpZYGWTrWdfRGJ9rL5as/o9OV4uIyBs9as5HJqhPC7BUrKDx4ENu33sK8x0Pz159v/MwfKX/w\nSYtPqk83Jl4Sqh6WtQQC9BgpyyoqZ+6Om5yPzqZffSe+HFQX0xcYNX4aPGxMCJ7Ritc2X+ONbTdI\nzitjentP4SDi1EBomW0eABt6wejdQg7ng6pYaoiwEXMXwfTVt4dAlp93YvefQBULjfnQ8xsA6trW\npYdHDzaFbWKY3zDslHbP2NDL4V7BPd49+y6ReZFMDJzIG43eqKJrAyArUtBJFmc8M6GiGpRWMH6/\n0NLcOQEGrYa6Q2jn0o6fOv3Em6feZMqxKazptgZLY0uM/f2xmT6d7GXLKLl8CV1WNhZDh2D39ttI\nLJ487HE3+y5bw7dyNP4oGr2G1s6t+cz/M1o7t0YsEjPCbwQKqYK1d9ZSpi3jvabvVfHksxo7Bl1e\nLtkrViK1ssbu7blVti8RibC3EpOZJiPBshyKoLmrK/m7d4Nej8XQIWh0GjaFbaKpQ1PqWvjAH0ME\niYRHm8rtfHkonAqtngV9A/+xk/uABs7sup7M4iORdA90wK7r57B5AKpbvzHUdyibwzczu+Fs7AYO\nJHvFCvL37sW2jR/ZObF0GTIPMzPfZ/+RvwkikQg7Fzsci/vROm0bQcbtMTeXc7awjLO/h8LvoZgY\nSfCxN8PfwQw3i2J0xRvQGWUid/6cItMOrIvTEFsaSWypmhL9g5ajFLmLF+4aNVNzC9isdGV2G1fa\nLz75ryVdL4LHW52lISGYNKtqYp5UlMTmsM308+pHoM1DmQtH5gkdhYmHwFhFSn4ZM4NC8LBW8uPw\nBn/rFOaT0Nnfnl8vxBMqrUMddSkH7UwwVudRghjTMgecFHFEUIsNN4QUBk/5dQrzbXBSG9AbdOSL\nzTGzliM6sh9Zt46cSzvBGLkTUqmCLZq2FKpTmf4XZAX/XWJmMBCvs6FYLsKHVAx5SoryrKjXyQp9\nRQWFBw5g1qUzieRyNvksM+rPEFppf/4MBYnQ/+cXbjNlFKr5+nAEe26k4GBuzE8jG9K3nmOVH96w\npq6sOhvHD8ejaPfacEQnF+J7ew8N7RqyM2ono7tsJv2zzyk8dAjXycJUikLlgS7fFEvzbKz1WuRm\nMmJL7fFLPyRU9jp+DO3eeW47BYPBwP4t+9h9L517hkYkZ0tQ6MqYaZfBzLkzET/ixp4cmcc3x6PY\nGSiniUbCqraZJMS/S1lZAtbW7fHx/hATE+8a/07Bwd/J/nkZqgEDsJ720MH/yL0jrLu7jqG+Qxnm\nN6zqi1JChJOymYOg5zKpqpf4MzabN7ffpLBMw1eD6jKi6V8TntcESxMjNk9uzru7bvPNkQiS8kr5\nvF8gUokY7Pxh0hFBz7T2gZu7CFyaChOwvj3APvDlrC3+KVRaaKy6b6Eh6KtmN5zNicQTrLi54qHW\n8hUhriCOnZE72R29G7lEzvLOy4Usx8cRe1qI15LKhdakS5MX/2PGKhgbDEHDYfcUoa3ccDRtnNvw\nc6efmX16NpOPTWZtt7VYGVth89pUis+fQ19cgssPPzyxdavRaTiWcIyg8CBuZ9/GRGbCUN+hjPQf\niYfKo8pzJWIJ81vORyFVsCV8C6WaUua3nF8lI9XmjTfQ5uSSs2YNEisrrCdOqLKNQEcLMkPLiCqx\nxSAR0cjKTBD9t2qFkasr+2L2kVmayYKWC4QJyOJ0GLym8vWX43LYezOVNzp54/EC3mR/FSKRiIX9\n69BjyXk+PxjGslEdwasznPuWsVOPszViKxtDN/JRi48wadmCguA9uI/6Bivrpv9TUvYonJyGk5r6\nG21Vxdxs58DVhj5cTM7nanI+YemFJGaVcOdWMroKAyAYHxtkYgymYSjNZNhSSrP0OPwy4qhtIqNO\n29b4du8CcmP6/PwHzhYKXu/+8mQ5T53HmaQzxBfGIxFJkElkyMTCRSqWIhVJkUkeuy2SIhXXfFsm\nlmEuN38lBtlihQLT1q2r3f/j9R+RiqXMbvhILFPYfsEeo81ccG+FWqNj2uZraLR6Vv+DurLH0ayW\nFSZGEg7kuTG7vIJkZ0AMOpEEc91Dy4yrMdkYgAYmt8hOqoMqR0xOeRrZxdb4eaoxlJRwp44pWq2W\nfvG30AUOYsWlHFp5WQv5si+J/y4xQ/AwK1EY4UAa6nwxBoM1boHWFJ85g+6+d9kPYZsxEhsx3G+4\nYDNx7lvhZOXZ4bn/TrlWx/o/4vn5VDRanYFZHb15vaMXSqPqH59cKuGNTt7MC77DqZhCOjebCme+\nYuiA7/jw1k9cV0fh1Lo1hYcPY/f221g6KNFW2FOaI8HEoQCr4kIKlEaczfGkp0yOqP9yqDe0hr2q\nGfmlFXy+/gRHkg2U4omriYiO6afpE2DNwDnvVsadaCp0XNoTy9bYTPa1MKG5kZ4PVD8SGf4HSqU3\n9euvw+YRHdnjKA25QdqHH6Js0gSHzz+rPABF5EbwyYVPaGTXiA+afVD1Rel3hTaUwkKoejxi0qvT\nG1h2KoalJ6PwsDZh06Rmf+votLFMwtLhDXC1VLDiTCwpeWUsH91IqMxZesCkowKxsfUXiI3JK3b8\n/7tRzULDDldzV0b4jSAoIoixtcfiZfHXhOIanYaTSSfZEbmDq+lXkYqldHXrytwmc6u3rkFoxR2c\nC7Z+MOo3QeP5BJRrdZwMzyTA0bxmQ1S5mWBOuX2UMM2pK4cmk2jl3EogZ6dmM/noZNZ0W4ONwgaP\noCAQi2s8UWaXZbMzcic7onaQXZaNh7kH85rNo79X/6eaC4tEIkGeIDPhl9u/oNaq+aLtF5UVQpFI\nhMOnn6DLzyfzm2+QWFpgMeDhcEtbD0dOk0Z+kQrMJFiFXCM1NQ37995Hb9Dz691f8bH0oY1dE/ht\nKri1Eiq0CIL/T/eFCgSgQ80Lp78TnramvN7RiyUnohnaJIv2XT+DVW2xD9lCH88+7I3Zy4wGM1AN\nGkzqO+8gi6jAtWUNE9n/I5ib1cPUxI+W2oOc1Iyi/pVw9ABiwEmGmbMcR106ziIxTrLaiPN15EXE\nk5qcToLUnCSZMUnU4qJlLZxUxvjmm+F3JoHici0R6UWsGtPohfV+acVpnEw8ycnEk4RkhqA36JGK\npOgMOgxPjpB+IbR3ac/4wPE0sW/yShe81zOuczzhOK83eB17k/vH9cI0wUjWsQF0+ECwYAq+Q2iq\nIPb3sv0bjLufE0ZSMW19bPk9Jp+PbfxxkJaT5yDBSFuOqd4aV306AOqCCsRKCXaSTIpkfpiVmZAt\nT0Gvtscq+QoSlYogk7sEqG3xKUvkiGk/MovK+WHYX8sh/o8TM1sMSgkOpFFS4YHUSIqzjwVpy/Yi\ntbWlolEA+/fMoa9XX6wV1oIoWl0onLSeE6ciMvj8QBjxOaV0rW3Px70DcLd++up0cGMXVpwRrB06\nTZqM6I8f6ZZwk2/kKnZE7uDT3r0ofu8sZTdv4RpgRei5AhQ6PWZiPaqSdBLl7vxW0ZI5b76Hg/Xz\n6aruZZfw64V7bL+cQIUevCUGJjY2JX3n97gF1qP/7LcrSVl6XAEnN4ZzUaZhfytT6hllMa18DuU6\nY3x9F+DsNALx4+2nR1CRnEzyrFlIHR1w/vknxPenOnPVubx56k1UchXfd/i+amBtVpTQIpQpBZ3Q\nIyG/mUVq3tp+kz9jcxjY0JlFA+q8kEvyy0IsFvFeD39crZR8vPcuQ1dd5NcJTXFQGYO5Y2VUyF9F\ncbmWe1klFKo1VGj1lGt1lGv1lGv0lOv0lGvu/1urr/Z4RZXHdfcf19Pa24b3e/gjeVIboIqFxsxK\nC43X6r3G3pi9LLm+hJ87P3/62aNILkpmd/RugqODyVXn4mzqzJuN3mSA94CaV+R6ndBWfRAhNOTX\nJ06o6vQGgkOSWXIimpT8MqRiEaOauzG7sw82po/pQY2UMHK7kBJwcI5QOWsxg5ZOLVneeTmzTs1i\n8tHJrOu+rsb9up11m6CIII7GH0Wr19LWuS2jAkbRyqnVk6PCHoNIJGJWw1kopAqWhCyhTFdWZRpN\nJJHg9O1ikgoKSPvoYyQWFph16ABAB0dLPpOKEGkNKE1FFO7cgcTaGrNOHTmXfJ7Ygli+bPMloptb\noChNsBi4fzLddDGByIwiVo1pXC3f8p/CjA5e7L+Zyid773JsTjuM6w2HS6uYOHEve2P2EhQexOtd\npiA2Nyd/dzAmLWvwL/wfQSQS4eQ0HJ/oL5jsMAal3AYvpRxrTRgV8Z+i1Gfg4/cRVrm1yf9tG4WH\nDmMoK8M4MBDzYcMoadOc6EIdkRlFRKUXEZlRzJ8xOVTo9LT1saH7c1iWGAwGYvNjK8lYeG44AN4W\n3kypO4XObp0JsApAJBKh0+vQGrRodBq0em2V2xqDRrht0AqP6bVo9Jpqt2PzY9kRuYNJRycRaB3I\nhMAJdHHvgvQvJg/oDXoWX12MvdKeCYET7t+pFxZMGjUMWgNSI9adj2PPjRTmdvWlc8A/J/Z/Ejr5\n23EkNJ0878bUyTlOjK0JdrmpiE1tkGtEgmWVBkzNtJSXmWMtcRKmpo2MMFJIkJ8PRt+xOaEFZ5in\nlmBwbsLXN+XUdZbR2vuvTc7+p4lZqsEGg0KKXXkhBeUqnP0toDBPcMyeOIGdMbsp15UztvZYyE8U\n8t3qjwSHZwcNxGUV8/nBMM5EZuFlK1Rw2vk+n8eVTCJmdmcf3tl5i6PxWnrUH4n8ZhADOs9ia8we\n3u85G5FcLrQz+03j9ulkJGIXIAl7XSohSi+MEBGXp8HhKf+/BoOBK/dyWfvHPU6EZyABPMRZdFfo\nGdarEXuWfoaDpzf93/kIqUyGTqPn6u/3CDmaQKKPEXsbmuBFDG9qFuLtOpJaHm8gkz2ZCGoyMig8\ncIDcoCAMWi2uK1dVij81eg3vnH2HHHUOG3tsrHoizI0TTEIRCaTsEePYS3E5zAq6QZFaw+LB9Rja\n5NlO4K8aI5u54WSh4PUt1xmwXAhAr+304tW6nOJyYjKLickqFq4zi4nNLCa1QP3c2zCSipFXXiTI\npWLhPpkEuUSMiVyKkVTP6nNxpBeo+X5Y/cpR/GqoYqGxGppPw9LYksl1J7M0ZClX06/S1OH5JjJ1\neh3nks+xI2oHF1IuIBKJaOfSjuF+w59OZCpKYPdUiPxdCF7v/lWN+aQGg4HjYRl8ezSS6Mxi6rmo\nmN+3Nuejs9l6OZHd15OZ1t6LKW1rVa1Uy4wFi43dkwQti6YM2s6lmWMzlndezsyTM5l4ZCLruq/D\nTmmHRqfhaMJRgsKDuJN9BxOZCSP8RjDCfwTu5u7P9VnUhMl1J6OQKvjqyle8cfINlnZaWpnFKzYy\nwmXZMhLHjyflrTm4rV+HslEjainliM2kGPI02JpKKT59ButJExEZGbH+7nocTRzp4doJ9jUVEkhq\nCdFMmUVqlhyPop2vLd0D/3cnOLlUwqKBdRi15jI/n4rm3U4fQegePK9toaNrR7ZFbGNSnUlCsPmu\nXegKPn4pY+K/Cw4O/YmJ/ZpxkmB8an1ATOxfWZqWAAAgAElEQVR3JCWtx1rhg1vydNQ/7SYhbBEi\nhQJVn95YDBuOoq5w7rAG3JypQjC0Oj0JuaU4qoyfeAzTG/Tcyb7DycSTnEo8RUJhAgD1bOsxp/Ec\nOrt1rvF7KBFLkCCpaj/xEphSdwr7Y/ezKWwT7557F2dTZ8bWHstA74FPjsh7Bg7EHiAsJ4yv2n71\nMH/6ymrBkqr392Dry58x2Xx1OILugfbM6vjPV3hrQgd/4Xx+RedPnbK9hFtL8bgTh9rJF22pBUYK\nLRUaKTbKTAoKbbDJE1GhU5NWaI6TrQ6Ki7jkL0EqEtMzI4GbjaYRH1vKytGN/vI57D9LzHQiKRKl\nEsQi7IoqiFfb4FbbmoKDgneZom8vtt18nTbObYSWTfA0QASdPnrqdovUGpadimH9hXsYSyV83DuA\n8a08nnzyewIGNHBixekYfjweTbfRryO+/itDikvZaNCyL+0YPdu3p/DIETzmvItYIkJCAHARV1EC\nepOOAMRmFdPKu/pKX6PTc+hOGmvP3+NOSgGWShmDvZWIEy8QILaiW9+OBP/0KSo7BwbNW4CRsYLs\n5CJO/BpOTkoR2h7ZbFV54mqI4xvLM9T33YuJSc32G/rSUsHTZu8+Si5eBIMBRcOG2H33LnLPh8Z5\n3139jqvpV/myzZdVhZ/5SbCxv1DNmPD7Q+NQ4GxUFlM3XcPFUsGWKc3wd/h7XZ+fhva+tuyc3opJ\nG64ydNWfrBjTmPY1EHGDwUBqgbqSeMVkFlXezit9GBWjkEnwtjOluac13nameNmaYKk0uk+8JMhl\nD8nXAzJmJBE/txB25ZlYvjkSgVqj4+dRDZFLn1A1aTYVYk7AsU/uW2gEMiZgDNsjtvPDtR8I6h30\n1INIZmkmwdHB7I7eTXpJOrYKW6bVn8Zgn8E1tysfRWGqYIeSfgd6Lobm02p82qW4HL45EsGNxHw8\nbU1YOboRPeo4IBKJ6BbowITWHnx7JJIfjkex5VICc7r6MrSxi6AJBGEgZsgG2DMNTn4mfNc6zKOp\nQ1NWdVnFjBMzmHR0Et09urM7ajc56hw8zD34sPmH9PPqV8U+5K9gVMAoFFIFCy4uYPrx6SzvvLyy\nFSoxNcF1zWohV3P6DNw3b8bYzxdbGyWZeQW4VpSATofFkCHczLxJSGYI7zd9H9mtbVCYAv2XVVbL\nvj4UQblWz2f9/jnB/5PQysuGQQ2dWX0ujgEN2uLT/DX4cxmThq/ndNJpgqODGTx4EHlBQRT8/jtW\no0b9T/f3UchkFtjZ9iQ9Yy8FBSEUFYdimeKH8ud0CgpXIvfzw/7TT1D17ftcKRBSibjG9pxGr+Fq\n+lVOJZ7iVOIpssqykIqkNHVoytiAsXR06/i3DeM8DmOpMcP8hjHEdwhnks6wMXQjX1/5muU3lzPc\nbzij/Ec9jCt8DpRqSvkp5Cfq2tSlV61ewp0ZYYIdlU93aDKZpNxSZgaF4GljwvfD/jdi/5pgZ2ZM\nfRcVO7NdmVlewWF7UF5OJ1dXgaTUFjNlCTmFKtxN4igqtKF2vgm5unTUZU5YZ91CrFKxSXGDtjpT\nLOUWTIr1xdNG8koMnv+zxEyDFKlCjIUhF3mhHLHUEdfaVuQv3YNxvXqcEEeSo84RnObTbgkWGa3f\nrNJCexR6vYE9N1L4+kgEWUXlDGviwrvd/bE1e7kVilQi5s0uPry5/SYH07zp59cLj5s7aF6vA7ui\ndjG051sUHTuG5k4IDp4qCjJc0ZUoqCWNB7kYmUxMbFZJlW0WlGrYdjWRDRfiSS9U42lrwpcD6+Jt\nyObQkf24YE2vvl3ZvXIBchNThny0EIWZObEhmRxbF4qZYwqykSF8oxuOkyibLYEOeNktr7bvBr2e\n0itXKNi7j8JjxzCUllY6RKv69cXIw6PK8/dE7yEoIohxtcfR1+sRb5+idKFSpi4QNGWP2E+ciczk\ntc3X8bI1JWhK87+U5feqUNvJnD0zWzHx16tM2nCVj3sH4GSheISEFRObVUxpha7yNZZKGd52pvSo\n44CXrSnedsLFSaX4Ww9AMzp4oZCJWXAgjNc2XX9yS0skgv7LYWUrQSg/9RTGMgVvNHyDjy98zNGE\no/Tw6FHlJXqDnktpl9gZuZPTSafRGXS0cmrFvKbzaOfarvqUZU1IuyVM3pYXwsjfwLd6ZuXdlAK+\nPRrJ2agsHMyN+WZwXQY3eoRw3YeXrSmrxjbmWnwuXx2O4IPgO6z74x7zevjTOcBOICcSqTChKZXD\n2a9Bq4YuC2hk34hfuv7C9BPTWXN7DW1d2jLafzQtnFo8d7vyRTDQZyAKqYIPzn/AlGNT+KXrL5W+\nalIrKyFXc+QokqZMwX1bEH725mRGF+AecRNlyxYYubuz/tT3qOQqBnn2gRWtwaWZYFAMXLmXS/CN\nFGZ29HqhMPK/Ex/2DuBkRCYf7bnL9rFvIw7ZTIPrQTSya8SmsE0MHzQceUAA2Ut/oujQYcQmJohN\nTYXrBxdT4Vry+GOP3n5G1BAICydDRcXDS3k5hooK9OUP7nvwb+HaXOtGunERJVmRWG2QoohKxbxX\nLyyHD8O4fv2XJr6lmlL+TP2Tk4knOZt8lqKKIhRSBa2dWtPJrRPtXNpVfi/+FxCLxHRy60Qnt07c\nyrrFxtCNrLuzjg2hG+jj2Yfxtcfjbfnsytb6u+vJLMvk+w7fC78nbTkETxU0oP2XUabRM23zdbR6\nA6vHNXll0/WvCh397Vh6soCldvYkWRhQlmaRqBdjXOqIjU0OOagINAlHk+eFtd6CaONcxGoRpn8G\nU9K6Dlmay/TPzCHZYzQ3b6hZPLjek+UlL4B/16f0AqgwSJEagSOpaAtNUdmao8iNJyMqCvtPPmFT\n2CZ8LX1p4djioeC8zZwat3UrKZ8FB0K5kZhPA1cL1oxr8pcmKh6gbz0nlp+OYcmJKHoNfB1p5CGG\nyex4u+QqtxvIsFcqKfz9EK6tJpESaYU6zwhbVTbmmnIU5kbEZhUDkJBTwq8X4tlxLYnSCh2tva35\nalBd2vvaEnE3lJ3BB3AwWNKvX2/2rV8EwJCPFmFmbUPM9UyObwjBvd1uEm2T+Vo/Hyc57G/cETvj\nqoav5bGxFOzbT8GBA2jT0hCbmqLq3QtV//4oGjWqMTftVtYtFl5aSEvHlsxp/MjnW5It5BsWZQiG\nrU4PxZAPSJm3rSlb/yWk7AEcVQp2Tm/JrKAbfHYg7JH7jfG2M2V4U1eBfN0nYdaP657+QUxoXQuF\nkYR5wXeYuOEKa8c3rfnAV2mhMViIIeu1mD6efdgUtoml15fSybUTRhIj8tR57I3Zy86onSQVJWEh\nt2Bc7XEM8R1SPULpaYg8LMRcKSyFIYrHpAPx2SV8fzyKA7dSUSlkfNjLn3EtPZ4plm7iYcWu6S05\nGprB4iMRTNl0jWa1rPigpz8N3SwFa5N+ywRydmGJQM56fE0Duwbs6rsLAwZczZ5uJPtM6PWQdw8k\nsicOL/So1QNjqTFzz8xl4tGJrO66urK1L3N2FsjZmLEkTp7M8KWrOZuYS9ttp7H88F3iCuI4nXSa\nafWmobwbDIXJ0G8piERodXo+3XcXJ5UxM/8l7SAAG1M5H/T0Z17wHXaFFTOs7dtw/BMm+X3BrMxf\nOHLvCB3feZu8zVvQl5SgzcpCF38PfUkp+pKSykzWZ0ImE4ibiQkihTEGjQZDhaaSfBnKyzFoNM/e\nziMwYMCygRQTPLDtOwZV/34v3W4t15VzIuEER+KPcDH1IuW6clRyFR1dO9LZrTOtnFpVN9n+F6C+\nbX1+6PADSYVJbArbxN4YQSPYxrkNEwIn0MyhWY0ENb0knY2hG+np0ZMGdveP76cWQsZdGPkbBhNb\n3t9+k/D0QtZPaPqvWUg8is7+9iw5EU22WUPsuUaJSkaFAczLHOhmtZv83EEEKCLJ0nRChIgsjRw7\na5AUZnPWxxMLsRHtSkqZm9MKB3Nj+jd0eiX7JTIYXs20xz8Nd0drg/jzXTT3ukbfUwm41H4Dv/jd\n5G/bTt6O73jtytssar2I/pjClkGCtqXl61W2odcb+OxAKJsuJWBtImdeT38GNXR+pZWOw3fSmLE1\nhO+H1GNwyFg05YV0tTOnrk1d5h02puT8eVRBh9j17U0cGn6OyjONDwp/oizdGOO8Chq7W3IsLAOp\nWES/+s5MblOrUv8UFRHJ9u3bsdGbMbTPAH7/7TuKcrIY9ulX2Ht6E30tgxMbQ/Dsspwkswq+Fn+B\ntVzBvkZ+OMiFqoc2L4/C3w9RsG8f6jt3QCLBpE1rLPr3x7RTJ8TGTz6QZJZmMuLgCOQSOdv7bH+4\nAizLE7INs6OFyblaD6NrTkdmMm3TdXzsTdky+d9Fyh6FVqfnj5hsLJVGeNmZ/utWeo9i380U5u64\nRT0XFRsmNkOleEJF6/A8ISR+1E7w7caFlAtMPzGd0QGjyS/P51j8MTR6DY3sGjHMbxhd3btWjU96\nFvQ6uLRSGLJxaggjtwm2KPeRWajmp1PRbL+ShEwiZnKbWkxt5/nk/X0KNDo9268msfREFNnFFfSu\n68i73f0E2wiDAY58ILzXxhOh9w8vnsBgMAiC+8wwyAy/fwmDzAjQloFIIiQ8tHvvid6CF1Mv8ubp\nN7FX2rOm25oqrd/SkBskTpqEkWct1PaOSG/dxOfMaeZfXcShe4c4NuB3rNZ0BlN7mHICRCJ+vXCP\nzw6EsXJ0I3rWdXzhz+zvhF5vYNgvF4nJKubk7OZY/9oavdKKwfZWIBIR3C/4idUng1aLvlQgafqS\nEvTFxegqb5c8vL+kBH1JsXBdpkYkkyGSyxEZyRDL5YiMjBAZPbg2QiQ3QmxkJDxHVsN9958vNpYj\ndXR86epYUlESO6N2sid6D/nl+dgr7enk1onObp1pbN/45cT1FaVw76yQI2xsLljEGKtA/tjtvyFZ\nJF+dz2+RvxEUEUSuOpcAqwAmBE6gq0fXKtXyeefncSLhBPsH7MfJ1AnizgqL8SYToc+PrD4Xy5eH\nIni3u9+/aiHxKPR6A82/OsmblpeI1q8j4KgpIqvXcHJyIr/1IpTKQvLz7ZHcnUxAoT3Hi2TUNY7F\n/tJGxs3QMKCsjJlG/tSPnsLHvQOY0vbpiTwikei6wWB4pkfQv/ds8wxUIEVkKseBNAoLXHD1M6fw\n54OYdu7MkuRgbBQ29HTvDmu7CCvbppOrbeOH41FsvJjA+JbuvNPd72/xVOke6EBtR3N+Oh1D/+6z\nkAVPZpD/eNalnOXdTp+iO3gQRdIdjE1k6NWuiCRJ2JTnEGbsSnFxBZfv5TKzgzfjWrpjZ/6QJMXF\nxvHbbzuw1JsyuEs/ju9bTn5GGoM/+EwgZVczOL4pBLrtZZdJE85K+qKSGbOroQ92IgOFx45RsG8/\nxWfPglaLPCAAu3nvo+rdG6ntszUG5bpy5pyeQ7GmuEq7BnUhbBksmIiO3PZEUrZ1SnMslP9OUgZC\nK7qD3z+j+/ir6N/AWbBp2RbCqDWX2Dy5+cOg9kfRZQHEnxempWb8SSunVrRwbMHW8K2YykwZ6juU\nob5Dn6uFUQl1oSDyjToqpCKUZkNAPxj4S6XxbkGZhl/OxrL+wj20OgOjmgspGXZmL189kEnEjG3h\nzsCGzqw5F8fqc3EcDU1nTAt33ujkjXWPr4TBgD9+BF0F9PtZqKjVhNLcR4jXIyRMnf/wOab2QkpF\nk4nCdcJFwXon8ogwLVnDQFFLp5as6rKKmSdnMv7weNZ2W4uruVCxUzZqiMvSJSTNnIUoLBzV5Elk\nafM5EHeAwT6DsYo8DAVJ0OdHEInIKirnh2NRtPWxoUedVx9S/lchFov4clBdei09z5fH4vm+08eI\n90xjot9sPkrYy/mU8zX72gEiqRSJuTkS8/+dxvRFodPr+CPlD7ZHbudCygXEIjEdXDsw3G84zR2b\nv1ybPD/xvpn1UeF3qn2OoaEHRO1RwmasqpnMmdoLfow1DN88CgtjC6bVn8aEOhM4GHuQDaEbeP/8\n+ywJWcKYgDEM9h1MbH4sv8f9ztS6UwVSVpYnmKFbe0G3RZyPzuLrwxH0quvwt+a3/lWIxSI6+dmx\n7Y4L480riLLVUS8jFSM7B8rKzFAqCykqtCGgzIo8cT4ikRPmV/eT09SLMtEd+udls9GqCyqFjJHN\nXqCr8Az8h4mZDCOFFAd9BnpNOywyQ8nIy6OkS1MupH7FGw3fwChsL2TcgcHrqkUv7buZwrLTMYxo\n6sqCv1FEKxaLmNvVlymbrhFc1ohhKjcGJ0ewVmzggE0yXczNKT58GBf/MaQleWDFnzjq0rjh6s/i\nhh4MreNUTTuUmJjItq1BmOmMGdqmD+fPbyQ9Npq+b3+AY0Bdtl9MYOvdJGIHKMkVz0CKgTYqcxbo\nipB+8xXRhw6jLyhAYmuD1bhxqPr3w9jP77nfk8FgYNGlRdzOvs2PHX7Ex/J+pEZFiWD6mXYLhm0W\nrBHu43REJtM2/zdI2X8RPeo4sHpcE6Zvvs6I1RfZMqV5deLzqIXG3tcRjd7JF22+ICQzhHbO7Z5/\nKis37mEaQvwF0GvA2AJ8uoF/LwjoD2IxZRU6Nl6MZ+WZWArKNPRv4MTcrr7PtJt5EZjKpczp6svo\n5m4sORnN5ksJ7LqezIwOXkxq+7EwJXbmS+Ek1+dHyImpSr4ywgTj1geQqwTiFThQMBK2CwDbgGpG\nyDQaBwF94cCbwufZ8UNoNbvaSa+RfSPWdl/LtOPTmHBkAmu6rcHTQlhVm7Zvj9NXX5G17GcsR4xg\nWfgW9AY94/1Hw4Z+Qtbq/d/Q14cjUGt1/wrB/5Pga2/G1HaerDwTy5BGnWlpX5eeN/fys7M96+6s\neyIx+y8hpyyHPTF72Bm5k9SSVGwUNs8/DPM4dFpIvipEvEUdFb6PIGQGN5kEvt3Bvo4QaaQuEPSa\n6oJHLo/9u7xQaH1nhj587HH/M6UNBA4QUm9cWzy14iaXyBnsO5iBPgM5l3yODaEb+Pbat6y6tarS\nrHZK3SlCdfngHCjJhBHHSSwSMSvoBj52Znw75OV1ev8UOvrb8ds1G/xQcsxeRMu4dAwVGtRlwsBH\ncbEdDgYrwkQlqMzAODeBPbVkeBmk+Mgd6BPvxhudPV6pxdN/lpgVo8BSKcWupBgrP3dKDq5DYmND\nkCoc43xjhnn2g9WdBXO7wEFVXnszKZ93d92mWS0rPu9f52//4nQOsKO+qwVLT8czqO00nI9/RJsm\nfdgdv4/+XTpTdPQYLj1fJ/ZWAAAehlSQiXFwM69GylJTU9mycTMKrYyhjXpyNWwvsXdvYz3tbVaY\nOXPo7G0KMCDzklOfG8x18qavxp7i92ZTERdHgbExZl26oOrfH5OWLaoFLD8LWr2WzWGb2Ruzl2n1\nptHF/T750qjvZx9eEk7+/r0qX3MqIoPpm0PwdRDal/9Pyv4edPSz49eJTZmy8RrDf7nE1inNcbJQ\nVH2SXYBgoXHoHbiyGrvm06qJ/6tBpxUyLaOOCCeQ7Ejhfhs/QR7g20MQqN8nJVqdnh2XE1l6MoqM\nwnI6+tnyTne/v5x1+jTYmRvz5cC6TGrtwTdHIvn2aCSbLsYzt+tIhnY2QnxyAdzd/fAFUmPB6Nar\nk/CZ2NUWrs2dnj/Vwb8XuDaH3+cI06CRh2DAqiqTxwCB1oH82v1Xph6byoQjE1jdbTX+Vv4AqPr2\nQdW3D0UVRew8v5Nu7t1wjTsvVE96fQciEdfic9kdIpBNz/+hKefzYHYnHw7eTuWjfaEc6TMfo21D\nGOfbmsWZF7iZefOhFuk/BIPBwI3MG2yP3M7xhONo9VqaOTTj7SZv09Gt4/MNwzxAae79CvMRYVq6\nLA/EUnBvBd2+EH5Lj31/XtrcWq8X8nwfkLbsaAjbCze2wtW1YOYEdQYJJM2p4RO/9w+qgR1cO3An\n6w4bwzZyIuEEC1svFBZzt7ZD6B7o9AmltvV4bcWfAKwe1/gf8aP8q2jjY4ORRIJIGkiqXTQmpemU\n6TRoCx3R6aKRlHggNohIKlDiYRQH5qbst7zH7Lx8jirGYCyTMaHV/7V33+FRVfkfx99n0nslvYdA\nAgk1oYReQlURkWZdEbCAZVd/q66yiqvsqthBQREFRAUWVKxU6QEJoYWehPRCek+m3d8fN4Qg3SWZ\nJJzX8+RJ5s5ATm5yZz5zyvcE3dQ2tfyzdgUCEObgWqLDL9iGys+2Y3PP3axP+567wu7C+fAq9d3D\n+I8veleQW1bDjOUJeDpasei+nlia3/wx+kvaKtResweX/s4aZShTrZyYVFHNE9oC0qJ9cFtXhWvZ\nKRS9F/oaSzqYZwBwqqqWEe4XXszy8/NZ/vkyLPVmjIoYwefVSWy29SZ9xsvUoMEut4SQjCoGt/uW\nbta/Et35P9in2pA1+0E0To54v/46DiNHYGZ/Y0/uOoOOvbl72Zyxma0ZWymtK2Ww/2Ae71Y/Z0+v\nVYt8pm5TJ5k32oN0y4l8HvtShrLmEhvqzoqHe/GXpfuZuCier2f0IcDtDz1hMdMvKaFxiZoSSN6i\nvoCc2aQO62ksIKhf/bv5Eeo7+0aMRoVfkvJ4e+MpUgur6BnowgdTutM75H8rtngj2ns48OkD0exP\nK2bezyd4bu1RPvPswdv9PiTSIhfh2UkNYS5BVx7avBF2bjBxmRr6fnoGFvVXCxPHzLjoeSfMJYxl\no5cxfeN0pm2YxsfDP6Zru64N9685vYZKXSUPRdwPX92nvlCGjUBvMDLn+2N4O1nzxNCWOU+nMRtL\nM14dF8lDn+9nUVYHngwZzISkDSzy9+bN/W9yV9hdhDqHEuIUYtJVidejSlfFjyk/sur0Ks6UnMHe\nwp7JHSczqcOkhl7Pa1IUKDhZ/6Zmo/rGVTGqPVcdRqu9YqFD1KHGm02jqR/SrB8i9uys9pbVVahD\n8Elr1dqe8QvUfYsjJ6gfjVbP/1FUuyjmD5qPzqBTC4iXpMNPz0JAX5R+T/N/q45wOr+Czx/qdVN7\nxpuSvZU5vUNc2XYuDBeX45jrC6gwgDG/C/tKPAjTuVFmKEKrOOF05Guye/ihmCUztkbP2ILuTOnr\nf/mpI/+DVhvM0IArRejKnHGtSaROr2dblEBfrOe+4Nvh89uhfRwEX+g+r9EamLE8geo6PSun97vp\nJ/NqBoa5Ex3owvs7cpnY4wEG7PsIr4hufGl7hL+5umLY9jMuXpPRVbjgbJ2LXV0Nx8svlMsoLCxk\n0fKVpLr6Uukfyfu2CjoRjpNBxwSfdkQVGqhYfZywuIWYW58hMvI9bBIg47lHsAoKwn/Jp1h4Xn8x\nylp9LbtzdrM5fTPbM7dToavAzsKOgX4DGRE4gkH+g9R5FAY9rH1Y7Y4f+w50u1CnqHEoW/lwH5xs\nTbMv2q2mZ6ArX83ow/1L9zFx8R5WTu9De49GYVwIdfVioxIamFurw3ynflF7xTLiQTGArRt0HAMd\nR6klGy5Tsb9Ob+C7g9ks3pFKakEVHTztWfJA9IVSFiYQE+TKusdi+TUpjzd+PcntW9xwt/fGxdYS\nF9tzONuW4GJribOdRf0xC5xtLdVjthY426rHr6t+oRAQdTcE9lO3oPnl73DyR7VMSaOVm4GOgSwb\npYazmRtnsmDYAmK8YtAatHx5/Ev6ePehU/YRKE1XN58XgpX70jmRW87Ce3pcdgu4lmhIRw/GRnmz\n4LdkJtzzPL6rR/G07UDeLDnO3PgLu2m4WbsR6hxKsFNwQ1gLdQ7FzdrNpMNfp0tOs/rUan5I+YFq\nfTURrhG80vcVRgePvr7hfl0tpO2qf1OzQe39BPDqAgOeUXvFfHpcc+J+UWUdhZVa2nvY35QSDA2s\nHNRt/rpMVN+AnfhRDWm73oGd89Wh+8gJam+a2+Xnh1mYWaiLfb6tr004fjGLdqbz05Fcnh8dftka\nkC3Z0HAPVicHM9BOS7ZrDXUGcFLsyDJY4qtzp0RTjbWVEw55x1g5wpW+tVpy7YdQWunAjGtM+P8z\nWu2qTGv/MKX/spd4+GAyvXYdAwEPTSqkq0dXPtQ5QvxCeGx3Q2+A0ajwxNcH+Tkpt/5Fo/krZu9J\nKeSeT/fxn+FuTNkzlkWdBrOw6jTfnhmN/sdNnPu/L8kvn4NLyHGer3wfO09vvokJZ216HsuPnyHT\n0QVFaGhn1BOQtI9RLnY8dt8DnNmbx7avDxE6YiFmdmoos9hQTP68edj07IH/Rx9d18Taal01O7J3\nsDl9MzuydlCjr8HR0pEh/kOIC4yjr0/fi1fpGQ3qhM+jq2HkPOg7q+GuLSfyefTLA4R7OfLlw71l\nKDOBU3kV3LtkH4qi8OX03pfuPZq8WV2oEdAXKvPVuWOgzmvpMFJ9R+/b44o9S2U1OlbuS+fz3WkU\nVNTR2ceRmQNDuK2Lz819Ifkf6QxG1iRkcTS7lJIqHSXVWkqrL3zWGoxX/Lf2VuYNIe38ZxdbC8I8\nHZgU7X9pj7uiQOJy2PAPQMCof0P3+y4aJiqoLmDGxhlkVWbx7uB3Kagp4OU9L7N42MfErp2tht+Z\n2yms0jJk/ja6+jmz4uHLlyxoqfLLaxn+9na6+juzwmUJ4sR6jLMTyDETpJalklqaSkpZSsPXlbrK\nhn/rYOlAqFMoIc4hhDiFNAQ2LzuvJqk9B+qowKb0Taw6tYrEc4lYaiwZFTyKyR0nE+UedfVzryjq\ntZO8BVK2wNkdoKtWt58LGaxeS2Ej1GHyazAaFXanFPLN75lsPJ6HzqBgZ2lG9wAXegaqH90DnJtm\n8+/Kc3D8ezWkZcSrx7y7qW86Oo+/tAbojvlqeYzxi9lmPZSHvtjP2ChvPpzavVX9rYJakmrIW1t5\n2+Mp0hKs8RKz8A70YKfFCabU9eNgVQHW6Gi/933ueayWeUVFLC1/kaAuA5g/seu1v0G9612V2WqD\nmVVgR2Xi5w/xQHIA/u/8i5yZY3nabQNLY/9NzDcPQdQkuPNC8dR3N53m/S1n+MeYcGYONN0qkSmf\nxJN8roq94asoTv6FET7uPKWJo89rP5L7DJsAABzISURBVGL8v3c4WLgF75hveSv3NQ57h6PU/4G7\nVlUwusKC/u1qSfl0Ph16xXLbX5/jZHw+2785ROiIBZjZJRPZ+T3EylMUffIJDnHD8XnrrauWvCjX\nlrM9czub0jexJ2cPdYY6XK1dGRYwjOGBw4nxirn8HApFUXsHEpfD0Dkw8NmGuzYfz+exlQeI8HZk\nxTQZykwptaCSe5fso1prYPm0XnT9Y32+jXPU4YzggfVhbBQ4X73WV25ZDUt3neWrfRlUaQ0MCHPn\nkYGh9Gtv2p6OP0NRFKq1hovCWkm1jtJqbaMQp6W0RtfouJbyWj3tPex5dVxnYkMvMweoJF3dozRt\np3pOb3//otIhxbXFPLrpUc6UnsHZypl2Nu1Y5TcO8f3jMOUrCB/Ls2sO8/2hbH55auDFPZ6txLI9\naby8/hif3N6OEVvHqgsZBj0HXlEXhX1FUSioKSCl9EJQSy1TP4prixseZ2NuQ7BTMCFOIQQ4BGCm\nMeP869f5Tb4bNvtWLj12yWPrb1fpqvg17VeKa4vxs/djcsfJjGs/Dhdrlyv/cLVlanmIlK1qGDvf\nK+YSrP6cHUap0wQsrm/l8bnyWtYcyOKb/RlkFtfgbGvBXd396OzjyKHMUhLSSziVV45RUTN+R08H\nega6EB3kQs8AV/xdbW7utVeWpc4bS1oLOQfVYwF91Z60TuPU+z+Lg4jbSRu8gDsW7sbH2YZ1j8e2\nmp7dPxr29jaeMb7Khpx8BiffTZfwfihm5pgb4ecyHZEp31AWmMu8Adl8U2DL4OJ/sumvA2nvce1d\nIc5r88HMMjhcefKzkUzZHorduk+Z+3wARkc7VtU5Ik7+AE8kgpMvAD8eyWH2VweZ0MOP+RO7mPTF\nY39aMRMXxfP2AMGE/VP5a+RAErWlfLpIYNG5G9s8IggYNJ+tyX/hN6+B+FcU45edxoNKFHb97fl+\nwTz8O0Ux/vlXOLX3HDtWHSJ05EI1lEW8i+HDPZStW4fz5Ml4/XMOwuzS3o6S2hK2ZmxlU8Ym9uXu\nQ2/U42HrQVxgHMMDhtPdoztmV5t/oyjqvoT7FsGAZ2HYnIa7Nh3P5/Hzoezh3n+qRpV0c2UWV3PP\nkr2UVOn4/KEYYoJcL9ypKOqcl+uYb3Uqr4LFO1JYfygHBbitizczBoQQ6duy5wo1hS0n8nl5/TGy\nSmoY182HF8dEXFTOBlAnX/++GDa/AhY26r6BjeZflmvLeXzz4xwuOMyb/f/N6J/mgKUdPLKTAxml\nTPh4D48MCuGF0RHN+8PdJAajwviPdpNTWsOu3vux3v2Geoe1EwT2V0vpBA9Uh86uMKxXUlvSENIa\nB7a8qrzLPv5aBOpz//nXAIFAIzT08+139X1fjQY1oCRvUcNY1n51qN/SQf0Z2g9VF5K4Xv+wlsGo\nsONMAV/vy2DLyXMYjAp9QlyZ2iuAkZ29Lim4XFGr41BmKQfSSziQXsLBjFIq6/QAtHOwouf5XrUg\nFzr7OF55m7YbVZQCx9ZB0jp15ajQqD+3lT1V03Yw/vNjnKuo44fZ/fF3/XP7bbYE834+gVn8exyy\n2clDWwbi0SUOdysPCgz57K1ypf/2v/HeRPB3L8NYOIX80Aksvv+aGesibT6YWbSPUF77MIbbXs9G\nF+HF/f2P8O+ox7ht/QvQ/28w/GUAjmaVMXHxHiJ9nFg5o/fN+2P9H9z/2T6O5ZTzu9/7/F6RyiNO\nZnx6Ihbnn+I58dDbOHZ7lJLTA0nKC8QcM8aYR+Mxwoe1H8zFPSCQiXNe50xCiRrKRi3E3C6FTmFv\noXvtFyq3bcN99mzcZz1+UQAtqC5gS8YWNqdvJiE/AYNiwNfeVw1jgcOJco+6vmGCijzY+ba6SW2f\nWTDy9YZhGhnKWq68slruWbKX3NJaljwYTb/L7MF6OYqisO9sMYu3p/DbqQJsLMyY0sufaf2CW/WT\n8M1QqzPw0W/JLNqeipW5hr/GdeCBvoGXbClF4Rl1yD87QR0SGvN2Q/mNal01CfkJ9C/MRvPdozD5\nSwwdb+OOBbsoqtSy5ZlBrWJl25UkZZdxx4JdTOkVwLxh7urcq7Pb1Z7EkjT1QbZuau9SUH1Qc+9w\nzZWxeqO+oeerIWxdJnQ1vn3DyrIuBLHUbfV17YS6MKP9MDWI+cWou0DcgNyyGlbvz2J1QibZpTW4\n2Vlyd08/Jsf439CqW4NR4XR+RUNQO5BeQkZxNQCW5hq6+DrRM8ilIbDdlF1K8o+rIS1lK0rcqzy+\ny4YNx/JYPq03/cP+5OrRFiI+pYi3lizHw/cj7v0qEtFzIkF2/pyoy6JUZ0bE3v9w3+NaFhVW8mDx\nu6yaNeSGdwhq+8GsYyflk3lR9HnxCN/OiGBLQBm/VttikZcETx0Cayfyy2u5Y8EuzDUavp/dD3cT\nbp/T2KHMUu5cuJsPowsZm/Qkt3XsStdyDx549xiF0+dT3env6M+Fkng2mpGiBwF3hLHmgznYu7gy\nee4bpB6qZOfqC6EsImgedS/8l5ojR/D65xxcpkxp+F46g46PD3/M0qSlGBQDwU7BDA8YTlxgHOGu\n4df3pFVbBid+gKNr1PkTilFddTbmrYYn0I3H8pj1VSKdvB1ZLkNZi1RQUcf9n+0jtbCKRff1YGj4\nledZGowKG47lsXh7CoezynCzs+QvsUHc1yewxe7WYCpnC6v45/dJ7DxTSIS3I6/d2Zmega4XP8ig\nV7eJ2vYfdauqOz6AjqPV+4wGWNhLXYDxyE5W7MtgzvfHWHBPd27rcnO2eDGlV384ztLdZ1n7WCw9\nAxsND5ZmqgHt7A44u1NdRQ9qIdSgAWqPWtAAtReqOUY5tFVqXb7zw5OFp9XjDj4XesRChoCt69X/\nn8vQG4z8dqqAb37P4LdT5zAqMCDMnam9Ahge4XnTqgOcK68lMUMNaQnpJSRll6EzqK/x/q42+DjZ\n4OlojaejFR4O1ng4WtXfVo/dyDDkwt+SeWvDqeuqeN8a6AxGev3rF+5zeYKIbz0RnWcT5RDAltIi\nfNO3UOx+kC8GFXFPTk9+9p7NVzP63PD3aPPBzLJjJ2X9M+EEfp7D1BmVPBlyO9O2fQSj/gN9HqNW\nZ2Dy4njOnKtk7WOxl058NrGHv9hPQloxie5zWG6t8I55DauXu6ML6U3a8ASsqKT90X/jNCGQNYte\nxszcgimvvkl6Uh271h6i/ciFmNmlEuEzl+q/rkCXlYXP2/NxjItr+B4ni0/y4q4XOV1ymjtC72Ba\n5DRCna9zfp2uVq3kfnSNukrPUKfOn4iaqH6069Dw0IZQ5uPE8mlX2RJIMrmSKi0Pfv47J3LL+WBK\n90u29qnVGfjvgSw+3ZlKelE1QW62TB8Qwt09/a65l+WtTFHUUiGv/nCcvPJaJkX78dyo8Et7KfKO\nqr1n+UnQ7T4YNU+9vtbNgEnLKQoYxZD524j0dWLl9N6tbs7e5VTW6Yl7Zzs6g0JcJ09iQ93oE+JG\nO4dG50ZR1D1Iz+68ENYq89X7HH3VnrTzYe0Ke5RewqBTw5a2Sp2Mr61UtzrSVoGu/ri2Wl2ZmL5b\nnfBu0IK5jVoWJnQohA5T69392e2aiqtZnZDJ6oRM8svr8HCwYmK0H5OjAy4tY9MEanUGkrLLGkLa\nufI68itqyS+vpVZ36aIXByvzi8Kah6MVng4Xf+3haMWelEIeXpbAuK4+vDu5W5v4OwWY9VUiUdmP\nIuIrMXN7Ew9rPZk6R2LjX+KdcWXEupbzdf5cXp92OwPCbnzlaZsPZrYdw5QNY905p3PnjT75bCo3\nx0lbBbP2o5hZ8OQ3h/jxSA6L7+vJiM4tbwuTpOwybvtwF59EniA69XWGBwXx8tEwwn4+walnYrD1\n3kXN4XspyMpAV1vD5LlvkH1asHvdIdqPWoiZbSodXZ+n+sllGKur8f9oIbYxMQDojDo+O/oZiw8v\nxtnamVf6vsIg/0HXbpTRoD4pHl0Dx3+AujKwa6fOi4mapK7Q+8MFuPFYHo+vTKSzrxMrHu6FY1Os\nFpJuqvJaHdM+309iRglvT+rK+O5+lFRpWbE3nWV70iiq0tLVz4lHB4UyorNXi1ph2dJV1en5YMsZ\nPtt1Fjsrc/4+qiNTYwIu3n9Xr4Xtb6jlCRx91WvK0h4e3c3f1x1lXWI2vz494IYmFbd0BzNKWLA1\nmd/PFlNRPy8qzMOe2FA3+oa60TvY7eKeWEVRh4DTdlwIa9VF6n3OgeAXrfbcnw9X2sr68FV14cN4\nAxuae0aq9cRCh6mT3K9z0v7l6AxGNh/P5+v9mew8UwDA4A7tmNorgKHhHpcOdZuAoiiU1+opqKgl\nv7yO/PILn89VNP66Dq3+0gAnBHTyduS/j8ZeUgS9NVuXmMXx9c9RnX+I8LJnqXAMxElTTpd9r/DA\nLD2v57nyscPr/DC7/58Ko20+mDl2DFK2dbbmlVgrYiN68Pz+dXD3UoicwIKtZ5i/8TR/H9WRxwe3\n3KKMj644wO/JuSTYP83znh6kFemZu7iCtKdvx7LDWpKWhyEUByb9cx756dbs+fZwQyjrYPM0VU9+\ngcbKCv8lS7DuqPZgJZck8+LuFzledJwxwWN4odcLOFtfZRxcUdRJrUf/q67AqcxTJ3ZG3K4ukw4e\ndMW91TYcy2OWDGWtUrVWz/RlCcSnFjE60ovfThZQozMwNNyDmQND6B3s2mbeBZvC6fwKXvouid/P\nFtPV35nXxkUS5feHRRJZCWodqKJkmPgFiQ6DueujPcwcGMI/xrTOCf/XojcYScopJz6liPjUIvaf\nLaZGZ0AIiPBypG+oG31D3OgV4nrx84nRCAUnLoS0vCNgZqUuljj/YWGrBlxL2/rb5++rP25he4XH\n2/2pIKYzGMkvryWntJbcshqyS2vILK5h0/F8Civr8HayZlK0P5Ni/PH94w4crYSiKJTV6BqFNzWs\nVdXpeaBvEF5Ofz7AtkTFVVpmv/4OjmbLiDv6AHlevQnO2UyB7S9sG1yJJuN+JkydwZg/jDRcrzYf\nzNw6+io/dg3gkbFV/FRiwN+2HUzfyq/H83n0y0TGd/flnUkte5+uU3kVjHp/B8tDt2NT+AUPeXmw\nYqUbZdGd0MdtJPXnUEb+5S2K81yI//5IQyhrb5xJ9d9WYOHjQ8CST7Hw9cVgNLDs+DIWHFyAg6UD\nL/V5ibjAuCt/86IUtWfs6Br1hcHMUq21E3W3utTb4upPJL8m5TH7q0QifZ1YLkNZq1SrM/D4ykR2\nningjq6+zBwYQkevttNLY2qKovDdoWxe/+kkRVV13Nc7kGdHdLy4fIy2GnISMfjHMu6j3RRU1LHl\nmcHYt+IJ/zdCqzdyJKu0IaglpJeg1RvRCIjydaJPfVCLCXJt1kUQiqJQUq0jp7TmwkdZbaPbas+S\n8Q8vn862FsQEuTK1lz+DOnjI3uZWaOrCLfjWPMKwjWNJDRlH9IE3WDA6i+FOBlYYF7LhmaF/+vfa\n5oOZVwcPZeYYPyr6+/Ju0g548AeSLLsycVE84d4OfD2jT6uYE/PE1wdJOJHMbssnGB8YyOj9dsQc\nqqb0lQJs9LOw1dythrLRCzCzSSO4bAq1/1iDdVQk/osWYe7iwtmys7y0+yWOFBwhLjCOF3u/iJvN\nZbbBqchTlzwfXQM5iYBQV0NFTYROd6iTkq+holbHxmP5PLf2CFF+TiybJkNZa2Y0KlRq9fJ32ITK\nanS8u+k0y+PTcLG15IUxEUzo4XvRm8YVe9OZ810SH0ztzh1dW/+E/z+rVmfgYEYp8alF7E0p4mBm\nCTqDgrlG0NXfmb4hbsSGutE9wAWNBvQGBZ3BiM6goDcaG27rjQpavfpZ3+j+hsc23FYfl1+u9nrl\nlNaHr7KaS+ZgWZpr8HW2wcfZGm8nG3ycbfBt9LWPs3WrreElXbDwt2TOHbqbIass0Nt0xb10H4/N\nMjA2LZawcf9kcsx1znG8jDYfzAJCXRS/Z335qKqKbt4xnLtjOXcu2I0CfD+7Hx4OraOLNaWgkrh3\ntrPGfy0n67awXHHg3U/0ZL9vRlVOLLmJ4xpCWUDmGHTzfsFu4AD83nsPbKxZeWIl7ye+j5WZFS/2\nfpHRwaMv7iU0GtRtdvYvUZepK0bw7qqGscgJV6xGbTAqpBVVcTK3gpN55Zyo/5xVUgNA9wBnGcok\n6QYkZZfx0ndJHMosJSbIhX/dGUm4lyPF9RX+O3k78tWMtjHh/2ap1uo5kF5CfEoRe1KKOJpdhuGP\n3VQ3gRDg4WClBiwnNWT5ONvg7WTTEMZc7Szl7+YWcDynnC+/uJfOu1PokaKwq4sZyYNqOFT6Juuf\nu/N/Krl1vcGs1cZ7K30NwU6udD2XTd3gOTyy4gAl1TrWPNq31YQygNB29tzZ3ZcXjg5gjcW3vBfk\nQmmAA5RqMHdIIWz0AjQ2afgfG4BuwS843Xkn3v96layaPF769SUSzyUyyG8QL/d9mXa2jVaJ1JbD\noZVqEdiSNHDyV4vBRt2trjJqpLhKy8ncck7kVXAyt5xT+RWcyqugrn7Sp0ZASDt7uvk7M7VXAB09\nHegf5t4qeiQlqaWI9HVi3WOxrE7I5I1fTzL2g108FBtEcZWWqjo9c8d1li/8f2Brac6AsHYNK+Aq\nanUkpJVwLKcMIQQWZgJzjUb9bKbBXCOwNNdgrtFgbnbhfvVrDRb1j7Ewqz+m0WBhLnCzs7ppJSuk\n1i3C24EqepLmmUKPFNgRrtClLIiJA7s3Wx3UVhvMagXcn3sWut3L87vU7u+P7+3RKquQPzUsjKGH\ncshxHcCoqtNsag/DUrRo+tQhhDk+8d3RL9+F24zpuP31aVadXsM7B97BTJjxr37/YlzouAtP6CVp\n6hY7iStAWwH+fWD4XAi/Da2iIaWgkpMHsziZW9EQxM5V1DW0xc3OkghvR+7vE0hHLwcivB1p72Ev\nQ5gk3QQajWBKfWX3NzecZMmuswBM7x9MB085v+9aHKwtGBLuwZBwD1M3RWqjhBC4h8VxRvMNG2s0\n5PsZOZxzB4t6/fkhzBvVaoOZ1kwwvEbHCut7+TY+m7/FdbikJlNrEehmx909/Jh7aCgv2sbzVEdP\nxh7Vo+2lwWtLGMq3h/F84XnqJozgkc2PsC93H7E+scyNnYuXnZe6sjJ9j7px+6mf1S0zOo+HPo9x\nzqEz/03M4ofN8ZzJr0BfPwxgaaYhzNOe/mHuRHg5Eu7tQLiX48W1hSRJahIudpb8+64uTIr255ek\nPJ4cFmbqJkmSVC82sj1Z+eYsGSUYVwKufUc264KcVhvM7HQGMsIe5OVtxdze1YcnhrbcshjX44lh\n7RlyMBNH81Dc7asoyrDD7/9qEPoMfOa/xZaOWt5cPx6jYmROnzlM7DARYdDB4VWwdyHkHlYn7/d7\nGn3Ph9meZ8E3WzLZenIrBqNCdKALMweGEO7tSISXA0Hudli0gHo6knQr6x7gQveAay+6kSSp+cSG\nuvPjT54I+3wqKgbwt/7Nu7NBqw1mTkbBlGO9ifJ14q27Tbsx+c3g52LL5JgA5ieMZKLZp6zv4sKs\n7fY4vD2XF4w/sXPPTmK8Yng19lX8NDawYz7s/1Stju3eEW57j0y/21l1uIg1H58kv7wOd3tLpg8I\nZlK0P6E3sAebJEmSJN2qbCzNcLK/l2czl5IZ+TCuzbwNXatdlenv66X4zPqS9bP74+nYeib7X01e\nWS2D39rCJttnmOhjSbBrJ9KrMtAZdDzd82mmunRF8/tiOLIa9LUQOgxtzKP8WtuJVQlZ7E4uQiNg\nUId2TI4JYFiEh+wVkyRJkqQbtC4xiznfJbHxb4NuWoHgNl8uw8YnTNn3+366+N3Y7u4t3dwfjiH2\nLUbjuZ5Vjg50a9eN13xHEXh4DaT+pm503HUKqaH3szzZhu8OZVNarcPPxYbJ0f7cHe2Ht1PrrDIt\nSZIkSS2BoijU6Y03deFbmw9mYZ27KmeOHTZ1M266cxW1jHrzF36xfIIkL38G12oxK0oGB2/qejzM\njxYjWX64gsOZpViaaRjR2ZMpMQHEhrpdvB+fJEmSJEktRpuvY+Zk0zYLm3o4WDOxbzhr9gxjdvZ3\nKD7dSR34Pp8WRvL9b4VUazPp4GnPnNs6Mb67b7OPfUuSJEmS1HRabTBryx4ZFMqQvRM54TyS0xU+\nnNlYha1lIbd38WFyL3+6+zu3+sUOkiRJkiRdSgazFsjVzpK/DOjA+1vO0D3AgjcmRDG2i88ts7Gx\nJEmSJN2q5Ct9C/XUsDAmx/jjc5NWg0iSJEmS1PK1mFoKQohRQohTQohkIcTzpm6PqWk0QoYySZIk\nSbrFtIhgJoQwAxYCo4FOwFQhRCfTtkqSJEmSJKl5tYhgBvQCkhVFSVUURQt8A4wzcZskSZIkSZKa\nVUsJZr5AZqPbWfXHLiKEmCmESBBCJBQUFDRb4yRJkiRJkppDSwlml6v9cEnlW0VRPlEUJVpRlOh2\n7do1Q7MkSZIkSZKaT0sJZlmAf6PbfkCOidoiSZIkSZJkEi0lmO0HwoQQwUIIS2AKsN7EbZIkSZIk\nSWpWLaKOmaIoeiHEbGADYAYsVRTlmImbJUmSJEmS1KxaRDADUBTlZ+BnU7dDkiRJkiTJVFrKUKYk\nSZIkSdItTwYzSZIkSZKkFkIoyiVVKVoFIUQFcMrU7biFuQOFpm7ELUyef9OS59+05Pk3Pfk7uHGB\niqJcs9ZXi5lj9iecUhQl2tSNuFUJIRLk+Tcdef5NS55/05Ln3/Tk76DpyKFMSZIkSZKkFkIGM0mS\nJEmSpBaiNQezT0zdgFucPP+mJc+/acnzb1ry/Jue/B00kVY7+V+SJEmSJKmtac09ZpIkSZIkSW1K\nqwtmQohRQohTQohkIcTzpm7PrUYIkSaEOCqEOCSESDB1e24FQoilQohzQoikRsdchRCbhBBn6j+7\nmLKNbdkVzv8rQojs+uvgkBBijCnb2JYJIfyFEL8JIU4IIY4JIZ6qPy6vgWZwlfMvr4Em0qqGMoUQ\nZsBpIA7IQt38fKqiKMdN2rBbiBAiDYhWFEXWr2kmQoiBQCWwXFGUyPpjbwLFiqL8p/4NiouiKM+Z\nsp1t1RXO/ytApaIo803ZtluBEMIb8FYUJVEI4QAcAO4E/oK8BprcVc7/JOQ10CRaW49ZLyBZUZRU\nRVG0wDfAOBO3SZKalKIoO4DiPxweByyr/3oZ6hOl1ASucP6lZqIoSq6iKIn1X1cAJwBf5DXQLK5y\n/qUm0tqCmS+Q2eh2FvIPpLkpwEYhxAEhxExTN+YW5qkoSi6oT5yAh4nbcyuaLYQ4Uj/UKYfRmoEQ\nIgjoDuxDXgPN7g/nH+Q10CRaWzATlznWesZi24Z+iqL0AEYDs+qHeSTpVvMxEAp0A3KBt03bnLZP\nCGEPrAWeVhSl3NTtudVc5vzLa6CJtLZglgX4N7rtB+SYqC23JEVRcuo/nwO+RR1elppffv3cj/Nz\nQM6ZuD23FEVR8hVFMSiKYgQ+RV4HTUoIYYEaClYqirKu/rC8BprJ5c6/vAaaTmsLZvuBMCFEsBDC\nEpgCrDdxm24ZQgi7+smfCCHsgBFA0tX/ldRE1gMP1n/9IPC9CdtyyzkfCOqNR14HTUYIIYDPgBOK\norzT6C55DTSDK51/eQ00nVa1KhOgfknue4AZsFRRlNdN3KRbhhAiBLWXDMAc+Eqe/6YnhPgaGAy4\nA/nAy8B3wGogAMgAJiqKIieoN4ErnP/BqEM4CpAGPHJ+vpN0cwkh+gM7gaOAsf7wP1DnOclroIld\n5fxPRV4DTaLVBTNJkiRJkqS2qrUNZUqSJEmSJLVZMphJkiRJkiS1EDKYSZIkSZIktRAymEmSJEmS\nJLUQMphJkiRJkiS1EDKYSZIkSZIktRAymEmSJEmSJLUQMphJkiRJkiS1EP8Piv5TCeK9cbYAAAAA\nSUVORK5CYII=\n",
      "text/plain": [
       "<matplotlib.figure.Figure at 0x1a10ee4490>"
      ]
     },
     "metadata": {},
     "output_type": "display_data"
    }
   ],
   "source": [
    "df.plot(legend = False, figsize = (10, 5), title = 'GDPs in Europe')"
   ]
  },
  {
   "cell_type": "markdown",
   "metadata": {},
   "source": [
    "### Further Reading\n",
    "\n",
    "- `pandas` tutorial: http://pandas.pydata.org/pandas-docs/stable/10min.html#min\n",
    "- `pandas` cheatsheet: http://pandas.pydata.org/Pandas_Cheat_Sheet.pdf\n",
    "- `matplotlib` tutorials: https://matplotlib.org/tutorials/index.html \n",
    "\n",
    "\n"
   ]
  }
 ],
 "metadata": {
  "kernelspec": {
   "display_name": "Python 2",
   "language": "python",
   "name": "python2"
  },
  "language_info": {
   "codemirror_mode": {
    "name": "ipython",
    "version": 2
   },
   "file_extension": ".py",
   "mimetype": "text/x-python",
   "name": "python",
   "nbconvert_exporter": "python",
   "pygments_lexer": "ipython2",
   "version": "2.7.15"
  }
 },
 "nbformat": 4,
 "nbformat_minor": 2
}
