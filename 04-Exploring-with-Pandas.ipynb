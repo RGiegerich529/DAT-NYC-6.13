{
 "cells": [
  {
   "cell_type": "markdown",
   "metadata": {},
   "source": [
    "# Exploratory Data Analysis\n",
    "\n",
    "![](images/pandas/Foucault5.jpg)\n",
    "\n",
    "> *\"Before approaching, with any degree of certainty, a science, or novels, or political speeches, or the œuvre of an author, or even a single book, the material with which one is dealing is, in its raw, neutral state, a population of events in the space of discourse in general. One is led therefore to the project of a pure description of discursive events as the horizon for the search for the unities that form within it.\"* - Michel Foucault, *The Archaeology of Knowledge*."
   ]
  },
  {
   "cell_type": "markdown",
   "metadata": {},
   "source": [
    "### Digging in the Data\n",
    "\n",
    "**Objectives**\n",
    "\n",
    "- Ask Descriptive Questions of Data\n",
    "- Use Pandas and Seaborn to Explore Dataset\n",
    "\n",
    "For each example below, we want to understand something of an approximate solution to the following questions:\n",
    "\n",
    "1. What is the Data about?\n",
    "2. What are the Data Types?\n",
    "3. Is there missing data (what do we do about it)?\n",
    "4. How are the variables distributed?\n",
    "5. How do the center and spread of variables compare?"
   ]
  },
  {
   "cell_type": "code",
   "execution_count": 1,
   "metadata": {
    "collapsed": true
   },
   "outputs": [],
   "source": [
    "%matplotlib inline\n",
    "import matplotlib.pyplot as plt\n",
    "import pandas as pd\n",
    "import seaborn as sns"
   ]
  },
  {
   "cell_type": "code",
   "execution_count": 2,
<<<<<<< HEAD
   "metadata": {
    "collapsed": true
   },
=======
   "metadata": {},
>>>>>>> upstream/master
   "outputs": [],
   "source": [
    "tips = sns.load_dataset('tips')"
   ]
  },
  {
   "cell_type": "code",
   "execution_count": 3,
   "metadata": {},
   "outputs": [
    {
     "name": "stdout",
     "output_type": "stream",
     "text": [
      "<class 'pandas.core.frame.DataFrame'>\n",
      "RangeIndex: 244 entries, 0 to 243\n",
      "Data columns (total 7 columns):\n",
      "total_bill    244 non-null float64\n",
      "tip           244 non-null float64\n",
      "sex           244 non-null category\n",
      "smoker        244 non-null category\n",
      "day           244 non-null category\n",
      "time          244 non-null category\n",
      "size          244 non-null int64\n",
      "dtypes: category(4), float64(2), int64(1)\n",
      "memory usage: 7.2 KB\n"
     ]
    }
   ],
   "source": [
    "tips.info()"
   ]
  },
  {
   "cell_type": "code",
   "execution_count": 4,
   "metadata": {},
   "outputs": [
    {
     "data": {
      "text/html": [
       "<div>\n",
       "<style>\n",
       "    .dataframe thead tr:only-child th {\n",
       "        text-align: right;\n",
       "    }\n",
       "\n",
       "    .dataframe thead th {\n",
       "        text-align: left;\n",
       "    }\n",
       "\n",
       "    .dataframe tbody tr th {\n",
       "        vertical-align: top;\n",
       "    }\n",
       "</style>\n",
       "<table border=\"1\" class=\"dataframe\">\n",
       "  <thead>\n",
       "    <tr style=\"text-align: right;\">\n",
       "      <th></th>\n",
       "      <th>total_bill</th>\n",
       "      <th>tip</th>\n",
       "      <th>sex</th>\n",
       "      <th>smoker</th>\n",
       "      <th>day</th>\n",
       "      <th>time</th>\n",
       "      <th>size</th>\n",
       "    </tr>\n",
       "  </thead>\n",
       "  <tbody>\n",
       "    <tr>\n",
       "      <th>0</th>\n",
       "      <td>16.99</td>\n",
       "      <td>1.01</td>\n",
       "      <td>Female</td>\n",
       "      <td>No</td>\n",
       "      <td>Sun</td>\n",
       "      <td>Dinner</td>\n",
       "      <td>2</td>\n",
       "    </tr>\n",
       "    <tr>\n",
       "      <th>1</th>\n",
       "      <td>10.34</td>\n",
       "      <td>1.66</td>\n",
       "      <td>Male</td>\n",
       "      <td>No</td>\n",
       "      <td>Sun</td>\n",
       "      <td>Dinner</td>\n",
       "      <td>3</td>\n",
       "    </tr>\n",
       "    <tr>\n",
       "      <th>2</th>\n",
       "      <td>21.01</td>\n",
       "      <td>3.50</td>\n",
       "      <td>Male</td>\n",
       "      <td>No</td>\n",
       "      <td>Sun</td>\n",
       "      <td>Dinner</td>\n",
       "      <td>3</td>\n",
       "    </tr>\n",
       "    <tr>\n",
       "      <th>3</th>\n",
       "      <td>23.68</td>\n",
       "      <td>3.31</td>\n",
       "      <td>Male</td>\n",
       "      <td>No</td>\n",
       "      <td>Sun</td>\n",
       "      <td>Dinner</td>\n",
       "      <td>2</td>\n",
       "    </tr>\n",
       "    <tr>\n",
       "      <th>4</th>\n",
       "      <td>24.59</td>\n",
       "      <td>3.61</td>\n",
       "      <td>Female</td>\n",
       "      <td>No</td>\n",
       "      <td>Sun</td>\n",
       "      <td>Dinner</td>\n",
       "      <td>4</td>\n",
       "    </tr>\n",
       "  </tbody>\n",
       "</table>\n",
       "</div>"
      ],
      "text/plain": [
       "   total_bill   tip     sex smoker  day    time  size\n",
       "0       16.99  1.01  Female     No  Sun  Dinner     2\n",
       "1       10.34  1.66    Male     No  Sun  Dinner     3\n",
       "2       21.01  3.50    Male     No  Sun  Dinner     3\n",
       "3       23.68  3.31    Male     No  Sun  Dinner     2\n",
       "4       24.59  3.61  Female     No  Sun  Dinner     4"
      ]
     },
     "execution_count": 4,
     "metadata": {},
     "output_type": "execute_result"
    }
   ],
   "source": [
    "tips.head()"
   ]
  },
  {
   "cell_type": "code",
   "execution_count": 9,
   "metadata": {},
   "outputs": [
    {
     "data": {
      "text/plain": [
       "No     151\n",
       "Yes     93\n",
       "Name: smoker, dtype: int64"
      ]
     },
     "execution_count": 9,
     "metadata": {},
     "output_type": "execute_result"
    }
   ],
   "source": [
    "tips['smoker'].value_counts()"
   ]
  },
  {
   "cell_type": "code",
   "execution_count": 10,
   "metadata": {},
   "outputs": [
    {
     "data": {
      "text/html": [
       "<div>\n",
       "<style>\n",
       "    .dataframe thead tr:only-child th {\n",
       "        text-align: right;\n",
       "    }\n",
       "\n",
       "    .dataframe thead th {\n",
       "        text-align: left;\n",
       "    }\n",
       "\n",
       "    .dataframe tbody tr th {\n",
       "        vertical-align: top;\n",
       "    }\n",
       "</style>\n",
       "<table border=\"1\" class=\"dataframe\">\n",
       "  <thead>\n",
       "    <tr style=\"text-align: right;\">\n",
       "      <th></th>\n",
       "      <th>total_bill</th>\n",
       "      <th>tip</th>\n",
       "      <th>sex</th>\n",
       "      <th>smoker</th>\n",
       "      <th>day</th>\n",
       "      <th>time</th>\n",
       "      <th>size</th>\n",
       "    </tr>\n",
       "  </thead>\n",
       "  <tbody>\n",
       "    <tr>\n",
       "      <th>239</th>\n",
       "      <td>29.03</td>\n",
       "      <td>5.92</td>\n",
       "      <td>Male</td>\n",
       "      <td>No</td>\n",
       "      <td>Sat</td>\n",
       "      <td>Dinner</td>\n",
       "      <td>3</td>\n",
       "    </tr>\n",
       "    <tr>\n",
       "      <th>240</th>\n",
       "      <td>27.18</td>\n",
       "      <td>2.00</td>\n",
       "      <td>Female</td>\n",
       "      <td>Yes</td>\n",
       "      <td>Sat</td>\n",
       "      <td>Dinner</td>\n",
       "      <td>2</td>\n",
       "    </tr>\n",
       "    <tr>\n",
       "      <th>241</th>\n",
       "      <td>22.67</td>\n",
       "      <td>2.00</td>\n",
       "      <td>Male</td>\n",
       "      <td>Yes</td>\n",
       "      <td>Sat</td>\n",
       "      <td>Dinner</td>\n",
       "      <td>2</td>\n",
       "    </tr>\n",
       "    <tr>\n",
       "      <th>242</th>\n",
       "      <td>17.82</td>\n",
       "      <td>1.75</td>\n",
       "      <td>Male</td>\n",
       "      <td>No</td>\n",
       "      <td>Sat</td>\n",
       "      <td>Dinner</td>\n",
       "      <td>2</td>\n",
       "    </tr>\n",
       "    <tr>\n",
       "      <th>243</th>\n",
       "      <td>18.78</td>\n",
       "      <td>3.00</td>\n",
       "      <td>Female</td>\n",
       "      <td>No</td>\n",
       "      <td>Thur</td>\n",
       "      <td>Dinner</td>\n",
       "      <td>2</td>\n",
       "    </tr>\n",
       "  </tbody>\n",
       "</table>\n",
       "</div>"
      ],
      "text/plain": [
       "     total_bill   tip     sex smoker   day    time  size\n",
       "239       29.03  5.92    Male     No   Sat  Dinner     3\n",
       "240       27.18  2.00  Female    Yes   Sat  Dinner     2\n",
       "241       22.67  2.00    Male    Yes   Sat  Dinner     2\n",
       "242       17.82  1.75    Male     No   Sat  Dinner     2\n",
       "243       18.78  3.00  Female     No  Thur  Dinner     2"
      ]
     },
     "execution_count": 10,
     "metadata": {},
     "output_type": "execute_result"
    }
   ],
   "source": [
    "tips.tail()"
   ]
  },
  {
   "cell_type": "code",
   "execution_count": 11,
   "metadata": {},
   "outputs": [
    {
     "data": {
      "text/html": [
       "<div>\n",
       "<style>\n",
       "    .dataframe thead tr:only-child th {\n",
       "        text-align: right;\n",
       "    }\n",
       "\n",
       "    .dataframe thead th {\n",
       "        text-align: left;\n",
       "    }\n",
       "\n",
       "    .dataframe tbody tr th {\n",
       "        vertical-align: top;\n",
       "    }\n",
       "</style>\n",
       "<table border=\"1\" class=\"dataframe\">\n",
       "  <thead>\n",
       "    <tr style=\"text-align: right;\">\n",
       "      <th></th>\n",
       "      <th>total_bill</th>\n",
       "      <th>tip</th>\n",
       "      <th>size</th>\n",
       "    </tr>\n",
       "  </thead>\n",
       "  <tbody>\n",
       "    <tr>\n",
       "      <th>count</th>\n",
       "      <td>244.000000</td>\n",
       "      <td>244.000000</td>\n",
       "      <td>244.000000</td>\n",
       "    </tr>\n",
       "    <tr>\n",
       "      <th>mean</th>\n",
       "      <td>19.785943</td>\n",
       "      <td>2.998279</td>\n",
       "      <td>2.569672</td>\n",
       "    </tr>\n",
       "    <tr>\n",
       "      <th>std</th>\n",
       "      <td>8.902412</td>\n",
       "      <td>1.383638</td>\n",
       "      <td>0.951100</td>\n",
       "    </tr>\n",
       "    <tr>\n",
       "      <th>min</th>\n",
       "      <td>3.070000</td>\n",
       "      <td>1.000000</td>\n",
       "      <td>1.000000</td>\n",
       "    </tr>\n",
       "    <tr>\n",
       "      <th>25%</th>\n",
       "      <td>13.347500</td>\n",
       "      <td>2.000000</td>\n",
       "      <td>2.000000</td>\n",
       "    </tr>\n",
       "    <tr>\n",
       "      <th>50%</th>\n",
       "      <td>17.795000</td>\n",
       "      <td>2.900000</td>\n",
       "      <td>2.000000</td>\n",
       "    </tr>\n",
       "    <tr>\n",
       "      <th>75%</th>\n",
       "      <td>24.127500</td>\n",
       "      <td>3.562500</td>\n",
       "      <td>3.000000</td>\n",
       "    </tr>\n",
       "    <tr>\n",
       "      <th>max</th>\n",
       "      <td>50.810000</td>\n",
       "      <td>10.000000</td>\n",
       "      <td>6.000000</td>\n",
       "    </tr>\n",
       "  </tbody>\n",
       "</table>\n",
       "</div>"
      ],
      "text/plain": [
       "       total_bill         tip        size\n",
       "count  244.000000  244.000000  244.000000\n",
       "mean    19.785943    2.998279    2.569672\n",
       "std      8.902412    1.383638    0.951100\n",
       "min      3.070000    1.000000    1.000000\n",
       "25%     13.347500    2.000000    2.000000\n",
       "50%     17.795000    2.900000    2.000000\n",
       "75%     24.127500    3.562500    3.000000\n",
       "max     50.810000   10.000000    6.000000"
      ]
     },
     "execution_count": 11,
     "metadata": {},
     "output_type": "execute_result"
    }
   ],
   "source": [
    "tips.describe()"
   ]
  },
  {
   "cell_type": "code",
   "execution_count": 12,
   "metadata": {},
   "outputs": [
    {
     "data": {
      "text/html": [
       "<div>\n",
       "<style>\n",
       "    .dataframe thead tr:only-child th {\n",
       "        text-align: right;\n",
       "    }\n",
       "\n",
       "    .dataframe thead th {\n",
       "        text-align: left;\n",
       "    }\n",
       "\n",
       "    .dataframe tbody tr th {\n",
       "        vertical-align: top;\n",
       "    }\n",
       "</style>\n",
       "<table border=\"1\" class=\"dataframe\">\n",
       "  <thead>\n",
       "    <tr style=\"text-align: right;\">\n",
       "      <th></th>\n",
       "      <th>total_bill</th>\n",
       "      <th>tip</th>\n",
       "      <th>sex</th>\n",
       "      <th>smoker</th>\n",
       "      <th>day</th>\n",
       "      <th>time</th>\n",
       "      <th>size</th>\n",
       "    </tr>\n",
       "  </thead>\n",
       "  <tbody>\n",
       "    <tr>\n",
       "      <th>count</th>\n",
       "      <td>244.000000</td>\n",
       "      <td>244.000000</td>\n",
       "      <td>244</td>\n",
       "      <td>244</td>\n",
       "      <td>244</td>\n",
       "      <td>244</td>\n",
       "      <td>244.000000</td>\n",
       "    </tr>\n",
       "    <tr>\n",
       "      <th>unique</th>\n",
       "      <td>NaN</td>\n",
       "      <td>NaN</td>\n",
       "      <td>2</td>\n",
       "      <td>2</td>\n",
       "      <td>4</td>\n",
       "      <td>2</td>\n",
       "      <td>NaN</td>\n",
       "    </tr>\n",
       "    <tr>\n",
       "      <th>top</th>\n",
       "      <td>NaN</td>\n",
       "      <td>NaN</td>\n",
       "      <td>Male</td>\n",
       "      <td>No</td>\n",
       "      <td>Sat</td>\n",
       "      <td>Dinner</td>\n",
       "      <td>NaN</td>\n",
       "    </tr>\n",
       "    <tr>\n",
       "      <th>freq</th>\n",
       "      <td>NaN</td>\n",
       "      <td>NaN</td>\n",
       "      <td>157</td>\n",
       "      <td>151</td>\n",
       "      <td>87</td>\n",
       "      <td>176</td>\n",
       "      <td>NaN</td>\n",
       "    </tr>\n",
       "    <tr>\n",
       "      <th>mean</th>\n",
       "      <td>19.785943</td>\n",
       "      <td>2.998279</td>\n",
       "      <td>NaN</td>\n",
       "      <td>NaN</td>\n",
       "      <td>NaN</td>\n",
       "      <td>NaN</td>\n",
       "      <td>2.569672</td>\n",
       "    </tr>\n",
       "    <tr>\n",
       "      <th>std</th>\n",
       "      <td>8.902412</td>\n",
       "      <td>1.383638</td>\n",
       "      <td>NaN</td>\n",
       "      <td>NaN</td>\n",
       "      <td>NaN</td>\n",
       "      <td>NaN</td>\n",
       "      <td>0.951100</td>\n",
       "    </tr>\n",
       "    <tr>\n",
       "      <th>min</th>\n",
       "      <td>3.070000</td>\n",
       "      <td>1.000000</td>\n",
       "      <td>NaN</td>\n",
       "      <td>NaN</td>\n",
       "      <td>NaN</td>\n",
       "      <td>NaN</td>\n",
       "      <td>1.000000</td>\n",
       "    </tr>\n",
       "    <tr>\n",
       "      <th>25%</th>\n",
       "      <td>13.347500</td>\n",
       "      <td>2.000000</td>\n",
       "      <td>NaN</td>\n",
       "      <td>NaN</td>\n",
       "      <td>NaN</td>\n",
       "      <td>NaN</td>\n",
       "      <td>2.000000</td>\n",
       "    </tr>\n",
       "    <tr>\n",
       "      <th>50%</th>\n",
       "      <td>17.795000</td>\n",
       "      <td>2.900000</td>\n",
       "      <td>NaN</td>\n",
       "      <td>NaN</td>\n",
       "      <td>NaN</td>\n",
       "      <td>NaN</td>\n",
       "      <td>2.000000</td>\n",
       "    </tr>\n",
       "    <tr>\n",
       "      <th>75%</th>\n",
       "      <td>24.127500</td>\n",
       "      <td>3.562500</td>\n",
       "      <td>NaN</td>\n",
       "      <td>NaN</td>\n",
       "      <td>NaN</td>\n",
       "      <td>NaN</td>\n",
       "      <td>3.000000</td>\n",
       "    </tr>\n",
       "    <tr>\n",
       "      <th>max</th>\n",
       "      <td>50.810000</td>\n",
       "      <td>10.000000</td>\n",
       "      <td>NaN</td>\n",
       "      <td>NaN</td>\n",
       "      <td>NaN</td>\n",
       "      <td>NaN</td>\n",
       "      <td>6.000000</td>\n",
       "    </tr>\n",
       "  </tbody>\n",
       "</table>\n",
       "</div>"
      ],
      "text/plain": [
       "        total_bill         tip   sex smoker  day    time        size\n",
       "count   244.000000  244.000000   244    244  244     244  244.000000\n",
       "unique         NaN         NaN     2      2    4       2         NaN\n",
       "top            NaN         NaN  Male     No  Sat  Dinner         NaN\n",
       "freq           NaN         NaN   157    151   87     176         NaN\n",
       "mean     19.785943    2.998279   NaN    NaN  NaN     NaN    2.569672\n",
       "std       8.902412    1.383638   NaN    NaN  NaN     NaN    0.951100\n",
       "min       3.070000    1.000000   NaN    NaN  NaN     NaN    1.000000\n",
       "25%      13.347500    2.000000   NaN    NaN  NaN     NaN    2.000000\n",
       "50%      17.795000    2.900000   NaN    NaN  NaN     NaN    2.000000\n",
       "75%      24.127500    3.562500   NaN    NaN  NaN     NaN    3.000000\n",
       "max      50.810000   10.000000   NaN    NaN  NaN     NaN    6.000000"
      ]
     },
     "execution_count": 12,
     "metadata": {},
     "output_type": "execute_result"
    }
   ],
   "source": [
    "tips.describe(include='all')"
   ]
  },
  {
   "cell_type": "code",
   "execution_count": 13,
   "metadata": {},
   "outputs": [
    {
     "data": {
      "text/html": [
       "<div>\n",
       "<style>\n",
       "    .dataframe thead tr:only-child th {\n",
       "        text-align: right;\n",
       "    }\n",
       "\n",
       "    .dataframe thead th {\n",
       "        text-align: left;\n",
       "    }\n",
       "\n",
       "    .dataframe tbody tr th {\n",
       "        vertical-align: top;\n",
       "    }\n",
       "</style>\n",
       "<table border=\"1\" class=\"dataframe\">\n",
       "  <thead>\n",
       "    <tr style=\"text-align: right;\">\n",
       "      <th></th>\n",
       "      <th>total_bill</th>\n",
       "      <th>tip</th>\n",
       "      <th>size</th>\n",
       "    </tr>\n",
       "    <tr>\n",
       "      <th>smoker</th>\n",
       "      <th></th>\n",
       "      <th></th>\n",
       "      <th></th>\n",
       "    </tr>\n",
       "  </thead>\n",
       "  <tbody>\n",
       "    <tr>\n",
       "      <th>Yes</th>\n",
       "      <td>20.756344</td>\n",
       "      <td>3.008710</td>\n",
       "      <td>2.408602</td>\n",
       "    </tr>\n",
       "    <tr>\n",
       "      <th>No</th>\n",
       "      <td>19.188278</td>\n",
       "      <td>2.991854</td>\n",
       "      <td>2.668874</td>\n",
       "    </tr>\n",
       "  </tbody>\n",
       "</table>\n",
       "</div>"
      ],
      "text/plain": [
       "        total_bill       tip      size\n",
       "smoker                                \n",
       "Yes      20.756344  3.008710  2.408602\n",
       "No       19.188278  2.991854  2.668874"
      ]
     },
     "execution_count": 13,
     "metadata": {},
     "output_type": "execute_result"
    }
   ],
   "source": [
    "tips.groupby('smoker').mean()"
   ]
  },
  {
   "cell_type": "code",
   "execution_count": 14,
   "metadata": {},
   "outputs": [
    {
     "data": {
      "text/html": [
       "<div>\n",
       "<style>\n",
       "    .dataframe thead tr:only-child th {\n",
       "        text-align: right;\n",
       "    }\n",
       "\n",
       "    .dataframe thead th {\n",
       "        text-align: left;\n",
       "    }\n",
       "\n",
       "    .dataframe tbody tr th {\n",
       "        vertical-align: top;\n",
       "    }\n",
       "</style>\n",
       "<table border=\"1\" class=\"dataframe\">\n",
       "  <thead>\n",
       "    <tr style=\"text-align: right;\">\n",
       "      <th></th>\n",
       "      <th></th>\n",
       "      <th>total_bill</th>\n",
       "      <th>tip</th>\n",
       "      <th>size</th>\n",
       "    </tr>\n",
       "    <tr>\n",
       "      <th>smoker</th>\n",
       "      <th>day</th>\n",
       "      <th></th>\n",
       "      <th></th>\n",
       "      <th></th>\n",
       "    </tr>\n",
       "  </thead>\n",
       "  <tbody>\n",
       "    <tr>\n",
       "      <th rowspan=\"4\" valign=\"top\">Yes</th>\n",
       "      <th>Thur</th>\n",
       "      <td>19.190588</td>\n",
       "      <td>3.030000</td>\n",
       "      <td>2.352941</td>\n",
       "    </tr>\n",
       "    <tr>\n",
       "      <th>Fri</th>\n",
       "      <td>16.813333</td>\n",
       "      <td>2.714000</td>\n",
       "      <td>2.066667</td>\n",
       "    </tr>\n",
       "    <tr>\n",
       "      <th>Sat</th>\n",
       "      <td>21.276667</td>\n",
       "      <td>2.875476</td>\n",
       "      <td>2.476190</td>\n",
       "    </tr>\n",
       "    <tr>\n",
       "      <th>Sun</th>\n",
       "      <td>24.120000</td>\n",
       "      <td>3.516842</td>\n",
       "      <td>2.578947</td>\n",
       "    </tr>\n",
       "    <tr>\n",
       "      <th rowspan=\"4\" valign=\"top\">No</th>\n",
       "      <th>Thur</th>\n",
       "      <td>17.113111</td>\n",
       "      <td>2.673778</td>\n",
       "      <td>2.488889</td>\n",
       "    </tr>\n",
       "    <tr>\n",
       "      <th>Fri</th>\n",
       "      <td>18.420000</td>\n",
       "      <td>2.812500</td>\n",
       "      <td>2.250000</td>\n",
       "    </tr>\n",
       "    <tr>\n",
       "      <th>Sat</th>\n",
       "      <td>19.661778</td>\n",
       "      <td>3.102889</td>\n",
       "      <td>2.555556</td>\n",
       "    </tr>\n",
       "    <tr>\n",
       "      <th>Sun</th>\n",
       "      <td>20.506667</td>\n",
       "      <td>3.167895</td>\n",
       "      <td>2.929825</td>\n",
       "    </tr>\n",
       "  </tbody>\n",
       "</table>\n",
       "</div>"
      ],
      "text/plain": [
       "             total_bill       tip      size\n",
       "smoker day                                 \n",
       "Yes    Thur   19.190588  3.030000  2.352941\n",
       "       Fri    16.813333  2.714000  2.066667\n",
       "       Sat    21.276667  2.875476  2.476190\n",
       "       Sun    24.120000  3.516842  2.578947\n",
       "No     Thur   17.113111  2.673778  2.488889\n",
       "       Fri    18.420000  2.812500  2.250000\n",
       "       Sat    19.661778  3.102889  2.555556\n",
       "       Sun    20.506667  3.167895  2.929825"
      ]
     },
     "execution_count": 14,
     "metadata": {},
     "output_type": "execute_result"
    }
   ],
   "source": [
    "tips.groupby(['smoker', 'day']).mean()"
   ]
  },
  {
   "cell_type": "markdown",
   "metadata": {},
   "source": [
    "**Measures of Center**: mean, median, mode\n",
    "\n",
    "**Measures of Spread**: range, standard deviation"
   ]
  },
  {
   "cell_type": "code",
   "execution_count": 15,
   "metadata": {},
   "outputs": [
    {
     "data": {
      "text/plain": [
       "19.785942622950824"
      ]
     },
     "execution_count": 15,
     "metadata": {},
     "output_type": "execute_result"
    }
   ],
   "source": [
    "tips.total_bill.mean()"
   ]
  },
  {
   "cell_type": "code",
   "execution_count": 16,
   "metadata": {},
   "outputs": [
    {
     "data": {
      "text/plain": [
       "17.795"
      ]
     },
     "execution_count": 16,
     "metadata": {},
     "output_type": "execute_result"
    }
   ],
   "source": [
    "tips.total_bill.median()"
   ]
  },
  {
   "cell_type": "code",
   "execution_count": 17,
   "metadata": {},
   "outputs": [
    {
     "data": {
      "text/plain": [
       "50.810000000000002"
      ]
     },
     "execution_count": 17,
     "metadata": {},
     "output_type": "execute_result"
    }
   ],
   "source": [
    "tips.total_bill.max()"
   ]
  },
  {
   "cell_type": "code",
   "execution_count": 18,
   "metadata": {},
   "outputs": [
    {
     "data": {
      "text/plain": [
       "3.0699999999999998"
      ]
     },
     "execution_count": 18,
     "metadata": {},
     "output_type": "execute_result"
    }
   ],
   "source": [
    "tips.total_bill.min()"
   ]
  },
  {
   "cell_type": "code",
<<<<<<< HEAD
   "execution_count": 19,
   "metadata": {
    "collapsed": true
   },
=======
   "execution_count": 4,
   "metadata": {},
>>>>>>> upstream/master
   "outputs": [],
   "source": [
    "def range_finder(df, col):\n",
    "    r = df[col].max() - df[col].min()\n",
    "    print(\"The range for the column\", col, \"is\", r)"
   ]
  },
  {
   "cell_type": "code",
<<<<<<< HEAD
   "execution_count": 20,
=======
   "execution_count": 5,
>>>>>>> upstream/master
   "metadata": {},
   "outputs": [
    {
     "name": "stdout",
     "output_type": "stream",
     "text": [
      "('The range for the column', 'total_bill', 'is', 47.740000000000002)\n"
     ]
    }
   ],
   "source": [
    "range_finder(tips, 'total_bill')"
   ]
  },
  {
   "cell_type": "code",
   "execution_count": 21,
   "metadata": {},
   "outputs": [
    {
     "data": {
      "text/plain": [
       "8.902411954856856"
      ]
     },
     "execution_count": 21,
     "metadata": {},
     "output_type": "execute_result"
    }
   ],
   "source": [
    "tips.total_bill.std()"
   ]
  },
  {
   "cell_type": "code",
   "execution_count": 22,
   "metadata": {},
   "outputs": [
    {
     "data": {
      "text/plain": [
       "(array([  7.,  42.,  68.,  51.,  31.,  19.,  12.,   7.,   3.,   4.]),\n",
       " array([  3.07 ,   7.844,  12.618,  17.392,  22.166,  26.94 ,  31.714,\n",
       "         36.488,  41.262,  46.036,  50.81 ]),\n",
       " <a list of 10 Patch objects>)"
      ]
     },
     "execution_count": 22,
     "metadata": {},
     "output_type": "execute_result"
    },
    {
     "data": {
      "image/png": "iVBORw0KGgoAAAANSUhEUgAAAXQAAAD8CAYAAABn919SAAAABHNCSVQICAgIfAhkiAAAAAlwSFlz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\n",
      "text/plain": [
       "<matplotlib.figure.Figure at 0x1a08839dd0>"
      ]
     },
     "metadata": {},
     "output_type": "display_data"
    }
   ],
   "source": [
    "plt.hist(tips.total_bill)"
   ]
  },
  {
   "cell_type": "code",
   "execution_count": 23,
   "metadata": {},
   "outputs": [
    {
     "name": "stdout",
     "output_type": "stream",
     "text": [
      "<class 'pandas.core.frame.DataFrame'>\n",
      "RangeIndex: 244 entries, 0 to 243\n",
      "Data columns (total 7 columns):\n",
      "total_bill    244 non-null float64\n",
      "tip           244 non-null float64\n",
      "sex           244 non-null category\n",
      "smoker        244 non-null category\n",
      "day           244 non-null category\n",
      "time          244 non-null category\n",
      "size          244 non-null int64\n",
      "dtypes: category(4), float64(2), int64(1)\n",
      "memory usage: 7.2 KB\n"
     ]
    }
   ],
   "source": [
    "tips.info()"
   ]
  },
  {
   "cell_type": "markdown",
   "metadata": {},
   "source": [
    "**PROBLEM**: Create and describe distributions for the other variables that warrant a histogram."
   ]
  },
  {
   "cell_type": "code",
<<<<<<< HEAD
   "execution_count": null,
   "metadata": {
    "collapsed": true
   },
   "outputs": [],
   "source": []
  },
  {
   "cell_type": "code",
   "execution_count": null,
   "metadata": {
    "collapsed": true
   },
   "outputs": [],
   "source": []
  },
  {
   "cell_type": "code",
   "execution_count": null,
   "metadata": {
    "collapsed": true
   },
   "outputs": [],
   "source": []
=======
   "execution_count": 6,
   "metadata": {},
   "outputs": [
    {
     "data": {
      "text/plain": [
       "(array([0., 0., 0., 0., 0., 1., 0., 0., 0., 0.]),\n",
       " array([1707.5, 1707.6, 1707.7, 1707.8, 1707.9, 1708. , 1708.1, 1708.2,\n",
       "        1708.3, 1708.4, 1708.5]),\n",
       " <a list of 10 Patch objects>)"
      ]
     },
     "execution_count": 6,
     "metadata": {},
     "output_type": "execute_result"
    },
    {
     "data": {
      "image/png": "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\n",
      "text/plain": [
       "<matplotlib.figure.Figure at 0x10f0c0898>"
      ]
     },
     "metadata": {},
     "output_type": "display_data"
    }
   ],
   "source": [
    "plt.hist(tips.size)"
   ]
  },
  {
   "cell_type": "code",
   "execution_count": 11,
   "metadata": {},
   "outputs": [
    {
     "data": {
      "text/plain": [
       "<Container object of 244 artists>"
      ]
     },
     "execution_count": 11,
     "metadata": {},
     "output_type": "execute_result"
    },
    {
     "data": {
      "image/png": "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\n",
      "text/plain": [
       "<matplotlib.figure.Figure at 0x10f88a3c8>"
      ]
     },
     "metadata": {},
     "output_type": "display_data"
    }
   ],
   "source": [
    "plt.bar(tips.sex, tips.total_bill)"
   ]
  },
  {
   "cell_type": "code",
   "execution_count": 12,
   "metadata": {},
   "outputs": [
    {
     "data": {
      "text/plain": [
       "<Container object of 244 artists>"
      ]
     },
     "execution_count": 12,
     "metadata": {},
     "output_type": "execute_result"
    },
    {
     "data": {
      "image/png": "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\n",
      "text/plain": [
       "<matplotlib.figure.Figure at 0x10fdae0f0>"
      ]
     },
     "metadata": {},
     "output_type": "display_data"
    }
   ],
   "source": [
    "plt.bar(tips.sex, tips.tip)"
   ]
  },
  {
   "cell_type": "code",
   "execution_count": 8,
   "metadata": {},
   "outputs": [
    {
     "data": {
      "text/plain": [
       "(array([41., 79., 66., 27., 19.,  5.,  4.,  1.,  1.,  1.]),\n",
       " array([ 1. ,  1.9,  2.8,  3.7,  4.6,  5.5,  6.4,  7.3,  8.2,  9.1, 10. ]),\n",
       " <a list of 10 Patch objects>)"
      ]
     },
     "execution_count": 8,
     "metadata": {},
     "output_type": "execute_result"
    },
    {
     "data": {
      "image/png": "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\n",
      "text/plain": [
       "<matplotlib.figure.Figure at 0x10f3786a0>"
      ]
     },
     "metadata": {},
     "output_type": "display_data"
    }
   ],
   "source": [
    "plt.hist(tips.tip)"
   ]
  },
  {
   "cell_type": "code",
   "execution_count": 9,
   "metadata": {},
   "outputs": [
    {
     "data": {
      "text/plain": [
       "(array([19.,  0.,  0., 87.,  0.,  0., 76.,  0.,  0., 62.]),\n",
       " array([0. , 0.3, 0.6, 0.9, 1.2, 1.5, 1.8, 2.1, 2.4, 2.7, 3. ]),\n",
       " <a list of 10 Patch objects>)"
      ]
     },
     "execution_count": 9,
     "metadata": {},
     "output_type": "execute_result"
    },
    {
     "data": {
      "image/png": "iVBORw0KGgoAAAANSUhEUgAAAXQAAAD8CAYAAABn919SAAAABHNCSVQICAgIfAhkiAAAAAlwSFlzAAALEgAACxIB0t1+/AAAADl0RVh0U29mdHdhcmUAbWF0cGxvdGxpYiB2ZXJzaW9uIDIuMS4yLCBodHRwOi8vbWF0cGxvdGxpYi5vcmcvNQv5yAAADApJREFUeJzt3W+MZYVZx/HvT7akUDT82SnhXxxMNm2xUdqOWGzUCCbaQIREmmCaZmtI1hdqqzVp15pIX0JCbI1WzVqq+4JYcG0D7TYKoewL32yYbYn8WSuEbmELLYN2FRpCXXx8MYcwhZm9d2bundl95vtJNnPPuefMeTJn57tnzsydTVUhSTr1/dhmDyBJmgyDLklNGHRJasKgS1ITBl2SmjDoktSEQZekJgy6JDVh0CWpiW0bebDt27fX7OzsRh5Skk55hw4der6qZkZtt6FBn52dZX5+fiMPKUmnvCTfHmc7b7lIUhMGXZKaMOiS1IRBl6QmDLokNWHQJakJgy5JTRh0SWrCoEtSExv6SlGdGmZ379+0Yx+55ZpNO7Z0qvMKXZKaMOiS1IRBl6QmDLokNWHQJakJgy5JTRh0SWrCoEtSEwZdkpow6JLUhEGXpCYMuiQ1MVbQk/xhkkeTPJLkH5K8OcmlSQ4meTzJnUlOn/awkqSVjQx6kouAjwBzVfVO4DTgRuBW4NNVtQP4PnDTNAeVJJ3YuLdctgFnJNkGnAk8C1wF7Bue3wtcP/nxJEnjGhn0qvoOcBvwFIsh/2/gEHCsqo4Pmx0FLlpu/yS7kswnmV9YWJjM1JKkNxjnlss5wHXApcCFwFuA9y+zaS23f1Xtqaq5qpqbmZlZz6ySpBMY55bLrwLfqqqFqvpf4IvALwBnD7dgAC4GnpnSjJKkMYwT9KeA9yY5M0mAq4HHgAeAG4ZtdgJ3T2dESdI4xrmHfpDFb35+HXh42GcP8AngY0meAM4Dbp/inJKkEcb6T6Kr6mbg5tetfhK4YuITSZLWxFeKSlITBl2SmjDoktSEQZekJsb6pqik6ZndvX9Tjnvklms25biaHq/QJakJgy5JTRh0SWrCoEtSEwZdkpow6JLUhEGXpCYMuiQ1YdAlqQmDLklNGHRJasKgS1ITBl2SmjDoktSEQZekJgy6JDVh0CWpCYMuSU0YdElqwqBLUhMGXZKaMOiS1IRBl6QmDLokNWHQJakJgy5JTRh0SWrCoEtSEwZdkpow6JLUhEGXpCYMuiQ1sW2zB5CkjTK7e/+mHPfILddsyHHGukJPcnaSfUn+PcnhJFcmOTfJfUkeH96eM+1hJUkrG/eWy58D/1xVbwd+FjgM7Abur6odwP3DsiRpk4wMepKfAH4JuB2gqn5YVceA64C9w2Z7geunNaQkabRxrtB/ClgA/i7JN5J8LslbgPOr6lmA4e1bpzinJGmEcYK+DXg38NdV9S7gB6zi9kqSXUnmk8wvLCyscUxJ0ijjBP0ocLSqDg7L+1gM/PeSXAAwvH1uuZ2rak9VzVXV3MzMzCRmliQtY2TQq+q7wNNJ3jasuhp4DLgH2Dms2wncPZUJJUljGffn0H8fuCPJ6cCTwG+z+I/BXUluAp4CPjCdESVJ4xgr6FX1EDC3zFNXT3YcSdJa+dJ/SWrCoEtSEwZdkpow6JLUhEGXpCYMuiQ1YdAlqQmDLklNGHRJasKgS1ITBl2SmjDoktSEQZekJgy6JDVh0CWpCYMuSU0YdElqwqBLUhMGXZKaMOiS1IRBl6QmDLokNWHQJakJgy5JTRh0SWrCoEtSEwZdkpow6JLUhEGXpCYMuiQ1YdAlqQmDLklNGHRJasKgS1ITBl2SmjDoktSEQZekJgy6JDVh0CWpibGDnuS0JN9I8pVh+dIkB5M8nuTOJKdPb0xJ0iiruUL/KHB4yfKtwKeragfwfeCmSQ4mSVqdsYKe5GLgGuBzw3KAq4B9wyZ7geunMaAkaTzjXqF/Bvg48H/D8nnAsao6PiwfBS6a8GySpFUYGfQk1wLPVdWhpauX2bRW2H9Xkvkk8wsLC2scU5I0yjhX6O8DfiPJEeALLN5q+QxwdpJtwzYXA88st3NV7amquaqam5mZmcDIkqTljAx6Vf1xVV1cVbPAjcDXquqDwAPADcNmO4G7pzalJGmk9fwc+ieAjyV5gsV76rdPZiRJ0lpsG73Ja6rqAHBgePwkcMXkR5IkrYWvFJWkJgy6JDVh0CWpCYMuSU0YdElqwqBLUhMGXZKaMOiS1IRBl6QmDLokNWHQJakJgy5JTRh0SWrCoEtSEwZdkpow6JLUhEGXpCYMuiQ1YdAlqQmDLklNGHRJasKgS1ITBl2SmjDoktSEQZekJgy6JDVh0CWpCYMuSU0YdElqwqBLUhMGXZKaMOiS1IRBl6QmDLokNWHQJakJgy5JTRh0SWrCoEtSEwZdkpoYGfQklyR5IMnhJI8m+eiw/twk9yV5fHh7zvTHlSStZJwr9OPAH1XVO4D3Ar+b5DJgN3B/Ve0A7h+WJUmbZGTQq+rZqvr68PgF4DBwEXAdsHfYbC9w/bSGlCSNtqp76ElmgXcBB4Hzq+pZWIw+8NYV9tmVZD7J/MLCwvqmlSStaOygJzkL+CfgD6rqf8bdr6r2VNVcVc3NzMysZUZJ0hjGCnqSN7EY8zuq6ovD6u8luWB4/gLguemMKEkax7ZRGyQJcDtwuKr+bMlT9wA7gVuGt3dPZcLB7O7903z3KzpyyzWbclxJWq2RQQfeB3wIeDjJQ8O6T7IY8ruS3AQ8BXxgOiNKksYxMuhV9a9AVnj66smOI0laK18pKklNGHRJasKgS1ITBl2SmjDoktSEQZekJgy6JDVh0CWpCYMuSU0YdElqwqBLUhMGXZKaMOiS1IRBl6QmDLokNWHQJakJgy5JTRh0SWrCoEtSEwZdkpow6JLUhEGXpCYMuiQ1YdAlqQmDLklNGHRJasKgS1ITBl2SmjDoktSEQZekJgy6JDVh0CWpCYMuSU0YdElqwqBLUhMGXZKaMOiS1IRBl6Qm1hX0JL+e5JtJnkiye1JDSZJWb81BT3Ia8Fng/cBlwG8luWxSg0mSVmc9V+hXAE9U1ZNV9UPgC8B1kxlLkrRa6wn6RcDTS5aPDuskSZtg2zr2zTLr6g0bJbuAXcPii0m+ucbjbQeeX+O+a5ZbN/qIp5SJnxM/3hMx1nnxY71xcuu6P1d+cpyN1hP0o8AlS5YvBp55/UZVtQfYs47jAJBkvqrm1vt+NDmek5OT5+Xks1HnZD23XB4EdiS5NMnpwI3APZMZS5K0Wmu+Qq+q40l+D/gX4DTg81X16MQmkyStynpuuVBVXwW+OqFZRln3bRtNnOfk5OR5OflsyDlJ1Ru+jylJOgX50n9JauKkDHqSV5I8tOTP7DLbXJhk38ZPt/Uk+ZMkjyb5t+F8/PwJtv1wkgs3cr6tZjXnQ9OT5Lwljfpuku8Mj48leWwzZlrXPfQpeqmqLl/pySTbquoZ4IYNnGlLSnIlcC3w7qp6Ocl24PQT7PJh4BGW+RFWrd8azoempKr+E7gcIMmngBer6rbhAvQra32/Q9+Or2Xfk/IKfTnDld8/JvkycG+S2SSPbPZcW8AFwPNV9TJAVT1fVc8k+dMkDyZ5JMmeLLoBmAPuGK5UztjUyXta6XwcGeJOkrkkB4bHn0ry+SQHkjyZ5CObN/qWclqSvx2+krr31c+F4TzMDY+3JzkyPP6Rvq31oCdr0M9Y8qXMl5asvxLYWVVXbdZgW9C9wCVJ/iPJXyX55WH9X1bVz1XVO4EzgGurah8wD3ywqi6vqpc2a+jGVjofJ/J24NdY/P1LNyd501QnFMAO4LNV9dPAMeA3x9hn3X071W653FdV/7Xh02xhVfVikvcAvwj8CnDn8KuSX0jyceBM4FzgUeDLmzfp1nCC83Ei+4cr+peTPAecz+IrvTU936qqh4bHh4DZMfZZd99O1qCv5AebPcBWVFWvAAeAA0keBn4H+BlgrqqeHu4fvnnzJtxaljkfO4HjvPYV9+vPxctLHr/Cqfd5fyp6/cf81duPJzpP6+7byXrLRSeJJG9LsmPJqsuBV3/B2vNJzuJHvzn9AvDjGzXfVrPC+fg2cAR4z7BunC/vtTmO8Np5mvgPdfgvtUY5C/iLJGezeHXxBIu/PfMY8DCLf0EfXLL93wN/k+Ql4Ervo0/cSufjHcDtST4JHNzE+XRitwF3JfkQ8LVJv3NfKSpJTXjLRZKaMOiS1IRBl6QmDLokNWHQJakJgy5JTRh0SWrCoEtSE/8PvWePmvWF6VUAAAAASUVORK5CYII=\n",
      "text/plain": [
       "<matplotlib.figure.Figure at 0x10f2a6dd8>"
      ]
     },
     "metadata": {},
     "output_type": "display_data"
    }
   ],
   "source": [
    "plt.hist(tips.day)"
   ]
>>>>>>> upstream/master
  },
  {
   "cell_type": "markdown",
   "metadata": {},
   "source": [
    "**PROBLEM**: Investigate the data set provided below.  Can you provide some basic insight into the data, what's there and what's not, and how these things are distributed?"
   ]
  },
  {
   "cell_type": "code",
<<<<<<< HEAD
   "execution_count": 24,
   "metadata": {
    "collapsed": true
   },
=======
   "execution_count": 13,
   "metadata": {},
>>>>>>> upstream/master
   "outputs": [],
   "source": [
    "titanic = sns.load_dataset('titanic')"
   ]
  },
  {
   "cell_type": "code",
<<<<<<< HEAD
   "execution_count": 27,
=======
   "execution_count": 14,
>>>>>>> upstream/master
   "metadata": {},
   "outputs": [
    {
     "name": "stdout",
     "output_type": "stream",
     "text": [
      "<class 'pandas.core.frame.DataFrame'>\n",
      "RangeIndex: 891 entries, 0 to 890\n",
      "Data columns (total 15 columns):\n",
      "survived       891 non-null int64\n",
      "pclass         891 non-null int64\n",
      "sex            891 non-null object\n",
      "age            714 non-null float64\n",
      "sibsp          891 non-null int64\n",
      "parch          891 non-null int64\n",
      "fare           891 non-null float64\n",
      "embarked       889 non-null object\n",
      "class          891 non-null category\n",
      "who            891 non-null object\n",
      "adult_male     891 non-null bool\n",
      "deck           203 non-null category\n",
      "embark_town    889 non-null object\n",
      "alive          891 non-null object\n",
      "alone          891 non-null bool\n",
      "dtypes: bool(2), category(2), float64(2), int64(4), object(5)\n",
      "memory usage: 80.6+ KB\n"
     ]
    }
   ],
   "source": [
    "titanic.info()"
   ]
  },
  {
   "cell_type": "code",
<<<<<<< HEAD
   "execution_count": 28,
=======
   "execution_count": 16,
>>>>>>> upstream/master
   "metadata": {},
   "outputs": [
    {
     "data": {
      "text/plain": [
       "<Container object of 891 artists>"
      ]
     },
<<<<<<< HEAD
     "execution_count": 28,
=======
     "execution_count": 16,
>>>>>>> upstream/master
     "metadata": {},
     "output_type": "execute_result"
    },
    {
     "data": {
<<<<<<< HEAD
      "image/png": "iVBORw0KGgoAAAANSUhEUgAAAXcAAAD8CAYAAACMwORRAAAABHNCSVQICAgIfAhkiAAAAAlwSFlz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\n",
      "text/plain": [
       "<matplotlib.figure.Figure at 0x1a10dea310>"
=======
      "image/png": "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\n",
      "text/plain": [
       "<matplotlib.figure.Figure at 0x1107d7b38>"
>>>>>>> upstream/master
      ]
     },
     "metadata": {},
     "output_type": "display_data"
    }
   ],
   "source": [
    "plt.bar(titanic['class'], titanic.survived)"
   ]
<<<<<<< HEAD
  },
  {
   "cell_type": "code",
   "execution_count": null,
   "metadata": {
    "collapsed": true
   },
   "outputs": [],
   "source": []
=======
>>>>>>> upstream/master
  },
  {
   "cell_type": "code",
   "execution_count": null,
   "metadata": {
    "collapsed": true
   },
   "outputs": [],
   "source": []
  },
  {
   "cell_type": "code",
   "execution_count": null,
   "metadata": {
    "collapsed": true
   },
   "outputs": [],
   "source": []
  },
  {
   "cell_type": "code",
   "execution_count": null,
   "metadata": {
    "collapsed": true
   },
   "outputs": [],
   "source": []
  },
  {
   "cell_type": "code",
   "execution_count": null,
   "metadata": {
    "collapsed": true
   },
   "outputs": [],
   "source": []
  },
  {
   "cell_type": "code",
   "execution_count": null,
   "metadata": {
    "collapsed": true
   },
   "outputs": [],
   "source": []
  },
  {
   "cell_type": "code",
   "execution_count": null,
   "metadata": {
    "collapsed": true
   },
   "outputs": [],
   "source": []
  },
  {
   "cell_type": "code",
   "execution_count": null,
   "metadata": {
    "collapsed": true
   },
   "outputs": [],
   "source": []
  },
  {
   "cell_type": "code",
   "execution_count": null,
   "metadata": {
    "collapsed": true
   },
   "outputs": [],
   "source": []
  },
  {
   "cell_type": "markdown",
   "metadata": {},
   "source": [
    "### Quantities and Categories\n",
    "\n",
    "\n",
    "It is often helpful to understand how the data is distributed across categorical classes.  For example, in our tips data, we can explore if the tip distribution varies by smoker, gender, or day of the week.  To do so, we will use a variety of plots from seaborn.  We want to make a statement about what these visualizations are telling us in each plot to gain insight into larger patterns in the dataset."
   ]
  },
  {
   "cell_type": "code",
   "execution_count": 29,
   "metadata": {},
   "outputs": [
    {
     "data": {
      "text/plain": [
       "<matplotlib.axes._subplots.AxesSubplot at 0x1a10fd9f50>"
      ]
     },
     "execution_count": 29,
     "metadata": {},
     "output_type": "execute_result"
    },
    {
     "data": {
      "image/png": "iVBORw0KGgoAAAANSUhEUgAAAYMAAAEKCAYAAADw2zkCAAAABHNCSVQICAgIfAhkiAAAAAlwSFlz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\n",
      "text/plain": [
       "<matplotlib.figure.Figure at 0x1a0888b210>"
      ]
     },
     "metadata": {},
     "output_type": "display_data"
    }
   ],
   "source": [
    "sns.stripplot('smoker', 'total_bill', data = tips)"
   ]
  },
  {
   "cell_type": "code",
   "execution_count": 32,
   "metadata": {},
   "outputs": [
    {
     "data": {
      "text/plain": [
       "<matplotlib.axes._subplots.AxesSubplot at 0x1a11b2bc90>"
      ]
     },
     "execution_count": 32,
     "metadata": {},
     "output_type": "execute_result"
    },
    {
     "data": {
      "image/png": "iVBORw0KGgoAAAANSUhEUgAAAYMAAAEKCAYAAADw2zkCAAAABHNCSVQICAgIfAhkiAAAAAlwSFlz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\nYqCUUgr4//8RPcI19bOgAAAAAElFTkSuQmCC\n",
      "text/plain": [
       "<matplotlib.figure.Figure at 0x1a11b0cad0>"
      ]
     },
     "metadata": {},
     "output_type": "display_data"
    }
   ],
   "source": [
    "sns.stripplot('day', 'total_bill', data = tips)"
   ]
  },
  {
   "cell_type": "code",
   "execution_count": 33,
   "metadata": {},
   "outputs": [
    {
     "data": {
      "text/plain": [
       "<matplotlib.axes._subplots.AxesSubplot at 0x1a11bf41d0>"
      ]
     },
     "execution_count": 33,
     "metadata": {},
     "output_type": "execute_result"
    },
    {
     "data": {
      "image/png": "iVBORw0KGgoAAAANSUhEUgAAAYMAAAEKCAYAAADw2zkCAAAABHNCSVQICAgIfAhkiAAAAAlwSFlz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\nAAAASUVORK5CYII=\n",
      "text/plain": [
       "<matplotlib.figure.Figure at 0x1a115fc850>"
      ]
     },
     "metadata": {},
     "output_type": "display_data"
    }
   ],
   "source": [
    "sns.stripplot('day', 'total_bill', data = tips, jitter = True)"
   ]
  },
  {
   "cell_type": "code",
   "execution_count": 34,
   "metadata": {},
   "outputs": [
    {
     "data": {
      "text/plain": [
       "<matplotlib.axes._subplots.AxesSubplot at 0x1a11ca0310>"
      ]
     },
     "execution_count": 34,
     "metadata": {},
     "output_type": "execute_result"
    },
    {
     "data": {
      "image/png": "iVBORw0KGgoAAAANSUhEUgAAAYMAAAEKCAYAAADw2zkCAAAABHNCSVQICAgIfAhkiAAAAAlwSFlz\nAAALEgAACxIB0t1+/AAAADl0RVh0U29mdHdhcmUAbWF0cGxvdGxpYiB2ZXJzaW9uIDIuMS4wLCBo\ndHRwOi8vbWF0cGxvdGxpYi5vcmcvpW3flQAAIABJREFUeJzsnXdYVMfawH+z9N6roICgqIAVey+J\nGmNiEpOYemNML6aYflO+3PSbXm6iSW70ppnYUixJ1Ii9YgFsdAGlI70tu+f74+DCClGiwO7i/J6H\nB2Z25px3F5j3zDtvEYqiIJFIJJJLG42pBZBIJBKJ6ZHKQCKRSCRSGUgkEolEKgOJRCKRIJWBRCKR\nSJDKQCKRSCRIZSCRSCQSpDKQSCQSCVIZSCQSiQSwNrUAbcXb21sJCQkxtRgSiURiUcTHxxcpiuJz\nvnEWowxCQkLYt2+fqcWQSCQSi0IIcaIt46SZSCKRSCRSGUgkEolEKgOJRCKRYEFnBhLJGbRaLTk5\nOdTW1ppaFLPD3t6eoKAgbGxsTC2KxMKQykBiceTk5ODi4kJISAhCCFOLYzYoikJxcTE5OTmEhoaa\nWhyJhSHNRBKLo7a2Fi8vL6kIzkIIgZeXl9wxSS4IqQwkFolUBK0jPxfJhSLNRBJJF0evV9h34jQa\nAYN7eEiFIWkVqQwkki5MTb2Om77YxYGsUgCGhnry9Z1DsbO2MrFkEnNDmokkki7MzwdPGhQBwJ6M\nEn5LyjOhRBJzpcOVgRAiUwiRKIQ4KITY19jnKYRYL4RIafzu0dFySCQXSlVVFVdccQX9+/cnKiqK\nH374gfj4eMaNG8fgwYO5/PLLyc3NpaGhgdjYWOLi4gB45plneO6550wqe3FVfYu+osqWfRJJZ+0M\nJiiKMkBRlCGN7aeBjYqiRAAbG9sSiVny22+/ERgYyKFDh0hKSmLq1Kk89NBDLF++nPj4eObOnctz\nzz2HtbU1ixcv5r777mP9+vX89ttvvPjiiyaV/YroAOxtmv7NnWytmBblb0KJJOaKqc4MrgLGN/68\nBIgDnjKRLBLJOYmOjmbBggU89dRTzJgxAw8PD5KSkpgyZQoAOp2OgIAAAPr168ett97KlVdeyc6d\nO7G1tTWl6IR4O7H83pF8vfMEGg3cPjKEQHcHk8okMU86QxkowB9CCAVYqCjKIsBPUZRcAEVRcoUQ\nvq1NFELcDdwN0L17904QVSJpSa9evYiPj2ft2rU888wzTJkyhX79+rFz585WxycmJuLu7k5+fn4n\nS9o6Ud3cePO6GFOLITFzOsNMNEpRlEHANOABIcTYtk5UFGWRoihDFEUZ4uNz3nTcEkmHcOrUKRwd\nHbnllltYsGABu3fvprCw0KAMtFothw8fBmDlypUUFxezZcsWHn74YUpLS891aYnEbOjwnYGiKKca\nvxcIIVYBQ4F8IURA464gACjoaDkkkgslMTGRJ554Ao1Gg42NDZ9++inW1tY8/PDDlJWV0dDQwCOP\nPIKfnx9PP/00GzduJDg4mAcffJD58+ezZMkSU78FieS8CEVROu7iQjgBGkVRKhp/Xg+8DEwCihVF\neUMI8TTgqSjKk+e61pAhQxRZ3EYCcPToUfr06WNqMcwW+flImiOEiG/mvPOXdPTOwA9Y1RjxaA18\npyjKb0KIvcCPQog7gSxgdgfLIZFcEiiKQn2DnryyWvzd7E0tjsSC6FBloChKOtC/lf5i1N2BRCJp\nJ+obdKQXVVFQUcc1b/7JY1N68cCEcD7ZlMqiLeloBNw/Ppy7xoaZWlSLZltKERuO5hPi5ciNQ7tj\nb9M1orllOgqJpItQUF5HfYMeAJ1e4d31yQR7OPDv348bxry69igDursTG+JpKjEtmp8PnmT+0oOG\n9ubkQr66Y6gJJWo/ZDoKiaSLUK/TG7V1eoUdacUtxsWfON1ZInU5vtllXFt+0/FCck5Xm0ia9kUq\nA4mki+DuaFzdLNTbiWnRLaONh/SQ2V8uFEdbY2OKlUZ0GTORVAYSSRfB08mOIA9H7G003DSsO9/M\nG8a4Xr48NTUSD0cbvJxseX5GX4ZIE9EF8+DEcKP0HrePCMHb2c6EErUfHepa2p5I11LJGczBdVII\nwS233MLXX38NQENDAwEBAQwbNozVq1f/5by4uDjefvvtc465WMzh8+nK5JfXsiW5kDAfJwb3MH/F\nai6upRKJSdHrFX45dIovt2WQW1ZDgJsDd44OZWb/QDSaCy/y4uTkRFJSEjU1NTg4OLB+/Xq6devW\njpJLzBU/V3tmDwk2tRjtjjQTSboser3Cvd/E8+yqRBJPllFUWU/iyTKeWZnIvd/Eo9df3K542rRp\nrFmzBoDvv/+eOXPmGF7bs2cPI0eOZODAgYwcOZLjx4+3mF9VVcXcuXOJjY1l4MCB/Pzzzxclj0Ry\nMUhlIOmy/HLoFNtSi6iu1xn112h1bE0p4teEUxd1/RtvvJGlS5dSW1tLQkICw4YNM7wWGRnJli1b\nOHDgAC+//DLPPvtsi/mvvvoqEydOZO/evWzatIknnniCqqqqi5JJIrlQpJlI0mX5cltGC0Vwhhqt\nji+2ZnDVgAs37cTExJCZmcn333/P9OnTjV4rKyvj9ttvJyUlBSEEWq22xfw//viDX375hbfffhuA\n2tpasrKypL1fYhKkMpB0WXLLai7q9bYwc+ZMFixYQFxcHMXFTT79zz//PBMmTGDVqlVkZmYyfvz4\nFnMVRWHFihX07t37ouWQSC4WaSaSdFkC3M5dxOV8r7eFuXPn8sILLxAdHW3UX1ZWZjhQXrx4catz\nL7/8cj766CPOePQdOHDgouWRdA7ZJdXUalvfdVoqUhlIuix3jg7F4S8CghxsrJg3JvSi7xEUFMT8\n+fNb9D/55JM888wzjBo1Cp2u9UXj+eefR6vVEhMTQ1RUFM8///xFyyPpWE6V1jDtg62MeWsTsa9u\n4OeDJ00tUrsh4wwkFkdb/ejPeBNtTSmiptlTnIONFWMivPnslsEX5V5qrsg4g47jsR8OsvJAkwJw\ntrNm97OTcLIzX4u7jDOQXPJoNILPbhnMrwmn+GJrU5zBvDGhXBlzcXEGkkuTlIJKo3ZlXQO5ZbWE\n+zqbSKL2QyoDSZdGoxFcNaDbRXkNSSRnmBjpS+LJMkM71NuJMG8nE0rUfkhlIJF0dQ4thR0fgxAw\n+hGIutbUElksD00MR68orD+ST6i3E09OjewyO0ypDCSSrkz2Hlh1T1N7+Z3gFQEBMaaTyYKxttLw\n+GW9efyyrucOLL2JJJKuTNqfZ3UokL7JJKJIzBupDCSSroxv31b6+nW+HBKzRyqD9qS+a1Q8kpwf\nKysrBgwYYPjKzMzssHstXryYBx988MImR86A2HmgsQYrWxjxIERMbl8BJV0CeWbQHpRmqbbYnD2q\nPXbWQggabGqpJAB6PSQth52fQPlJcO0GIx6AqOtAc+HPQg4ODhw8ePD8A02NRgNXvAOTXlQPkO1c\nTC2RxEyRO4P2YO2TqiIAKE6BlfPAQoL5ujR6PfxwC/w6H3IPQlWh+v3X+fDjrerr7YhOp+OJJ54g\nNjaWmJgYFi5cCKgFbcaNG8f1119Pr169ePrpp/n2228ZOnQo0dHRpKWlAfDrr78ybNgwBg4cyOTJ\nk8nPz29xj8LCQq699lpiY2OJjY1l+/btbRPO3lUqAsk5kcqgPTh1Vk6ZknSoLWt9rKTzSFquHpZq\nzzLfaavVg9WkFRd86ZqaGoOJaNasWQB8+eWXuLm5sXfvXvbu3cvnn39ORkYGAIcOHeKDDz4gMTGR\nr7/+muTkZPbs2cO8efP46KOPABg9ejS7du3iwIED3Hjjjbz11lst7jt//nweffRR9u7dy4oVK5g3\nb94FvweJpDnSTNQehI6BxGVNbf8YcHA3nTwSlZ2ftFQEZ9BWw86PIWb2BV26NTPRH3/8QUJCAsuX\nLwfUZHUpKSnY2toSGxtLQEAAAD179uSyyy4DIDo6mk2bVO+enJwcbrjhBnJzc6mvryc0tGXupA0b\nNnDkyBFDu7y8nIqKClxc5FO/5OKQyqA9mPYW6HWQHqf6b1/xrqklkoB6RnAxr/9NFEXho48+4vLL\nLzfqj4uLw86uqWi6RqMxtDUaDQ0NDQA89NBDPPbYY8ycOZO4uDheeumlFvfQ6/Xs3LkTB4eLz7gq\nkTRHmonaA0dPmP0VPJUBt/0MXj1NLZEE1MPii3n9b3L55Zfz6aefGgrZJCcn/63KZc3TXi9ZsqTV\nMZdddhkff/yxoW0Rh9gSi0AqA0nXZcQDYOPY+ms2jqqbZTsyb948+vbty6BBg4iKiuKee+4xPPW3\nhZdeeonZs2czZswYvL29Wx3z4Ycfsm/fPmJiYujbty+fffZZe4kvucSRKazbier6BhJyyujl54Kn\nk62pxenStDlF8xlvorMPkW0coedEuP7ri3IvNVdkCmtJc2QK605kX2YJcxfvpby2AVtrDW9dG8PV\nA2WWTJOj0cAN36heQzs/bhZn8KCarK0LKgKJ5EKRyqAdeG3tUcprVXNAfYOef60+woyYAKyt5GJj\ncjQa1WPoAr2GJJJLBakM2oG8slqjdkl1PbUNepylMugwFEVBiK6ROrg9sRSzryWzJiGX9UfyCPV2\n5o7RIbja25hapHahU1YrIYSVEOKAEGJ1YztUCLFbCJEihPhBCGHRRvYrBwQatSdF+uJsxmXwLIG6\nBh0FFbWtvmZvb09xcbFc+M5CURSKi4uxt7c3tShdlu/3ZPHAd/v56eAp3tuQzLwl5nuO+XfprBVr\nPnAUcG1svwm8pyjKUiHEZ8CdwKedJEu788RlvfF2smNbahH9Al25f0K4qUWyaH46cJIXfzlMWY2W\nIT08+OzWwXg7N/npBwUFkZOTQ2FhoQmlNE/s7e0JCgoytRhdlmX7so3aezJKyCquprvXX3itWRAd\nrgyEEEHAFcCrwGNC3dtPBG5qHLIEeAkLVgbWVhruGhvGXWPDTC2KxVNWo+XplQnUatW8QftOnOb9\nDcm8cnW0YYyNjU2r0bkSSUdztqegjZXAxb5rWAE6w0z0PvAkcCYrmBdQqijKGQfsHEC63kgAyCqu\nNiiCMyTnVf7FaElbqdXqqNXqTC2GxTN/Ui9cmy3+948Px6OLuJJ3qEoTQswAChRFiRdCjD/T3crQ\nVo2/Qoi7gbsBunfv3iEySsyLyAAX/F3tyStvOi8Y19vHhBJZNoqi8Oqao/xv1wk0AuaOCuXJqZGm\nFstiiQ5yY9vTE9mdXkKotyPhvl0nJ1RH7wxGATOFEJnAUlTz0PuAuxDijCIKAk61NllRlEWKogxR\nFGWIj49cEC4FbKw0fHVHLON6+RDm48SDE8K5R5rfLpgNRwv4YlsG9Q16arV6/hOXxtYUedZyMbja\n2zClr1+XUgTQwTsDRVGeAZ4BaNwZLFAU5WYhxDLgOlQFcTvwc0fKIbEs+gS4smTuUFOLYbHUNeg4\nkFVKN3cHkk62TKV++FQ5YyLkw5XEGFOdfDwFLBVCvAIcAL40kRwSSZcivbCSmz7fTV55LULA7MHB\nRq8LAaN6tp73SHJp02nKQFGUOCCu8ed0QD76SSTtzEd/phrOWxQFVuzP4dnpkSzdm41GCO4b15Po\nIDcTSykxR7qGT5REIgFaRsPr9Aojwrzo5eeCRghGhctdwcWyLaWoMQLZiRuHdsfexsrUIrULUhlI\nJF2IWQO7sTO92NDu5efMk8sTOJpXAUD/YHd+uHt4l1nAOpufD55k/tKmGhKbkwv56o6uYeSQykAi\n6UJcHxuMjbVgTUIe3T0d8XW15Y11xw2vH8ouZW1iLtcMklHKF8I3u04YtTcdLyTndDVBHjICWSKR\nmBmzBgYxa6C62P8nLrXF62U12s4WqcvgaGu8ZFppRJfZZcm0mhJJF+bKmECcbJsWK1d7a6ZHB5hQ\nIsvmwYnh2Ns0LZu3jwgxyptlychKZxJJFyclv4Jvd2ehEYJbhncnzMfZ1CJZNAXltWxJKSLU24nB\nPTxMLc55aWulM6kMJBKJpAvTVmUgzUQSiUQikcpAIpFIJNKbSCLp+lQVQeJyEBqIvg4cPU0tkcQM\nkcpAIunKVBbCwjFQkau2d3wE924FB3fTyiUxO6SZSCLpyiT+2KQIAMqy4PBK08lj7hSnQWWBqaUw\nCXJnIJF0aVqrJdVa3yVOXSV8fyNkbgVhBcPvg8tfNbVUnYrcGVwIlYWw779w+CfQyWhOiRkTcz24\nNqsq694D+s0ynTzmyt4vVEUAoOhg58dw6kDb52tr4OhqyNiipou1QOTO4O9SnAafT4TaUrXdYzT8\nY7WaKF4iMTecvOHebZC0Qv0bjbpOnhe0Rkl6i666/BT+c9iJpJNljOjpxR2jQrHSCDYcyWf9kXxC\nfZy4dXgPnOqL4IspqgkOIHwy3Lzc4tYEqQz+LnsWNSkCgBPbIHMb5QHDOZBVSqS/C36u9qaTTyI5\nG0dPGHqXqaUwb/pcCfuXNLVtXXguwZvlR1MA2HisgMLKOiJ8XViw7JBh2LaUIr4JW9+kCABSN6g7\nhLBxnSV9uyCVwd9FV9+i60hOMbO/2khVvQ5rjeC1a6K5fkhwK5MlEolZEjEFrvkc4heDvRu1Ix5l\n5ULjWtE/HTjZIjvpttQiKjyLaVENufkDo4Ugzwz+LoPvAOtmT/6+/XjukCdV9ToAGvQKr609SoNO\nbyIBJRLJBRFzPdyxFuZ8j033WDwcbY1e9ne1x83BxqjPWiPQxcwBTbN+1yAIn9IZErcrcmfwdwmI\nUW2wicvAwRMG3ETB+8Y5k8pqtNQ16LG2krpWIrFErDSCf87ow1PLE6nX6XG2s+bpaX2wt9GwO73Y\n8PB319gw3MMj4c4/4OB3YO8KsXeBreXVN5CJ6tqBt38/zsebmvLGT+3nz2e3DjahRBKJpD0orKgj\nOb+CmCA3XOzVp//TVfVsT1OzlvYLNP960m1NVCd3Bu3AY1N64etqx7aUIvoFunH32DBTiySRSNoB\nHxc7fFyM6xV4ONkyIybQRBJ1HFIZtAMajeC2ESHcNiLE1KJIJC3Q6xV2ZRSjEYJhoZ4IC3N5NBdq\n6nV8tyeL9MJKpvT1Y3xvX1OL1K5IZdAO6PQKS3Zksj21iH6BrtwzridOdvKjlZie6voG5izaxaGc\nMgCG9PDg27uGYWfdNUo1dib3fhPP5mTVw+jb3Vm8e33/LlVLWp5wtgPv/HGcl1cfYeOxAj78M5VH\nfjhoapEkEgB+OXjKoAgA9p04zbrEPBNKZJnknK42KIIzfLtbjS3ILavh/Q3JvPPHcbJLqk0hXrsg\nH1/bgZ8OnDRqbziaT2VdA85ydyAxMcVVLeNiWuuTnBsHGyusNYIGfZPDjbOdNSVV9Vz50XaKKusA\nWLIjk98eGUugu4OpRL1g5M6gHfBzM4449nC0xd5afrQS0zMjJgAHmyaTkLOdNdOj/U0okWWRXVLN\nmoRctDqFuaNDDf0ONlY8NDGcNYm5BkUAUF7bwE8HT7Z2KbNHPrq2A89M68Odi/dSUdeAjZXguel9\nZIyBxCzo4eXEivtG8s3uE2gE3DYihAA3y3tqNQU/7svm6RUJ6BWwsRJ8NGcgq+4byeIdmWSdrmbZ\nvhwi/JxbzHO0sczzGBln0E5U1jWQkF1KhJ9LC1c0iURiWSiKQuyrGyiqbDKphfk4cf2QYN5Yd8zQ\n18vPGY0QHMurACDEy5GfHxiNm6NNi2uaChln0Mk421kzMtzb1GJIJEYs2pLGZ5vVjJz3jgvj7rE9\nTSyRZaBXoLymwaivtFrLusRco77k/Ep+mz+G9KIqGvQKU/r44WBrmTsDacuQSLooO9KKeG3tMUqq\n6impque1tcfYmVZsarEsAiuN4NrBxm6jN8QGE+xpnGbC3kZDoIcD06MDmNk/0GIVAZxnZyCE+BX4\nSzuSoigz210iiUTSLuw/cbpFX/yJEkb09DKBNJbHv67qR58AFw5mlzI81IvrBgdxoqSaQzmlZJfU\nYGut4fkZfXG1Nx+T0MVwPjPR250ihUQiaXcGdfdo2dejZZ+kdaytNI2ZBZr6Qr2diFswgaO55QR5\nOODemNl0a0ohx/MqGBPhQ29/FxRF4bs9WcQdL6S3nwv3jAsz5DYyV86pDBRF2XwxFxdC2ANbALvG\ney1XFOVFIUQosBTwBPYDtyqKIp2fJZJ2ZGS4N09Pi2Th5jQU4K4xYYzs2XiupSiQvgkq8iDicnCS\nu4W2YqURRHVrSlD3r9VH+HJbBgAacZT/3DyItMIq/v37cQDWH8kn4WQZ/5s71CTytpXzmYkSObeZ\nKOY8168DJiqKUimEsAG2CSHWAY8B7ymKslQI8RlwJ/Dp3xPdDNHrQGO5NkNJ1+OesWEUVtTx9c4T\nfLgxhcq6Bp6aGgnLbocjP6uD7N1g7u/g28e0wpoZiqKwJjGXxJwyhvf0YsKZXES6Bsg7BO49qLBy\n4387Mw1z9Ap8GpdGZZ3x4fOW5EKKK+vwcjZfT8PzmYlmXMzFFdVvtbKxadP4pQATgZsa+5cAL2HJ\nyqDsJKy6Ry2o7RcFV30CgQNMLZVEwvoj+YanVlAXqsmehQw+owgAastgx8dw9ScmkNB8+dfqo/x3\nu/rZLdySzj+v6MO8Pjr4+hq1zKWVLfoJr6NXjDOYanUKvi72pBVWGfqc7azNPl/ZOb2JFEU5ca6v\nttxACGElhDgIFADrgTSgVFGUM6ozB+h2MW/C5Kx7UlUEAPlJsGKeaeWRSBo5fKq8RV9WXmHLgdqq\nln2XMPUNer7dbbzEfbU9E/58panesa4et7h/MnuAcfbSeWNCeWJqb1zt1cXfSiN4alok9mYejHY+\nM9E2RVFGCyEqUJ/oRfPviqK4nu8GiqLogAFCCHdgFdDaXrRVU5QQ4m7gboDu3buf71amI2evcbs4\nBWpKwcHdNPJIJI2MjvDmg40phrYQEDFoIuQOgNzGhIrCCobMNZGE5olGgI2VhrqGpvK1dtYaKM0y\nHthQw2sT3BgdGcjxvArG9fJhSIgnADuemcSBrNOE+zpbRNT3+Q6QRzd+b1Hv+e+iKEqpECIOGA64\nCyGsG3cHQcCpv5izCFgEagTyxcrQYfQYCYdXNbV9+0lFcBGUVWv57/YMsk9XMz0qgMl9/UwtkkWg\nKAofbExh5f6T+LjY8eTlvRkW5sWb10azaEs6GiG4b3xPooLc4fZfYf8S9QA56hroJivzNcfaSsN9\n43saDoGFgIcmhUP1LDi1v2mgfzQanwhm+MCMs05Qne2sGRPh04lSXxxtTkchhBgEjEZ9it+mKMqB\nNszxAbSNisAB+AN4E7gdWNHsADlBUZT/nOtaZp2OoqoIfp0P6XHgHwNXfgA+vUwtlcVy1SfbOZRd\namh/cOMArhpg2ZbEzuCbXSf4509JhraznTU7npnYZfzgTcH+rNPqAXKYF739XVQvrN0L4fga8AqH\nsU+Ca4CpxTwn7ZqOQgjxAjAbWNnYtVgIsUxRlFfOMzUAWCKEsEI9n/hRUZTVQogjwFIhxCvAAeDL\ntshhtjh5Ez/iI7b7FNMv0JVJPvJJ9kI5nldhpAhATRgmlcH52ZZSZNSurGtg/4nTXa4iV2cyqLuH\nUbxGtVbHC9kjWJ8ZRmilE/9X5kD/8xrLLYO2Hm/PAQYqilILIIR4AzU+4JzKQFGUBGBgK/3pgHk7\n3f4NftybzZMrEgztu8eG8ex06aZ3Ibg52KARqoveGTwaA3sk56ZPgCu/HW4qXGOlEXg42vD74TwG\nBrvj69os1Xp1CST/Do5eED5JukS3kXf/SGZ5fA4AB7NLufvrfWx/amKXyFLc1neQCTRP2m+H6hUk\nARZuMf4oFu/IpFarM5E0lo2/mz3zxoQZ2u6ONjwwIdyEElkOd40NZUpfP4QAV3trrhsUxDWf7uSe\nr+MZ/eYmfj+jKErS4eMh8NO98N1s+Ha2aQW3IHZlGOd2yi+vI7O4a3hinc+b6CPUM4I64LAQYn1j\newqwrePFs0xkufGL49npfZg1sBvZJdWMDPeWFePaiKOtNZ/fNoTyWi321laMfvNPdI1brHqdnjfX\nHePyfv6wexFUN1vU0jZC1i7oPtxEklsOMUHuJJ1sctf1cLQhyMPxHDMsh/P9l505sY1HdQs9Q1yH\nSGOh3Dc+nAXLDhnad4wKNXufYnOnT4ArfQK6iDG2k3G1t0FRFEqrtUb9hnKXrcUU1HeNp9uO5snL\ne5NbWkNcciFBHg68Piumy/yvn8+1dElbLiKEWKEoyrXtI5J5oygKm5MLSc6vYGwvHyL9XblucBAR\nvs5sTyuiX6Ab43pZjjuZOZJVXM17G5LJKqlmWpQ/d44ORQi53/o7CKGmYP5+T5Nf/OwYLzi0FLoN\nUb/rGpWDd28IHWciSS0Ld0dbvrpjKPUNemy7WGnb9tp/h51/SNfg/349wuIdmQC8se4Y/7l5EFMj\nXOif8C/6p8dBUX/wfwVcA895HUnr6PQKt/53NyeKqwGIP3EaK43gjlGh55kpoeY02DqDlepK+vJV\n/YjwdeZgdimx7pXctP8qOKRW5KLfLHALVg+QB90GVtIU11Zq6nWcLK0h1NsJK03XeUhpr78A8w0I\na0fKarR8s6spRF2vwKeb05mavhT2/0/tLE6Fshy48w8TSWnZHM0tNyiCM6xLypPK4FxUl8DyO9Q4\nF0dvmP5viLoGGytNUxH3pTeDtqJpzuGf4NHD4CZddv8OfxzOY8GyQ5TXNhDs6cCXt8fSy++iY3LN\ngq61z+lgFEVpofX0egWSz1r4s3eryb8kf5tAdwdsz3LTC/HqGgd0HUbcG6oiAKgugp8fUP/+6qsh\ncxtUFkBdxVmTFNBWc6K4iusX7iT82bXcsHAn2SXVZ19d0kiDTs+zqxIpr1XTqmWX1PDKmqMmlqr9\naC9l0HX2SufA3dGW2c1K4QmhJqVqkfrXLRhsu8bTQmfj6WTLc1f0MdhjI3ydmT9ZRnOfk/wk47a2\nGo6ugff6wuIr4N2+arRsc0LGgHcETyxLYE9GCQ16hd0ZJTyx/BCS1imvbaCo0rjsSkZR5V+Mtjza\ny0z0VDtdx+x5bVY0YyJ8SM6vYHxvHwZ294Bub6rb8OIUcPaDqz4Gjdx0XSi3jwzhqgGBFFTUEeHr\nLA+Pz0fYBDixvant5AsHv1Hb0zbUAAAgAElEQVTPEAD0WkhcDreshOPrqHHpTmmfmwgA4rOMS2PG\nt1IqU6Li6WTL4B4eRp/RlD7+JpSofTlnbqJzFLc5k7X0fMVt2g2zzk0Eas6S8pOqMrCSuWAknYhO\nCxtfVs8BPHrAZf+C5XdCyVlxoU+k88me03ywMYX6Bj2jwr2oqdexP6sp/cfwME+W3j0CSesUlNfy\n1u/HOZZbxliP08yPqsOu73Swcza1aH9JW3MTnU8Z9DjX5LbWNGgPzF4ZSCTmxKbXYfMbTe2eE0mf\n+jWT3t1M83/5O0aGcPhUOfuzTjO4hwdvz+5PsKc8ozkn9VXwxRQoOKy2PULgrk3g6HnOaakFFby7\nPplTpbXMiAnoNJfpdklU15mLvUQiuQj0eoj/Si2yFDgQRj8CDh5ok9eToelByaAHqSis5Oxnv+Kq\nen68V+4E/hZHfmlSBACnM9W4jRH3G7pSCyr5fEs6FXVabojtzogwL275Yg955bWAmtfIzsaKW4ef\n83m7U2lr1tLhwEeohWlsASugqi3FbSQSSSfw58uw7T3158OrIP8waWPe5do/wtRI5KSjTO7ji4u9\nNRW1TfV5J/WRGU3PSVEqJC0HBw/oPwfsXaGhpuW4Zn3ltVpmf7aD040R4OuS8vjXzCiDIjjDH4fz\nLE8ZAB8DNwLLgCHAbcAlmz1Mr1fYnlZErVbP2F7e2Fl3jXB0iQVz8DvjduJyvtLfY5SSYsPRAt6Z\n3Z9fDp2ipKqe6wYHydTg5yIvUTUHnVno45fAPVug79UQ9yZUNib+s3eHmBsM07YkFxoUAajHiQey\nT2OtETQ0S8cb5u3UKW+jrbTZm0hRlFQhhFVjGcuvhBA7OlAus0Wr03Pz57vZk1kCqL/QlfePxF2m\nWZaYEicfqMxvajt4UFHfcliQhwNL5naZ7PEXj6LA1ncg4QfV+WPSCxDc+Pns+8p4F1BwGDLi2M4A\ndoUsZGLtH0QHOGE96BZ2FzvwzdoD2FlrGB7W8uwgxMuJ567owxvrjlHXoCeqmysPTDSv5+m2KoNq\nIYQtcFAI8RaQC5iXWuskNh4tMCgCgPSiKn7cl83dY3uaUCrJJc/k/4MfblEXL2EFl/2LG11CWJ2U\nb8hcGunvQmxjfd7iyjqW7s2msq6Bawd1I9z3Eo2LiV8Mf/5L/bkoGb65Dh47DHYuYNXyAW97Rjk3\nb9wNwEeMYoLWh8cj3bn5i+2Gp/7fk/KYHu3P2kR15xDp78KtI3rg7mjLNYOCKK6sI8zH/LyP2qoM\nbkUNUHsQeBQIBq7pKKHMmfJabcu+qlrY8H9qFGhADEx8Hpy8O184yaVLxGR49DA7Nq9l5SkvnE50\n5/4JTqy4byRL92SRX17LoB4enK6ux8nOmln/2UFWY7Tx4u2Z/PzgqC6TVuFvkbrBuF1XBtl71II/\nQ++CQ99DbaPrbfeRfJDqCzRlF9h0vJAAdwcj809FXQNjI3x4dHIvymu1DAz2QK8o7MkowcvZlp5m\nqAig7crgakVRPgBqgf8DEELMBz7oKMHMlcv6+vGWs60hEtHeRsPVlT/A4caP4tR+tXjI7b+aUErJ\npciyo9U8scUTUCD1BNvTivl23jA2HiugsKKOTccL+W53Fo9N6WVQBAA1Wh0/7s3mnzP6mk54U+Hb\nF46tbmoLK6rcwsktqCDMOwzNg/vg6C+q22jvK3D430Gj6VYaQYCbPWfj52pPRKNyLSiv5cZFu0gv\nUtOE3zq8B/+6Oqrj3tMF0tYw2dtb6ftHO8phMbg72vLTA6O4d1xP/jEyhJ8eGEV41jLjQRlboLa8\n9QtIJB3EL4dOGbVTCypZtCWNwoo6Q19uWS0JOS3zZjnYXqJOEKMehvDJ6s+2LhyIeobYj44y+d0t\nTH53MyfqHCH2TjXLq7UtD0wIx96madm8bUQP5o4KpX+wu6Hvsr5+RmnsP9+ablAEAF/vOsHxvLNz\nRZme81U6mwPcBIQKIX5p9pIrUNz6rK5PkIcjT0+LbOrwDIOKZv+ILgFge0keqUhMiJ+r8ROqlUbg\nat8yGj4ywIUhPTzY15hWwc/VjpuHmY+LY6di5wK3rICqIqoUO255azvV9WrJ2vSiKt76/Tif3DTI\nMHxoqCebn5jAluRCwnycGNzDk6q6BpbcEUt6URX21la4Odrw7KpEsk9XMy0qgPzyuha3zSuvpbe/\neZnlzmcm2oF6WOwNvNOsvwJIaHXGpcjU1+H7OVCeA/ZuMOM9WWBc0uk8NDGcnWnFnCytQSPU9m0j\nQvhxXw4nS1WvmB5ejszsH8j1Q4LZdKyAyroGJvf1a1VpXFI4eVNYVEVVvXHt8syiKtYl5vLf7RlY\naQT3juvJ+N6+zB4SDMDbvx9n0dZ0GnR6Zg0M4vVZUUz9cCvphepOYHtqMbecFUsQ4GbPsNBzRyub\ngnOmozAaKIQfENvY3KMoSkGHSdUK5pKOoqxGy+db0kkrrGRSHz+ua8xieuxUCUcS4unesy9DIqTv\ndpvR69RDvJrT0GsqOLiff47kL9Hq9BzIKiXQ3d5Qm7esRsuahFw0Aq6ICcDlrIW/QaenWquTCgGY\n+v4WjjUz4cwZ2p2le7MMkdvWGsHvj46lp48z+zJLuO6znUbzH5kcwfsbUoz6hod5cufoMFbE5+Dt\nYss9Y3t2asqPdklH0exis4G3UWsfC+AjIcQTiqIsvygpLZC7/rePPRmqa+m6pDwqa7V4ONnyyA8H\n1T+YuIPMn1TFo1Nk2uXzoijw9SzI2Ky2nXxg3kbw6EHSyTKyS6oZGe6Nm4NcpNqKTUM1Q3u4G2XN\ndXOw4aZh3VsdvzYxlxd+TqKosp4xEd58NGfgJR0z8+U/Ynnn9+OkFVYypa8fNVqdUQqPBr3CpmMF\n9PRxNlIaZygsr8PGSqDVNU0K8nBkSl8/pvT164y3cMG01Zvon0Dsmd2AEMIH2ABcUsog53S1QRGc\nYcX+k9Q1GP/BLNqSzv0TesrI5PORua1JEQBUFcKeRbxcfzP/3Z4BgKu9NUvvHkHfQJn55JxUl8CK\neZC2UT2zuuJdiJx+zikVtVoWLDtksJFvTSni/Q0pvDSzX2dIbJZ0c3fg3RsGGNo/HTjZYkyQh4N6\nZuDt1CKqeGq0PyHeTrz52zEa9Ao9vByZPymiU2S/WNqqDDRnmYWKuQSrpLk62GBnraGuQW/o83Gx\nI6OZpwCodXzbaH27tNG2zPFSVVXO4r0ZhnZ5bQOfbErlk5sHtRgracamV1VFAFCRC6vugceOqsnr\nDv0Azr4w8TnoNtgwJbOo2qAIznDklPSCa86MmAD+PFbArwmnEMDl/fx5ZmUip6u1CAFXD+hGelEV\ndVodt48MYUyED2MifLh6YDdyy2roF+hmMXWS26oM1gkhfge+b2zfAKztGJHMF1d7Gx6b0os3fjuG\nooC7o9o+kF3K8z81VZuaMzQYexu5KzgvYePVClzFqWrbyo7CiDno9xgXWCmraRnoJzmL3LMqlNWV\nw44PYfObajsfOBmv1j22c+Z0VT1ezrZ4O9tRVNnk7TIqXAZLNsfaSsOHcwbyzyv6oNEInm1UBKBa\nOdck5LLnuUktTGs+Lnb4uNiZQuQLpq3KQAEWAqNRzwwWAcM7Sihz5p5xPZkeHUB6URVDenjgZGdN\nVDc3wryd2JZaRL9AV6ZHBZhaTMvA2hbuXK+mBKg5Df1vJMSvHwO7b+dAs4IrN8QGm05GSyF0HOTs\nbWo7+6uJ1ppTW4qSvZuXDvvxze4s9IrC2AhvarRO5JRUMz06gPsnXHppVbQ6PdtTi3C2s2ZISOte\nPr6NbruFlcZuovU6PaXV2vOes+j1Ct/vzWJPRgkDgt25ZXgPbKzMy7jSJm8iIcR+RVEGndWXICud\nSTqC8lot/9uRSVZJNdOiA5jQW6ZZPi8NdfD7c3D0V/AMhctfUyNrtzbzCBca9szcxPU/GNvB379h\nAFcPvDQ94Eqq6rnu0x2GoLAJvX348vZYNH9h2vl6ZybP/9xUy2BQd3dW3j/qvPd5fd1RFm5ON7Tn\nDA3m9Ws6Z/lsF28iIcR9wP1AmBCieVyBC7C99VmXHiVV9Ty3KtGwM3h1VrTZ5h+xBFztbZgQ6Ut2\nSQ2De3iYWhzLwNoOrnhb/TqDV091t5CxBWwcYeLzJFW5AcbKIKXA/KJhO4tvd50wig7edLyQ7WlF\njInwaXX8rSNCcLKzZv2RfEK9nbh7bFir4+oadI27DRuGhnqybF+O0esr4k/yytXRZnWecD4z0XfA\nOuB14Olm/RWKopS0PuXS48VfDrMuSc1QuCu9hAe/O8C6+WNMLJXl8srqI3yxTT1EdnOw4fu7hktv\nogvB3k3NkbXxFfUgefsHjBtgh7UmwOABIwRMjLzInZdeD4rOImt/N687cIaS4kI4sABy9kGPETD1\nTXDyMrw+PTqAawYFGdpVdQ3sTCumm4cDfQJcKayo49pPmxIBToz0xd3RhpKqppzibo42ZqUI4Pxl\nL8tQU/TN6RxxzJukk2UcyS1nZE8vQ0APwO5048wcR3PLKavRSv/4CyC3rMbgVgrq4fEncalGKQG6\nIp/GpbEsPhsvJ1sev6w3w8PUxeeM2/IFOySkbYKt/zY0e257jM+nrebTw9bU6/TMHR3K4B5tj4ZN\nzq/AxkpD6JnCLHu/VFNA11XCgJtUl1arNpdJMTmzBnbj612ZhrgAb2c7Jh59EU78oQ5IXKZ6vd34\nLakFFcxfepDDp8qJ6ubK+zcMRFEUbly0i+LGhX7uqFCc7a2NEgH+eayARydH8MmmNOp1eqw0gqen\nRraQxdRYzm/NxHy0MYV31icDYGMlWHjrYCZGqkEkMUHubDjaVFgkzNsJV3trqMiH7F3gH63mL5Kc\nl/KaBvRnHWOVVrdSpaULsTw+hzd/OwZAemEVcxfvZcfTE1m4JZ3/Nu6Q/jEqhGem9VGfwlM3qFW2\nek0DZ9WcUavVkV1STYi3k/HBZNauFvebIOKZcO8j55SpoKKWP48W4Odmz7gIH+p1euYt2ce21CJA\ndbn8cIoLmjWPo/qXAPuXQEB/NbGbhRAd5MaP94zgh73ZONlZ84+RPXD58DrjQWl/AvDE8gQON7re\nJp0s58nlh+ju6WhQBABf7cjgmlbOX8J9Xdj21AT2Z5USHeRGN3eHjntTF0iHKgMhRDDwP8Af0AOL\nFEX5QAjhCfwAhACZwPWKopz+q+uYmpp6HZ/EpRraWp3CBxtSDMrg5av6UV6rZU9GCb38nHln9gBE\nynq12IiuDhAw410YMtdE78By6O3vwoBgdw5mN/cmaj16tquwObnQqF1dr+OrHZl8Gpdm6Fu4OZ1h\noZ5MPPAoHF+jdtq5wdzf2Fruw8PfH+B0tRY/VzsW3TqkKYtmcCwtCDLu25xcyNbkQvoEuHL1wG4c\nz6vg+oU7qaxTayVPj/ZnTISPQREArE7I5T6vA/TjLM19aj9gOcoAYGB3DwZ2b3Y25dcP8pOatdV0\n02dne008WYbzWSk8FAVGh3vzy6FTht2Gn6sd43v74GRnzdQo/455E+1AR+8MGoDHFUXZL4RwAeKF\nEOtR019vVBTlDSHE06jnEU91sCwXjFavp75ZoBlglNAq0N2BH6/1pv7YPmy9wyDQBRa+3KgIABS1\n+M3A2yxqC20qlswdypJGb6Lp0f4GpdtVifR34ddmYQJCQHVdQ4txh48nM/GMIgC1EMuuT3j2+LUG\n23d+eR0v/nKYnx5o9HAJnwwTnoMdH4MQpEbeza8pPgxrKGJkuHcL75g9GSVo9XqDIgBYm5jXqsnz\nmE1f+mmsQd9M1pCxF/YhmBNXfQzL50JJOjqvXuzt9wLdS2sYHubJ9tQmk/DwMC+uHxLElmbKvF+g\nqlBDvJ34cV8OrvbW3D5SPXQ2dzpUQkVRclGznqIoSoUQ4ijQDbgKGN84bAlqziOzVQau9jZcNaAb\nq5qFpt/aPBNhehx8cx22+sbDqJgbVL/55tRVgF4rlUEbcHOw4WELCeFvD+aOCuVAVikbj+XjaGPF\ngst7MyDYnc+3ZhiNG+nf8sBRV19DzmnjSO6MoirI2Kq6lWqrIfYueCaLd9cn8+HGFEBNpPb8jL58\nt/uE0dwV+3NaPVAeGuLJj/tyDCU07W00DB80AAIWw5+vQE0pDP4HxFx/4R+EuRA4EB7az86kZO74\nMZ3an8ux+nUTT13eGztrK+JPnKZPgAsvzexHTx9nHGysWJOQS5CHA3eMCkUI0XK3YQG0OWvpRd9I\niBBgCxAFZCmK4t7stdOKorT45IQQdwN3A3Tv3n3wiRMnzh7SaWh1epbty+Fobjn55bXszijB08mW\np6b2ZuqBB5pSAZxh+P2w6z9N7Zgb4ZqFnSu0xKIora7H3sbKcFj8475sFm5OQ1HgnnFh3DAkGD6f\nAKcOqBM01nD7r9zxpzWbjjc9nc6O8eDfaVc325mC/rZfiF5cY7Sj9Xe1x8vZ1mAHB3WR/+yWwdy5\nZJ9h4R/Y3Z1V949ia0ohS3ZkYmutYd6YMAZZ2GL3d5nx0VaSTjZ9Nh6ONqy6fxTz/reP1IJKHG2t\nePmqKEPmYnOlrXEGnaIMhBDOwGbgVUVRVgohStuiDJrTmUFnFbVafjp4iuq6BmYOCCTAremw59vd\nJ3huVZM90cZKkBT+GXYnNhtf5OFDcGK7mogtYADEzlMjbiWSi6GuAg58o+YfiroWAvpTWl3Pv38/\nTkJOGcPDPHnUZx+Oax8ymqYfdj/9d42nopn5J9DNnheu7McD3+03LPyPTI7gkcm9SMwpY3XCKfzd\n7Ll+SLBFmDnamxGvbyS3rNbQ1giYFu3PmoQ8Q5+TrRW7n5uMsxl/Pu2awvoiBbEBVgDfKoqysrE7\nXwgRoChKrhAiAOjU2gjnoq5BxzX/2UFKQSUAn2xK5deHRtPDS3WlOztrqVankBh0E0Oytqm+1gB9\nZoJniPo18ObWb6TTqp4eTt7g26eD3o2ky2HnAsPvM+pyd7Tl1VnRTR0nWpa11HiHc+/4nvz79+OG\nvvsmhDM1yp8Nj41je2oRfQJcDUF+0UFuRAe5dcx7sBCuHRTEx5uaHEeuiAnkRLFxUsqqeh355bU4\nd4Eg0472JhLAl8BRRVHebfbSL6h1ld9o/P5zR8rxd9h0rMCgCEDNmrl0bzZPNfoFDwx25+eDTSUu\nrTSCgNirIKovJK1UvRC0NbDvvzD4DvIr6liw7JAhOvmta/vT16UavpoGJY3h6YNuh5kfdur7lHRh\neoxQzZS7F4KiozLkMh44EMHhggzGRngzuIcHY3r5GMw8od5OTXEDEgOPTemFv5s9O9OK6dfNlbmj\nQvl8S7qRV1G4rzNhXeSz6+idwSjgViBRCHGwse9ZVCXwoxDiTiALmN3BcrQZVX8ZoxGQkl9Bdb2O\nm4d1J7mgkuXxObg7WPPMaA+6udqBewyseRxy9qiTUtdDfRUvpo1ka4rqkpd0spyHlx5gQ9T6JkUA\nqn927DwI6LRUTxIzJKu4mvSiSoaEeF682WHq6zDmcRRtDTO/TCO9UE05sSWliG4ejhdl7y+qrMPT\n0daQv+dYXjmrD+Xi52rHtYODcLQ1X5PJ2ZTVaHl1zRH2ZJTQP9idf17R15BtVKMRXDsoiGBPR4I9\nHLC3seL+CeEArD+qpqNYcFnvVtcMS6SjvYm2oWY5bY1JHXnvC2VCb18i/V0MVYw8HG04nlfBlPe2\nANA/yI1v5g3j1bCjiDWPwqZKONQTrvygSRGcIXEZ8UXGJqDUgkrqy/JocXpQaTaWMokJWLg5zZAa\n3c3Bhq/vHEpM0EWWAHXyJr+slvRC43LlO9OK/mLCuUktqOT+b+NJzq8kyMOBD24cgF6Bmz7fZfCp\nX3XgJCvuG2kxC+RzqxJZnZALQGZxNSVV9Xx95zBAfQCc8/kuiirVoLKHJobz+GW9eWhSBA+d5e2m\nKAoHskux1oim31tJOmx7T/3f7j8H+l3deW/sArAcFd5J2FprWHn/SFYn5FJV14Cfix33f3fA8Pqh\nnDKW7kzjrl2PQ32jOakkDXZ+AtYO0NDMzc+1G0OdPVmTmGvo6u3ngu3AG+HwMqNxhIzu6LcmMVPK\na7W8uz7ZUBCprEbLe+uTef2aGN7+4zipBZVMivTlvvE9sbbSkF9ey56MEvoFuhLWaKtWFIXDp8rx\ncLI1im71cbHD39WevPKmg9B+3dSzgFqtjg83prA9rZioQFcev6w3nk5NjyknS2vYnlpEpL8LMUHu\nPP9TEsn56t98zukaFixLILqbm1GJx/1ZpRzMLrUYt8rNx40D/ramFNGg06t1DP5MNSgCgP/EpXHr\n8B7sTC82JKqbNzoMW2sNt3y5m/gTqjv5mAhv/ntLNDZfXQEVjSbl5N/A6juIvKLT3tvfRSqDVnC0\nteb6IWoO/RXxOS1ezy0+rRYPaU5ZNkx+CX5/Vj1IdvKBCc/xklMEtVqd4czgjWtjwM8FbloGh75T\nx418CGzsO/6NScySitoGo+p5oObNn/e/vQbXxoPZpWj1CgOD3bnn63jqdXqEgBdn9GXmgG7c8sVu\njuSWIwTcOSqUf87oS2VdA2sTcpnZP4A1iXmcLK0hNsSD56/oC8Cra47y9S7VXftQdilZJdWGp+K4\n4wXc/T/1PqB6GR3LM/6bzyiqon9wy0Nmc8vTfy56+bsYFnGAnj5OWDfKX1RhXLtAp1f4ZvcJPtzY\ndKi8K72YWQODjK6xNaWIA1vXMrTilNF8Epf/tTIoywFHb5OuA1IZnIcJkb642FtTUau65GkEzBga\nCYXRkN9UPEQbMY1D/tcTce803GqywT8GNryIT+JyvnQJgNtfg4hmec97XaZ+SS55urk7MDzMk13p\nTZ5qEyN9jRYdgD8O57HxaL5hgVYUeGd9MnnltRzJLTf0fbEtg2nR/jz24yFOFFc33sOeHU9PINC9\nKcHi74fzjK6/NaWIqroGnOys+WBjiuE+oCbSm9THl7WJTXOGhnhy95ierD+cb4hfmBjpS1Q3M/NC\nqm8MwnMPVlNNNOOVq6O475t4MourCXS3p2+AK7GvbsDf1Z5R4V7sbJaEMqqbq+H87wx7M08TFdjy\n/Z7UtbIzcg1EURTyy+vwcbFTs5aWn4Lvb1Qr1dm7qYn+oq9rObcTkMrgPHg62bLs3hEs2pJOTb2O\nm4Z1Vw/fblqqRl4WHuek33hmbh9M8Yad2Flr+Pfs/szM/kL1KAJ1F/HjbfDYEXC4SDuwpEuy8NYh\nfLk1ndTCSiZF+jE9OoCvtmUaxQX08HI0ChADNY9RTrMMmWf4+eApgyIAOFlayx+H8/nHEG81Yt4l\nkBAvJwqaPf36u9rj0BjwVnNWbWStTs/T0yJxtLVmZ1oxMUFuvHBlXwLcHPhzwXj+OJKPn4sdk/qY\nWeqQwmTVc6+6cREf/gBMfU39Wa+nT4ArmxaMJ7+8jp8PnuT1dWrCwMKKOjKLqnjn+v78eayA7p6O\n3DUmjCeXG5+/2FppmBETwLd7sgwpa5xsrRg+fCTwoGo+RgHvXqRE3MHd72wmo6iKQDd7PpwzkCEH\n/tVUsrS2DH59BHpNBbvOd1WVyqANRPq78u71A4w73YJg1mcAPPzpDoob00/UNej5v18OMyN0B0ab\nZW0V5CVAaBfI3SJpd9wcbHjsst5GfS9f3Y/nViVRXa+ju6cjT02NZF1SnlGswMz+gUyPDmB1syd2\nb2dbeng6cjYNFYXwwWTDwvhCxAPMc51EXnktLvbWvDpcj+a72SAEN4ffw/PNNg4zYgLp7unE27P7\nt7iun6u9cXoWc2LrO02KANSsAEPmqge7CT+Akzfislfwj76OXWeloq+oayDAto5PNO/AwW1QMJBH\nhr7GvhM2lFZrEUI9VB4c4slrs6JYHp9DgJsDd40JUwNVL39V9RKsKoJug3l20S41VQhwqqyWJ5cn\n8KfrMWN56ytUk5Fv56e4viSVQU29ji+3pXP4VDmjI7y5aWj3i/J+OFVqnBumpLoebcAQ7FLXN3Va\nOxiyH7aF8lotW5OLCHC37/Jh/5LWmTUwiMl9/MgtqyXcxxmNRvDAhHC6uTsYzqBuHtYDW2sNH80Z\nyLL4HLydbLl/Qk+8nOz4fGuG4eDY29mOqyqWGi2MUSmfsPXe20kjgB4NWTj8d5wh6dytmk10m7We\nuDwbevu7MHuwhdahrj7bc0qBvZ/DwW/UZkUurLoXQkYT3c3NKK2HrbWGyIOvQupqtSN9E1H1D7Pt\nqd/Ym1FCSGN8xvM/JRnOXrydbXlwYnjT7TxD1S/geJ5xRbn0oioaBl2G9an9zcaHgXevdnnrf5dL\nUhk8+sNBfmu0l65LyqOgvI5Hx/jBuqfV3OX+UTDtLbVsYPZe9aDXwROG3g0uLbfBV/YPZNGWpriB\nCb19sRv7CJRnqodGLv4w9Q1wbKWISEM9bH8fMrdC4CAYu4CUUpi9cCeljZkob4wNVg+eL2Vqy9Rc\nPLbNAnxyD6kJAXuMssgqW23Bxd4Gl7PSJF89sJtaszhjK3w7H+qruDL2Tq6ce5PRuNUPj+bHfdmc\nPF3DzcO647N1cYvr22jLiAzuDVvWGWcf1WuZqN3MxKvOXffA7Blws1r/4Qz+0VBmXPYTvRZyE7hu\n8GgO5ZSyNaUITyc7XriyL57r7jUem7MXZ00DExqT+WUWVRkUAUBRZT2fxqXx9uz+pBZU8MTyBBJz\nyhge5sWwMC/WH2mqezIq3AvrcQtAaVDrVXuFw+T/A41pDuAvOWVQWdfA70eMD85W7M/h0eoP1EUf\nIDUPfrwdrngHFk9v+idJWg4P7FHrzTbjyct74+Foy/bGp7UHJoaDjY1qRrr6UzUn8V/x+7Pqkwqo\ntWpL0vlMLDAoAoCle7O5Z1zPSzNKVKeFXx5St/RWtjD6URj/NKy4CxJ/VMd4hsEdv7WqqLss5afg\n2+ugodFl9OQ+cPaD8KbwnbyyWr7cmkFxVT0/7M1m4YipTGI1hmI0vn2p9h1AbmEloe4htFiCPEI6\n4Y10MFHXgI0DHF4FbkUgfKwAACAASURBVMFqZHbiMjj2a9MYa3veO+rCx7vj0OkVhoV68sVtQ3Bx\nsIFDAyF9U9NYnz6w+Q04tha8elIa9UyLW54pxvTw9wcNB/vbUosYF+HNjbHB7EovJibInX/O6KM+\nxEx6Xv0yMZecMrCz1uBiZ015bdNTkLezHaSflWguP1FdpJs/LZ3OREmP48v8CNYk5hLk4chjU3oR\n6u3EfeN7ct/4noahqQWVvPhLEsfzKhjXy5eXZvalvkHPE8sTiDteQC8/F964NoYBh1ca3/fYasp6\nGCcZAyivaVmrtUugrVUV4rHV6qI+9XU1hfAZDn2vfoG68MW9rp7XnFEEoAb37P4MJr/YubJ3Joqi\nOiLYN3qupG1qUgRnSP7NSBn8+/fjhipcDXqFh/d6E3/LSuyPrgTXbvzuPJMFr22ioq6Bnl6e/BI2\nHaf0terkvldD5IxWRdHq9CSdLCPY01H93zF3ek9Tv84QOw9Ksxpdu33JHPQUH/zS5Mm1O6OE7/Zk\ncc+4njDjPVgxT1W2vn3VwkDb3lMHFh0npuA4kf7vG4JUAWYPCaZWqzMogjMcOlnGkkbXXXPkklMG\nNlYanpneh3/+lIROr+Boa8WTU3vDnhg1VuAMbsHqk9ZZrEmp4ZWtRwE4kFXKwezTxC2YYFTcWlEU\n7v0mntTGHEcr9udga62hrkHHn8fUSONjeRU88O1+tnkEIaqbHVy5BDBnaHc2Hi80BCH1C3Qlpqsm\nDdv8Juz7Uv25Mh++nwOPJDaZffIPt5xz6mDLvqouHMF9Mh5W3g3FqarL8nVftW5X9u5FcWUd7o62\nWGkE+eXGyqKqXkep30j8e02kVqvjydc2GryV0opredTvcRY9/CogwDOUqroGPll/jEM5pQwL9eKe\ncWHknK7h1i92c6rs/9s77/CoyuyPf96ZTDLpFdJIhRACBIIgTUIREESEBRE76Kooiq4NC9Zd1/rb\n1V11V3dXXbsiTYplQRGpUgIJAQKEkoQU0nsv9/fHO8xkEqokTCZ5P8/Dw8w7917OfZm55973nPM9\nNRj0gqenxHD7FRGXYBLaEL2DzCgyZRXtTcoG9lhtknZKkM4nAu7+Sd60GIzwrzFW2+mKj/LFHd34\n6JA/6UVVNDRqfLItjcMny4kJdCclx+IkBnfw2F+XcwYANw0NZUzvbhw6Wc5lod54uhjA91XZVzYr\nAbzC5BKPV6gUnztVPBJ9DZ9l+QOWu4gTRdXsTCtiWUKmXCYK9uT+sT3NjuAUW48WtNLlyCqppuja\nF/BdfQfUlIDBFa5+nfExAXx+1zBWJ+UQ5Glkzohwuynvv2COt3giK8+B3BQoPgrFaa0vejoH2WP3\n4LeW/xeE7BfRWVkxXzoCkBlp3z4Mc1fDyAdldkxTA1URk7hxayR7l/9IkKeRv86OY1pcEAd/sGQe\nXR7uza70InRCEBPoTmmLp81jBZXgY1E6Xrg0yVxXsOVIIfnltRRV1pFtknWub9R45fuDzLisx2k7\nodkLo3r54eqot+r1EOHnyhNL9+LlauCOkREEeJqKwbrHQE6zmxEnD3wCQ3kkzJX7Pk+wmq9pA4Mw\nGvQkZ5YyoqevtbJsB6RLOgOQrSqDmjel9gqFu9fLQKWTh2Wd/4EE2bjG2QfCryBi+V6r4iBHvY7P\ntqWzxiQ5kV1aQ25ZDYGeRist9P5Bnjg76klrlvsd6uOCd8xYiEqRaqfdos3LACN7+jGyp1/7TUBH\nITBOOuBTOHnCL6/AIdNyhc4Aw+6VufEGFxjzhPxB3vk/mcNdVSRlwiPibWJ+u1NfAwWHrMdy9spl\no7hbZHcxgzMLlmex96R8OsoureGxJUlsXDgWd6OB9Sm5hPm68vOhPBaYpFWi/d3pG+hhtZQxsa/l\nSbi+sYkf9lnH1tbszSbU1zpuVdvQREFFrV07Ax9XRz6/ezjvrE+lrLqBYZE+vPbDIXOPhzVJOfz0\n6BiMBj2lI5/CPTcF3clEMHrJZSRH19PO16bUfPY8Zz+FpV3WGZwRY4vlGEcXiLnW/PbB8VHsTi/h\nUG45Tg46Fk2J4R8/W1eK7s0s5cPbh/DCqgNkFFVJCYCpfTEadFTUNPDzoTyiA9x5eUasVH50dIGQ\noZfi7DoeVz4DxcdlFpd7EIx5HNY0y2BpqpdPCPdvt97PKxSufu2SmmoTDEYIGQ4nfrWMhQ6Hd6+A\nvP2gd4KJfyQlx/oJKqukmvLaBm4bHsZtw8P4dFsaH2213Igcyi1n0ZQ+9Alw53BeOVdGd8ffw8iw\nl3+kuq6RuSPC8PewvqEJ8nLm2gGBJJ0oMY/1DfSgZyfQ8o8L8eL9uZcD8OSyvWZHAHIu1x/M45s9\nWaxLycXZ8BTPxHty89hBYDBS19CEQGs1X8HepptNTYOs3WD0AL+O285VOYMLJNDTmR8eiudofgXd\n3Ix4uhhYfzCPvHJLfnKIjzPjorszbmF3quoarbpEvXfbYFuY3XFx8YHbVkjJAAdn6Rhacolas3ZY\nrvsPfLdQtrsMj5fxlMM/yM8aa2Hts4zu/S2LEy0XogGBrnitfQgyd0LYSKpc5rU6rJODnjdukMWU\nh06WM/nvG81T/fbPR7lndCSfbEunur4RD6MDz07ty7AIHxwddKzdL4XaHmieU99J8HJp3ZFw29FC\n1prSQqvqGnl6fRFDB9bzybYjfLXjBE4OOq7q5893ySfN8/XMNX1l6vMn0y1VxnG3wu/+cSlP57xR\nzuA3IISgV3d38/s/TuvH/M93k5JTRrCXM3+9Pg5RkQcr78P16M8yt3n6O/Jvxek5VT/g21NmsRw0\nFfroDDDiPtvZ1RHwCoWbF1vefzzN+vOmep4dqkPnGMLGwwX0DfLguYZ3IHGF/LzgMNOj6vin8wxz\nnMDX1ZFrBgRCyQlw9iYhvbiVz61rbOLXReM5kldOTKCHuU/BnBHhzBkR3k4ne+l5f9MxVuzJIsDD\nyCNX9eaOK8JZnZRNlqmY9Or+AVQ0kwUBeX/y2a8ZfLJN1hjUNTaxbHcWX80bjkEvLPO18f8sjgBk\nsdtlcyC042UVKWdwgRzILuP5VftIzavgyj7d+dP0/oT7ufL9TCNFB3fiFdoPXYSP1CI6VeySkwhL\nfw8LdtrWeHvh+o/hwDdQkg7R19ikNL9DE3OtdeDdMxS3sEG8Emn6OTc1wp++sdolIH0Vax74K1/v\nOoEQghv7ueG3+Fo4sR0Mrgwa+hLQ3WqfwWHeeDobGBx2mmLJTsKXOzL487cyO3B/dhl7TpSw5Ykr\n+enRMWw9WoCH0YCXiyMJ6cWs2GMpVnM26KltaGx1vOMFldw0NNQyUJbdahvKslqPdQCUM7gAmpo0\n7vlsFyeK5B3D8t1ZuDk58KeQPbBqAT4AW5BZHidaXPgLDstg5+mqkBXW6B1sptxoF1x+l6x/2b+C\nKucgXq7+HT//30bio/x4Zmpf2SXNL0p+507RLRoPo4F5oyNlRfMPi6QjAKivJGbbQl66egNvbjpJ\nTX0jc0aEcU1soG3O7xLyU4p1SnJRZR17MooZ2cuPHt4u3PnxTk4UVeNhdGDWZcEkZpbi7WLg96Mi\n0DT4coclHV0nYGiED8WVdXy0NY3skmpuDRjPQP6LudDP2Rt6XnkJz/D8Uc7gAsgqqTY7glNsO1oI\nJ1r0L97xb4i6ClJWWcb8opUjULQNQsDw+TB8Pje9s5mkzFKgmq92nqBJ03h91kCY9jYsuQPKs9G8\nQnnLOJ+3/rwOnYC5I8J5pqRFhlJTPbeEl3HLmAk2OSVb0bO7Kz+mWN7rdYKIbnLJ8s/fpph/72U1\nDWw4nM/KBVdw3+d7mP/ZbrxdDMwYFMyO40U4O+r5w/goIv1cueatzeYsrSUIlk/4F5cVrJLJKSMf\n7LDKxcoZnI2yHNj7lcxtH3gTAZ4+dHN3Ir+Z7G9sD084Xb3TVS9BQ61J6ygWpr3NN3uyeO+XozRp\nGnfHR3L9EDsV/2pvGmqlplNxGsRMhUCplPnL4Xx2HC8kLsTbKg2yq1JaVW9yBBY2HpadurbW9MT4\nu1+43KeKNekOvPlVEqDRiOx3cNOoUfSkmWaPa3epjdXFmD+mJ7vTi9mZVozRoGPhYB2Bx5ZB1CSO\n5VvXChVU1PHKdwfN2VTFVfX8mJLL9kXjzfGUpBMlrSqP/5kVyftzP780J3QRKGdwJspy4L1RFtXD\nX9/FMH8Lb904iCeX7yW9sIpRvfxYNCUGUv8AK++37DvsHvAOhVsskgnJmaU8/PVmc5Bu4dK9RHZz\nY3BYi6rEhlo4sBIq8yFmmmzI0dVYfCukrpWvN/0Vbv6af2VHmLXmARaM68Vjk6LPcICugbvRgWAv\nZ3OgE6BXdzemvLXJ3J5yVC+/01av/+wxjZ4TgORl4BkMVz4razt+eQ3qq2DoPTByAYknSnhu5T6O\n5Vcysa8/L/6uv1yG6iR4uTiy5N6RZBZX4fnDA7gnLoVEwMmTqyI/58Niy9wOCfO26hEBsktddkkN\n1XWNZBRVnVY63NO5dXZSR6Tz/K9eIJqm8eaPqXy5IwN3owMLr4rm6uZrpHsXW8vflmXB/m8YMeQO\nfplcSM2vH2A0GCDvERh0qxSwOvazvIuNmihlFNa/JPeLncXmuqtbZWtsTi2wdgaaBp/OgPQt8v3P\nL8Pv/ydVVLsKBUcsjgBkC9Ht7/FBurV65IdbjvPIxN6yTqOLotMJ/jp7II8sTiS7tIY+Ae70D/bg\nvV8s39vNRwq4oqev1X56nWB0Ty8oCYcR98tWjBV5sOxO0EzdzdY+TYN3T+5d4WiWwV6xJwtPZwMv\nTLPuFtYZ6FGXBoeWWgZqS3nC4SuMYx9gY2o+fQI8eHxSNJ/+mk5yluVpLNTHhS+2p/PhljRAOuir\n+wfwvakAzcfVkfljIy/hmfx2uqwz+CYxi7d+SgVkV6MHvtzDhh6e9PA2eXbdaaZGb4C0LbDsTsyd\nSjO2wYJd0GOw/AOyavTTGVJrByAnkZgh3oD1U0CMe7XUUi/NlOqK3ftaHAFAXYWMP0xrEZPozOj0\nrcf0BhxaXPQddOKsYrCdkvzD8OPzUpivz1QY+xTDI315bmpfNqYWMCzSh4MtligAfN2dWDSlD0t2\nZeLiqGf+6DB6r5lhSXn06CGfZjXrPszpB3ZwsmyI1dj240V0SuqrWw05NVYwPqY7fm5ODI3wobuH\nkQeujKKuoYm1B2SdxbzRkdz8H0tB4Kn2uKsXjCKrpJpRUX528yRlH1a2A78etf5SNzRpJBwvoEfK\nKikl7RcFHsGWNDDfKKnk+Mur1gdqrJMppN37SsmEwAGyTL0i12qzsSXfMG/0i3y0NQ00uGVYDyZu\nvRlKM+QGaZvgij+0NrTFD7TT4xMB/WdJuXCQFbYjH2BBZA8WrbD0nL47PpL3fjnGsfwKJvb156p+\nATYy+BLR1Cglq0tM2vn5B8HBiXe163jtB7l89sWODGbEBeOo15n7F3u7GPg+OcfctOXagUFM1CVY\n576XZVqO24yQiGj8UhwpqKgzj8WFdMzg50UTfBkED7ZIowg9qwyTefDdbfKtgNeuG8A1sYHkV9RS\nUFGLu9GBvLIamlo88ZdW1xPbw1PGE+2ILusMBoR4sniXJS1MCIjN+BQSX5cDqf+TvUhHPy4v8oVH\n4Jv5UjWyJUXH4NtHLO8H3y6fLJrLX/v1ZtHkGB6e0BsNDZfcPbA7w/o4OclSIjfTlJbq4AxD726T\n87UrZv5HppYWp0P0ZJo8wwiuLWDBuF446AXxUX68uS6VzUfkcsiShExeuy6WGy4PPceB7Zj8Q60v\n2If/x8f51hXt3+3LYfG84XydcAInBz3BXs689J0lXWZ1UjZ3e5yk1bfY2QcmvAAb/yLjVpfNwTHu\net72LOHpFckcL6zkyujuPDG5k8ZphIA5K2H3p1CWRWPfmTz9fgEgf8OaBu+sP8LBnHKW75Y3iHsz\nS/nztykMDpNFe6e4cah9fg+7rDO4YUgIB7LLWLIrE1cnPY9NiiZy86PWG6WuhbCRcMBUyZmbDJkJ\nlgpZoZc534f/Z71f4pfyh7X+JWiohuAhEC+dhbNWLeMJzl5yf61Z4YpPuMxC2rdUBpD7zZAa/52c\nj7em8emv6biY0vPGx/hb6c8/8MVuvt0rhQDdnBwY0MPT7AhO8dXOE53bGXiFSFXb+krLWPc+OJda\nL6s5OugYGOLFIFMs6tRSaHMSnEcwwKOHfCIAKcwYdxOlziG8njuGhOMFxFb7s6i6kRE9fVn/2Fga\nmzQrmfZOiZO7udpda2yivsn6d13f2MSONOs+yXnltfxnzmA2Hykko7CKybEBjIu2Lt6zF7qsM3DQ\n63hpRix/nNYPnRAyEJkUKCWUT+HiC6nrrHcsz4L4T2HK/8nOW65+8E4LkTmho3HIXaxzmkROTjZD\n4gYR6+opl5++uhVqS+UPe8Bs2XWpqUHWIcQ/JkXrLpvT/hPQQfjxQC7Pr7L0LLj3swTWPzqWEFNW\nRmpuudkRgOxUtzQhEwedoKHZ87k9q2aeF07ucO3f4btHpbJu0CAY9wwPhjbyyNdJ5uSEeaMjqWlo\nNKc6Tuzrz99/SjULrznqdYyJ7QlDN9CY8DHFZWW4DZ2D0SeSp5pJMB8syKSoso4PbpfibZ3eEbTA\nQa9j7shw/vWLpZ3tnaMiSCusZF+WJS7j4+pIn0APBoZ07F4F50OXdQancNA3a/Z31YuyuUptmbzQ\nT3oZMn6V6/mn0DuCo7vMgQ+UIl/EPyIDwaeqDIfPZ+E3h8yPk7otm/nnLYOZvOkp6QhA3uGlbYZH\nUqD8JPj3t1nvU1uyKTXf6n19o8a2o4WEuAuoLqamvnWrT02D+WN78vZ6qRbr6qjnwfEdVw2yzRhw\nvay7qCqU3d6AGYOkPPrWo4VsOJTHm+sO8876I8wf25OHJvQmJtCDD2+/nA83H0cn4O7RkUR2cyM5\ns5G7tsSRW1aLR8JR/naju7nx0il+PtSJGwadB09O7sOgEG+SMksYHunLmN7dKK2q52RpDT8dzCPU\nx4WXZ8Ti5HCapAc7RGh2ogg5ZMgQbdeuXe3/D9WWS7nZ7n3BrZu8UH8xWwbcDC5y6SZ5qVSLdPaG\nm5dAyOWyJ+reryBiDPl9bmXoyz9apZIOCfNmaemN8q7uFEIPz+afPoOmi/DljgyeWp5sNbb6qgpi\nty+UjrPH5cyseYbdmXJ5RK8TfPL7oVzRy4+UnDKO5Vcysqcv3q72kct9MezLKuWTbWkIBHNHhtM3\nyMP82Vc7MniyxTyuvP8KBp4h4Dvr3a3sarbOHehpxNfN0equt7e/G2sfHnO63bs8DY1N1jeSHRgh\nRIKmaUPOtV2XfzJohZM7RDb7AbgHwD2yUT1GL3h7sHQEIOVp1z0n1xm/nivX/w+sRJRVIuhJczer\nEwL6Xwe7PrQM9p3epR0BwKzBPdiZVsTKxGwMesH9o4KJ3XqVjLUAZO7k00Fr+HrQ/ZwsreGaAYEM\n6CEvcDGBHsQEepzl6J2HtIJKZr23lZp6mSW0em826x4ZQ7CpQVPzHrynSM4qZe2Bk2w9WkhssCeP\nTOxtlmdOa1E8lVNaw99vjOPhxUlklVQT4GHklZmnSZZQANiNI7gQlDM4F40NsrGIsw8466C6RZ51\nWSZseNUqEOy3/TVuGPwtX+6Sy0R6neCeMZEQ9Sq4B8rloR5DIL5FwLoLYtDreGN2HC9M64dBp8O5\nIBm2Wed8uxbu547pdtZnt435NjnH7AhAaup/n5zDXSOCIS+FMZE+fLTVsr1BL9iVVsQ3iVI1c09G\nCRlFVXx0h4xvTernz+fbLdls8VF+DO3hwsbHx5FdUk2AhxOf/prBaz8cJMzHhYcm9jY7HkXnRDmD\ns1GRB/+dAoWmjIyBN0OviXCkWVC5/yzYv8J6v4YaXpoaxfi+gRzNr2Bcn+709jf1PxjzOPWjHsPQ\nCe8sLgYPoykA7N/Pur4DoLf9tA5sL7q5ObUeqz0Bb0yEqgLGOXnw4oh/8+kxF5wdHfjD+F48vtR6\n2eiXw/mkF1by3y1SUfPKPt0orKijvy88VvwsvLQdfUAsITPf5/1tjmZp5x3Hi9hzooR1D4+2617c\njU0aOoFdn0N70q7OQAjxITAVyNM0rb9pzAdYDIQDacBsTdOKz3QMm7L9PYsjAEj6AuasAv++cDJZ\nStEOv09mHa192rJd3M3osncxYf1CJpSkQ+F0mPo30ss1HlqcyJ6MEvoHe/DG7DiLk1BI9Aa4ZSn8\n+ILMq+87XSo9dnGmxQWxeNcJcz77sAgfJh99xiKZUlvGbccWctvD+8z7hPkepaDCIqoY4GHkzo92\nciTfkp76+qwBzE66C/JMctYnk2HlfXzf8Gerf/9IXgWHcyuIDrC/72tTk8aL3x7gi+0ZODvqeWRi\nb9mc58ROWURaXSwz+AbfTmlVPW+vT+XgyXLio/y4Kz6ybTKpMrbLWqSCVJk2Pe2t1i12bUx7Pxl8\nBLwDfNJs7EngJ03TXhVCPGl6/0Q72/HbaFFFDMgLVN5ByE6UAeXY2TBygaycPbZBFqX1/R38rZ8l\nWLx3MXgE8eSxyezJkIqH+7LKePTrJFY/MOrSnY+9UJ4ttfhLMuTf9VUyltOFMRr0LL13BLvSi9EJ\nuCzUG/H6UeuNyrLYdjibl/53lNyyWq7o6UtGYRX5pmrZu+Mj+dOaA1a7rEzMYnbObuvjZO8htI+L\nVSGVo4MOf4/WTyf2wIo9WfzXpB1U29DEcyv3MyzQgegvficlX0BWHrv4smBrdzalSge7+UgBZTX1\nLJx04c2VEtKLSM2tIL53N4LdHWSzqwqZtsuBb2RK+jV/bYvTazPa1RlomrZRCBHeYng6MNb0+mNg\nAx3VGcTOhj2fY04ZdQuQBWUZpsXZg2ugsZ76G7/i3znRbM70pV+TBw95peBWYy0tTMZ2kjKHWw0l\nZ5XS1KR1abG1VtRVwpLfW1Jw96+Qy0aTXrKtXR0AIQSXhzfridF3OiR8ZH5b32sSd3+ebG7R+E1i\nNk9d3Yf4qG6E+7lQUdPAS9+lWDV7D/BwBqd4OPqT5bjh8Tw8oTd7MopJK6zCUa/j6Skxp+0NbA8k\nZZa0HktKILrOWqK6dv8aNqVatxRdnZQjnUFT4xmTPfZkFJNbVkN8VDdcnRx45bsU/rVR1ic46nV8\nMdOPIaccwSkytl/EGbUPtogZ+GualgOgaVqOEKLjlutFjoFbl8Gez2RjmhEL4K04623SNvHa9wd5\nf7Ns5L7tWCEZue782+hpnUYaMpRhwsesEQNwebi3cgQtyT9kcQSnOKUXo7Bm8mvg4icTEoIvY3fo\nPCqSre/8dxwvIsLPlRdW70cn4NoBgaxKyqZJgyBPo2xo7/gPWPOQrKkJGQpT3yTU04X1j44l5WQZ\nQZ7Odp26OzTCx9yrGGRHssujw2CP9Xb67tF4uRgoqao3jwV5OsGK+ZD8Nbh2kzcl/a8zf/7YkiSW\nJshKbj83Rz6YO4QPtxw3f17X2MSbu2r43M3feqUhpEWhagegQweQhRDzgHkAoaE2khroNV7+OUXg\nQGuRr8A4vk3OsdplbWo51bd/iPO6Jy3r3mMe59UaPU8tT2bH8SLiQrx4ZWbsJToJO6J7jKzfqG4W\nRgodYTt7OjIGI4x/1vy2V0UtjvqDZpE6gO4eTtz7WYJZTM1BJ/j4jqE4OugYFOqNo4MOcIWbF7c6\nvE4n6BfUsda1fwtTBwRxNK+ST39Nx9VJxgwi+gTDmCdg0xvQVA+R43AYNo/n3Ut4YlkydQ1N+Lo6\n8lRwIuz6Qh6oPEcWl4aNAnd/UnPLzY4AZPOb/25Jo77Runarol7A7E9gzcOWmMH45y7lFJwX7V50\nZlomWtMsgHwIGGt6KggENmiadk71q0tWdHYucvfDsrshb790DNd9wKwl+VYFPH5uTmxfNL7LlfC3\nGWmb4fsnZJV33+kw5S9SpkNxTlYmZvHimhSKKmu5un8gEX6uvPPzEattFk3pw7zRPW1kYQejqkgu\nTTZrIlVcWcexggr6BXliXDZHLgc355ZlEDWBXWlFzHpvm9VHU2ID0DTM/QwA/nL9QGYN7tGup3E2\nOnLR2SpgLvCq6e+VNrDht+PfD+7bCnVV5gvU09f4cefHuyiqrMNo0PHCtL7KEVwM4aNg/pZzb6do\nxfS4YK4dEERdYxNGg57VSdmtton0c7OBZR0UF59Wvcm9XR0Z7GoaC7vC2hk4OLOuNIjvFicS7utC\nz26uHDVlZwkBs4eEMLKnH/EJmaTmlTO+jz+jovwu1dlcFO36ZCCE+BIZLPYDcoHngW+Ar4FQIAO4\nXtO0c3bMsOmTQdExSPhY/m9fNldmDrWgpr6RlJwyIru5nVE0bVVSNhsO5dEnwJ05I8IxGrp29fGZ\n2J9dyivfHeREcRVX9w/k0at6q7qM30hjk8ajXyeyMikbgaz4fnXmABWrOl8aG2Dds5D0Jbj580vY\nA8zdbBGluyzUi/iobuSW1TAtLoiRPTvehf98nwyUNtG5KM2Cd0dYgsHO3nDfr1Km4kwUpMr1wZy9\nMgg99W+8v7vUXMQDsgL0X7ed8/+ny1HX0MSo19aTV27Jj3/sqt4suLILCNG1I7llNQgB3d2N595Y\ncUZm/nMLuzOss5M2LhxHqG/HXcY8X2egbrfOxf7l1llB1cWwb/nZ91lyh1Q6rS2FlFXw3WMs3nnC\napO1B3Ipqqw7wwG6LodOlls5ApCVs4qLw9/DqBxBG+DTIqvKoBe4GTt0Hs55o5zBuXA8zfrq2Qqg\nakplE5zmpG/By8V66cjooMdoUNPfkjA/F5xbLJ91FTG6tqCmvpEVezL5YPNxckpb9/VVXBwPjo/C\nvdnFf/7YXq0chL3SOVxaexI7Szalz5P52w3d+vJaegwH92xnQow/c0aEIYRgy5ECNh8poF+gO9f4\n9kIUNsvgCB7Mw0N78/uPdprFxh6aEGVuQKKw4GE08NqsATy/ch/FVfUMi/DhoQm9bW2WXdDUpHHL\n+9vNlcN/W3eYFI0cyAAACFVJREFU5feNJEpJnrQZA3p4seXJK/n1aCERfq6dam7V1ehcOLnDvF9k\nC0whuGGdCwnbZfHIptQCauobcXHU8+xKS7euzIFPca/uL5CfIrMRpvwfIz392PLElWw/XkRvf3d6\ndVcZHWdi2sAgJvcLoKK2odPcdV0Kth8vspKQKK9t4JNt6bx4VRDsWyYTIPpfJ+Neit9MTkkNR/Mr\nadI0Iru5dZrMQeUMzgcHR4iZSkZhFQlZP1t9tHpvNpW1jVZjb+xz5fYXtmAUjXJfE75uTkyJDbwk\nJts7jg46fByUI7gQTpcM0lRfDe9eIfWeALb8He7ZJHtwKy6Ynw/lcdfHu8ySHjMHBfPGDXHn2Ms+\nUIvWF4C3q6HVenaQpzMGvfWdgV4nEAIrR6BQtDfDIn0Z0MNSMeziqOdW90SLIwAp/tdScl1x3vxn\n4zErbacViVmcLK2xoUVth3IGF4C70cCiKX3MF39/DycemxTN/eN60Vwifd7oyE7TF1VhP+h1gq/m\nDeeVmbEsnBTND38YTYzn6TLW7COdvCNiJ5n4vwm1THSB3DYinMn9A8koqiI22BNHBx29/d3pE+DB\n1qMF9AvyZGiEz7kPpFC0Ay6ODtw0tJmOV+xs2Pq21NUB8AyFfjNtY1wn4O7REexIKzI/HUwfGESA\nZ+dI2VVFZwpFZ6eyAJKXgtDJ7DgXdbNyMaTklPFTSi4Rfm5M7h/Q4QPIHVmbSKE4N2lbpOJrrwng\n1nFVzu0CVz8Yfq+treg0xAR6dMraF+UMFB2PVQ/C7o/la4MrzF0NPQbb1iaFopOjAsiKjkVJBuxu\n1iW1vhK2vGk7exSKLoJyBoqORX01rbJd6ipPu6lCoWg7lDNQdCy6RUN4fLMBAUPutJk5CkVXQcUM\nFB2PmxfLpaLiNIiZBuFX2NoihaLTo5yBouPh6ArD59vaCoWiS6GWiRQKhUKhnIFCoVAolDNQKBQK\nBcoZKBQKhQIVQFYoOj8VebB3sdQmGnAjuPra2iJFB0Q5A4WiM1ORB++NggrZnY9t/4B7NyuxOkUr\n1DKRQtGZ2fu1xREAlGWp5jaK06KcgULRmdGdpsnS6cYUXR7lDBSKzsyAG8AzxPLeOwL6zbCdPYoO\ni4oZKBSdGRcfGSPYv0IGkPvNAGPn0+JXXDzKGSgUnR1nLxhyh62tUHRw1DKRQqFQKJQzUCgUCoVy\nBgqFQqFAOQOFQqFQoJyBQqFQKFDOQKFQKBQoZ6BQKBQKlDNQKBQKBSA0TbO1DeeFECIfSLe1HeeB\nH1BgayM6CWou2xY1n22LvcxnmKZp3c61kd04A3tBCLFL07QhtrajM6Dmsm1R89m2dLb5VMtECoVC\noVDOQKFQKBTKGbQH/7a1AZ0INZdti5rPtqVTzaeKGSgUCoVCPRkoFAqFQjmDcyKE8BVCJJr+nBRC\nZJlelwghDtjavs6CEKKx2TwnCiHCT7NNkBBi6aW3zn4QQjwthNgvhNhrmsdhZ9n2diFE0KW0z564\nkLnsDKjmNudA07RCIA5ACPECUKFp2l9MF6s1v/W4QggHTdMa2sLGTkK1pmlxZ/rQNF/ZwKxLaJNd\nIYQYAUwFLtM0rVYI4Qc4nmWX24F9QPYlMM+u+A1zafeoJ4OLQy+E+I/p7mGtEMIZQAixQQgxxPTa\nTwiRZnp9uxBiiRBiNbDWdmbbBy3nSwgRLoTYZ2u7OjCBQIGmabUAmqYVaJqWLYR4TgixUwixTwjx\nbyGZBQwBPjfd9Trb1PKOx5nmMs3kGBBCDBFCbDC9fkEI8aHpt39MCPGg7Uz/bShncHFEAf/QNK0f\nUAJcdx77jADmapp2ZbtaZn84N1siWtFsXM3X+bMWCBFCHBZC/FMIMcY0/o6maZdrmtYfcAamapq2\nFNgF3KJpWpymadW2MrqDcqa5PBt9gEnAUOB5IYShXS1sY9Qy0cVxXNO0RNPrBCD8PPZZp2laUfuZ\nZLecaZlIzdd5omlahRBiMBAPjAMWCyGeBMqFEI8DLoAPsB9YbTtLOz5nmcuz8a3pSaJWCJEH+AOZ\n7Wxqm6GcwcVR2+x1I/KuC6ABy1OXscU+le1tVCdDzdcFoGlaI7AB2CCESAbuAQYAQzRNO2GKe7X8\nTipOw2nmci5n/223vB7Y1fVVLRO1D2nAYNNrFfBUXBKEENFCiKhmQ3HAIdPrAiGEG9bfx3LA/VLZ\nZ0+cYS7Tsf5tn8+ysN1gV57LjvgL8LUQ4jZgva2NUXQZ3IC3hRBeyDvYI8A8ZDwrGXkh29ls+4+A\n94QQ1cAIFTew4kxzGQN8IIRYBGy3oX1tjqpAVigUCoVaJlIoFAqFcgYKhUKhQDkDhUKhUKCcgUKh\nUChQzkChUCgUKGegUFwQJg2ax2xth0LR1ihnoFAoFArlDBSKc2HStT8khPgRiDaN3W1SAk0SQiwT\nQrgIIdyFEMdPCZQJITxMKpd2JVim6JooZ6BQnAWTWNmNwCBgJnC56aPlJiXQgUAKcKemaeVILZtr\nTNvcCCzTNK3+0lqtUFw4yhkoFGcnHlihaVqVpmllwCrTeH8hxCaTgNktQD/T+PvAHabXdwD/vaTW\nKhS/EeUMFIpzczrNlo+ABZqmxQJ/xKRgqWnaFiDcpH+v1zRNNeNR2AXKGSgUZ2cjMEMI4SyEcAeu\nNY27AzmmeMAtLfb5BPgS9VSgsCOUUJ1CcQ6EEE8Dc5ASxpnAAWSfhcdNY8mAu6Zpt5u2DwCOA4Ga\nppXYwmaF4kJRzkChaGNM/YWna5p2m61tUSjOF9XPQKFoQ4QQbwNXA1NsbYtCcSGoJwOFQqFQqACy\nQqFQKJQzUCgUCgXKGSgUCoUC5QwUCoVCgXIGCoVCoUA5A4VCoVAA/w8RVJ0rpy7U+wAAAABJRU5E\nrkJggg==\n",
      "text/plain": [
       "<matplotlib.figure.Figure at 0x1a11c97590>"
      ]
     },
     "metadata": {},
     "output_type": "display_data"
    }
   ],
   "source": [
    "#swarmplot avoids overlapping points\n",
    "sns.swarmplot('day', 'total_bill', hue = 'sex', data = tips)"
   ]
  },
  {
   "cell_type": "code",
   "execution_count": 35,
   "metadata": {},
   "outputs": [
    {
     "data": {
      "text/plain": [
       "<matplotlib.axes._subplots.AxesSubplot at 0x1a11cbd450>"
      ]
     },
     "execution_count": 35,
     "metadata": {},
     "output_type": "execute_result"
    },
    {
     "data": {
      "image/png": "iVBORw0KGgoAAAANSUhEUgAAAYMAAAEKCAYAAADw2zkCAAAABHNCSVQICAgIfAhkiAAAAAlwSFlz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\nS1JlZdXX+gAAAABJRU5ErkJggg==\n",
      "text/plain": [
       "<matplotlib.figure.Figure at 0x1a11d76d50>"
      ]
     },
     "metadata": {},
     "output_type": "display_data"
    }
   ],
   "source": [
    "sns.boxplot('day', 'total_bill', hue = 'time', data = tips)"
   ]
  },
  {
   "cell_type": "code",
   "execution_count": 36,
   "metadata": {},
   "outputs": [
    {
     "data": {
      "text/plain": [
       "<matplotlib.axes._subplots.AxesSubplot at 0x1a11fb5910>"
      ]
     },
     "execution_count": 36,
     "metadata": {},
     "output_type": "execute_result"
    },
    {
     "data": {
      "image/png": "iVBORw0KGgoAAAANSUhEUgAAAYwAAAELCAYAAADKjLEqAAAABHNCSVQICAgIfAhkiAAAAAlwSFlz\nAAALEgAACxIB0t1+/AAAADl0RVh0U29mdHdhcmUAbWF0cGxvdGxpYiB2ZXJzaW9uIDIuMS4wLCBo\ndHRwOi8vbWF0cGxvdGxpYi5vcmcvpW3flQAAIABJREFUeJzs3XlwpGl94Pnv875v3peO1FmSqlR3\n0wft7qLbgNsLeNeD6cIeMA2MYzzG9tA7QIM9eHbsYOxZiPA4fG6EbRzrae/uYBu8gaFjZtbV2NiA\nGwYD3V3VdZdUh6qkKtWpW6m83uvZP97MVEp1ZVVJSpXq94l44j3yzTefTKXeXz7nq7TWCCGEELdj\nNDsDQggh7g8SMIQQQjREAoYQQoiGSMAQQgjREAkYQgghGiIBQwghREMkYAghhGiIBAwhhBANkYAh\nhBCiIVazM7CSstms3rJlS7OzIYQQ95UDBw5Maq07bnfchgoYW7ZsYf/+/c3OhhBC3FeUUmONHCdV\nUkIIIRoiAUMIIURDJGAIIYRoyIZqwxDrV7lcZmZmhlwux8LCAsViEdu2sW27doxlWYTDYaLRKPF4\nnGQySSaTIZVKYRjy20bcGcdxGB8fp1QqNTsr60Y0GqWvr49QKHRXz5eAIVZMoVDg3LlzjI2NMTY2\nxsWLF7l0+TJXrlylkF+46/Mapkkm00JXZyddXZ309vbS09NDX18f/f39ZLNZlFIr+E7ERjA+Pk4q\nlWLLli3y/QC01kxNTTE+Ps7g4OBdnUMChrgrjuNw6tQpTpw4wfDwMCeGhrly+RK1G3IZJkTTuKEk\nfrwP3RJHh2JoK4o2w2gzBMpEGwagAI3SGnwP5bvg2SjPRjkllFuk7BSZuDTH8NglKH8XfK+Wl2g0\nxpYtW9i6dZBt27axdetWtm/fTiqVaspnI9aHUqkkwaKOUor29nYmJibu+hwSMERDyuUyJ06c4NCh\nQxw8eIihoRM4jgOAiiSxY+34vT+EF2vDj7WgI0lQd1aN1PC9H7VG2XmM8jxGaQ67OMvxi7OcPPuP\n6K99rXZYZ1c3u3ftZNeuXezcuZOdO3eSyWTuKE/i/ibBYql7/TwkYIgb8n2fkZER9u/fz/79+zly\n5EgQIJTCj7fjtu3ES3bhJTvR4fjaZk4pdCSJF0nipXsX92uNcooYxWnM/BQXC1Nce/0Q3/nOd2qH\ndHV386aHHmLXrl3s2rWLHTt2kEwm1zb/QtynJGCImqmpKfbv38/rr7/Oa6/vZ35uFgAdb8Vp24Gb\n7sVLdoEVaXJOb0IpdDiOF47jZfoAKAG4Zcz8JGZhivH8JNe+v59//Md/rD2tp3cTu3cFJZDt27ez\nfft2Wltbm/MexH1jdnaWv/qrv+LjH/84ly5d4lOf+hRf/epXm52tVaVqdc4bwJ49e7SM9G5coVDg\n6NGjHDhwgNdee53R0XMAqHAMO9mDm9mEl9609iWINaCcEkZhEjM/iZGfJFyaQZdytcczLa1s37aN\nrVsH2bJlC5s3b2bz5s3SLnIfGRoa4qGHHlq184+OjrJ3716OHTu2aq+xGm70uSilDmit99zuuVLC\neIAUCgVOnDjB4cOHeeONgwwPD+F5HhgmXrILt28PbnoTfrwNNnjdrw5F8TJ9y0oiJczCNEZhGqcw\nzczwKG8cPIT23drzkqkUA/39bNq0id7eXrq7u+ns7KSrq4tsNks0Gm3OGxJr7td+7dcYGRnh8ccf\nZ8eOHQwNDXHs2DG+8IUv8N/+23/D8zyOHTvGr/zKr2DbNn/5l39JJBLha1/7Gm1tbYyMjPCJT3yC\niYkJ4vE4f/Znf8bu3bub/bZuSQLGBuX7PuPj45w8eZITJ05w7NgxRkZG8H0/aIdIdOB0vAkv3YuX\n6gJDvgpY0eDzSPfiVPdpH1VewCjNYZRmsUvzzF6YYejsBXR5AZaV0GPxOG1t7XRk22ltbaWlpYWW\nlhbS6TTpdJpUKkUqlSKZTJJIJEgkEoTDYWmcvQ/99m//NseOHePQoUO10kbVsWPHOHjwIKVSie3b\nt/M7v/M7HDx4kH/7b/8tf/EXf8Ev//Iv8/zzz/Onf/qn7Nixg1dffZWPf/zjfOtb32riO7o9uUrc\n56p9qy9cuMDY2Bjnzp1jZGSE02fOUK4MWFJmCDeexe16FC8VNFRjhpuc8/uEMtDRNF40jUd/bXcR\ngi7Adh7DzqPsBQy7gO0UmM8XOT97CdM7h3JKaLd8y5cwTJNYLEYsFicWCwYtxmMxYrEYkUiEaDRK\nJBJZksLhcG15oxQKhW64LxQKYZrm6n5mgne+8521HweZTIb3vve9ADz66KMcOXKEhYUFvve97/Hc\nc8/VnlMu3/p7sh5IwFintNYUi0Xm5uaYn59ndnaW6elppqenmZiY4Nq1a1y8eInLVy5j133RlBXG\njbbipQfxutvxE1n8WMsdd3G9V5HzP8AoTN/7iTwb5dpoK7ziQc6Pt1Ee+OG7P4Fh1oLJrV/IR3ll\nlFsCtzK+pJpcG3yHkucw6zmQc1GzOZQ/g6FdlO+hfCcYd+K7aM+99Ws1wDRNQqEwoXCYcHgxsEQi\nESK3CT6WZdUCj2VZmKaJZVm1ddM0MQwDwzAwTROlFIZh1JbAkn3VVH+MUqp2nuo561P1tap5qC7X\nUyktElnsGGIYRm3bMAxc18X3fVpaWjh06FCzsnhXJGA0Ublc5td//dc5cOBAbV/1S+/7PjfrkKBC\nEfxwAjeURLdsx4+k8KMZ/GgGHU7cUfvDil3YlzELUyjPuf2BtxGNRtn7k3vZt28fpRXOpy5Mrcp7\nXwlaKTwVAiMEBO0ifryNcv/ToL3KAMcgiKjKNr6H0n7dPh909Thv8bjl+0ouFHyUXgiCm/YwdHCu\n+nPje2jfA+0398O5CaNScqp++3/jN35jxaaUMU2T7u7uJV2wU6kUuVzuFs+6uXQ6zeDgIF/5yld4\n7rnn0Fpz5MgR3vzmN69IfleLBIwmmpmZ4fXXX2/oWG2G8eJt+PF2/GgaP5xAR1L44RSYG/fPuHfv\nXl544QW01rz00kvNzk7zKQXKAsOqDXS8436OWi8NOnUBZHG9LhBpv3ZcNaDgubWSj/LdJcerSqBC\n+8HYGO0DfuV1dZBjXRnZv2S/X9l3d3zPW7K9kj1APc9jdnZ2ScBob2/n7W9/O4888shd9cb60pe+\nxMc+9jF+8zd/E8dx+PCHP7zuA4Z0q22ys2fPMjU1RblcplQqUSqVyOfz5PN5crkcuVyOubk5pmdm\nmZ6eYm52Nmi4rqMiCdxwGi+awY+14Mda8eJtTR0vERv+Glbuyj2fJxqN8uyzz/Lyyy+v+CRybqqb\n4u73rOg574rW4DtBiaxyIQ6mR3EWL97Vi7LvLrnQX3fR1y7K94MSAv6S42olBN+7fZ4aEFQRWZhW\nZVlXjRQsDZQyMAyFMgwUKlhXKlg366qhKtuGYWAsq5IyDGNJlVe1CqxaHWWaJuFwuLas7t+8eTPb\nt29fUvUF3HS7un6jZfX9rqdqr7sl3WrvY1u3bmXr1q0NH+95HjMzM1y9epUrV65w+fJlxsfHOX/+\nPKNjYxQmhhcPjqVxou14yQ68ZCd+vD2Y42kN+PE27r22HRY8m7/+m6+jrTikWlbgjIv8eNuKng+t\ng4u8U8RwCii3WJkLq7yYvDLKszF9B+XZ4Nlo986q7pRShEJhwpFwsAwH6+FQlGh0aTtEtf2hfllt\nLF/eMB6JRG7YWF7fYF7ffrHeL55DQ0MyFcwKk4BxnzFNk2w2Szab5eGHH17ymNaayclJzp49y5kz\nZ4IutUNDTF4IBuRhmHiJLG6yGy/dg5foXLXqrHtqTF7P3BJGaR6jnMMo54Iut/YCllNA2Xn0Tdpt\nYvF40GOmPU063bWkW208Hicej5NIJIhGo0SjUWKxWG1Z7SlVf1Ff7xdrsTFJwNhAlFJ0dHTQ0dHB\n008/Xds/NTXFiRMnOHr0KIcOH+bM6aP4lw9XAkgnbroHN92Ln8iueW+qdUlrlFPAKM5gFGYwSrNY\npTnM8jzaWVotlmlppae3i+7unbVA3tbWVkuZTIZMJoNlyb+auP/Jt/gB0N7ezjPPPMMzzzwDLE4J\n8sYbb7B//wFGRt4gcvENlBXBTvXgZTbhpjcFM85udNoPSgyFqWCakOI0oeLMksCQybSwZdsWNm/+\nYforo7w3bdpEd3f3ku6TQmx0EjAeQPF4nKeffrpWCpmdneWNN97g9ddf59XXXmd69J+CA2MZ7FQv\nbnoTXqobrPt8sJ/WqPJ8MBFhfhKzMIlVmK5VI1mhEIODg+zc8UTtvhqDg4NSDy5ExaoEDKVUO/DN\nymY34AETwBbgktb6TavxuuLutLS08K53vYt3vetdaK05f/48r732Gvv37+fgwUPY14YWpxOptn8k\nO8G8u9s8rolacJjCrJQerOIU2g1uCRsKhdm+fRu7d7+NnTuDe2YMDAxI1ZEQt7Aq/x1a6yngcQCl\n1GeBBa317yultgD77va8SilLa70SnW/ETSilajOzPvfcc9i2zYkTJzhw4AD7Dxzg5Mnj+FeOBFOJ\nx9txEh14iSx+ogM/mm5OG4hrY5RmMYszGIVpzOI0VnGmFhxMy2Lr1q08tPst7N69m507d7JlyxYJ\nDg+YFz79v3FtcuUGanZm2/j8//F7tzwmmUyysHD3tye+lS984Qvs37+fz3/+86ty/htpxn+MqZT6\nM+BtwEXgp7TWRaXUK8C/01rvV0plgf1a6y1KqY8AzxIMd00A72pCnh9Y4XCYxx9/nMcff5xf/MVf\npFAocPz4cY4dO8bhw4cZGh6mfG0IAGVaeLFWvGhLbeS5H0nih5PBtB5327NH+0H3VDuPYS9Ueifl\nMErzhOx5dDlfOzQSjbJt2zZ27ngrO3bsqAWHu73pvdg4rk1OM9L1P63cCa9+e+XOdZ9oRsDYAfwL\nrfVHlVJ/Dfw08MXbPOetwGNa6/U5j8MDJB6P85a3vIW3vOUtQDAu5Pz58wwPDweTHp4+w+jYGHPj\np5c8T5kWhON4RgTftNBGGAwDlBkEkupoXx2MHK6NVXBLaLt4XT4SyRT9fX1s3vwYAwMDDA4G963o\n7u7mT/7kTwB49tlnV/8DEeIOfeQjH2Hv3r184AMfABZLIa+88gqf/exnyWazHDt2jCeffJIvfvGL\nKKV4/fXX+aVf+iXy+TyRSIRvfjOo8b906RLvfve7GRkZ4X3vex+/+7u/u6p5b0bAOKe1rs64dYCg\nXeN2/uFmwUIp9TzwPMDAwMCKZFA0zjRNBgcHGRwcXLI/l8tx8eJFrly5wtWrV5mammJ6ero2en0h\nX8Bxyth2ZdyCAitkEQ6HiUbjpJKdJJNJMpkMbW1ttLa20tnZSUdHBz09Pbe8reqZM2dW8y0LsWoO\nHjzI8ePH6e3t5e1vfzv/9E//xFNPPcWHPvQhvvzlL/OWt7yF+fl5YrEYAIcOHeLgwYNEIhF27drF\nJz/5Sfr7+2/zKnevGQGjfg5fD4hV1l2gWgG+/C40eW5Ca/0i8CIEU4OsUB7FPUqlUuzevXvd3xBG\niPXkqaeeoq8vuKnX448/zujoKJlMhp6enlqpPp1enB35x37sx2q9+N70pjcxNja2qgFjPY3SGgWe\nrKx/oIn5EEKIVWNZVm0+OK01tm3XHqsf12OaJq7rorW+6cj+Gx2/mtZTwPh94GNKqe8B2WZnRggh\nVsOWLVtqtzT47//9v+M4t55LbPfu3Vy6dKk2s3Uul1v1wHAzq14lpbX+bN36KPBI3fbv160PA4/V\nPfXXK/u/AHxhdXMphNjoOrNtK9qzqTN7+8krC4VCrYoJ4NOf/jQf/ehH+amf+imeeuopfuzHfoxE\nInHLc4TDYb785S/zyU9+kmKxSCwW4xvf+MY95/9uyPTmYsP5pV/6JQD+8A//sMk5Ec10o2m8xb1N\nb76eqqSEEEKsYxIwhBBCNEQChhBCiIZIwBBCCNEQCRhCCCEaIgFDCCFEQ2R+ZyHEA+Ezv/ICc5NX\nV+x8mWwXv/UHt55a3DRNHn30URzHwbIsfu7nfo5f/uVfxjAM9u/fz1/8xV/wR3/0RyuWp9UmAUMI\n8UCYm7zKr24bXrHz/c7I7Y+JxWIcOhTMtXrt2jV+5md+hrm5OT73uc+xZ88e9uy57dCHe+K67ore\n90WqpIQQYg10dnby4osv8vnPfx6tNa+88gp79+4F4LOf/Sy/8Au/wDve8Q62bt1aK3WMjo7y0EMP\n8dGPfpSHH36YH//xH6dYDKb7HxkZ4d3vfjdPPvkkzzzzDMPDQTD8yEc+wqc//Wne+c538qu/+qsr\n+h4kYAghxBrZunUrvu9z7dq16x4bHh7m61//Oq+99hqf+9znanNMnT59mk984hMcP36clpYWXnrp\nJQCef/55/viP/5gDBw7w+7//+3z84x+vnevUqVN84xvf4A/+4A9WNP9SJSWEEGvoZtMxPfvss0Qi\nESKRCJ2dnVy9GrS3DA4O8vjjjwPw5JNPMjo6ysLCAt/73vd47rnnas8vlxfvHPHcc89hmuaK510C\nhhBCrJGzZ89imiadnZ0MDQ0teexmU5Uv318sFvF9n5aWllr7yHK3m9DwbkmVlBBCrIGJiQn+zb/5\nN7zwwgs3vb9Fo9LpNIODg3zlK18BglLL4cOHVyKbtyQlDCHEAyGT7WqoZ9OdnO92isUijz/+eK1b\n7c/+7M/y6U9/ekVe/0tf+hIf+9jH+M3f/E0cx+HDH/4wb37zm1fk3Dcj05uLDUemNxcg05vfzL1M\nby4lDLHhbN++vdlZEGJDkoAhNpxPfvKTzc6CEBuSNHoLITasjVTlvhLu9fOQgCGE2JCi0ShTU1MS\nNCq01kxNTRGNRu/6HFIlJYTYkPr6+hgfH2diYqLZWVk3otEofX19d/18CRhCiA0pFAoxODjY7Gxs\nKFIlJYQQoiESMIQQQjREAoYQQoiGSMAQQgjREAkYQgghGiK9pMSK01pz8eJFTp48ycjICOfPn+fi\npUtMTU1TyC/gui5KKSKRKOlMmu6uLvr7+9m2bRu7d+9m586dK3pbSSHEypD/SnHPXNflzJkzHD58\nmMOHD3Pk6FEWcrngQWVALIMbSuKHu9CxfjBM0Jqy75Jzilw+e5Wjw6fRL78MQCQS5Yd+6If4kR95\nOz/yIz9CS0tLE9+dEKJKZqsVd8z3fc6ePcvBgwc5cOANDh8+TLFYCB6MZXASnXjJTrxEFj/aCkYD\nNZ9ao5wC5sI1zNxlwvMXoZTDME2efuop3vve9/L000+vyl3EhHjQyWy1YkVNT0/z2muv8dprr/H6\n/gPk5ueCB2IZ7GQ/Xk83XqoHHY7f3QsohQ4ncNsGcdsGKWuNUZwmNHWWHxw4zPe//306u7r54HMf\n4D3veQ/x+F2+jhDirkkJQ9zUxYsX+fa3v823v/MdTg4PA6DCcexUD266Fy/diw6vzq0gl/B9rNkx\nItdOYOSukkyl+NAHP8j73//+VbsVpRAPkkZLGBIwxBLT09N885vf5O//4R84feoUAH4ii9MygJvp\nx4+3wT3eXvJeGLmrRC4fwZq7QCKR5EMf+iA//dM/LYFDiHsgAUM0zHEcfvCDH/C1r32NV199Fd/3\n0Yks5dagekhHks3O4nWM/CSRS4ewZs+TSKb40Aef4/3vfz/J5PrLqxDrnQQMcUtaa06fPs3Xv/51\n/v4f/oHc/DwqHKfUtg03ux0/1trsLDYkCBwHsWYvEIvF+ef//Kd43/veR2dnZ7OzJsR9QwKGuE41\nSHz3u9/lm9/6FhfHx8EwcTL9ONkdeJlNQTfY+5CRnyJ8+Qih2VEMpXjrW9/KT/zET/DUU08RDoeb\nnT0h1jUJGALHcRgbG2NoaIgjR47w+v4DzM5Mg1J4qW6c1kGctkGwInf9GpHzP8AoTDf+BM9GuTba\nCoN54wu5H2+jPPDDd5UfVc4RujZMdPoM2i4Si8V5+umn2LNnD48++ij9/f0YjXTzFeIBIgHjAVQo\nFPgv/+W/MD4+zvkL41y5fAnP8wBQ4Rh2shs304eX6UOHYjc9z50EAbMwhfKchvMYjUbZu3cv+/bt\no1Qq3fAYbYbw4u3X7b+jQOL7mPMXsWbGiMxfRNt5IBgU+MQTT/Bbv/WfUE1svBdiPZFxGA+g48eP\n85WvfKW27cXbcdq34bYMoCOppvZuqtq7dy8vvPACWmteeuml1Xshw8Br6cdr6Q/GdJTmsKZG4PJh\nvv/972HbNpHI3ZeshHgQScDYQDZv3sz2HTsYvzBOqVTELEwFJYBrx7HjHXjpHtz0JnQ0fcvz3El1\nUGz4a1i5Kw0fv2/fPrTWvFyZBuRGvHg7xd3vaficN+WWsWbPY82OE85fQdtFAFpaW2XEuBB3Qaqk\nNiCtNXNzc4yNjXHmzBmGhoY4dPgwk5V7G+t4K3bLZty2rfixe5unab21YaA15tw4oYmThObHwfdp\naW3jqbfs4ZFHHmHXrl1s2bJFShdC1JE2DLFEdQbZ73//+/yP//Fdjh49gtYaP5HFbt+O27YVHYo2\nO5t3z3MJTZ4ieu0ElOZJZ1p49z/7cd71rnexa9cuaa8Q4hYkYIhbmpqa4lvf+hZ/93dfZ2TkDBgG\nTmbg/ute6zmErg0Tu3YMbRfZ/dBDfPC55/jRH/1RmSJdiAZJwBANGxkZ4W//9m/5+t//fW0AX7l1\nEKdtK34iuy4ay69TDRRXj6KdEk88+SQ/96/+FW9+85ubnTMh7jsSMMQdcxyHV199lb/7u6/z/R98\nH891IZrCzgzgtm7GS3Y2v+ThOYSvDRG9ehztFHlyzx5+4ed/nocffri5+RLiPnbfBAyllAccrdv1\nz7XWo8uO6QX+SGv9gVudSwLGysnlcnz3u9/llVdeYf+BA3iui7Ii2KkevMwm3HRv0FV3jSg7T+ja\nENGJk2i3zBNPPsnPf+QjPProo2uWByE2qvspYCxorW86Y5xSytJau42cSwLG6igUCrz++uu8+uqr\n/ODVV5memgoeiKaxk1146V68VPfKT3Xu+5jz44QmTxOaPY8CnnnmGX7mZ36G3bt3r+xrCfEAu68D\nhlLqI8CzQBRIAL8A7NNaP3Krc0nAWH1aa86fP8+BAwd44403eOPgQQr5YBQ1sQx2ohMv1Y2X6AzG\ne9xh+4dyipjzl7HmxgnPX0A7ZVLpDM++5yf4yZ/8SXp7e1fhXQnxYLufRnrHlFKHKuvntNbvq6y/\nFXhMaz2tlNrSlJyJ6yil2Lx5M5s3b+b9738/nucxMjLCoUOHOHToEIcPHyE/eTo41orgxlrxohl0\nJIUfiqOtSK0dRHkOyi2h7AWM0hyh4gyU5gFIJJK87R0/yjvf+U6eeuop6fEkxDqwHv4Li1rrx2+w\n/x+01rcdEaaUeh54HmBgYGCl8yZuwzRNdu7cyc6dO/ngBz+I7/uMjY1x4sQJTp48yZmREUZHxyhM\nLNz0HIZp0t3dzY7HfoiHHnqIxx57jF27dslobCHWmfUQMG4m38hBWusXgRchqJJa1RyJ2zIMg8HB\nQQYHB3n22Wdr+/P5PFNTUywsLOC6LkopotEomUyGtrY2KUEIcR+Q/1KxJhKJhNxGVYj73H0ynFcI\nIUSzNb2EcaMutVrrLwBfqNseBW7ZQ0oIIcTqkhKGEEKIhkjAEEII0ZCmV0mJ9U1rTalUolAoUCwW\na8tqKpVKtWW5XK4ty+Uytm0vSY5j49g2juPgOg6u6+J6Lq7r4Xsenufh+X4w7brW+L6P9jUazc3G\nlyoFCoUyFIZSKKUwDKO2NJTCNE0Mw8A0zSBZlaVpYVkWlhXCtIL1UCh0w2U4HCYUChEKhQiHw9el\nSCRCJBKprUejUcLhMNFotLZtWZZMsy7uaxIwNiitNcVikXw+T6FQIJ/PL0nL91W3C/k8+XyOfL5Q\nCQ4l/DuYDSBiKkImhE1NyICwoQkpH0v5hAxN1ICkAtPQWAoMU2NaYBpgKI1BEAQMRW1dEbz+8kut\nri0VWoNf2elDbdvXwWNeJWmt8OzqtsLX4Ppga0VRKzytcCvJ0wrXB8evLjWOd/d/E8MwiEbCRCsB\nJBqLEYvFicZiRKNRYsuW1fXl2/XLSCRCLBYjHA5LMBKrTgJGE2mtcV0X27aX/Cpf/mu9/td89Rd9\n/a/9QqFAoZCnsLAQrBeLFEtlGpn2JWopYhbELJ+Y6RM1PDosTX9IE2vTRC1NzNREzWA9agbbERMi\npl6SwsbiTCBfPBXn/MLSr5enFZ4HZeD6y//KKbqKgquIW5qY1XiwM5XGVJob3wdwkdZBsPIry+64\nx0/0l7B9he2D46lg3QPbV5Qr22UPyl6wXfYV5ZzCnoU53+Cab1D2jMrjUHY1dzqoKBIJEw2HCUci\nRKMRIpEokUiUcF3pp5qqJaVqqWl5iao+1UpmplnbXlJiq2xX0422qyW+2x0rQW99k4BR8corr/DV\nr371hhfZ6r7ql7n+S621vu7x2jm0xnWdoBrGdXBsB8dxsJ3q0m3oor5c2ISIpYKLuOkTNXyipk+X\nqYlGNPFE5QJvao5Oh5gtG8EvdgWmqvySr/sFX8/TipyjyDl3nK0lxnImRa85TWTRaJS9e/eyb98+\nSgulVX+9S3mTqdLdj0q3lMYyPRLm0uKLrxeDkl8pDfl1wcrXarE0pUFTxC+XKJegNLd4bBDgVGVb\n1fZVH19PjGpVomFgmkuDSrBtYlb3mUatatEwDEzLwjQqf4e6L/byIHSr/7k7Obbejh07+Nf/+l+T\nTN50HtUNQQJGxR//0R8xNX0H96ZeJVFTkwz5JEOaVMgnFdKkwj6ZsE86pEmHfWLWYkCo/uqv/3Vf\nb6Zs4OsH61fb3r17eeGFF9Ba89JLLzU7O3etGuQDN7pwNXYxqw8cQYBRdYFkMXhUq/CWB6VaaWpZ\nyap2nmXnqu67m1KkrzW+54HnwT3+aFlLx48f56mnnuJtb3tbs7OyqiRgVPznF1/kypUrAPi+X1vW\nJ8/zrlt6nofrurXl8uRUGnedSqnCcZwlDcFBNVSZcqmEXamWKpfLzJVsnFxDs7oDQbAIqpcqVUiG\nR8wMgktHzCNm6loVTfWY+vXqYxFT112k7t5vvZFmeLY5JYx9+/ahtebll19ek9fbnPL4zBPzd/Vc\nX4PtQdlXlNxKVVW12qquCqtEqpAQAAAgAElEQVTk3aRqq7ZPYWsD2zewvaBqzHY1jr/Cb5bgV7hp\nGJiWsfhr31AYRqUkUK1iqisRqOVVUKaJaZiLx9ygqqp+3/JqsBut366abPmxt6oiU3UdKOqr1Opr\nGbTWte1IJML27dtX/sNeZyRgVGSzWbLZbLOzsYTnebU2jGr7RX0bxmL7RaHWnlFtwC4UChTyea7l\nF8gvLFAoFikUb189o6gEnlClBGP4xEyvUpJhsWRjaiKWJmLUt2MEjdxhU9MW9dmWdlBUG64Xl6ut\n6Lp85+W/psvSxFoa+xVe/8v4+nV1/S/oul/rCs3XzkexPYXjU2m/WGzHKFe2y35wQa8GBdvVlO+w\nET1kmUGvq0iEaCxKNB0nGo3SGl1sGK/vnVXttRUKhWrb9T296tswTNMkHA5jmmatLaPablHflmEY\n0hv/QSUBYx0zTZN4PE48Hl+R8/m+XwsmN+o1Vb+/1muq0qA+vbAQBKh8gWKpjOM0XvpZ8p4UWKbC\nUkHPKMvQtbYVRdC+Yiq9NNDcooKjGg581GIPKaUIWVDWipIT/Ir39GJ1i6fB98HVGt8Ptu/FlaLJ\n0GzQVF7tCRWJhImEI0RilW61sTiZWKzWq6l6cV/eK2p5z6jlPaRkkkbRTPLte4AYhkEymVyRhjnX\nda8r+Szv3XX9OIzFarn6artq1V59VV+1M0G1erC+cwEsbZysVh+ougbT+uqE+mqH+l4+y385L+8l\nVP/re/kYjOW/2KvrckEXG5l8u8VdsSyLVCpFKrV29/UWQjSXVEYKIYRoiAQMIYQQDZGAIYQQoiEN\nBQyllNxcWQghHnCNljDOKKV+Tyn1plXNjRBCiHWr0YDxGHAK+L+UUj9QSj2vlEqvYr6EEEKsMw0F\nDK11Tmv9Z1rrtwH/HvjfgctKqT9XSm388fBCCCEab8NQSv2kUuq/An8I/AGwFfgb4GurmD8hhBDr\nRKMD904D/wj8ntb6e3X7v6qU+tGVz5YQQoj1ptGA8ZjWeuFGD2itP7WC+RFCCLFONRowXKXUJ4CH\ngWh1p9b6F1YlV0IIIdadRntJ/SXQDfwz4NtAH5BbrUwJIYRYfxoNGNu11r8B5LXWfw48Czy6etkS\nQgix3jQaMKo3S5xVSj0CZIAtq5IjIYQQ61KjbRgvKqVagV8H/j8gCfzGquVKCCHEunPLgKGU+nTd\n5s9Xln9SWSZWJUdCCCHWpduVMKp3x9kFvIWgdAHwXuA7q5UpIYQQ688tA4bW+nMASqm/B57QWucq\n258FvrLquRNCCLFuNNroPQDYdds20ugthBAPlEYbvf8SeK0yl5QG3gf8+arlSgghxLrTUMDQWv8n\npdTfAs9Udv281vrg6mVLCCHEetNoCQOt9RvAG6uYFyGEEOuY3NNbCCFEQyRgCCGEaIgEDCGEEA2R\ngCGEEKIhEjCEEEI0RAKGEEKIhkjAEEII0RAJGEIIIRoiAUMIIURDJGAIIYRoiAQMIYQQDZGAIYQQ\noiFNCRhKqf+glDqulDqilDqklHr6Fsd+RCnVu5b5E0IIcb2GZ6tdKUqptwJ7Ce7gV1ZKZYHwLZ7y\nEeAYcGkNsieEEOImmlHC6AEmtdZlAK31pNb6klLqPyqlXldKHVNKvagCHwD2AF+qlERiTcivEEII\nQGmt1/YFlUoC3wXiwDeAL2utv62UatNaT1eO+Uvgr7XWf6OUegX4d1rr/Tc53/PA8wADAwNPjo2N\nrcXbECsgn89z9epVJiYmmJiYYGZmhtnZWWZnZ8nn8+TzC+QXFnAcG8dxcR0HjcZQBihFOBQiHIkQ\niUZJJJIkk0HKZDK0trbS0tJCNpulo6ODbDZLNBpt9lsWYl1SSh3QWu+53XFrXiWltV5QSj1JcPe+\ndwJfVkr9GpBTSv17gkDSBhwH/qaB870IvAiwZ8+etY1+4ra01ly5coVz584xOjrK2NgY4xcucHH8\nArPzueuOj4UU6ZAmbnnETJ8WUxMyNJYBZkSjCO4RrDU4vsJZUNjzMOcZXPZMCq5BrqzxbvBNyKSS\ndPf00N3TS29vkDZt2kRfXx/ZbBbDkD4gQtzKmgcMAK21B7wCvKKUOgr8r8BjwB6t9QWl1GcB+Tl4\nn/F9nwsXLnDy5ElOnjzJ6VOnOHPmNIViqXZMaxS6Yw6PJz06OzyyUZ+2SJAyEZ/QClyztYaCq5iz\nFbO2wUzJYKpsMlUqMTk5zcmLp/inosL1F58TCYfYtGkT/QOb6e/vZ2BggIGBAfr7+0kkEveeKSE2\ngGY0eu8CfK316cqux4GTBAFjslJl9QHgq5XHc0BqrfMpbm9+fp4TJ05w/PhxTpw4ztCJE7XgEDGh\nP+ny1jaXgaRLX9KjN+6RCK1+IVApSIQ0iZCmN+Hf8Bhfw3TJ4GrR4GrR5HLB5Mp8nuH9o/yP7wSP\nV7W1ZOjfvJmBSjDp6+ujr6+Pnp4eQqHQqr8fIdaLZpQwksAfK6VaABc4Q9AGMQscBUaB1+uO/wLw\np0qpIvBWrXVxTXMrgKBq6eLFixw7doyjR49y7OgRxs5fAIIL9EDS54fbbLamXLamXXoTHoZqcqZv\nwVCQjflkYz4P4y55zPXhatHkSsHgUt7kSqHE5dEp/nHoKAv2YiQxDIPurg429Q2wadMmNm3aRG9v\nLz09PfT29kqbidhw1rzRezXt2bNH799/w7ZxcYds2+b06dMcO3YsSEePMDM7B0A8BDvSNjsyLtsz\nDltTLtGmVG6uvZytuFI0uVowuFIwuVo0uVayuFK0KDpL/5daMml6enrp6e2lu7ub7u5uurq6aikW\nk05/Yn1Yt43eYv3RWnPp0iWGh4cZHh7m+LGjnD59Gsf1AOiMa96Uttm5y2FHZv2XHlZTKqxJhV12\nZJbu1xoWHMW1ksm1gsFEyWSiWGLi6hTHLwzz7SJ4y2rHUslEEDy6e+jo6KCzs7OWqj27pMpLrCcS\nMB4wrusyPj7OyMgIp0+f5vTpU5w6eZLcQh6AkAmDKZf/pddhW9plR8ahJbJxSqGrRanFYLItff3j\nvoaZssFUyWCyFCynyiWmZmcYu3qGg2WTgnP959zakiab7aSzq4tsNkt7e3ttWU2ZTEZ6eIk1IQFj\nA9JaMz8/z6VLl7h48SIXLlzg/PnzjI2e48KFC7WSg2VAX9LniZTN1k0ug2mXvoSHJdeeFWcoaI/6\ntEd9dt7kmKIL02WT6ZLBdLmSSiVmZiY5f/UUh8vmkjaU2rkNg5ZMmtbWVlrb2mlpaamldDpNOp0m\nlUqRSqVqY1Xi8TiWJf/+4s7IN+Y+orWmUCgwNzdXG+A2PT3N1NQUk5OTXLt2jYmrV7hy9eqSrqxK\nQUcMemI2P97r0ZcMAsOmJgWHL56Kc35h5b96RVdRcBVxSxOzmlcqGki6/MudhTt+XsyCTVbwd7kZ\n24M522CmbDBrG8yWDeZsxbxdYG7uGtOTJmOuybytKLu3/gwi4RCxWIxYLEo0GiMeTwQDISspHA7X\nUigUqiXLsrAsq7ZummZt3/Lt6vryfdW0fNs0TQzDuC6J9UECxi14nkc+n0drjdYa3/eXrNcnz/Ou\n2/Y8D9d1lyTHcWrJtm1s26ZcLtdSqVSiWCxSLBYpFAoU8gssLCywkMsxv7DAzfoomAosQxNSmrCh\nScYgZGjCBoQNjVJQ9hQj8xYj8839s4/lTIreyl8EotEoe/fuZd++fZQWSrd/wioZy5mrEhAbETZ8\n2sM+7eGgGszX4GmFp8HT4FfWg8c8/GKZfAFyGnyCthgfhdagUfh6caBkMysmDaVAKQylUIrgVxCg\nUNXVJRrty1M9V3BetRiklMIwTUzDWAxmloVlmlihEJYVwloWROuD6q1SfbANhUI3Dbj1AXR5IDVN\ns5bf6jKZTK56qVECxi185jOf4dVXX21qHkKGpi3i0x/zmI0blD0VjHpWuhYkLMUN/2keNHv37uWF\nF15Aa81LL73U7Ow0naGCZC251N/7Zb8aPPSydSpBprofoDPm8c5N5UrgAtdXtXVPL677dduuH4zi\n9+qDna/wWQyC1ddb2o+gOg9A5f0vf2jZ2w/yHQTH+jwFrweOVjgOuGWF7SuKXpCvshdsrze7du3k\nP//nF1f1NSRg3ML73/9+RkZGyOfzS/ZrrVE3uEJX9yulaiWR+uOq60FXZr34HMDzfGzHue6cjq+4\nWgy6b0LwvU+EFcmQJm66ZMI+LRGflrBPW9SnPRLUk7dFfMx1WpL/rTfSDM+ufOb27duH1pqXX355\nxc99JzanPD7zxHxT83ArWoPtB1V4JS9IZW/xQmhXLoyOX12q2kXcrVy83cpF1a27oLsaPK3xqhd7\nFBPlEP/vSKhyIVY3DBy+r2sloA3Uyx8AyzQxLbNSEqr8/1OJeHXXhmq1W/0wh/rrx83WIbiuRCIR\nPvzhf7Hab0cCxq08/fTTfPWrX739gSvE9/1atVShUKilhYWFWpqfn6+1YczMzHBlaoIT0zPkC0vH\nM5oKsjHoiNr0xD164sFI676kRzrc3P/KgaR7+4PuQtF1+c7Lf02XpYm1NLcNY61oDXlXMWcbzNuK\nedtg3jHI2YqcY7DgKBYcRcEzybsmBVdRcPSSkeyNClmLVSchy8KsLK1QsB48FsIKWUStUMNtGIZh\n1Jb11TBKqSXr1SUsXmBv9MMt+Fz0DdeXP6e6Xl8dVX3d+uqg+vzWp2rVUjgcXlItVV3faO0vEjDW\nEcMwKo2QMVpbW+/oucVikYmJCa5du8aVK1e4cuUKFy9e5OL4Bb574QLFUrl2bDqi6IvbbE65bE66\nbEm5dMf9NRtbcTcNwg+ikgvT5aCBezGZzNiKWdtk1raYK7NkTqwqpRTJRJx0Ok2mvYWuTKbWQ6ra\nSyqRSNS+b7FYjGg0SiQSqS3rG7wty7rpxVk8OCRgbBCxWKw2Yd5yWmsmJycZGxvj3LlznDt3jpEz\np/nGuXM4TvBrOBZSbEkGU3tszzhsz7hkmlwS2cgcP5jLaqpsMFUymap2pS0ZTNsW0zcZl5FMxINx\nGAMdbM9maWtrq6XW1tbatO6pVEq6zYoVJ1ODPMBc12VsbIxTp05x8uRJhk4cZ2TkLK4XdOvsiMOO\nVJntmWCEd3/ywR3hfadsDyZKJpMlg8miwWTJZKI6a245xGzp+v+7lkw6GOXd2VUb7V1N2WxW7ukh\nVk2jU4NIwBBLlMtlTp8+zfHjxzl+/DjHjh5meiaYQyoWUmxL2ezMOOzMOGxNPzhzSN1I3lmcV+pa\n0eRq0eBa0WKibDG7rFdvyDLp7Oyku6e3NpdUZ2cn3d3ddHZ2ks1miUQizXkj4oEnc0mJuxKJRHjk\nkUd45JFHgMUbIB09ejSYhPDIYf7r6Hm01hgKBlI+21M22zIO29MunTF/Q3XxtT24Vpn+/HIhmMH2\nStHiSjF03ajrjvY2erf08dbeTfT09NRSV1cX7e3tG64BVDx4pIQh7lgul6vdB+Po0aMMD52oNaon\nw0FbyGDKYUvKYyC5/oOI1jBjG0EwKNQFh2KYieLSrp7tba30DwzQ3z9AX19f7Y59PT09UkIQ9y2p\nkhJrxvM8xsbGOHHiRDDj7dAJzp4bxfeD7jsxS9GbcOiLBzPddsc9umIeHbGVucNeI2wPpsoGk8Wg\nXaFWhVQKcbVgUK6bjSMSCdPf10f/wObaXfeqKR6Pr02GhVhDEjBEU5XLZc6dO8eZM2c4c+YMo6Pn\nGD17dsl9vBXQEoW2iEtb2CMT1qTDPqmQX5sPKmpqwmYwmr1+IGJwT2+wKwPLCq6qzSUVjEUIlrO2\nxbRtkisv/Z6HLJOe7m56+4I76PX397Np0yYGBgbk/t7igSNtGKKpIpEIu3fvZvfu3Uv2z87OBuND\nKunatWvB2JGrlxmemSWXv/cxGpZp0tKSpqW1jZ5sB49Vehp1dXXVbmSUzWYxTfOeX0uIB4kEDLGm\nqtNuP/zwwzd83HVd5ubmWFhYoFAokM/ncRwH13WxbRugNho3FArVBpglEgmSySSJRIJEIiGDzIRY\nBRIwxLpiWVbtxkBCiPVFKmqFEEI0RAKGEEKIhkjAEEII0RAJGEIIIRoiAUMIIURDJGAIIYRoiAQM\nIYQQDZGAIYQQoiESMIQQQjREAoYQQoiGSMAQQgjREAkYQgghGiIBQwghREMkYAghhGiIBAwhhBAN\nkYAhhBCiIRIwhBBCNEQChhBCiIZIwBBCCNEQCRhCCCEaIgFDCCFEQyRgCCGEaIgEDCGEEA2RgCGE\nEKIhEjCEEEI0RAKGEEKIhqxpwFBK/Qel1HGl1BGl1CGl1NNr+fpCCCHunrVWL6SUeiuwF3hCa11W\nSmWB8Fq9vhBCiHuzliWMHmBSa10G0FpPaq0vKaVGK8EDpdQepdQrlfXPKqX+H6XUK0qps0qpT61h\nXoUQQiyzZiUM4O+B/6iUOgV8A/iy1vrbt3nObuCdQAo4qZT6P7XWzirnUzSZ67rMzs4yPT3N3Nwc\nuVyOhYUFyuUypVIJ27bxfR/f9wEwTRPTNAmHw0SjUaLRKIlEgkQiQSqVIp1Ok8lkiMfjKKWa/O6E\nuH+tWcDQWi8opZ4EniEIAl9WSv3abZ72cqVEUlZKXQO6gPH6A5RSzwPPAwwMDKx8xsWqmJubY2xs\njIsXL9bSlcuXuXr1CjOzc2itb/l8U4GhQAO+DtLthEIWLZkMbW1ttGc7aG9vp729nWw2S0dHBx0d\nHXR2dpJIJCSwCHEDa1nCQGvtAa8AryiljgI/B7gsVo1Flz2lXLfucYP8aq1fBF4E2LNnTwOXDbGW\nbNtmdHSUM2fOMDIywtmREc6dHWF2Plc7xlCQjUE2YvNI1Kdts09LxCcd1qRCPglLEw9pIoYmYmpM\nBcuv51qD44PtK0qeouQqCq4i7yoWHIOco8jZBnP2AvOTlxm/bHHMNpkvX/+ViceidHZ20tXdQ2dn\nJ93d3bXU1dVFW1sbhiEdDMWDZy0bvXcBvtb6dGXX48AYEAOeBP4W+Om1yo9YebZtMzIywsmTJzl1\n6hQnh4cYHRvD84Kqo4gJmxIejyUcNnV69MY9uuMe7VEf6x6vv0pB2ISwqUmGGv/d4PowWzaYrqSZ\nssFUqchUYY6rQ6McP2iyYC89Xyhk0dXZSXdPLz09PXR3d9PT01NLmUxGSihiQ1rLEkYS+GOlVAtB\nqeIMQVXSQ8D/rZT6DPDqGuZH3APf97lw4QJDQ0MMDw9z4vgxzp49h+t5AKTCii3JMu/pc9mc8hhI\nunTGfIx1dh21DMjGfLIx/6bHlFyYLJlMlQwmSwYTJZPJUp6JUxc4edQit6yUEo2EgxJJT++Skkln\nZyednZ20tbVhmuZqvzUhVpy6XV3x/WTPnj16//79zc7GhjQ1NcXw8DBDQ0MMDZ1geGiIfKEIQMxS\nbEnZbE25bE27DKZc2qP+ddVGG1WxElAmikEwmSgaTJVMJsoWUyWTvLP0f8wwDNpbW+jo7CLb0RG0\nqbS309raSmtrKy0tLWQyGTKZDMlkUkorYtUppQ5orffc7rg1bcMQ94eFhQVOnTrF8PBwECROHGdi\ncgoI2hv6kz5Pt9ps2xwEiJ64t+5KDmspZkF/0qM/6QHXd+IruorJksF0yWCqbDBVMpgpF5i+coWR\nCyEO2AZ5+8Y/3AzDIJWIk0qnSKUyJFMpkskkyWSy1hMskUgs2VddTyaT0jNMrCgJGA+4ubk5zpw5\nw+nTpzl9+jQnh4cYv3ip9nhnHLYly/zP2122pV02p1wiUptyR2KWrgsoN2Z7MO8YzNtB43zOUeQc\ng7yjWHALLDhTFK8ppi+bXHBNiq6i4Gicm9ekAUHASSbile7FGTJ1pZdMJlMr0bS0tNDa2kpbWxuR\nSGSFPwGxUUjAeECUy2XOnz/P6Ogoo6OjjIyMMHLmdK3kANAegy0Jm6cHXQbTQUrdQQOyuHthE7Km\nTzYKQYfAxjh+UIIpVFLRVeRdo7JUFCoBJ+9Mkb+quHLJ4rRjkLODIHUj8ViU1tZW2tuztLW309bW\ntiRVq85aW1sJhUIr8v7F/UECxgahtSaXy3H16lWuXLnC5cuXuXTpEuPj41w4P8q1iana2AZTQW/S\nZ0fc4V3bFhul02EJDvebkAGhsL6rv13Zg/lKaWbONpi3jcqyyJw9x+yF8wyfDTFnK4rOjc+fSsRp\naW2hpbWNlpbW2iDJdDpNOp0mdYMqtHg8LoHmPiUBYx1yXZdisUipVKJQKJDP58nn8+RyOXK5HHNz\nc8zOzjIzM8P09BSTExNMTU1RKttLzhMPKbpiLltjLm/f4tGb8NiU8OiKeffcjXWlffFUnPMLq/N1\nrP4Cj1uamLX2QXEg6fIvdxbW/HVvJ2JCR8ynIwa3K9XYHsxVAsqcrRaDi1Nk3p4hd2GM0VGLnGOQ\nK2u823zMlmkSi0aIRqNEKqPzI5Eo4UiEUChEKBQiHA5jWVYtVUf0m6aJYRi1tHzbMAyUUpimiVKq\ndkz1uButV89fv7xdCoVCWJb1QLURScBYY0eOHOFTn7r3abESIUUqrMmEHPrCPo90+rRHfNqjPu1R\nj86Yf9vxCKt5kb5TYzmTorc6USwajbJ371727dtHaaG0Kq9xK2M5c918zqspYbokTOiOBiPvPQ2e\nVrV1Xys8DemQz+7WIiU3T9kH21HYZYXjQd5XONrA1QrXV7iV53i+qpyjei5dG+G/gTp6AvCxj32M\nD33oQ83Oxg1t/G/xOjM7O3vP52iPQVvYIR3yyUR8WsI+rZVg0RYJBsJJw/SivXv38sILL6C15qWX\nXmp2dh4IRmXqFkvrZRd6SIZ8NiVcyp6qJdtXwUh9T+H6Ho5WuD64lUDhaVUXdFRlShiFX1m6dUHF\n86lsB6/p3qZjwHozPn6h2Vm4KRmH0URaa1zXxXEcbNuupWp1VLFYpFgsLqmSmp+fX6ySmp5iZnqa\nudzCdeduiSo6Ig5dMZfuuE9PPKiSWo/VUQC/9Uaa4dnVqdeORqM8++yzvPzyy5RKa1/C2N3i8Jkn\n5tf8dVea1lCqtHtUq6dyTlA9NV/Xs2vBNVlwDfJ20E7SCMs0CYeDaqhQKEQ4FCIUDmGF6qulQkuq\nkhqtlqpfr25blrWkSupm1VGmadaqnqrVULeqsrpZFdd6n0pGxmHcB5RStfraeDx+1+exbZupqSkm\nJiaWNHpfvDjO0IULfPfKTO1YU0F3wqc/7tCfdOlPemxOubSEdVMH2g0k3VU7d9F1+c7Lf02XpYm1\nNKcNYz0rLwkCaklAmLMVc7bJnGMxV755AEgl4mRaMmQ6WunLtNQavOsbvasN37FYjHg8TjQaJRaL\nEYlEsCy5FN0P5K+0AYTD4do8RjdSKBQYHx9ndHSUsbExzp07x9kzp/nB2YnaMelI0KV2S6rSpTbl\n0RpZu9Ha67FR+H5SnXyxUOtiawSTLzqLEzAuOJWlq8g5JguuyfytgkAyQXt7O239WTbfpFttW1sb\nmUxGLvgPCPkrPwDi8Tg7d+5k586dS/YvLCxw9uzZ2qC9UyeH2Td2vnafiUwEtqZsBitTfmxLuyRk\nXMaqqg7gy9mLA/eqF/xC3XiLgmtQ9AwKnhmMv3D0bevqY9EI6VSKTFsLHa1tbK8buFcfBGSMhbgZ\nCRgPsGQyyWOPPcZjjz1W21culzlz5gwnT57k5MmTDJ04zsFzi7cg6U5otiZttmWCIDKQdAmt7+rZ\ndcH1YaYyI24wNUiQZm2D2XKlysdWlNybB+RYNEIykSCRTJJMpehKpm46PUh9VVC1akgCgLhXEjDE\nEpFIhIcffpiHH364tm9hYYGTJ0/WJh88cewo3zs1BwSzvQ4kPbalg8kHB9NBI/uDNreU68NUbSZb\ng8miEUxIWDKZsi1mStd3/4xFI2Sz7bT3dtDfnl0y+WBLS0tt8Fu1PUCqfUSzSS8pcce01kxMTHDi\nxIlKEDnByeHh2sDBmKXYnHTYknLYknIZSHr0xD3M+7gk4lVKCJPLgsJEyWSiHGJ6WUAwDIOObBvd\nPZuWTG/e1dVVu7tfIpFo3hsSoo70khKrRilVu7fDO97xDgA8z+P8+fMMDw8H1VnDw3xrZAT7QjB7\na8iEvoRHX8KhrzLivDfu0RZtfmlEayh6iunSYpVRMKtsEBimKgGh/jawSinaWlvo6evlicqNlKo3\nU+ru7qajo0NKBGLDkRKGWDWu63L+/PnabLhnz44wcuYMs3OLYxJCJnTGfDqjLh1RrzJS3ScTDlIq\nFEzncadBxdfUJuCr9g6atxfnTAraDgxmHIuZskF5WduBYRi0t7XS3d1DV90tWqups7OTcDi8Eh+T\nEE3XaAlDAoZYc7Ozs4yNjTE2Nsb4+DgXL17k4vgFrl69SrFUvu54BcRCikjlFqwhpTFUEESCEb/B\naF/bV9ieouxxy8bjSDhEW1sr7dkOstkOstks2Wy2Vmrq6Oigvb1dSgjigSFVUmLdqjbqvvnNb16y\nX2vNwsIC165dY2ZmhqmpKebn58nlciwsLFAqlSiXy9i2je/7eJ63ZDRvJBJMZheNRpf0HKrOnlpt\nVI7FYg/UhHFCrBQJGGLdUErVuoAKIdaf+7jfihBCiLUkAUMIIURDJGAIIYRoyIbqJaWUmgDGmp2P\nBmWByWZn4i5J3pvnfs6/5L05Gsn7Zq11x+1OtKECxv1EKbW/kW5s65HkvXnu5/xL3ptjJfMuVVJC\nCCEaIgFDCCFEQyRgNM+Lzc7APZC8N8/9nP//v717DZGyiuM4/v3lhdKszbSQNLaLlRG5SpmliVmW\nhURRYVcqgoh8YZKI9kYKgiIoA6s3ZkaUJWolRpaY3cF7lmXSRUlJ3bCkMgzUfy+eIw2zq/NsO848\nQ78PDDPPmcPMb3YP+585z+w5zl4fVcvucxhmZpaLP2GYmVkuLhg1JmmcpM2Svpc0rd55KpE0R1Kr\npI0lbb0lLZP0Xbo+qZ4ZD0fSAEkrJG2S9LWkSam98PklHStplaQNKfujqf0MSStT9jckFXbJXEld\nJK2XtCQdN1L2rZK+kpmggC4AAATISURBVPSFpDWprfDjBkBSk6QFkr5NY//SamV3waghSV2A54Br\ngfOB2ySdX99UFc0FxpW1TQOWR8RAYHk6LqL9wMMRMQgYDkxMP+9GyP83MCYiBgMtwDhJw4EngWdS\n9t+A++qYsZJJwKaS40bKDnBFRLSUfCW1EcYNwLPA0og4DxhM9juoTvaI8KVGF+BS4L2S4+nA9Hrn\nypG7GdhYcrwZ6Jdu9wM21ztjztfxNjC20fIDPYB1wCVk/4DVtb3xVKQL0D/9YRoDLCFbpb4hsqd8\nW4E+ZW2FHzfACcAW0vnpamf3J4zaOg3YVnK8PbU1mlMjYgdAuj6lznkqktQMDAFW0iD505TOF0Ar\nsAz4AdgTEftTlyKPn5nAVOBgOj6ZxskO2VYr70taK+n+1NYI4+ZM4BfgpTQdOFtST6qU3QWjttrb\nhMFfUzvKJB0PLAQeiojfK/Uviog4EBEtZO/WhwGD2utW21SVSRoPtEbE2tLmdroWLnuJERExlGz6\neKKkUfUOlFNXYCjwQkQMAfZSxakzF4za2g4MKDnuD/xcpyydsUtSP4B03VrnPIclqRtZsXg1Ihal\n5obJDxARe4APyc7DNEk6tI9NUcfPCOB6SVuB18mmpWbSGNkBiIif03Ur8CZZwW6EcbMd2B4RK9Px\nArICUpXsLhi1tRoYmL4t0h24FVhc50z/xWLg7nT7brJzA4WjbFu9F4FNEfF0yV2Fzy+pr6SmdPs4\n4Cqyk5crgJtTt0Jmj4jpEdE/IprJxvgHEXEHDZAdQFJPSb0O3QauBjbSAOMmInYC2ySdm5quBL6h\nStn9j3s1Juk6sndbXYA5EfF4nSMdkaR5wGiyFS93ATOAt4D5wOnAT8AtEfFrvTIejqSRwCfAV/w7\nl/4I2XmMQueXdCHwMtk4OQaYHxGPSTqT7F17b2A9cGdEtN0IvSAkjQamRMT4Rsmecr6ZDrsCr0XE\n45JOpuDjBkBSCzAb6A78CNxLGkN0MrsLhpmZ5eIpKTMzy8UFw8zMcnHBMDOzXFwwzMwsFxcMMzPL\nxQXDzMxyccEwK5OWh36wQp9mSbfneKzm0qXh27n/HkmzDnPf5+WPIWn0oeXCzWrNBcOsrSbgiAWD\nbAXfigWjMyLisqP5+GYd5YJh1tYTwFlp85yn0mVj2lBnQkmfy1OfyelTwCeS1qVLR/7YD5C0VNnG\nWjMONUr6s5ovyqyzulbuYva/Mw24ICJaJN0EPEC2EU0fYLWkj1OfKRExHkBSD2BsROyTNBCYB1zU\n/sO3MQy4APgrPf47EbGmui/JrPNcMMyObCQwLyIOkK34+RFwMVC+THo3YFZax+cAcE4HnmNZROwG\nkLQoPacLhhWOC4bZkbW3j0N7JpMtzjiYbKp3Xweeo3xBNy/wZoXkcxhmbf0B9Eq3PwYmpN3v+gKj\ngFVlfQBOBHZExEHgLrJVZvMaK6l3Wsb8BuCzzr4As6PBnzDMykTEbkmfpa+yvgt8CWwge+c/NSJ2\nStoN7Je0AZgLPA8slHQL2b4PezvwlJ8CrwBnky2l7ekoKyQvb25mZrl4SsrMzHLxlJRZDUi6Bniy\nrHlLRNxYjzxm/4WnpMzMLBdPSZmZWS4uGGZmlosLhpmZ5eKCYWZmubhgmJlZLv8A887rN7FyhbAA\nAAAASUVORK5CYII=\n",
      "text/plain": [
       "<matplotlib.figure.Figure at 0x1a11d932d0>"
      ]
     },
     "metadata": {},
     "output_type": "display_data"
    }
   ],
   "source": [
    "sns.violinplot('total_bill', 'day', hue = 'time', data = tips)"
   ]
  },
  {
   "cell_type": "code",
   "execution_count": 37,
   "metadata": {},
   "outputs": [
    {
     "data": {
      "text/plain": [
       "<matplotlib.axes._subplots.AxesSubplot at 0x1a11ffba10>"
      ]
     },
     "execution_count": 37,
     "metadata": {},
     "output_type": "execute_result"
    },
    {
     "data": {
      "image/png": "iVBORw0KGgoAAAANSUhEUgAAAYMAAAEKCAYAAADw2zkCAAAABHNCSVQICAgIfAhkiAAAAAlwSFlz\nAAALEgAACxIB0t1+/AAAADl0RVh0U29mdHdhcmUAbWF0cGxvdGxpYiB2ZXJzaW9uIDIuMS4wLCBo\ndHRwOi8vbWF0cGxvdGxpYi5vcmcvpW3flQAAIABJREFUeJzsnXd4VFXawH9neipJIEDoRaoCogQQ\nXAUU0bWgYt1VsaCroogKim3XVXFdu6Lr4ieK7toVpYguiCIqHQGB0CGQkN7LZOo93x+ThBaSSXLv\n3Jlwf8+TZ5jJvee8GebOe98upJQYGBgYGJzcmPQWwMDAwMBAfwxlYGBgYGBgKAMDAwMDA0MZGBgY\nGBhgKAMDAwMDAwxlYGBgYGCAoQwMDAwMDDCUgYGBgYEBhjIwMDAwMAAsegsQLG3atJHdunXTWwwD\nAwODiGLDhg0FUsrkho6LGGXQrVs31q9fr7cYBgYGBhGFEOJAMMcZbiIDAwMDA0MZGBgYGBgYysDA\nwMDAgBDEDIQQCcA7wGmABG4FdgKfAt2AdOAaKWWx1rIYGBhELl6vl8zMTFwul96ihCUOh4NOnTph\ntVqbdH4oAsivAd9JKa8SQtiAaOBRYJmU8jkhxAxgBvBwCGQxMDCIUDIzM4mLi6Nbt24IIfQWJ6yQ\nUlJYWEhmZibdu3dv0hqauomEEPHAOcAcACmlR0pZAowH3q8+7H3gci3lMDAwiHxcLhetW7c2FEEd\nCCFo3bp1s6wmrWMGPYB84D0hxEYhxDtCiBignZQyG6D6sa3GchgYGLQADEVwYpr73mitDCzAGcBb\nUsrBQCUBl1BQCCHuEEKsF0Ksz8/P10pGA4OTAmPErUF9aK0MMoFMKeWa6udfEFAOuUKIFIDqx7y6\nTpZSvi2lHCKlHJKc3GABnYGBwQlYvHgx4y68kOzsbL1FMQhTNFUGUsocIEMI0af6pfOANGABMLH6\ntYnAfC3lMDA42fn666/xuN0UFBToLYpBmBKKOoN7gQ+FEL8DpwPPAs8BY4UQu4Gx1c8NDAw0wu12\n6y1CxFFZWcnFF1/MoEGDOO200/j000/ZsGED5557LmeeeSbjxo0jOzsbn89Hamoqy5cvB+CRRx7h\nscce01f4JqB5aqmUchMwpI5fnaf13gYGBgGcTqfeIkQc3333HR06dOCbb74BoLS0lIsuuoj58+eT\nnJzMp59+ymOPPca7777L3Llzueqqq3j99df57rvvWLNmTQOrhx8R06jOwMCg6RjKoPEMGDCAadOm\n8fDDD3PJJZeQmJjI1q1bGTt2LAB+v5+UlBQATj31VG688UYuvfRSVq1ahc1m01P0JmEoAwODk4DK\nykq9RYg4evfuzYYNG1i8eDGPPPIIY8eO5dRTT2XVqlV1Hr9lyxYSEhLIzc0NsaTqYPQmMjAwMKiD\nrKwsoqOjueGGG5g2bRpr1qwhPz+/Vhl4vV62bdsGwLx58ygsLGTFihVMmTKFkpISPUVvEoZlYGBg\nYFAHW7ZsYfr06ZhMJqxWK2+99RYWi4UpU6ZQWlqKz+dj6tSptGvXjhkzZrBs2TI6d+7MPffcw333\n3cf777/f8CZhhKEMDAxaOEaxWdMYN24c48aNO+71FStWHPfarl27av89ZcoUTeXSCsNNZGDQwjHi\nBerj9/vxer16i6EqhjIwMGjhFBYW6i1Ci+PgwYPs27dPbzFUxVAGBgYtHEMZqI/H49FbBNUxlIGB\nQQsnL6/O1l8GBkdhKAMDgxaOoQwMgsFQBgYGLRyjU6lBMBippQYGLZyWqgzueWA6eQVFqq3Xtk0S\nb7z8Qr3HCCG44YYbePzxxwHw+XykpKQwbNgwFi1adMLzli9fzosvvljvMXpjKAMDgxZO5qEsFIsD\nk69lDZLPKyhib7tz1Vsw96cGD4mJiWHr1q24XC4cDgdLly6lY8eO6smgI4abyMCgBeP1eiksyEfa\n4/QWpcVwwQUX1Lar/vjjj7n++utrf7d27VpGjBjB4MGDGTFiBDt37jzu/MrKSm699VZSU1MZPHgw\n8+eHxzgXQxkYGLRgcnJykFKiVCuDiooKnSWKfK666ioWL16M2+3m999/Z9iwYbW/69u3LytWrGDj\nxo089dRTPProo8edP3PmTMaMGcO6dev48ccfmT59elgUBhpuIgODFsyhQ4cAkCJw3zdv3jzOOuss\nPUWKePr378+hQ4dYtGgRf/zjH4/6XWlpKRMnTmT37t0IIeqsUl6yZAkLFizgxRdfBMDlcnHw4EH6\n9esXEvlPhGEZGIQlWVlZPPjgNH777Te9RYlosrKyAJDWKKDlBpNDic/nY8yYMTz//PNHuYgAnnji\nCUaPHs3WrVtZuHAhLtfxcRopJV9++SWbNm1i06ZNYaEIwFAGBmHK1q1b2bBhPQsXLtRblIgmKysL\nYbYgzYFhK3V9ORk0Dp/Px4QJE5g8eTIDBgw46nelpaW1AeW5c+fWef64ceOYNWtWbQPBjRs3aipv\nsBhuIoOwpOZLy2IxPqLNITs7+6jgcUtSBm3bJAWVAdSo9YLA7/fTvn17br755uN+99BDDzFx4kRe\nfvllxowZU+f5TzzxBFOnTmXgwIFIKenWrVtYpJwaV5pBWFJVVQVAdHS0zpJENlnZ2fissbXPa97X\nlkBDNQFaUFFRUet6q2HUqFGMGjUKgLPOOuuodtZPP/30ccdERUUxe/bskMjbGAw3kUFYUvOl5XA4\ndJYkssnJyUGxx9Q+9/v9OkrTMvD5fHqLoAmaWwZCiHSgHPADPinlECFEEvAp0A1IB66RUhZrLYtB\n5FAzwN1kMu5XmorT6aTK6UQmxYIx4EY1WtocgxpCdaWNllKeLqUcUv18BrBMStkLWFb9POL5+OOP\nmTTpthZ75xBKapSBQdOpaV2tWI92tRmTz5qOlLLFXt963XaNB2oGhL4PXK6THKoye/Zs9uzZS3l5\nud6iRDzhUIQT6RQVBfr21KSV1tCS4gahpkYRtER1GgplIIElQogNQog7ql9rJ6XMBqh+bBsCOUKG\ncbE1H0OhNp+SkhIApPXouEtxseGRbSq1VoFoee7LUGQTjZRSZgkh2gJLhRA7gj2xWnncAdClSxet\n5FMNIQRSSkMZqECZoQyaTY1ClWb7Ua8XFxe3mOZqoeZoZaDoKovaaK4MpJRZ1Y95QoivgKFArhAi\nRUqZLYRIAeqcviGlfBt4G2DIkCFhb5lFRUXhdDoNF4cKlJaW6S1CxFPTh0hajlYGNe6jSOfRB++h\ntCBXtfVatWnHsy+9Ue8xCQkJ9O7dGxCA5Ntvv6Vbt26qyXAkc+fOZf369bzxRv0yqYWmykAIEQOY\npJTl1f++AHgKWABMBJ6rfgyPtn3NpCboaTQDaz7lZYYyaC61Fqrp6Mu8oKBAB2nUp7Qgl4d7Bu1o\naJB/7m34GIfDwddff41icWBRPJopAj3Q2vHVDvhFCLEZWAt8I6X8joASGCuE2A2MrX7eYjD83c3D\n5/PhdBrWVXNxu90IkwWEOOr1lmIZ6IYwH/XU7/czffp0UlNTGThwYG1B2fLlyzn33HO55ppr6N27\nNzNmzODDDz9k6NChDBgwgL17A9pn4cKFDBs2jMGDB3P++eeTm3u8tZOfn8+ECRNITU0lNTWVX3/9\nVfU/S1PLQEq5DxhUx+uFwHla7h1qjkzXKzPuapuF8f6pg9frhTrqNPLz83WQpmXgcrm4fPxlSAGd\nO3Zk6dKlzJkzh1atWrFu3TrcbjcjR47kggsuAGDz5s1s376dpKQkevTowaRJk1i7di2vvfYas2bN\n4tVXX+Xss89m9erVCCF45513eP7553nppZeO2ve+++7j/vvv5+yzz+bgwYOMGzeO7du3q/q3Ge0o\nVOLIni+lpaU6ShL51GTBGDQPv99fZ9ZLS3ET6YHD4eCrhYuRQmBRPECgJfXvv//OF198AQSu/927\nd2Oz2UhNTSUlJQWAnj171iqJAQMG8OOPPwKQmZnJtddeS3Z2Nh6Ph+7dux+37/fff09aWlrt87Ky\nMsrLy4mLU29okaEMVOLIoLGhDJqHkfqoDlLK41xE8VaF/Dz1gq4nEzXWf2A2hDzq9VmzZjFu3Lij\njl++fDl2++Hgvclkqn1uMplqM5PuvfdeHnjgAS677DKWL1/Ok08+edzeiqKwatUqoqKijvudWrS8\nZFmdODJobCiD5mEoA3UQxygCgES7YsQMmoiiVKeSHvO+jhs3jrfeequ2TcWuXbsalVF4ZNvr999/\nv85jLrjggqOyijZt2tQY0YPCsAxU4sigcVFRoY6SRD6GMlAHIQTIo3PhE+wKBwqdtQPdI5lWbdoF\nlQHUmPXqo7bJnzAd9b5OmjSJ9PR0zjjjDKSUJCcn8/XXXwe975NPPsnVV19Nx44dGT58OPv37z/u\nmNdff53JkyczcOBAfD4f55xzDv/+97+D3iMYDGWgEkcGPYsLDWXQHIqKisBkbvhAg3oxm83HNahL\nsAW+xIqKiujQoYMeYqlGQzUBauP3+/ntt99QjonDmEwmnn32WZ599tmjXj+ybTUE3EZ1/W78+PGM\nHz/+uP1uvvnm2pkJbdq04dNPP1Xl7zgRhptIJY50DRUbAdBmUVhYiLAZcwyaS0AZHG8ZwOEmdgbB\nU2MZyDrcby0BQxmoxJEZMM4qF263W0dpIpvCwkL8lsh2YYQDFosFqRytDFpVWwaGK67xHOUmaoG0\nzL9KB469uIyLrenkFRTgtxiWQXOxWCwBy+AIV1G8LfDvSP186tl++7AyCE/LoLnvjaEMVOLYi8vI\nlW86hfkFSMNN1GzM5pq4y+EviThrwDKIxM+nw+GgsLBQN4VQm01E+CkDKSWFhYXNSgowAsgqUVBw\ntA82Ei+2cMDlcuF0ViITDWXQXGqVwRFxA7OAaKuIyPTnTp06kZmZqVsFdXl5OU6nE8VWhvC5MUl/\nWA26cTgcdOrUqcnnG8pAJfKrqzrNQuKXwmip0ERqp3MZlkGzqa0zOOZGOtYqI/LzabVa66zODRXP\nPfcc/1v+C2UDrsF+YDUJlQdZ/M0i3eRRG8NNpBI1tQUx1sCVF4kXWzhQ0ypBWg1l0FzqKjoDiLH4\njc66TaCiogJpsukthmYYykAFXC4XVdXtq6PMAWVgdC5tGrXKwLAMms3hitmjX48yK5SXGzcrjaWi\nogK/2Rp4ovjx+bxkZGToK5SKGMpABY5s/GUS4LAIY6B7E6l5L48d4m7QeE4U8IwyS5zGAKZGU1pW\nhjQHLAOzswCP281Tf39SX6FUxFAGKlB7N1t90TksxkD3plJQUIAwW8Dccs3xUHGieb0Oi6EMmkJZ\nWdnhEaLVGU0HDx48QulGNoYyUIHaas7qiVJ2szSKzppIQUEB0hYTtrnckYTH4wm09TjmvbSb5VEt\n1w2Co7ysHHlMMaTb4yUnJ0cnidTFUAYqUGsZVPfTsZmUwIVo0Gjy8wvwW7Rr03sy4Xa7A1bWMdjN\nkiqXcbPSGFwuFx6PG2m1H/e7mollkY6hDFSgsLAwcNFVm+NWIQ1l0ETy8/ONeIFKOJ3OOt1tdpPE\n4/W2GPdGKKhp+33kZ9MiJGYBO3aoN4dZTwxloAKFhYVwRPaLSciwKkaJFKSUFBUVGWmlKlFZWYk0\nWY973Vad8WbcsATP4ZTnw1ar1QRd4vxs27pVL7FUxVAGKlBQWIjvCNeGGXm4j4lB0FRUVOD1eoyC\nM5UoLy8/nAp5BLbqq96IGwRPTdWztMUc9XrvVh7S0tJahGI1lIEKFBQUohyhDEwCFMVQBo2lJhBv\nWAbqUFxSimI+3sdtr7YMjCSH4MnOzgZAscUe9Xr/RC8er5dt27bpIZaqhEQZCCHMQoiNQohF1c+7\nCyHWCCF2CyE+FUJEdB5hcVHRUeajEIZl0BTqMsUNmk5JSclx2S9wWBkYlkHwZGVlIezRcIyl1TfB\ni9kEa9as0Uky9QiVZXAfsP2I5/8EXpFS9gKKgdtCJIfquN3uQGO1I5WBjvJEMrVBOsNN1GwUJVBl\nXJ8yqKqqCrVYEUt6ejo+W6va58JTiUeBKEtAIfz6y886SqcOmisDIUQn4GLgnernAhgDfFF9yPvA\n5VrLoRU13UmPvZuVin591yMVoy+RepSXl6P4/XVaWQ5DGTQKKSX796fjjzpCGUh/7ZiIM9u4ycg8\nVOfs4kgiFJbBq8BDQE0eW2ugREpZk26TCXQMgRyacDjl7Eg3kb5DOCKVwsJChMV2nClu0Hhq5mvU\npQyiLIHPptGsLjiysrKoqnKiRLeu8/dDkj0IcfSM40hEU2UghLgEyJNSbjjy5ToOrfObUwhxhxBi\nvRBivV49zBuiRhkceTdrAhRp5HA3lsLCQsMqUInDwfjjlUGMoQwaRU0dgT+6TZ2/T7BL+iV4Wbrk\nfxF9E6i1ZTASuEwIkQ58QsA99CqQIISoKY3sBGTVdbKU8m0p5RAp5ZDk5GSNRW0atRfdEb5ZIThu\n9qxBw+QXFOAzZh+rQu1ciGrlaik53F3TaLPeOLZu3YowW1GiE094zMj2brKyc9gawTUHmioDKeUj\nUspOUspuwHXAD1LKPwM/AldVHzYRmK+lHFpy2DI4OrXUyCZqPPn5+YZloBK1n0tb4HNp8h7uohtl\nlphNxjS+YPlt40Z8McnHNfw7ktRkN3YLfPvttyGUTF30qjN4GHhACLGHQAxhjk5yNJvCwkKELSrQ\nEKwai5B4vV4dpYo8aquPjUwiVahtkVJHBbIQ0Mp+WGEYnJjCwkIOpKfji0+p9ziHBYYlu/hh2bKI\nbV8fMmUgpVwupbyk+t/7pJRDpZSnSCmvllJGbPVLQUHBcb10LCbweiO/IjGUlJaW4vN6UawxDR9s\n0CCFhYUBxXqC7q+JNt9RczgM6mbt2rUA+Fo1PFv43A5uXG43P/zwg9ZiaYJRgdxMcvPy8FuOVgY2\nk9GorrEYE87UpaCg4LjP5ZG0tvvJya4zVGdwBL/+uhLsMShRSQ0ee0q8j46xCgsXRKbX21AGzSQv\nL/+4IimbWeIyWgQ3itoJZzbDMlCD3Lz8o9Kdj6VtlEJubp7RULEenE4na9asxtOqS1DzNYSA0SlV\n7Ny1m927d4dAQnUxlEEzcLlcVJSXIY/pV+Ko7hcfyWlmoSYvLw84vhGYQeMJxF8KkfW43NpF+fH5\n/S1mMIsWrFq1Cq/Xiy+xW9DnjGzvxmqGRYsWaSeYRhjKoBnk5uYCoNiPVgZRFomiKEYjsEaQl5cH\nQhh9iVSgvLwcr6f+7q+dYgLZbunp6SGSKvJYsnQp2GPxx7UP+pwYqyS1jZulS5ZEXO8nQxk0g5pO\nhsdaBtFGUU+jycnJQdhj603fMwiOE7VbPpJOsT6EICLdGaGgsLCQdWvX4k7s3ugRrOd2cOGsqmLF\nihUaSacNxpXXDGrb2trjjnq9RhmUl5eHXKZIJTsnB5+RSaQKtRZrPcrAboYOMQo7d+4MlVgRxZIl\nS1AUBW+b3o0+t0+Cj+RoyXffRVbNgaEMmsGhQ4cQZstxro1Yq6EMGktWVtZxStWgaRyOv8TWe9wp\ncR62bfndGH95DFJKFixciBLXDnlEc7pgMQkY2baKjRs31f5fRAKGMmgGhw4dQrHHH2dGxlkDF5dR\n4Rkcbreb4qIiQxmoRHZ2NsJ0/E3KsfRN8FJe6WTfvn0hkiwy2LhxI9lZWbjb9GnyGme1DySQRFLz\nOkMZNIODGRn46vgCi7cFlEFN50iD+snKCuS7G8pAHbKyspCO2AZ93f2TAlXy69atC4VYEcPXX3+N\nsDrwJXVr8hop0Qpd4xR+/GGZeoJpjKEMmojP5yM7OxvFfrwZGVftJjKUQXBkZmYCBKwsg2Zz4OBB\nvLaG38tEu6RznMKqVStDIFVkkJ+fzy+//IK7dS8wWRo+oR5Sk11s37GTcO24fCyGMmgi2dnZKH4/\nSh0+RYsJYm3C6P0SJLXKwGEog+bi8/mqLYPg3sszW7vYumWr8VmtZtGiRSiKgie56S6iGs5MDnQh\nWLkyMpStoQyaSEZGoCWw4qg7wJRgU4wLLEgOHDgQmC9rOX54u0HjyMrKwuf14o86cbvlI0lt60GR\nkp9++kljycIfn8/H/AUL8bXqFLQyrY8O0X6SoyVr1qxWQTrtMZRBEzl48CBQjzKweik0GoEFRXr6\ngaPmyxo0nb179wKgBKkMOsf66Ryn8N23i7UUKyL45ZdfKCkuwtO2ryrrCQEDEt38tuG3iOhibCiD\nJtLQ3WyCXaGgIDJ8hXoipSQ9PR1/VILeorQIdu3aBcIUtDIA+EP7yO2noybz5y8ARxz+IDqUBstp\nSV5cbjfbt29XbU2tMJRBE9m/P73eu9lEu0JRcbGRw90Aubm5uFxVjfryMjgxaWnbUaKTjpqv0RB/\naO/GZg5k0ZysZGZmsnHjb4HAsYpV8H0TvAhg06ZNqq2pFYYyaAJSSg4cOFDv3WyiXcHvV4xagwao\nyXEP1sdtcGJ8Ph/bt2/HF9O2UefFWCUj27lYsuR/J22ca/HixSBEkyqO6yPWGsjY2rzZUAYtkoKC\nAqqqnCeMF0BAGQARk1amF7U+7uiG+8Ub1M/OnTvxeNz449o1+twLO1fh8/qYN2+eBpKFNz6fj8Xf\nfhcIHGswT6N3Kzdbt24N+3bh9SoDIcRCIcSCE/2ESshwY//+/UD9QboaZWBMk6qf3bt3Q1Q8mI8f\nz2jQODZs2ACAP67+EY11kRKjkNrWzbwvv6CsrExt0cKaDRs2UFJchLd1L03W79PKh9vtYc+ePZqs\nrxYNVVW8GBIpIoxglEGSYRkExc5du/A6DKtADdasXYuMaYO0Opp0/uXdqli71s6nn37K7bffrrJ0\n4cvSpUsRFju+hM6arN8rIWARbNmyhb591clU0oJ6LQMp5U/1/YRKyHBj//79CHt0vRddvE1iFkRU\no6pQU15eTm5ODkp0a71FiXhKS0tJ27YNT3zHJq/RKdbP8HZuvvj8MwoLC1WULnypqqri559/wZ3Y\ntVFB98aQZFdoEwVbt27VZH21aMhNtEUI8fuJfkIlZLixe88evPb6UyFNAhIdhmVQHzWpjP6YNjpL\nEvmsXLkSKSW+xK7NWueqHk58Pi9z5sxRSbLwZvXq1bjdLnxJPTXdp3e8m983bwrr6YcNuYkuCYkU\nEYTP5yM9PR2lTb8Gj02y+Wp7yxscT00vfX+MYRk0l+XLl4M9ttlWVtsohbEdq/j228VcccUV9Oql\njR89XPjhhx/AFt2koHtj6JPgZeXOUjIyMujSpYumezWVhtxEB+r7aWhxIYRDCLFWCLFZCLFNCPH3\n6te7CyHWCCF2CyE+FULY1PqDtCY9PR2/z4c/iOyXJIefvFxjxuyJ2LlzJzjiwdI0H7dBgJKSEtat\nW9ekqVx1Mb5bFTFWmPX6a2F9J9tcnE4nq1evxpPQVfMJe30TAxXI4Vxv0JCb6Jfqx3IhRNmxj0Gs\n7wbGSCkHAacDFwohhgP/BF6RUvYCioHbmvdnhI7Dd7MNuzZa2xUKCgqNwrMTsC1tO94oI3jcXJYt\nW4aiKPhaq+PqiLFKru5ewe9btrJsWeS0YG4sa9asafTA+6bSPkoh0XE44yscacgyOLv6MU5KGX/s\nY0OLywA1g4Ct1T8SGAN8Uf36+8DlTf4LQkxaWhrCakcG0W65tcOPz+8/aYJxjaGkpIT8vFz8Mcl6\nixLRSClZuOgblJhkVWs1zu3gpnu8n3+9+UaLneW9fPlyRAhcRBAw2E5LcPHb+vVhW28QtG0khDhD\nCDFFCHGvEGJwI84zCyE2AXnAUmAvUCKlrHlHMoE6UyCEEHcIIdYLIdaHSyD29y1b8EYn12mOC7+H\nUs/h15MdAYvAyCg6nhoLSzGCx80iLS2N9P378LRR17dvEjCxdznFxSW89957qq4dDjidTlauWoU7\noYvmLqIaBrb2Ul5ZGbZ9ioJ6F4QQfyVwB98aaAPMFUI8Hsy5Ukq/lPJ0oBMwFKgr8lqnY1JK+baU\ncoiUckhysv53kCUlJWQcPIg/9gR3ElLBpxxWBq2rlUFOjhE3OBYjeKwO8+bNQ1hseFVyER1Jj3g/\nozu6+GrevBbXxG7VqlV4PR58ST1CtueA1l7MInznGwSrEq8HUqWUf5NS/g0YDvy5MRtJKUuA5dXn\nJgghajKZOgFZjVlLLzZu3AiALz64Cs/kKD8QGIRjcDQ7duyA6AQw1507YD+4GoxYS73k5eXx44/L\nA83VNKrgvrqHk1ib5OWXXmxRsa+lS5eCPfbEN3YaEG2R9Ev0suKn5WEZmA9WGaQDR6Z82Am4e+pF\nCJEshEio/ncUcD6wHfgRuKr6sInA/CDl0JV169YhLLagXRt2M8TbRe2MX4PDpG3fgTfqxFaByVkE\nSFauXGlYVifg888/R5EKnnanarZHjFVyfc9ytu/YyTfffKPZPqGkpKSEtevW4VEp+6oxpCa7OZSV\nHZatKRrKJpolhHidQFbQNiHEXCHEe8BWIJioUgrwY3WB2jpgqZRyEfAw8IAQYg8B11PYV7goisLK\nVavxxHVslI+xncNLVtYhDSWLPAoKCigpLsIf3bBSPXDgQCCH3uAoiouL+Xr+fLxJPZD2WE33GtHO\nQ79EH2//+98togvv0qVLUfx+vG1OCfneQ9p6MJuqLZMwo6FvtfXABuAr4FECd/TLgceAbxtaXEr5\nu5RysJRyoJTyNCnlU9Wv75NSDpVSniKlvFpK6W7WXxECtm/fTklxEb7ExhWMtIvykVE9Fc0gwK5d\nu4BggscBUzpcA2568sknn+D1enGnnK75XkLATb0rcDormT17tub7aYmUkvkLFqDEttVlhkacVTIo\nycPSJf8Lu6yieiuQpZTvB7OIEOJLKeUEdUQKT3744QcwmfG1alwzq5RoP7/kFON0OomOVr89biRS\nowyCKdwD2LxpI4qiYDIZHdch0OJk3rx5AasgKjTjQjvG+BnXuYrF337LpZdeSv/+/UOyr9ps3LiR\nzIwM3N3/oJsMf0hx8duWUtasWcPIkSN1k+NY1Lq6QheS1wGfz8fS75fhbdUJLI0rlu4QEwgip6en\nayBZZBJoW50QVNCzlU2hpLSsdu6BAbz77rt4/X7cHc8I6b7juzlJsMNrr70ascHkzz77DGGLwpfU\nXTcZBrX2kuCAhQvDawqAWsp9T6UcAAAgAElEQVQg/ELjKrJq1SrKSkua1O+8c2xAGdRM9DKAnbt2\n4w3SRB/Y2oMgMKzcIGBVffvdd3iS+yPtcSHdO8oC1/QoZ+fOXWHp826IAwcOsHr1alxt+oCpobZs\n2mExwbntnaxZs4ZDh8InnmjY3UHw1Vdfgz0Gf0LjB2UnOxSiraLWNXKyU15eTkF+XtDVsvFWSd9E\nH8u+XxqW6XihRFEUXnn1VYTFjruD9rGCuhjR3kP3eD9vz/43LpdLFxmayn//+1+E2Yq3rf4urjEd\nXZiAr776Sm9RalFLGYQ2PyuE7Nu3j99+24C7Td8mVSoKAd1iPaSlbdNAusijZjCQvxE9iUa0c5F5\nKItt207u93Dx4sVsT0vD2Sm10e5KtTAJ+NMpFRQWFfPFF180fEKYkJmZybJly3C36d3k4T9qkmiX\nDGvr5ptFCykvL9dbHEA9ZfCwSuuEHR9++CHCbMXTtukTinq18rJv774W2+OlMTRl5vGwtm6iLDB/\nfkSUo2hCQUEB/3rrLfxx7fG1Dn1K5JH0SfBxRhsPH33434hJNZ07dy5SmPCkDNBblFou6lJFlcvN\nggXhETto6nCbLUcOt5FSLtFe1NBz4MABfvjhB9zJfcBib/I6/RK9KFKyefNmFaWLTNLT0wON/qzB\nZ1Y5LDCyfRXLf/yBoqIiDaULT6SUvPzKK1RVuanqNjLkhVJ1cXVPJ1VVLj7++GO9RWmQPXv28P2y\nZbiS+zXqc3ciAtXxPhTg2d/i+e+upq3ZNc7PwNZePvv0E6qqqpotV3NpyDK4BLi0jp+a11s0c+a8\nCyYLnvbNu5vo1cqHwyJYvXq1SpJFLvv278fnSGj0F9rYTi58Pn9Y+VhDxXfffcfKX3+lqsNgpCM0\nqaQN0THGz4j2br6aNy/su/LOnv02wmzDkzJQlfVMzqJqv7hgR4mVgxVND0aP7+aktKw8LKxeTYfb\nRDJbtmxhxYqfcLU7FWmNatZaVhMMTHLx84qfwq7QJNTs35+O3974L7SUaIUz2nj4+qt5OJ1ODSQL\nT7Kysnjttdfxx7XH275pbSfsB1cjvIH37INdMU2+kz2Wy7sFRmR+8sknqqynBevXr2fdurVUtR/Y\nLOteK3q18nFakpePP/pQ9891sF1Lhwsh1gkhKoQQHiGEP8jhNhGJ3+/ntddeB3tMs62CGoa19VBS\nWsZvv/2mynqRSElJCRXlZShR9c+PPhGXdK2ivKIybHysWuP1evnbk0/i9ilUdT+nya2WTc4ihAzU\nBRyssDTrTvZI2kUrjGjnYsH8rykuLlZlTTXx+/28+a9/gSMObzv9M4hOxIQeAevgs88+01WOYD9d\nbxDoXLobiAImAbO0Ekpv5s+fz549u6nqmKpaN8jT23iIs4VfoUkoOVjdlkNpoqujZysf/ZN8fPbp\nJ7jdYd/BpNm8/fbb7N61C2fXkZr3H2oql3atwuPxhmVm0ZIlS9i/bx9VHc4Ek1lvcU5Iz3gfqclu\nPvn4Y11dbkHfakgp9wDm6vkE7wGjtRNLP3Jzc5n99tv44zuoWqVoNcG5KVX8+suvJ20X04yMDKDp\nygDgsq6VFBWXtJgOmidi+fLlfP7553ja9sOX1E1vcU5ISozCkGR32LnvqqqqmP32/6HEttW12jhY\nrunpxOt188477+gmQ7DKwFk9tH6TEOJ5IcT9QIyGcumClJIXX3wJj9evSdbG2E5VmITkww8/VHXd\nSCEzMxNM5mbd5fZL8NErwcfHH32Ix+NRUbrw4cCBAzz3z3+ixLbF3Xmo3uI0yMVdq6h0VrFo0SK9\nRanls88+o6S4iKpOqWGRfdUQ7aIVLuhYxXfffRuY9aEDwSqDG6uPvQeoBDoDV2ollF4sWrQoEGzq\neKYmpf6JdsmoDlV8++23HDjQouPvdZKRkQGOuGaNGRQCLu/qJL+gkP/9738qShceVFRU8Ohjj+H2\ng7PHqLB2b9TQI95P3wQfX3z+WVgkSBQXF/PRxx/jTeyKEoL5xmpxefcqWtnglZdfwu/3h3z/YK/K\ny6WULillmZTy71LKBwikl7YYMjIymDXrDfzxHfC2rWsypzpc3q0Ku1nhzTffOOnaKxzMyMBna76S\nPS3Jyymt/Pzng/dblHWgKAozZ87k0KFDVHYfFbZxgrq4sLOTvPwCfv75Z71F4T//+Q9utxt3xyF6\ni9IooiyBQUI7d+3WJdU0WGUwsY7XblZRDl3xer089fTTeCVUdf+DpmZlvE1yZbdK1q5dx48//qjZ\nPuGGoihkZ2Wj2OObvZYQcEW3SvLyC8LKNdFc5s6dy6pVq3B1HoY/yNGq4cLpbby0jZZ88fnnusqR\nl5fH/AUL8LTuFbL23moyvJ2HAUle/u/t2SGf8NdQBfL1QoiFQHchxIIjfpYD4V1p0gjeeeedQNZG\nl5FIm/ahkLGdXPSI9/PqKy+HfcGOWhQUFOD1epoVPD6S05K89Ev08cH7c6msrFRlTT1ZsWIFH3zw\nAd42vTS1TLXCJOD8jk62paWxc+dO3eT46KOP8CsKHp0a+TUXIeDmPhUoPg8vvvhCSL0HDVkGK4GX\ngB3VjzU/DwAXaitaaFizZg2ffvopnuS+IcvaMAn4S78yXM4Knp05Uxf/YKipadWrBBGLsR9cjdkZ\nUJKrcm11FkkJAdf2rKCktIwPPvhAXWFDzL59+5g581mU2La4uo6IiIBnXfyhvRu7Gb7++mtd9i8s\nLGTRom/wJJ0SUS62Y0mOUri2Rznr128IadZcMBXIy6WUZxFQCHHVP5lSSv0jRc2koKCAZ2Y+i4xO\nwt0ltFkbKTEKN/SqYMNvv/H++0ENlItoapVBEJaByVmE8HsBQZHbfMIiqR7xfs5JcfHFF58HBuZE\nIOXl5YGAsTTh7DkmIgLGJyLGKhnRzsWy77/XpRPn/Pnz8fm8YdWMrqmM6eimf5KPN9+YFbJU9GAr\nkK8G1gJXA9cAa4QQV2kpmNb4/X6emTmTikpnddZG6IddnJvi5g/tXXzwwQf89NNPId8/lNSmldrU\nHf153SlO4iwKz858JuIK0RRF4elnniEnN5fKHqNVf2/0YHRHFx6vlyVLQtu70uPx8PX8BfgSOodN\n/6bmYBIwqW85+N0h8x4EG0B+HEiVUk6UUt4EDAWe0E4s7fnkk0/YtHEjzs7DmtweobkIARP7VNKz\nlZ9nZz7Toge/Hzp0qNlppXURa5VM6lvG/vQDvPjiixGVofXRRx+xds0aXJ2HRVQKZH10i/PTI97P\nooULQvp/sXLlSspKS/BEYLzlRLRxKNzUq5yt27bx0Ucfab5fsFemSUqZd8TzwmDOFUJ0FkL8KITY\nLoTYJoS4r/r1JCHEUiHE7urH4GYgqsSOHTuYM+ddvEnd8bVp/ChLNbGZYeqAUuItHmY8/FDgDroF\nkpGRic+qzZjGga29XNndydKlS5k7d64me6jN5s2bmTNnDt6kHniTmz4rIxw5N6WK/ekHQnpz8+23\n34I9Fn98h5DtGQpGtPMwtK2buXPf07wYLVhl8K0Q4n9CiJuFEDcD3wCLgzjPBzwopewHDAcmCyH6\nAzOAZVLKXsCy6uchweVy8fQzz6BYo1QN1tkPrgap4FUa3+O8lU0ybWAJiqucBx+4n7y8vIZPiiCk\nlBzKOoTiaH5a6YkY362Kc1JcvP/++/z3v//VbB81KC8v56mnn0E64nCFyXwCNRnezoPNTMiKAsvL\ny1m/fj2exO6qW556E8guqiTeqr0rNNh3TgKzgYHAIODtoE6SMltK+Vv1v8uB7UBHYDxQEzV9H7i8\nETI3i/fee49DmZk4u52takvbmh7nsok9zlOiFaYNLKGsOJ8HH7i/RaWc5ufn4/V4NFUGQsCtfSsZ\n0S7Q3+XNN98M2yytWbNmUVhYQGW3c1VrhBhORFkkZ7Zx88P334ekKHD16tX4/X68iV0130sPYq2S\n2/uWcTAjU9PeRcEqg7FSynlSygeklPdLKb8CLmrMRkKIbsBgYA3QTkqZDQGFAbRtzFpNZdeuXXz2\n2Wd4kvuEpTnZPd7PgwNKycvJ4oGp97WYqV6H00q1UwYQCLrd0b+CsZ2q+Pzzz3nssUfDZr5sDevW\nrWPJkiW42w9EiU3WWxzNGNHOTXllJevXr9d8rw0bNiCsDpSYNprvpRenJXkZ0zGQObd161ZN9mio\n6OwuIcQWoM8xYy/3A7/Xd+4x68QCXwJTpZRBz0EQQtwhhFgvhFifn58f7Gl1IqXklVdfBasDd6fw\nLVPvneDjwQEl5GQd4v4WohBq4iBqFZzVh0nAjb2d3NS7gnVr1nDH7ZPCJjDv9Xp5+eVXIKoVng6D\n9BZHU05N8hJrC3Rf1ZpNmzbjiWkXOheR34PD4eCqq67C4XBQ5QuNm++6npW0dsALz/8Tr9er+voN\nvXsfERhvuYCjx16eKaW8IZgNhBBWAorgQynlvOqXc4UQKdW/TwHqdJJLKd+WUg6RUg5JTm7eXdRP\nP/3E9rQ0nB3ODMuJR0fSN9HHgwNLyDmUwdT7plBQUKC3SM3icFpp6Brdnt/JzaNnlOIpzeWeeybz\nwQcf6N5EbeHChWRnZ+HsNFSXVOZQYjHBoCQXq1b+qun7Xl5eTk5ONkps6KwC4fNwySWXcM8993Dx\nxRfjDJEycFhgYq8yDhzM4Msvv1R9/YaKzkqllOlSyuuPGXkZ1O2qEEIAc4DtUsqXj/jVAg73O5oI\naNqVSVEU5rz7LjIqAV+bU7TcSjX6JvqYNqiUvOxD3Dfl3ogOKmdmZoIjPuSB0l6tfDwzpIjUNlW8\n++673H3XnezduzekMtTg8Xj44IP/4I9Lwd+qky4yhJrBbbyUV1SSlpam2R41A5P8UaFLSJQWG4sW\nLWLWrFl88803RFtCl0I7qI2XwW08vD/3PUpKSlRdW2u7aiSB9tdjhBCbqn/+CDwHjBVC7AbGVj/X\njHXr1pFx8CCulEERlW3QJ8HH9EElFOVnM+Xee8jOztZbpCZxMCMDrwrdSptCjFVy96kV3HNaOTkH\n93DHHbczZ86ckBeo/fDDD5SUFONOGdjisodORP9ELwLYuHGjZnvUNHPTouX8CTHbcLlcfPnll7hc\nLqJCqAwgMAjH5XarXnug6TejlPIXKaWQUg6UUp5e/bNYSlkopTxPStmr+lFTx/iCBQsRtmh8id20\n3EYTerXy8fCgEsqL8phy7+SIq0NQFIXs7GykhplEwTC0rYd/pBYxPLmK//znP9x26y2afkkdy6Jv\nvkFGJeiTuKCTjzvWKukSp/D775s126O0tBQAaXFotke40THGz1lt3SyYP1/VBInIuU1uIk6nkzVr\n1uBO6BaxfV96xPt55PQSXGVF3HfvPRE1GCc/Px+f16t5JlEwxNkkf+lfwfRBZXiKD3H//ffz/PPP\na55xVFhYyLatW6vz4ENvFejl4wboHudh144dmlUjV1VVASBbYIpufVzYpQqX282yZctUW7PFK4Mt\nW7bg83nxJXTWW5Rm0SUuoBC8zhLun3pfxCiEmiZbWtYYNJYBrb3MTC3i4i5VfPftYibedKOmQ1k2\nbdqElFK3z6CePu7OsX7KK52aZcWZTNVfYRHUhkQNusX56RyrsOz771Vbs8Urg5oSbn9sSEoZNKVT\nbEAh+KoVQs2A+XCmVhmE0qcbBHYzXHuKkyeHlBDnK+KJJ55g5syZmsxG2LVrF5jMKCEMch6Fjj7u\nto5A4Z9W8S6HI+AeEor6qZbhzumtXWxLS8PpdKqyXotXBllZWQh7TIup9OwYU20hVJbwwP1Tyc3N\n1VukesnOzgYhQppW2hi6xfn525nFXN7NybLvlzLptltVb4edl5cH9riIdVM2h3ibAhz27atNmzaB\nlFLhUecLMZI4pZUPRVHYt2+fKuu1eGVQUVGBEuZ1BY2lY4yf6YNKqCwtZNqDD2h2oalBXl4ewh4b\n1llcFhNc2aOKx84oxV2Sy+S771a1WKq8vBx/C7kZaSyOaitErbvXY+nYsSMAJlf4XgNa0S5KXasr\nfK9QlQgErkIQMAtxxka3OD/3DyglJ+sQjz36SNgOhs/NzcVnjYw+/b1a+XhqSBFdo138/e9Psnhx\nML0YG8ZisSBOLpd2LYoMXAcWizZFdl26dMFqtWKujOzCzKbgqH5LXS6XKuu1eGUQHx+PyafOm1Uf\nemRs9Enw8Zf+5Wzdlsarr74alr38c/PyUSJEGQDE2yQPn17CqYleXnjheVavXt3sNWNjYzH7tf8M\nhiM1N0VRUVGarG+xWDhtwACs5ZFZg9Mc3NV9GO12dTwfLV4ZpKSkIN2V4Nc2wKRXxsbQth4u6+pk\n8eLFIWsZ3BhKiouR1kZ+EeiUF1+DzQz3DSijS2ygbXBz3XBdunRBusrBF57Wm5bkVwW+Ytq10254\nz/BhwxDOIoQr6LZnLYL8qkAMqn379qqs1+KVQa9egeE1mpuROmZsXNmjij4JPl5/7dXaisxwwO12\n43JVIS2NUwZ65sXXYDfDHf3KKC+v4PPPP2/WWn37BobXmCsjt6VIU8msNGM2m+jQQbtiu9GjRyOE\nwFq4R7M9wpE9pRZMQtC9e3dV1mvxymDgwIGYzGbMpZFVudsYTALu6FeOz+Ni9uzZeotTS0VFBRCw\nmhqDnnnxR9I51s+pSV6W//hDs9YZNGgQdocDS3G6OoJFEDtLbfTu1Vs1V0ZdtG3bliFDUrEX7AJF\n32aEoWRjoYO+ffsQF6dO2naLVwaxsbEMHjwYe0l6iy5MSY5S+GNnJz/++GMgrz0MqMkgkebGKQO9\ne78cSfc4L1lZ2c2Kx9jtdv5w9tnYiw9o7q4MJ8o8gj2lFs4con3L+OuuuxY8TqwFJ4d1sK/MzIFy\nE2MvGKfami1eGQBcdOGF4CrHXJaltyiacmEXF3aLYN68eQ0fHAJqM5xE5ObXu/wCu72RyqwOJkyY\ngPS5sebvVEGqyGB1rh1FwpgxYzTf64wzzqBf//44cjaDv+VbB4sORBETHcXYsWNVW/OkUAbnnHMO\nCQmJ2HK0mRAULkRbJEPbVPHLzytQFEVvcWr72MswrjGoD0XClmIHffv2QzSzp1C/fv04ffBgonK2\ngC+0HVP1QJHw/aFo+vTuRY8ePTTfTwjBXXfeCe5KbDlBz91qEkp0EgE7UdI3wUuX2NAqn10lFtbn\n27n6mmuJjY1Vbd3IvEobic1m4+qrr8JSdghTRcsO4vVP9FJR6SQ9PV1vUSKe9fk2cioFF/3xj6qs\nN/nuu5E+F/as0HVL1Yv1+TZynIJrr7s+ZHsOHDiQMWPGYM/ZgqjSrgjN3WU4mCyYgEfPKOOG3qGr\nfvYqMHdXHMltWnPdddepuvZJoQwArrjiCuLjW+E4tKFFxw7aRAUsgnAYl2m1BqpuhQzPwfT1UeYR\nfLgnjp49uqvm5ujVqxeXXXopttw0zOXhk/WlNj4FPt8XS9cunTnnnHNCuvfkyZOJjnIQnf4zSP2t\nY7WZty+azAoTD06bXtuXSS1OGmUQHR3NLbfcjLksG0vJQb3F0ZxwcBPVZpBEWIaHT4E3t8VT4TMz\n45FHVa2evfPOO2nXvn3gyypE7iIlOqnWVdcl1qe5W+N/GQ5ynYI777pbs8rjE9G6dWvunzoVU0Ue\ntmxt3UWh5vdCK98cjOLiiy9m+PDhqq9/0igDgEsvvZTOXboSlbm2xQaZcpyBYG1KSorOklCb8iYi\nqNhKkfB2Wizbiy1Mf+jh2joVtYiOjuavTzyB2eskav+KkFip7i7DkdVV4Df1rtTUrZHrNDEvPYaz\nR47U5AsrGM4//3xGjx6DPWtji7HAcp0m/pUWT4/u3ZgyZYome5xUysBisfDgA/eDqxxb1ia9xdGE\njQU2WicmaFrkEyyxsbGYzGaEr0pvUYLCrwQUweo8O3/5y1+44IILNNnn1FNP5d5778VSkoHt0AZN\n9tADnwKzt8djs0cx9f77mx10bypCCKZNe5CUlA7E7FuO8EZ2R9Nyr+ClLQmY7THMfPYfmtVsnFTK\nAOD000/noosuwp67BZOzUG9xVCXHaWJzoY3zxl6A2ax/OqfJZCIpqTUmt/ozAtTG44c3tsWxMtfO\n7bffzvXXaxv4HD9+PBdffDH27N9bTLrpV/uj2FNqZtr0h2pbS+tFTEwMzzz9FFb8RO/9AZTIi1tB\noP/Qa1viKXRbmPnsPzS1+E86ZQBw991306pVK6LTfwGVfOs16WZCp3QzKeHjPTFYbXauvfbakO5d\nHx07dsDs0XasZHOp9Ape3NyKDfk27r33Xv785z9rvqcQgvvvv5/U1KE4DqzEUpSu+Z5asrHAysID\n0Vx88cWMHj1ab3EA6NmzJ488MgNTeR72AysjLnEkELuKY3ephUcfe5yBAwdqut9JqQzi4uKY9uCD\niMpCbNnquIvcXYaDMGE1hT7dDGDZITsbC2zccuuttG7dOqR710e3rl0xu0obdSEq0UnVM20lSXa/\npoq10GXimY0J7Cm38/jjjzNhwgTN9joWi8XC3//+JH379iVq//KIbZmS7TQxe3s8vU45RTN/dlMZ\nPXo0N954I7aC3dhytugtTtAoEmanxbKpwMbUqfeHRMFqqgyEEO8KIfKEEFuPeC1JCLFUCLG7+lGX\nWYB/+MMfOP/887Fn/44pwnuhby608uHuWIYNG8rVV1+ttzhH0aNHD6TPjfBUBH2Ou8tw/NEBhXZW\nO49mivVAuZmnfkuk2B/N8y+8wPnnn6/JPvURHR3NC88/T4/u3YnZ8wPm0kMhl6E5VHoFr2xJwBoV\nx1NPP61pD6KmcssttzBq1CjsmeuxFO3XW5wGqUliWJNn584772T8+PEh2Vdry2AucOExr80Alkkp\newHLqp/rwn333UdSUiIx+1dEXPpjDWnFFmZtjad7z5789a9/OzwgPEzo06cPAObKfJ0lOZrfC63M\n3JiIJbY1b7z5L8444wzdZImLi+Pll16ia9cuxOz5PmIsBJ8Cs7bFU+Cy8PQzM8Mig60uTCYTjzzy\nCP369yd6/89hXXiqSPi/7TGszLVz2223qV5YVh+afnNIKVcAx1Y/jQfer/73+8DlWspQH3FxcTz6\nyCNQVYI9Y51eYjSZ9fk2XtzcipSOnXn++ReIiQm/OcOnnHIKNrsdc3n4XIA/Zdl5+fd4OnXrwVv/\nnh2SdgkNkZCQwKuvvEy3bl2J3rMMc3F418JICe/vjCGtyMK06dM192c3F7vdzj+efZb27doSu+d7\nRBiOyQwoglh+zXFwyy23cOONN4Z0fz1uI9tJKbMBqh/b6iBDLUOGDGHChAnY8rZHzB2ZlPDNAQez\ntsTRu09fZr3xJklJSXqLVScWi4UBp52GtUL/SVRSwvz9UczZEcuZQ4bw+uuzdM96OZKEhARee/VV\n+vTqRfTeZVgK1Rl0rgWLDjj4KdvBjTfeyIUXHmv8hycJCQm88MLzxEbZiN29FOENn5RnvwL/3hbL\nrzl2br31ViZOnBhyGcLLp3AMQog7hBDrhRDr8/O1czPccccddOnalZj0X8LqA1IXbn8gsPTp3hjO\nOfdcXnr5FeLj4/UWq16GDh2KcBYj3MHHDdRGkfDh7mi+3B/N2LFj+cc/niM6OvzGccbHx/Pyyy8x\nYMAAovYtx5q3Q2+RjmNVjo3P98Vw3nnnccstt+gtTqPo1KkT/3zuOayKi+jdS8OipbhPgX9ti6ut\nb7npppt0kUMPZZArhEgBqH48of9ASvm2lHKIlHJIcnKyZgLZ7Xb+9te/YlI8ONJ/DdsUtKxKE09u\nSGRVXuDu4cknn9Rstqya1FSiWkozdNlfkTBnRwxLMqO4+uqreeSRR0LeJqExxMTE8MLzzzN0aCDt\n1JodPlkwO0ss/N+OOAYOHMDDDz8cdjGqYOjfvz9/f/JJzM5CovYu17WHkVeBWVvjWJdvY/LkyZrX\nt9SHHv+TC4AaG2giMF8HGY6jZ8+e3PmXv2ApORh2RUBSBvzcf1ufSKWpFS+88CI33XSTbhWejaVL\nly506NgRa/GBkO9dk5nxc7aDiRMncvfdd0fEF5jD4WDmzJmMHj0aR+Y6bJnrdb9JyXGaeG1rK1I6\ndOSZZ2ZiszV/zoNejBgxgqlTp2IpzcB+YLUu762nuqBsY4GNqVOn6p4JqHVq6cfAKqCPECJTCHEb\n8BwwVgixGxhb/TwsmDBhAqmpQ4nKXIupqlhvcYBA6t6/tsUyZ0cs/Qeczv/NeZchIZgcpSZCCMaM\nHo25PDukbjhFwjvVmRmTJk3illtuiRgFCoGur48//nhtpbL9oD5fWhD4HL68JQGzI47n/vl82Lsm\ng2H8+PFcf/312PJ3YM3dFtK93X54dUs8W4qsTJ8+ncsv1y2Pphats4mul1KmSCmtUspOUso5UspC\nKeV5Uspe1Y/691quxmQyMWPGw8TGRBO9f4XuJezbiy08ti6J9YVRTJo0iRdfegkt3WVact5554GU\nWIpCExSV1TGCX3Ic3Hzzzdxwww0h2VdtzGYz06ZN49prr8WWtx1H+i8hd2v4q1NIC92BFNKOHTuG\ndH8tuf322znnnHNxZKzFEiLL1e2HV7a0YluxlYcfnsHFF18ckn0bIvzt5RDTunVrHpkxA1FZiD1z\nvS4y+BT4dE80z21sRVRSCm+++S9uuOGGsOg31FS6d+9Oz1N6YS/cG5L9Fh1wsDQzimuuuUaXzAw1\nEUJw5513csstt2At2I1j308hVQif7I0mrcjCg9PCP4W0sZhMJh577FF69+lD9P4VmJza3pt6qi2C\n7cUWHnnk0bDKxDKUQR2MGDGC8ePHY8vdFvKK0KxKE3/fkBjoW37JJbwz51369u0bUhm04uI/XoSo\nLNC8QeCa3MPZLnfeeWdEuYZOhBCCiRMncuedd2It2o9j73LV+mrVx8ocG//LiOKqq64Kqy8uNbHb\n7Tw7cyat4uOI2bsMfC5N9vEqgRhBWrGVGTMe0awrblMxlMEJuPvuu+ncuQsx6T8jvEF+OIQJi6lp\nPl0pYXl1kLiYeJ555nHznBAAABGiSURBVBmmTZsWEdlCwXL++edjsVg1DdCnl5t5e0ccp53aP2Kz\nXerjuuuuY/LkyViL0zW3EDIrzLy3M5A5dOedd2q2TzjQpk0b/vHsTMy+KqI1eF/9CvxraxxbiqxM\nmzadcePGqbq+GrSsK0VF7HY7f/3rE5j8bhwHgks3lWYbrWyNVwZVPnhrWyzv7ojl1EGDefe9uZx9\n9tlNETusiY+PZ/ToUdiL9mmS313uFby+NYGExNY8HeHZLvVx9dVXc9ddd2Et3o9j/8+aBJU9fngz\nLZ7ouFb87W9PhnUqrlr069ePqffdh7n0ELaszfUeK4WZYA3OmtTmDQU2pkyZEjYxgmMxlEE99OrV\ni0mTJmEpPoClcI8me2RWmPnbhiTW5jsCQeIXXwqrqli1GT9+PNLnwapy7KAmhbTUa+bpZ2aSmKhL\n/8OQce2113LrrbdiLdyLPWON6grhk73RHKow8ehjj4dVF1ytueSSSxg7diz27E2Yy05cNS9tMdiC\n/Pb8Yt/hRIYrr7xSJUnVx1AGDXDNNddw2oABRGesUb2Cdl2ejb//loDHlshLL7/MDTfc0OLcGsdy\n6qmn0qNnT+z5O1T9AluS4WBzoY277p7cYmIsDXHjjTdy5ZVXYstNw5qzteETgmRrkZXvMwNxgtTU\nVNXWjQRq5kykpHSonlPdvJGtPxyys+hAFJdddlnYJzK07G8eFTCbzTz26KPYzCai0n9R5QtMSliQ\nHsWsrXH0OKUPb//fOwwePFgFacMfIQRXXnEFwlmEuSJXlTUPVpj5bF8MI0eO4IorrlBlzUhACME9\n99zDqFGjcGSuU6W5ncsH7+6Mo1PHDtx+++0qSBl5REdH88TjjyE8lTgy1jR5nbQiCx/sCrSWnzJl\nStgnMhjKIAhSUlK4++67MJdlYS3Y1ay1/Aq8tzOGL/YFeuS8+trrLdotVBfnn38+MTGxWHPTmr2W\nV4HZafHExbdi+vSHwv6CU5ua9sy9evcmZv9PzS6WnJ8eTUGV4KGHZ4TlbIJQ0b9/f/70pz9hLdiN\nuSyr0ecXVJl4I60VnTt35q9//VtExFwMZRAkl156KQMHDiIqcz3C07RhKz4F3kqLZXmWgxtuuIFH\nH330pLzgHA4Hl156CdaSAwhP3fORlejgurB+vT+KjAoTDz08g4SEBDXFjBhqUiPjYmOI3rcc/E2b\nzZFVaeK7jCguuuiiFldP0BRuuummgLvo4MpGFaD6FHhjWzyK2cEzM58Ny9bydWEogyAxmUw89NB0\nzCiBgF0jUSS8tS2OtXl27rrrLiZNmnTS3cUeyfjx4xFwwq6c7i7Daejd2VdmZtHBaC688ELOOuss\n1WWMJJKTkwOuDWcx9oy1TVrj070x2B0O7rjjDpWli0zsdjtTp94HVWVY84K3Yr/aH8W+MjMPPTyD\nzp07ayihuhjKoBF06tSJP//5T1iL9tebaXAsUsLcnTG1nQnDaWC9XqSkpDB8+HAchbua1PbDp8Cc\nHfEkJSYyefJkDSSMPFJTU7nmmmuw5e9otGtjZ4mFjQU2/nzDjS0+E6sxDBs2LNCvLPt38LkbPH53\nqYVFB6P54x//yKhRo7QXUEUMZdBI/vSnP5Hcti1RGWuCLkz5LsNR6xrSuzNhOHHFFVcgPVVYitMb\nfe7igwH30IPTphMXF6e+cBHKrbfeSkqHDkQfaJxr46v9MSQlJjBhwgQNpYtM7rjjdqTPja2BZnY+\nBd7bGUeb1q0j8gbFUAaNxG63c/dddyGcRViCyJXfUWzhk70xnHvOOdx2220hkDByGDJkCO3at8fW\nyIrkHKeJ+enRnHvuuYwYMUIj6SITh8PBgw88AK6yoAP0u0stpBVbuP5Pf8bhcGgsYeTRq1cvRo4c\niSN/e73Fkt9nOsisMDH1/gciJk5wJIYyaAKjRo2iT5++RGVtrPfuq8onmL2jFR1SUnh4xoyTOkZQ\nFyaTicvHj8dcnoOpqiSoc6SED3bFYrU7mDJlisYSRiZDhgxh+PDhROVsDsq18e1BB3GxMVxyySUh\nkC4yue6665BeN9YTFJ9WeAVfH4hhaGoqI0eODLF06mAogyYghOC2224FdwXWgt0nPO7LfVEUuwSP\nPvZ4WI5YDAfGjRuHyWTGmh9cyu76fBtbi6xMuv2Ok6oytrHcdtttSJ8HW972eo8rqDKxId/OZeMv\nb1F9sNTmtNNO45RTemE/QWr5dwcdOL3wlwju4WQogyaSmppK7z59cORtq7MQ7VClme8PRXHJpZdy\n6qmn6iBhZJCUlMRZZ52FvXhfgzEYjx8+2RtLj+7duOyyy0IjYITSq1cvhg0bjiNve73W6/IsO0II\n4/1sACEEl1xyMaKy8Liuu1U++D4rmnPOOYeePXvqJGHzMZRBExFCcN2110JVKeY6ZvsuSI/CZgvM\nKjaonwsvHIf0OBtsF/79IQf5VYLJ99wbEUU8ejNhwpVIbxWW4gMo1uMtU0XCz7nRDB02lHbt2ukg\nYWQxatQohBBYitKPev3XHDtOb8CVFMkYyqAZnHPOObRKSDguAFroMrE6z874yy8/aQuhGsPw4cMD\nFcn1BOSrfIJFB2MYOjSVM888M4TSRS5DhgwhuW1brIV78CUcn++eVmyl2AUXXniRDtJFHgkJCQwa\nNAhb6dFtP37KjqbXKafw/+3df2xV5R3H8fen97ZQCsIEpEVmS0MpA7QFLj+EIWDM+DEXs82oizrR\nOfeHZn+YxehMNve//zmXxW3OLFk2Np2JbiZjZhKXJTPUqRN1GKYSfjgFx28IUPrdH/egpZTSH7c9\n99x+XgnJ6eFe+ORJ7/2e8zzneZ65c+emlKw0XAyGIJ/Ps2H9evKHdp+zt+/LHxZnFZfDvqZZUF1d\nzZo1q6k5tAu6ep89++LuMRw9BXfd5Sey+quqqopr16whf2Qv6jr/KZh/fFTDuNqxo37C3kAsW7YM\nHT8ASXvuOZZj55Eq1m/YkHKyoXMxGKLrrruuuLdvt/1TX9lXS9tVbTQ0NKSYLFtWr15NnDlNvpeu\notNdsHlPHYsXF0bNiqSlsnLlSujqOq+fu7MLXt0/lhVfXDkql0QZrIULFwJQlSxJ8+q+4p4Zq1at\nSi1TqbgYDFFzczP1DQ3kDxaLwb4TVew9KlZec03KybKlvb2durrxvW5KvvXjGg6dhJtu8sztgZoz\nZw6148aRO3ZuMXj3YJ5jp4tdndZ/zc3N1IwZg6I4KP/GJ2NobZ1dEU+2pVYMJK2TtF3SDkkPppVj\nqCSxYvlyqo98BBF0RnEuQaFQSDlZtuTzeZYtW0rN4T3nPVX08oe1NNRP81jBIOTzea668kqqeuzr\n+9onNVTnc27TAcrn88xuaQHgVBf853COQqEy9nxIpRhIygGPA+uBucA3JGV29GXRokVEVyc6U5zg\nM+mSCVxxxRUpp8qe5cuXE6dPUNXtKvbQKfHOgTxfWruu4jf+GS69DWxuOzCGtrZ2z38ZhFmzZgFw\nJkRXUDErvKb16VoC7IiI9yLiFPBb4IaUsgzZ2XkESq5o58yd59nGg3D2KjXfbZG11/bXEFRGn2xa\nej77fuCk2HO0isIo28WsVLpf6K1du5a2trYU05ROWsXgcqD7w/m7k3OZNHHiRKbVFweLL508mfvv\nvz/lRNk0adIkmppmkj/y2YqwxzqrmDr5UmbOnJlismxramo65+d/H6gGGDW765Xa9OnTPz1+6KGH\nKmY9p7SKQW+XzedN45V0j6QOSR379u0bgViDN7uleOtYV1fHZZddlnKa7FqwoJ38sY8huj79hWhb\nsNB3WkNQX19/zs/bD1Uzrnbsp90dNjCV+vlOqxjsBrrPgpkBnLcAe0Q8ERGFiChMnTp1xMINRmNj\nIwCdpwe3y5QVzZ8/nzjTSdXxz7Zv9HIeQ9NztvaOwzXMnTefXC6XUqJsq4Qnh3qTVjHYCrRImimp\nBrgFeC6lLCXR3t6OJFpmt6QdJdPODnbmju0D5Vi6dCnr1q1LOVXlONUldh2tyvxs2TRV6v4ZqSzw\nEhGdku4D/gzkgCcjou+dI8pcoVDgpZdeSjtG5tXX1zOubjynju8HiebmZq+mWQKFQoGOjg52HskR\nAa2trWlHyqyqqipuu+22iruzSm21r4h4AXghrf/fypMkZrfM4p87BrZto/Xt5ptvpqOjg11Hix/5\nlhbfwQ7F3XffnXaEkvOD21Z2Zs6cSe7EgYu/0Prt7AD8rqM5xteNo9zH4GzkuRhY2WlsbCTOnB7Q\nHr7WP3uO52hsavLTWXYeFwMrOzNmzEg7QsXqCtHY2JR2DCtDLgZWdrza6/C6/PLMzu+0YeRiYGVn\n2rRp7sYYRt1n0Jqd5WJgZSefzzNx0ufSjlGxes5INgMXAytTU6ZU5izPclCpyynY0LgYWFmqTzZo\nr6mpSTlJ5fG+3Nab1CadmfXl3nvvZcWKFd6fdxhU2sxZKw0XAytLDQ0NfqrIbAS5m8hsFKmurk47\ngpUpFwOzUaRSV9y0oXMxMBtF6urq0o5gZcrFwGwUOHtHsGTJkpSTWLnyALLZKNDa2sqmTZuYMmVK\n2lGsTLkYmI0S05K5G2a9cTeRmZm5GJiZmYuBmZnhYmBmZrgYmJkZLgZmZoaLgZmZAYqItDP0i6R9\nwM60c/TDFGB/2iEqhNuytNyepZWV9myMiKkXe1FmikFWSOqIiELaOSqB27K03J6lVWnt6W4iMzNz\nMTAzMxeD4fBE2gEqiNuytNyepVVR7ekxAzMz852BmZm5GFyUpMmSXk/+/FfSnuT4oKS3085XKSSd\n6dbOr0tq6uU10yU9PfLpskPSw5LekvSvpB2X9vHajZKmj2S+LBlIW1YC72dwERHxCdAOIOkR4GhE\nPJp8Wf1xsP+upHxEdJYiY4U4ERHtF/rLpL32AjeOYKZMkXQ1cD2wMCJOSpoC1PTxlo3ANmDvCMTL\nlEG0Zeb5zmBocpJ+llw9bJZUCyBpi6RCcjxF0gfJ8UZJv5f0PLA5vdjZ0LO9JDVJ2pZ2rjLWAOyP\niJMAEbE/IvZK+oGkrZK2SXpCRTcCBeDXyVVvbarJy8+F2vKDpDAgqSBpS3L8iKQnk8/+e5K+m170\nwXExGJoW4PGImAccBL7ej/dcDdwREdcOa7Lsqe3WRfRst/Nur/7bDHxe0ruSfiJpVXL+xxGxOCLm\nA7XA9RHxNNAB3BoR7RFxIq3QZepCbdmXOcBaYAnwQ0nVw5qwxNxNNDTvR8TryfGrQFM/3vOXiPjf\n8EXKrAt1E7m9+ikijkpaBKwE1gCbJD0IHJH0ADAOuBR4C3g+vaTlr4+27MufkjuJk5I+BqYBu4c5\nasm4GAzNyW7HZyhedQF08tld19ge7zk23KEqjNtrACLiDLAF2CLpTeA7wFVAISJ2JeNePX8nrRe9\ntOUd9P3Z7vl9kKnvV3cTDY8PgEXJsQc8bURIapXU0u1UO7A9Od4vaTzn/j4eASaMVL4suUBb7uTc\nz3Z/uoUzI1OVK0MeBX4n6Xbgr2mHsVFjPPCYpEkUr2B3APdQHM96k+IX2dZur38K+KmkE8DVHjc4\nx4Xa8gvALyR9H3glxXwl5xnIZmbmbiIzM3MxMDMzXAzMzAwXAzMzw8XAzMxwMTAbkGQNmu+lncOs\n1FwMzMzMxcDsYpJ17bdLehFoTc59O1kJ9A1Jz0gaJ2mCpPfPLlAm6ZJklctMLVhmo5OLgVkfksXK\nbgEWAF8DFid/9YdkJdA24B3gWxFxhOJaNl9OXnML8ExEnB7Z1GYD52Jg1reVwLMRcTwiDgPPJefn\nS/pbsoDZrcC85PzPgTuT4zuBX45oWrNBcjEwu7je1mx5CrgvIq4EfkSygmVE/B1oSta/z0WEN+Ox\nTHAxMOvby8BXJdVKmgB8JTk/AfgwGQ+4tcd7fgX8Bt8VWIZ4oTqzi5D0MPBNiksY7wbeprjPwgPJ\nuTeBCRGxMXl9PfA+0BARB9PIbDZQLgZmJZbsL3xDRNyedhaz/vJ+BmYlJOkxYD2wIe0sZgPhOwMz\nM/MAspmZuRiYmRkuBmZmhouBmZnhYmBmZrgYmJkZ8H9PJdjo6uVtAAAAAABJRU5ErkJggg==\n",
      "text/plain": [
       "<matplotlib.figure.Figure at 0x1a120ae110>"
      ]
     },
     "metadata": {},
     "output_type": "display_data"
    }
   ],
   "source": [
    "sns.violinplot(x=\"day\", y=\"total_bill\", hue=\"sex\", data=tips, split=True)"
   ]
  },
  {
   "cell_type": "code",
   "execution_count": 38,
   "metadata": {},
   "outputs": [
    {
     "data": {
      "text/plain": [
       "<matplotlib.axes._subplots.AxesSubplot at 0x1a1212d5d0>"
      ]
     },
     "execution_count": 38,
     "metadata": {},
     "output_type": "execute_result"
    },
    {
     "data": {
      "image/png": "iVBORw0KGgoAAAANSUhEUgAAAYMAAAEKCAYAAADw2zkCAAAABHNCSVQICAgIfAhkiAAAAAlwSFlz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\n",
      "text/plain": [
       "<matplotlib.figure.Figure at 0x1a11da4450>"
      ]
     },
     "metadata": {},
     "output_type": "display_data"
    }
   ],
   "source": [
    "sns.barplot('day', 'total_bill', hue = 'smoker', data = tips)"
   ]
  },
  {
   "cell_type": "code",
   "execution_count": 39,
   "metadata": {},
   "outputs": [
    {
     "data": {
      "text/plain": [
       "<matplotlib.axes._subplots.AxesSubplot at 0x1a120ffed0>"
      ]
     },
     "execution_count": 39,
     "metadata": {},
     "output_type": "execute_result"
    },
    {
     "data": {
      "image/png": "iVBORw0KGgoAAAANSUhEUgAAAYgAAAEKCAYAAAAIO8L1AAAABHNCSVQICAgIfAhkiAAAAAlwSFlz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\nJKnp/wPvVoEBSEguTwAAAABJRU5ErkJggg==\n",
      "text/plain": [
       "<matplotlib.figure.Figure at 0x1a11e8b0d0>"
      ]
     },
     "metadata": {},
     "output_type": "display_data"
    }
   ],
   "source": [
    "sns.countplot('sex', data = tips)"
   ]
  },
  {
   "cell_type": "markdown",
   "metadata": {},
   "source": [
    "**PROBLEM**\n",
    "\n",
    "Use the Titanic dataset and your earlier description to generate plots as an initial exploratory analysis of the data."
   ]
  },
  {
   "cell_type": "code",
   "execution_count": null,
   "metadata": {
    "collapsed": true
   },
   "outputs": [],
   "source": []
  },
  {
   "cell_type": "code",
   "execution_count": null,
   "metadata": {
    "collapsed": true
   },
   "outputs": [],
   "source": []
  },
  {
   "cell_type": "code",
   "execution_count": null,
   "metadata": {
    "collapsed": true
   },
   "outputs": [],
   "source": []
  },
  {
   "cell_type": "code",
   "execution_count": null,
   "metadata": {
    "collapsed": true
   },
   "outputs": [],
   "source": []
  },
  {
   "cell_type": "code",
   "execution_count": null,
   "metadata": {
    "collapsed": true
   },
   "outputs": [],
   "source": []
  },
  {
   "cell_type": "code",
   "execution_count": null,
   "metadata": {
    "collapsed": true
   },
   "outputs": [],
   "source": []
  },
  {
   "cell_type": "code",
   "execution_count": null,
   "metadata": {
    "collapsed": true
   },
   "outputs": [],
   "source": []
  },
  {
   "cell_type": "code",
   "execution_count": null,
   "metadata": {
    "collapsed": true
   },
   "outputs": [],
   "source": []
  },
  {
   "cell_type": "code",
   "execution_count": null,
   "metadata": {
    "collapsed": true
   },
   "outputs": [],
   "source": []
  },
  {
   "cell_type": "code",
   "execution_count": null,
   "metadata": {
    "collapsed": true
   },
   "outputs": [],
   "source": []
  },
  {
   "cell_type": "code",
   "execution_count": null,
   "metadata": {
    "collapsed": true
   },
   "outputs": [],
   "source": []
  },
  {
   "cell_type": "code",
   "execution_count": null,
   "metadata": {
    "collapsed": true
   },
   "outputs": [],
   "source": []
  },
  {
   "cell_type": "code",
   "execution_count": null,
   "metadata": {
    "collapsed": true
   },
   "outputs": [],
   "source": []
  }
 ],
 "metadata": {
  "kernelspec": {
   "display_name": "Python 2",
   "language": "python",
   "name": "python2"
  },
  "language_info": {
   "codemirror_mode": {
    "name": "ipython",
    "version": 2
   },
   "file_extension": ".py",
   "mimetype": "text/x-python",
   "name": "python",
   "nbconvert_exporter": "python",
   "pygments_lexer": "ipython2",
   "version": "2.7.15"
  }
 },
 "nbformat": 4,
 "nbformat_minor": 2
}
